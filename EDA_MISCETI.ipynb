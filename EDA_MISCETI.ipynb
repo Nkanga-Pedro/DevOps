{
  "cells": [
    {
      "cell_type": "markdown",
      "metadata": {
        "id": "view-in-github",
        "colab_type": "text"
      },
      "source": [
        "<a href=\"https://colab.research.google.com/github/Nkanga-Pedro/DevOps/blob/main/EDA_MISCETI.ipynb\" target=\"_parent\"><img src=\"https://colab.research.google.com/assets/colab-badge.svg\" alt=\"Open In Colab\"/></a>"
      ]
    },
    {
      "cell_type": "markdown",
      "metadata": {
        "id": "OSH-FUm9ehoU"
      },
      "source": [
        "# ANÁLISE DE MATRICULA DO MESCTI - 2019\n",
        "---"
      ]
    },
    {
      "cell_type": "markdown",
      "metadata": {
        "id": "8hP76NG5ehof"
      },
      "source": [
        "## Dados Preliminares de Matriculados de 2020"
      ]
    },
    {
      "cell_type": "markdown",
      "metadata": {
        "id": "7ArwMRqfehog"
      },
      "source": [
        "O módulo Pandas é um recurso Python essencial para a análise e processamento de grandes volumes de dados."
      ]
    },
    {
      "cell_type": "code",
      "execution_count": null,
      "metadata": {
        "colab": {
          "background_save": true
        },
        "id": "U2pMtlONehoi"
      },
      "outputs": [],
      "source": [
        "import pandas as pd\n",
        "import numpy as np\n",
        "import plotly.express as px\n",
        "#from pandas_profiling import ProfileReport\n",
        "import warnings\n",
        "#suppress warnings from pandas library\n",
        "warnings.filterwarnings(\"ignore\",category=DeprecationWarning,module=\"pandas\",lineno=570)"
      ]
    },
    {
      "cell_type": "markdown",
      "metadata": {
        "id": "mm3JeTEtehol"
      },
      "source": [
        "Importar dados no excel atraves do livro com nome Graduadi 2019 onde se encontram as informções de graduado nas Universidade de Angola"
      ]
    },
    {
      "cell_type": "code",
      "execution_count": 5,
      "metadata": {
        "id": "NRy0j7g0ehos"
      },
      "outputs": [],
      "source": [
        "data=pd.read_excel('/content/BASE_MATRICULA_2019_Actualizado.xlsx')"
      ]
    },
    {
      "cell_type": "markdown",
      "metadata": {
        "id": "n7K_9Sboehou"
      },
      "source": [
        "Visualizar as 5 primeiras informações do livo"
      ]
    },
    {
      "cell_type": "code",
      "execution_count": 6,
      "metadata": {
        "id": "S5uwwZ7tehov",
        "outputId": "b083d098-ed6b-446e-818f-a70133f5a3a9",
        "colab": {
          "base_uri": "https://localhost:8080/",
          "height": 585
        }
      },
      "outputs": [
        {
          "output_type": "execute_result",
          "data": {
            "text/plain": [
              "   Nº de Ordem   Variavel   Ano Variavel.1   Tipo de IES  \\\n",
              "0            1  Matricula  2019  Estudante  Universidade   \n",
              "1            2  Matricula  2019  Estudante  Universidade   \n",
              "2            3  Matricula  2019  Estudante  Universidade   \n",
              "3            4  Matricula  2019  Estudante  Universidade   \n",
              "4            5  Matricula  2019  Estudante  Universidade   \n",
              "\n",
              "                       Nome da IES Natureza Prov. UO       Sexo Idade  ...  \\\n",
              "0  Universidade Católica de Angola  Privada   Luanda  Masculino    24  ...   \n",
              "1  Universidade Católica de Angola  Privada   Luanda  Masculino    25  ...   \n",
              "2  Universidade Católica de Angola  Privada   Luanda  Masculino    19  ...   \n",
              "3  Universidade Católica de Angola  Privada   Luanda  Masculino    20  ...   \n",
              "4  Universidade Católica de Angola  Privada   Luanda  Masculino    23  ...   \n",
              "\n",
              "  País de Origem Periodo de Estudo              Unidade Organica  \\\n",
              "0         Angola           Regular  Instituto Superior Dom Bosco   \n",
              "1         Angola           Regular  Instituto Superior Dom Bosco   \n",
              "2         Angola           Regular  Instituto Superior Dom Bosco   \n",
              "3         Angola           Regular  Instituto Superior Dom Bosco   \n",
              "4         Angola           Regular  Instituto Superior Dom Bosco   \n",
              "\n",
              "  Nome do Curso  Ano de Frequência Situação Académica  \\\n",
              "0      Filosofia                 1      Novo Ingresso   \n",
              "1      Filosofia                 1      Novo Ingresso   \n",
              "2      Filosofia                 1      Novo Ingresso   \n",
              "3      Filosofia                 1      Novo Ingresso   \n",
              "4      Filosofia                 1      Novo Ingresso   \n",
              "\n",
              "  Ano Primeiro Matrícula Ensino Superior   Necessidade de Educação Especial  \\\n",
              "0                                    2019                   Sem necessidade   \n",
              "1                                    2019                   Sem necessidade   \n",
              "2                                    2019                   Sem necessidade   \n",
              "3                                    2019                   Sem necessidade   \n",
              "4                                    2019                   Sem necessidade   \n",
              "\n",
              "  Trabalhador Nível de Graduação  \n",
              "0        Não        Licenciatura  \n",
              "1        Não        Licenciatura  \n",
              "2        Não        Licenciatura  \n",
              "3        Não        Licenciatura  \n",
              "4        Não        Licenciatura  \n",
              "\n",
              "[5 rows x 23 columns]"
            ],
            "text/html": [
              "\n",
              "  <div id=\"df-3b97b45b-a11b-4f48-a94b-fee4fcbb982e\" class=\"colab-df-container\">\n",
              "    <div>\n",
              "<style scoped>\n",
              "    .dataframe tbody tr th:only-of-type {\n",
              "        vertical-align: middle;\n",
              "    }\n",
              "\n",
              "    .dataframe tbody tr th {\n",
              "        vertical-align: top;\n",
              "    }\n",
              "\n",
              "    .dataframe thead th {\n",
              "        text-align: right;\n",
              "    }\n",
              "</style>\n",
              "<table border=\"1\" class=\"dataframe\">\n",
              "  <thead>\n",
              "    <tr style=\"text-align: right;\">\n",
              "      <th></th>\n",
              "      <th>Nº de Ordem</th>\n",
              "      <th>Variavel</th>\n",
              "      <th>Ano</th>\n",
              "      <th>Variavel.1</th>\n",
              "      <th>Tipo de IES</th>\n",
              "      <th>Nome da IES</th>\n",
              "      <th>Natureza</th>\n",
              "      <th>Prov. UO</th>\n",
              "      <th>Sexo</th>\n",
              "      <th>Idade</th>\n",
              "      <th>...</th>\n",
              "      <th>País de Origem</th>\n",
              "      <th>Periodo de Estudo</th>\n",
              "      <th>Unidade Organica</th>\n",
              "      <th>Nome do Curso</th>\n",
              "      <th>Ano de Frequência</th>\n",
              "      <th>Situação Académica</th>\n",
              "      <th>Ano Primeiro Matrícula Ensino Superior</th>\n",
              "      <th>Necessidade de Educação Especial</th>\n",
              "      <th>Trabalhador</th>\n",
              "      <th>Nível de Graduação</th>\n",
              "    </tr>\n",
              "  </thead>\n",
              "  <tbody>\n",
              "    <tr>\n",
              "      <th>0</th>\n",
              "      <td>1</td>\n",
              "      <td>Matricula</td>\n",
              "      <td>2019</td>\n",
              "      <td>Estudante</td>\n",
              "      <td>Universidade</td>\n",
              "      <td>Universidade Católica de Angola</td>\n",
              "      <td>Privada</td>\n",
              "      <td>Luanda</td>\n",
              "      <td>Masculino</td>\n",
              "      <td>24</td>\n",
              "      <td>...</td>\n",
              "      <td>Angola</td>\n",
              "      <td>Regular</td>\n",
              "      <td>Instituto Superior Dom Bosco</td>\n",
              "      <td>Filosofia</td>\n",
              "      <td>1</td>\n",
              "      <td>Novo Ingresso</td>\n",
              "      <td>2019</td>\n",
              "      <td>Sem necessidade</td>\n",
              "      <td>Não</td>\n",
              "      <td>Licenciatura</td>\n",
              "    </tr>\n",
              "    <tr>\n",
              "      <th>1</th>\n",
              "      <td>2</td>\n",
              "      <td>Matricula</td>\n",
              "      <td>2019</td>\n",
              "      <td>Estudante</td>\n",
              "      <td>Universidade</td>\n",
              "      <td>Universidade Católica de Angola</td>\n",
              "      <td>Privada</td>\n",
              "      <td>Luanda</td>\n",
              "      <td>Masculino</td>\n",
              "      <td>25</td>\n",
              "      <td>...</td>\n",
              "      <td>Angola</td>\n",
              "      <td>Regular</td>\n",
              "      <td>Instituto Superior Dom Bosco</td>\n",
              "      <td>Filosofia</td>\n",
              "      <td>1</td>\n",
              "      <td>Novo Ingresso</td>\n",
              "      <td>2019</td>\n",
              "      <td>Sem necessidade</td>\n",
              "      <td>Não</td>\n",
              "      <td>Licenciatura</td>\n",
              "    </tr>\n",
              "    <tr>\n",
              "      <th>2</th>\n",
              "      <td>3</td>\n",
              "      <td>Matricula</td>\n",
              "      <td>2019</td>\n",
              "      <td>Estudante</td>\n",
              "      <td>Universidade</td>\n",
              "      <td>Universidade Católica de Angola</td>\n",
              "      <td>Privada</td>\n",
              "      <td>Luanda</td>\n",
              "      <td>Masculino</td>\n",
              "      <td>19</td>\n",
              "      <td>...</td>\n",
              "      <td>Angola</td>\n",
              "      <td>Regular</td>\n",
              "      <td>Instituto Superior Dom Bosco</td>\n",
              "      <td>Filosofia</td>\n",
              "      <td>1</td>\n",
              "      <td>Novo Ingresso</td>\n",
              "      <td>2019</td>\n",
              "      <td>Sem necessidade</td>\n",
              "      <td>Não</td>\n",
              "      <td>Licenciatura</td>\n",
              "    </tr>\n",
              "    <tr>\n",
              "      <th>3</th>\n",
              "      <td>4</td>\n",
              "      <td>Matricula</td>\n",
              "      <td>2019</td>\n",
              "      <td>Estudante</td>\n",
              "      <td>Universidade</td>\n",
              "      <td>Universidade Católica de Angola</td>\n",
              "      <td>Privada</td>\n",
              "      <td>Luanda</td>\n",
              "      <td>Masculino</td>\n",
              "      <td>20</td>\n",
              "      <td>...</td>\n",
              "      <td>Angola</td>\n",
              "      <td>Regular</td>\n",
              "      <td>Instituto Superior Dom Bosco</td>\n",
              "      <td>Filosofia</td>\n",
              "      <td>1</td>\n",
              "      <td>Novo Ingresso</td>\n",
              "      <td>2019</td>\n",
              "      <td>Sem necessidade</td>\n",
              "      <td>Não</td>\n",
              "      <td>Licenciatura</td>\n",
              "    </tr>\n",
              "    <tr>\n",
              "      <th>4</th>\n",
              "      <td>5</td>\n",
              "      <td>Matricula</td>\n",
              "      <td>2019</td>\n",
              "      <td>Estudante</td>\n",
              "      <td>Universidade</td>\n",
              "      <td>Universidade Católica de Angola</td>\n",
              "      <td>Privada</td>\n",
              "      <td>Luanda</td>\n",
              "      <td>Masculino</td>\n",
              "      <td>23</td>\n",
              "      <td>...</td>\n",
              "      <td>Angola</td>\n",
              "      <td>Regular</td>\n",
              "      <td>Instituto Superior Dom Bosco</td>\n",
              "      <td>Filosofia</td>\n",
              "      <td>1</td>\n",
              "      <td>Novo Ingresso</td>\n",
              "      <td>2019</td>\n",
              "      <td>Sem necessidade</td>\n",
              "      <td>Não</td>\n",
              "      <td>Licenciatura</td>\n",
              "    </tr>\n",
              "  </tbody>\n",
              "</table>\n",
              "<p>5 rows × 23 columns</p>\n",
              "</div>\n",
              "    <div class=\"colab-df-buttons\">\n",
              "\n",
              "  <div class=\"colab-df-container\">\n",
              "    <button class=\"colab-df-convert\" onclick=\"convertToInteractive('df-3b97b45b-a11b-4f48-a94b-fee4fcbb982e')\"\n",
              "            title=\"Convert this dataframe to an interactive table.\"\n",
              "            style=\"display:none;\">\n",
              "\n",
              "  <svg xmlns=\"http://www.w3.org/2000/svg\" height=\"24px\" viewBox=\"0 -960 960 960\">\n",
              "    <path d=\"M120-120v-720h720v720H120Zm60-500h600v-160H180v160Zm220 220h160v-160H400v160Zm0 220h160v-160H400v160ZM180-400h160v-160H180v160Zm440 0h160v-160H620v160ZM180-180h160v-160H180v160Zm440 0h160v-160H620v160Z\"/>\n",
              "  </svg>\n",
              "    </button>\n",
              "\n",
              "  <style>\n",
              "    .colab-df-container {\n",
              "      display:flex;\n",
              "      gap: 12px;\n",
              "    }\n",
              "\n",
              "    .colab-df-convert {\n",
              "      background-color: #E8F0FE;\n",
              "      border: none;\n",
              "      border-radius: 50%;\n",
              "      cursor: pointer;\n",
              "      display: none;\n",
              "      fill: #1967D2;\n",
              "      height: 32px;\n",
              "      padding: 0 0 0 0;\n",
              "      width: 32px;\n",
              "    }\n",
              "\n",
              "    .colab-df-convert:hover {\n",
              "      background-color: #E2EBFA;\n",
              "      box-shadow: 0px 1px 2px rgba(60, 64, 67, 0.3), 0px 1px 3px 1px rgba(60, 64, 67, 0.15);\n",
              "      fill: #174EA6;\n",
              "    }\n",
              "\n",
              "    .colab-df-buttons div {\n",
              "      margin-bottom: 4px;\n",
              "    }\n",
              "\n",
              "    [theme=dark] .colab-df-convert {\n",
              "      background-color: #3B4455;\n",
              "      fill: #D2E3FC;\n",
              "    }\n",
              "\n",
              "    [theme=dark] .colab-df-convert:hover {\n",
              "      background-color: #434B5C;\n",
              "      box-shadow: 0px 1px 3px 1px rgba(0, 0, 0, 0.15);\n",
              "      filter: drop-shadow(0px 1px 2px rgba(0, 0, 0, 0.3));\n",
              "      fill: #FFFFFF;\n",
              "    }\n",
              "  </style>\n",
              "\n",
              "    <script>\n",
              "      const buttonEl =\n",
              "        document.querySelector('#df-3b97b45b-a11b-4f48-a94b-fee4fcbb982e button.colab-df-convert');\n",
              "      buttonEl.style.display =\n",
              "        google.colab.kernel.accessAllowed ? 'block' : 'none';\n",
              "\n",
              "      async function convertToInteractive(key) {\n",
              "        const element = document.querySelector('#df-3b97b45b-a11b-4f48-a94b-fee4fcbb982e');\n",
              "        const dataTable =\n",
              "          await google.colab.kernel.invokeFunction('convertToInteractive',\n",
              "                                                    [key], {});\n",
              "        if (!dataTable) return;\n",
              "\n",
              "        const docLinkHtml = 'Like what you see? Visit the ' +\n",
              "          '<a target=\"_blank\" href=https://colab.research.google.com/notebooks/data_table.ipynb>data table notebook</a>'\n",
              "          + ' to learn more about interactive tables.';\n",
              "        element.innerHTML = '';\n",
              "        dataTable['output_type'] = 'display_data';\n",
              "        await google.colab.output.renderOutput(dataTable, element);\n",
              "        const docLink = document.createElement('div');\n",
              "        docLink.innerHTML = docLinkHtml;\n",
              "        element.appendChild(docLink);\n",
              "      }\n",
              "    </script>\n",
              "  </div>\n",
              "\n",
              "\n",
              "<div id=\"df-49819837-502c-4037-bd2a-3c057e27f782\">\n",
              "  <button class=\"colab-df-quickchart\" onclick=\"quickchart('df-49819837-502c-4037-bd2a-3c057e27f782')\"\n",
              "            title=\"Suggest charts.\"\n",
              "            style=\"display:none;\">\n",
              "\n",
              "<svg xmlns=\"http://www.w3.org/2000/svg\" height=\"24px\"viewBox=\"0 0 24 24\"\n",
              "     width=\"24px\">\n",
              "    <g>\n",
              "        <path d=\"M19 3H5c-1.1 0-2 .9-2 2v14c0 1.1.9 2 2 2h14c1.1 0 2-.9 2-2V5c0-1.1-.9-2-2-2zM9 17H7v-7h2v7zm4 0h-2V7h2v10zm4 0h-2v-4h2v4z\"/>\n",
              "    </g>\n",
              "</svg>\n",
              "  </button>\n",
              "\n",
              "<style>\n",
              "  .colab-df-quickchart {\n",
              "    background-color: #E8F0FE;\n",
              "    border: none;\n",
              "    border-radius: 50%;\n",
              "    cursor: pointer;\n",
              "    display: none;\n",
              "    fill: #1967D2;\n",
              "    height: 32px;\n",
              "    padding: 0 0 0 0;\n",
              "    width: 32px;\n",
              "  }\n",
              "\n",
              "  .colab-df-quickchart:hover {\n",
              "    background-color: #E2EBFA;\n",
              "    box-shadow: 0px 1px 2px rgba(60, 64, 67, 0.3), 0px 1px 3px 1px rgba(60, 64, 67, 0.15);\n",
              "    fill: #174EA6;\n",
              "  }\n",
              "\n",
              "  [theme=dark] .colab-df-quickchart {\n",
              "    background-color: #3B4455;\n",
              "    fill: #D2E3FC;\n",
              "  }\n",
              "\n",
              "  [theme=dark] .colab-df-quickchart:hover {\n",
              "    background-color: #434B5C;\n",
              "    box-shadow: 0px 1px 3px 1px rgba(0, 0, 0, 0.15);\n",
              "    filter: drop-shadow(0px 1px 2px rgba(0, 0, 0, 0.3));\n",
              "    fill: #FFFFFF;\n",
              "  }\n",
              "</style>\n",
              "\n",
              "  <script>\n",
              "    async function quickchart(key) {\n",
              "      const charts = await google.colab.kernel.invokeFunction(\n",
              "          'suggestCharts', [key], {});\n",
              "    }\n",
              "    (() => {\n",
              "      let quickchartButtonEl =\n",
              "        document.querySelector('#df-49819837-502c-4037-bd2a-3c057e27f782 button');\n",
              "      quickchartButtonEl.style.display =\n",
              "        google.colab.kernel.accessAllowed ? 'block' : 'none';\n",
              "    })();\n",
              "  </script>\n",
              "</div>\n",
              "    </div>\n",
              "  </div>\n"
            ]
          },
          "metadata": {},
          "execution_count": 6
        }
      ],
      "source": [
        "data.head()"
      ]
    },
    {
      "cell_type": "markdown",
      "metadata": {
        "id": "e3pq3AJ2ehoy"
      },
      "source": [
        "Visualizar as 5 ultimas informações do livo"
      ]
    },
    {
      "cell_type": "code",
      "execution_count": 7,
      "metadata": {
        "id": "ru59LE7dehoz",
        "outputId": "dae4dd41-fbc9-403d-9041-ef30309bdf1c",
        "colab": {
          "base_uri": "https://localhost:8080/",
          "height": 672
        }
      },
      "outputs": [
        {
          "output_type": "execute_result",
          "data": {
            "text/plain": [
              "        Nº de Ordem   Variavel   Ano Variavel.1         Tipo de IES  \\\n",
              "308304       308305  Matricula  2019  Estudante  Instituto Superior   \n",
              "308305       308306  Matricula  2019  Estudante  Instituto Superior   \n",
              "308306       308307  Matricula  2019  Estudante  Instituto Superior   \n",
              "308307       308308  Matricula  2019  Estudante  Instituto Superior   \n",
              "308308       308309  Matricula  2019  Estudante  Instituto Superior   \n",
              "\n",
              "                                             Nome da IES Natureza Prov. UO  \\\n",
              "308304  Instituto Superior Politécnico Privado da Catepa  Privada  Malanje   \n",
              "308305  Instituto Superior Politécnico Privado da Catepa  Privada  Malanje   \n",
              "308306  Instituto Superior Politécnico Privado da Catepa  Privada  Malanje   \n",
              "308307  Instituto Superior Politécnico Privado da Catepa  Privada  Malanje   \n",
              "308308  Instituto Superior Politécnico Privado da Catepa  Privada  Malanje   \n",
              "\n",
              "             Sexo Idade  ... País de Origem Periodo de Estudo  \\\n",
              "308304  Masculino    25  ...         Angola       Pós-Laboral   \n",
              "308305  Masculino    35  ...         Angola       Pós-Laboral   \n",
              "308306  Masculino    29  ...         Angola       Pós-Laboral   \n",
              "308307  Masculino    36  ...         Angola       Pós-Laboral   \n",
              "308308  Masculino    32  ...         Angola       Pós-Laboral   \n",
              "\n",
              "                                        Unidade Organica    Nome do Curso   \\\n",
              "308304  Instituto Superior Politécnico Privado da Catepa  Engenharia Civil   \n",
              "308305  Instituto Superior Politécnico Privado da Catepa  Engenharia Civil   \n",
              "308306  Instituto Superior Politécnico Privado da Catepa  Engenharia Civil   \n",
              "308307  Instituto Superior Politécnico Privado da Catepa  Engenharia Civil   \n",
              "308308  Instituto Superior Politécnico Privado da Catepa  Engenharia Civil   \n",
              "\n",
              "       Ano de Frequência Situação Académica  \\\n",
              "308304                 3        Continuante   \n",
              "308305                 3        Continuante   \n",
              "308306                 3        Continuante   \n",
              "308307                 3        Continuante   \n",
              "308308                 3        Continuante   \n",
              "\n",
              "       Ano Primeiro Matrícula Ensino Superior   \\\n",
              "308304                                    2017   \n",
              "308305                                    2017   \n",
              "308306                                    2017   \n",
              "308307                                    2017   \n",
              "308308                                    2017   \n",
              "\n",
              "        Necessidade de Educação Especial Trabalhador Nível de Graduação  \n",
              "308304                   Sem necessidade        Sim        Licenciatura  \n",
              "308305                   Sem necessidade        Sim        Licenciatura  \n",
              "308306                   Sem necessidade        Sim        Licenciatura  \n",
              "308307                   Sem necessidade        Sim        Licenciatura  \n",
              "308308                   Sem necessidade        Sim        Licenciatura  \n",
              "\n",
              "[5 rows x 23 columns]"
            ],
            "text/html": [
              "\n",
              "  <div id=\"df-68a650cf-59df-48f4-a92d-21b9cd1152a4\" class=\"colab-df-container\">\n",
              "    <div>\n",
              "<style scoped>\n",
              "    .dataframe tbody tr th:only-of-type {\n",
              "        vertical-align: middle;\n",
              "    }\n",
              "\n",
              "    .dataframe tbody tr th {\n",
              "        vertical-align: top;\n",
              "    }\n",
              "\n",
              "    .dataframe thead th {\n",
              "        text-align: right;\n",
              "    }\n",
              "</style>\n",
              "<table border=\"1\" class=\"dataframe\">\n",
              "  <thead>\n",
              "    <tr style=\"text-align: right;\">\n",
              "      <th></th>\n",
              "      <th>Nº de Ordem</th>\n",
              "      <th>Variavel</th>\n",
              "      <th>Ano</th>\n",
              "      <th>Variavel.1</th>\n",
              "      <th>Tipo de IES</th>\n",
              "      <th>Nome da IES</th>\n",
              "      <th>Natureza</th>\n",
              "      <th>Prov. UO</th>\n",
              "      <th>Sexo</th>\n",
              "      <th>Idade</th>\n",
              "      <th>...</th>\n",
              "      <th>País de Origem</th>\n",
              "      <th>Periodo de Estudo</th>\n",
              "      <th>Unidade Organica</th>\n",
              "      <th>Nome do Curso</th>\n",
              "      <th>Ano de Frequência</th>\n",
              "      <th>Situação Académica</th>\n",
              "      <th>Ano Primeiro Matrícula Ensino Superior</th>\n",
              "      <th>Necessidade de Educação Especial</th>\n",
              "      <th>Trabalhador</th>\n",
              "      <th>Nível de Graduação</th>\n",
              "    </tr>\n",
              "  </thead>\n",
              "  <tbody>\n",
              "    <tr>\n",
              "      <th>308304</th>\n",
              "      <td>308305</td>\n",
              "      <td>Matricula</td>\n",
              "      <td>2019</td>\n",
              "      <td>Estudante</td>\n",
              "      <td>Instituto Superior</td>\n",
              "      <td>Instituto Superior Politécnico Privado da Catepa</td>\n",
              "      <td>Privada</td>\n",
              "      <td>Malanje</td>\n",
              "      <td>Masculino</td>\n",
              "      <td>25</td>\n",
              "      <td>...</td>\n",
              "      <td>Angola</td>\n",
              "      <td>Pós-Laboral</td>\n",
              "      <td>Instituto Superior Politécnico Privado da Catepa</td>\n",
              "      <td>Engenharia Civil</td>\n",
              "      <td>3</td>\n",
              "      <td>Continuante</td>\n",
              "      <td>2017</td>\n",
              "      <td>Sem necessidade</td>\n",
              "      <td>Sim</td>\n",
              "      <td>Licenciatura</td>\n",
              "    </tr>\n",
              "    <tr>\n",
              "      <th>308305</th>\n",
              "      <td>308306</td>\n",
              "      <td>Matricula</td>\n",
              "      <td>2019</td>\n",
              "      <td>Estudante</td>\n",
              "      <td>Instituto Superior</td>\n",
              "      <td>Instituto Superior Politécnico Privado da Catepa</td>\n",
              "      <td>Privada</td>\n",
              "      <td>Malanje</td>\n",
              "      <td>Masculino</td>\n",
              "      <td>35</td>\n",
              "      <td>...</td>\n",
              "      <td>Angola</td>\n",
              "      <td>Pós-Laboral</td>\n",
              "      <td>Instituto Superior Politécnico Privado da Catepa</td>\n",
              "      <td>Engenharia Civil</td>\n",
              "      <td>3</td>\n",
              "      <td>Continuante</td>\n",
              "      <td>2017</td>\n",
              "      <td>Sem necessidade</td>\n",
              "      <td>Sim</td>\n",
              "      <td>Licenciatura</td>\n",
              "    </tr>\n",
              "    <tr>\n",
              "      <th>308306</th>\n",
              "      <td>308307</td>\n",
              "      <td>Matricula</td>\n",
              "      <td>2019</td>\n",
              "      <td>Estudante</td>\n",
              "      <td>Instituto Superior</td>\n",
              "      <td>Instituto Superior Politécnico Privado da Catepa</td>\n",
              "      <td>Privada</td>\n",
              "      <td>Malanje</td>\n",
              "      <td>Masculino</td>\n",
              "      <td>29</td>\n",
              "      <td>...</td>\n",
              "      <td>Angola</td>\n",
              "      <td>Pós-Laboral</td>\n",
              "      <td>Instituto Superior Politécnico Privado da Catepa</td>\n",
              "      <td>Engenharia Civil</td>\n",
              "      <td>3</td>\n",
              "      <td>Continuante</td>\n",
              "      <td>2017</td>\n",
              "      <td>Sem necessidade</td>\n",
              "      <td>Sim</td>\n",
              "      <td>Licenciatura</td>\n",
              "    </tr>\n",
              "    <tr>\n",
              "      <th>308307</th>\n",
              "      <td>308308</td>\n",
              "      <td>Matricula</td>\n",
              "      <td>2019</td>\n",
              "      <td>Estudante</td>\n",
              "      <td>Instituto Superior</td>\n",
              "      <td>Instituto Superior Politécnico Privado da Catepa</td>\n",
              "      <td>Privada</td>\n",
              "      <td>Malanje</td>\n",
              "      <td>Masculino</td>\n",
              "      <td>36</td>\n",
              "      <td>...</td>\n",
              "      <td>Angola</td>\n",
              "      <td>Pós-Laboral</td>\n",
              "      <td>Instituto Superior Politécnico Privado da Catepa</td>\n",
              "      <td>Engenharia Civil</td>\n",
              "      <td>3</td>\n",
              "      <td>Continuante</td>\n",
              "      <td>2017</td>\n",
              "      <td>Sem necessidade</td>\n",
              "      <td>Sim</td>\n",
              "      <td>Licenciatura</td>\n",
              "    </tr>\n",
              "    <tr>\n",
              "      <th>308308</th>\n",
              "      <td>308309</td>\n",
              "      <td>Matricula</td>\n",
              "      <td>2019</td>\n",
              "      <td>Estudante</td>\n",
              "      <td>Instituto Superior</td>\n",
              "      <td>Instituto Superior Politécnico Privado da Catepa</td>\n",
              "      <td>Privada</td>\n",
              "      <td>Malanje</td>\n",
              "      <td>Masculino</td>\n",
              "      <td>32</td>\n",
              "      <td>...</td>\n",
              "      <td>Angola</td>\n",
              "      <td>Pós-Laboral</td>\n",
              "      <td>Instituto Superior Politécnico Privado da Catepa</td>\n",
              "      <td>Engenharia Civil</td>\n",
              "      <td>3</td>\n",
              "      <td>Continuante</td>\n",
              "      <td>2017</td>\n",
              "      <td>Sem necessidade</td>\n",
              "      <td>Sim</td>\n",
              "      <td>Licenciatura</td>\n",
              "    </tr>\n",
              "  </tbody>\n",
              "</table>\n",
              "<p>5 rows × 23 columns</p>\n",
              "</div>\n",
              "    <div class=\"colab-df-buttons\">\n",
              "\n",
              "  <div class=\"colab-df-container\">\n",
              "    <button class=\"colab-df-convert\" onclick=\"convertToInteractive('df-68a650cf-59df-48f4-a92d-21b9cd1152a4')\"\n",
              "            title=\"Convert this dataframe to an interactive table.\"\n",
              "            style=\"display:none;\">\n",
              "\n",
              "  <svg xmlns=\"http://www.w3.org/2000/svg\" height=\"24px\" viewBox=\"0 -960 960 960\">\n",
              "    <path d=\"M120-120v-720h720v720H120Zm60-500h600v-160H180v160Zm220 220h160v-160H400v160Zm0 220h160v-160H400v160ZM180-400h160v-160H180v160Zm440 0h160v-160H620v160ZM180-180h160v-160H180v160Zm440 0h160v-160H620v160Z\"/>\n",
              "  </svg>\n",
              "    </button>\n",
              "\n",
              "  <style>\n",
              "    .colab-df-container {\n",
              "      display:flex;\n",
              "      gap: 12px;\n",
              "    }\n",
              "\n",
              "    .colab-df-convert {\n",
              "      background-color: #E8F0FE;\n",
              "      border: none;\n",
              "      border-radius: 50%;\n",
              "      cursor: pointer;\n",
              "      display: none;\n",
              "      fill: #1967D2;\n",
              "      height: 32px;\n",
              "      padding: 0 0 0 0;\n",
              "      width: 32px;\n",
              "    }\n",
              "\n",
              "    .colab-df-convert:hover {\n",
              "      background-color: #E2EBFA;\n",
              "      box-shadow: 0px 1px 2px rgba(60, 64, 67, 0.3), 0px 1px 3px 1px rgba(60, 64, 67, 0.15);\n",
              "      fill: #174EA6;\n",
              "    }\n",
              "\n",
              "    .colab-df-buttons div {\n",
              "      margin-bottom: 4px;\n",
              "    }\n",
              "\n",
              "    [theme=dark] .colab-df-convert {\n",
              "      background-color: #3B4455;\n",
              "      fill: #D2E3FC;\n",
              "    }\n",
              "\n",
              "    [theme=dark] .colab-df-convert:hover {\n",
              "      background-color: #434B5C;\n",
              "      box-shadow: 0px 1px 3px 1px rgba(0, 0, 0, 0.15);\n",
              "      filter: drop-shadow(0px 1px 2px rgba(0, 0, 0, 0.3));\n",
              "      fill: #FFFFFF;\n",
              "    }\n",
              "  </style>\n",
              "\n",
              "    <script>\n",
              "      const buttonEl =\n",
              "        document.querySelector('#df-68a650cf-59df-48f4-a92d-21b9cd1152a4 button.colab-df-convert');\n",
              "      buttonEl.style.display =\n",
              "        google.colab.kernel.accessAllowed ? 'block' : 'none';\n",
              "\n",
              "      async function convertToInteractive(key) {\n",
              "        const element = document.querySelector('#df-68a650cf-59df-48f4-a92d-21b9cd1152a4');\n",
              "        const dataTable =\n",
              "          await google.colab.kernel.invokeFunction('convertToInteractive',\n",
              "                                                    [key], {});\n",
              "        if (!dataTable) return;\n",
              "\n",
              "        const docLinkHtml = 'Like what you see? Visit the ' +\n",
              "          '<a target=\"_blank\" href=https://colab.research.google.com/notebooks/data_table.ipynb>data table notebook</a>'\n",
              "          + ' to learn more about interactive tables.';\n",
              "        element.innerHTML = '';\n",
              "        dataTable['output_type'] = 'display_data';\n",
              "        await google.colab.output.renderOutput(dataTable, element);\n",
              "        const docLink = document.createElement('div');\n",
              "        docLink.innerHTML = docLinkHtml;\n",
              "        element.appendChild(docLink);\n",
              "      }\n",
              "    </script>\n",
              "  </div>\n",
              "\n",
              "\n",
              "<div id=\"df-b5c8c839-9cc9-46f5-abd2-0355e189f4c6\">\n",
              "  <button class=\"colab-df-quickchart\" onclick=\"quickchart('df-b5c8c839-9cc9-46f5-abd2-0355e189f4c6')\"\n",
              "            title=\"Suggest charts.\"\n",
              "            style=\"display:none;\">\n",
              "\n",
              "<svg xmlns=\"http://www.w3.org/2000/svg\" height=\"24px\"viewBox=\"0 0 24 24\"\n",
              "     width=\"24px\">\n",
              "    <g>\n",
              "        <path d=\"M19 3H5c-1.1 0-2 .9-2 2v14c0 1.1.9 2 2 2h14c1.1 0 2-.9 2-2V5c0-1.1-.9-2-2-2zM9 17H7v-7h2v7zm4 0h-2V7h2v10zm4 0h-2v-4h2v4z\"/>\n",
              "    </g>\n",
              "</svg>\n",
              "  </button>\n",
              "\n",
              "<style>\n",
              "  .colab-df-quickchart {\n",
              "    background-color: #E8F0FE;\n",
              "    border: none;\n",
              "    border-radius: 50%;\n",
              "    cursor: pointer;\n",
              "    display: none;\n",
              "    fill: #1967D2;\n",
              "    height: 32px;\n",
              "    padding: 0 0 0 0;\n",
              "    width: 32px;\n",
              "  }\n",
              "\n",
              "  .colab-df-quickchart:hover {\n",
              "    background-color: #E2EBFA;\n",
              "    box-shadow: 0px 1px 2px rgba(60, 64, 67, 0.3), 0px 1px 3px 1px rgba(60, 64, 67, 0.15);\n",
              "    fill: #174EA6;\n",
              "  }\n",
              "\n",
              "  [theme=dark] .colab-df-quickchart {\n",
              "    background-color: #3B4455;\n",
              "    fill: #D2E3FC;\n",
              "  }\n",
              "\n",
              "  [theme=dark] .colab-df-quickchart:hover {\n",
              "    background-color: #434B5C;\n",
              "    box-shadow: 0px 1px 3px 1px rgba(0, 0, 0, 0.15);\n",
              "    filter: drop-shadow(0px 1px 2px rgba(0, 0, 0, 0.3));\n",
              "    fill: #FFFFFF;\n",
              "  }\n",
              "</style>\n",
              "\n",
              "  <script>\n",
              "    async function quickchart(key) {\n",
              "      const charts = await google.colab.kernel.invokeFunction(\n",
              "          'suggestCharts', [key], {});\n",
              "    }\n",
              "    (() => {\n",
              "      let quickchartButtonEl =\n",
              "        document.querySelector('#df-b5c8c839-9cc9-46f5-abd2-0355e189f4c6 button');\n",
              "      quickchartButtonEl.style.display =\n",
              "        google.colab.kernel.accessAllowed ? 'block' : 'none';\n",
              "    })();\n",
              "  </script>\n",
              "</div>\n",
              "    </div>\n",
              "  </div>\n"
            ]
          },
          "metadata": {},
          "execution_count": 7
        }
      ],
      "source": [
        "data.tail()"
      ]
    },
    {
      "cell_type": "markdown",
      "metadata": {
        "id": "OFIw9OBueho1"
      },
      "source": [
        "Mostrar o numero de colunas e linhas do livro"
      ]
    },
    {
      "cell_type": "code",
      "execution_count": 8,
      "metadata": {
        "id": "Lrn-pWU0eho2",
        "outputId": "715ac700-4417-4eea-f7de-f2d34c3b3a0d",
        "colab": {
          "base_uri": "https://localhost:8080/",
          "height": 0
        }
      },
      "outputs": [
        {
          "output_type": "execute_result",
          "data": {
            "text/plain": [
              "(308309, 23)"
            ]
          },
          "metadata": {},
          "execution_count": 8
        }
      ],
      "source": [
        "data.shape"
      ]
    },
    {
      "cell_type": "markdown",
      "source": [
        "**Resposta:** Temos 308.309 Linhas e 23 Colunas (Features)"
      ],
      "metadata": {
        "id": "X1WCyuMPhFAz"
      }
    },
    {
      "cell_type": "markdown",
      "metadata": {
        "id": "KDJO-7mfeho4"
      },
      "source": [
        "Mostrar as colunas do livro"
      ]
    },
    {
      "cell_type": "code",
      "execution_count": 9,
      "metadata": {
        "id": "wIxd2M9leho5",
        "outputId": "82fdf705-80e8-4d5b-fb8e-73c44156b8ea",
        "colab": {
          "base_uri": "https://localhost:8080/",
          "height": 0
        }
      },
      "outputs": [
        {
          "output_type": "execute_result",
          "data": {
            "text/plain": [
              "Index(['Nº de Ordem', 'Variavel', 'Ano', 'Variavel.1', 'Tipo de IES',\n",
              "       'Nome da IES', 'Natureza', 'Prov. UO', 'Sexo', 'Idade',\n",
              "       'Data de nascimento ', 'Provincia Residencia',\n",
              "       'Município de Residência', 'País de Origem', 'Periodo de Estudo',\n",
              "       'Unidade Organica', 'Nome do Curso ', 'Ano de Frequência',\n",
              "       'Situação Académica', 'Ano Primeiro Matrícula Ensino Superior ',\n",
              "       'Necessidade de Educação Especial', 'Trabalhador',\n",
              "       'Nível de Graduação'],\n",
              "      dtype='object')"
            ]
          },
          "metadata": {},
          "execution_count": 9
        }
      ],
      "source": [
        "data.columns"
      ]
    },
    {
      "cell_type": "code",
      "execution_count": 10,
      "metadata": {
        "id": "2HgdxQ6Beho5",
        "outputId": "8f53d3f2-9307-402e-fcce-db03672db89b",
        "colab": {
          "base_uri": "https://localhost:8080/",
          "height": 1090
        }
      },
      "outputs": [
        {
          "output_type": "execute_result",
          "data": {
            "text/plain": [
              "         Nº de Ordem       Ano  Ano de Frequência\n",
              "count  308309.000000  308309.0      308309.000000\n",
              "mean   154155.000000    2019.0           2.378620\n",
              "std     89001.286409       0.0           1.323711\n",
              "min         1.000000    2019.0           1.000000\n",
              "25%     77078.000000    2019.0           1.000000\n",
              "50%    154155.000000    2019.0           2.000000\n",
              "75%    231232.000000    2019.0           3.000000\n",
              "max    308309.000000    2019.0           6.000000"
            ],
            "text/html": [
              "\n",
              "  <div id=\"df-b5e644d0-bead-472e-b713-843970590580\" class=\"colab-df-container\">\n",
              "    <div>\n",
              "<style scoped>\n",
              "    .dataframe tbody tr th:only-of-type {\n",
              "        vertical-align: middle;\n",
              "    }\n",
              "\n",
              "    .dataframe tbody tr th {\n",
              "        vertical-align: top;\n",
              "    }\n",
              "\n",
              "    .dataframe thead th {\n",
              "        text-align: right;\n",
              "    }\n",
              "</style>\n",
              "<table border=\"1\" class=\"dataframe\">\n",
              "  <thead>\n",
              "    <tr style=\"text-align: right;\">\n",
              "      <th></th>\n",
              "      <th>Nº de Ordem</th>\n",
              "      <th>Ano</th>\n",
              "      <th>Ano de Frequência</th>\n",
              "    </tr>\n",
              "  </thead>\n",
              "  <tbody>\n",
              "    <tr>\n",
              "      <th>count</th>\n",
              "      <td>308309.000000</td>\n",
              "      <td>308309.0</td>\n",
              "      <td>308309.000000</td>\n",
              "    </tr>\n",
              "    <tr>\n",
              "      <th>mean</th>\n",
              "      <td>154155.000000</td>\n",
              "      <td>2019.0</td>\n",
              "      <td>2.378620</td>\n",
              "    </tr>\n",
              "    <tr>\n",
              "      <th>std</th>\n",
              "      <td>89001.286409</td>\n",
              "      <td>0.0</td>\n",
              "      <td>1.323711</td>\n",
              "    </tr>\n",
              "    <tr>\n",
              "      <th>min</th>\n",
              "      <td>1.000000</td>\n",
              "      <td>2019.0</td>\n",
              "      <td>1.000000</td>\n",
              "    </tr>\n",
              "    <tr>\n",
              "      <th>25%</th>\n",
              "      <td>77078.000000</td>\n",
              "      <td>2019.0</td>\n",
              "      <td>1.000000</td>\n",
              "    </tr>\n",
              "    <tr>\n",
              "      <th>50%</th>\n",
              "      <td>154155.000000</td>\n",
              "      <td>2019.0</td>\n",
              "      <td>2.000000</td>\n",
              "    </tr>\n",
              "    <tr>\n",
              "      <th>75%</th>\n",
              "      <td>231232.000000</td>\n",
              "      <td>2019.0</td>\n",
              "      <td>3.000000</td>\n",
              "    </tr>\n",
              "    <tr>\n",
              "      <th>max</th>\n",
              "      <td>308309.000000</td>\n",
              "      <td>2019.0</td>\n",
              "      <td>6.000000</td>\n",
              "    </tr>\n",
              "  </tbody>\n",
              "</table>\n",
              "</div>\n",
              "    <div class=\"colab-df-buttons\">\n",
              "\n",
              "  <div class=\"colab-df-container\">\n",
              "    <button class=\"colab-df-convert\" onclick=\"convertToInteractive('df-b5e644d0-bead-472e-b713-843970590580')\"\n",
              "            title=\"Convert this dataframe to an interactive table.\"\n",
              "            style=\"display:none;\">\n",
              "\n",
              "  <svg xmlns=\"http://www.w3.org/2000/svg\" height=\"24px\" viewBox=\"0 -960 960 960\">\n",
              "    <path d=\"M120-120v-720h720v720H120Zm60-500h600v-160H180v160Zm220 220h160v-160H400v160Zm0 220h160v-160H400v160ZM180-400h160v-160H180v160Zm440 0h160v-160H620v160ZM180-180h160v-160H180v160Zm440 0h160v-160H620v160Z\"/>\n",
              "  </svg>\n",
              "    </button>\n",
              "\n",
              "  <style>\n",
              "    .colab-df-container {\n",
              "      display:flex;\n",
              "      gap: 12px;\n",
              "    }\n",
              "\n",
              "    .colab-df-convert {\n",
              "      background-color: #E8F0FE;\n",
              "      border: none;\n",
              "      border-radius: 50%;\n",
              "      cursor: pointer;\n",
              "      display: none;\n",
              "      fill: #1967D2;\n",
              "      height: 32px;\n",
              "      padding: 0 0 0 0;\n",
              "      width: 32px;\n",
              "    }\n",
              "\n",
              "    .colab-df-convert:hover {\n",
              "      background-color: #E2EBFA;\n",
              "      box-shadow: 0px 1px 2px rgba(60, 64, 67, 0.3), 0px 1px 3px 1px rgba(60, 64, 67, 0.15);\n",
              "      fill: #174EA6;\n",
              "    }\n",
              "\n",
              "    .colab-df-buttons div {\n",
              "      margin-bottom: 4px;\n",
              "    }\n",
              "\n",
              "    [theme=dark] .colab-df-convert {\n",
              "      background-color: #3B4455;\n",
              "      fill: #D2E3FC;\n",
              "    }\n",
              "\n",
              "    [theme=dark] .colab-df-convert:hover {\n",
              "      background-color: #434B5C;\n",
              "      box-shadow: 0px 1px 3px 1px rgba(0, 0, 0, 0.15);\n",
              "      filter: drop-shadow(0px 1px 2px rgba(0, 0, 0, 0.3));\n",
              "      fill: #FFFFFF;\n",
              "    }\n",
              "  </style>\n",
              "\n",
              "    <script>\n",
              "      const buttonEl =\n",
              "        document.querySelector('#df-b5e644d0-bead-472e-b713-843970590580 button.colab-df-convert');\n",
              "      buttonEl.style.display =\n",
              "        google.colab.kernel.accessAllowed ? 'block' : 'none';\n",
              "\n",
              "      async function convertToInteractive(key) {\n",
              "        const element = document.querySelector('#df-b5e644d0-bead-472e-b713-843970590580');\n",
              "        const dataTable =\n",
              "          await google.colab.kernel.invokeFunction('convertToInteractive',\n",
              "                                                    [key], {});\n",
              "        if (!dataTable) return;\n",
              "\n",
              "        const docLinkHtml = 'Like what you see? Visit the ' +\n",
              "          '<a target=\"_blank\" href=https://colab.research.google.com/notebooks/data_table.ipynb>data table notebook</a>'\n",
              "          + ' to learn more about interactive tables.';\n",
              "        element.innerHTML = '';\n",
              "        dataTable['output_type'] = 'display_data';\n",
              "        await google.colab.output.renderOutput(dataTable, element);\n",
              "        const docLink = document.createElement('div');\n",
              "        docLink.innerHTML = docLinkHtml;\n",
              "        element.appendChild(docLink);\n",
              "      }\n",
              "    </script>\n",
              "  </div>\n",
              "\n",
              "\n",
              "<div id=\"df-6737811d-139b-4533-98fc-32c6041ed26f\">\n",
              "  <button class=\"colab-df-quickchart\" onclick=\"quickchart('df-6737811d-139b-4533-98fc-32c6041ed26f')\"\n",
              "            title=\"Suggest charts.\"\n",
              "            style=\"display:none;\">\n",
              "\n",
              "<svg xmlns=\"http://www.w3.org/2000/svg\" height=\"24px\"viewBox=\"0 0 24 24\"\n",
              "     width=\"24px\">\n",
              "    <g>\n",
              "        <path d=\"M19 3H5c-1.1 0-2 .9-2 2v14c0 1.1.9 2 2 2h14c1.1 0 2-.9 2-2V5c0-1.1-.9-2-2-2zM9 17H7v-7h2v7zm4 0h-2V7h2v10zm4 0h-2v-4h2v4z\"/>\n",
              "    </g>\n",
              "</svg>\n",
              "  </button>\n",
              "\n",
              "<style>\n",
              "  .colab-df-quickchart {\n",
              "    background-color: #E8F0FE;\n",
              "    border: none;\n",
              "    border-radius: 50%;\n",
              "    cursor: pointer;\n",
              "    display: none;\n",
              "    fill: #1967D2;\n",
              "    height: 32px;\n",
              "    padding: 0 0 0 0;\n",
              "    width: 32px;\n",
              "  }\n",
              "\n",
              "  .colab-df-quickchart:hover {\n",
              "    background-color: #E2EBFA;\n",
              "    box-shadow: 0px 1px 2px rgba(60, 64, 67, 0.3), 0px 1px 3px 1px rgba(60, 64, 67, 0.15);\n",
              "    fill: #174EA6;\n",
              "  }\n",
              "\n",
              "  [theme=dark] .colab-df-quickchart {\n",
              "    background-color: #3B4455;\n",
              "    fill: #D2E3FC;\n",
              "  }\n",
              "\n",
              "  [theme=dark] .colab-df-quickchart:hover {\n",
              "    background-color: #434B5C;\n",
              "    box-shadow: 0px 1px 3px 1px rgba(0, 0, 0, 0.15);\n",
              "    filter: drop-shadow(0px 1px 2px rgba(0, 0, 0, 0.3));\n",
              "    fill: #FFFFFF;\n",
              "  }\n",
              "</style>\n",
              "\n",
              "  <script>\n",
              "    async function quickchart(key) {\n",
              "      const charts = await google.colab.kernel.invokeFunction(\n",
              "          'suggestCharts', [key], {});\n",
              "    }\n",
              "    (() => {\n",
              "      let quickchartButtonEl =\n",
              "        document.querySelector('#df-6737811d-139b-4533-98fc-32c6041ed26f button');\n",
              "      quickchartButtonEl.style.display =\n",
              "        google.colab.kernel.accessAllowed ? 'block' : 'none';\n",
              "    })();\n",
              "  </script>\n",
              "</div>\n",
              "    </div>\n",
              "  </div>\n"
            ]
          },
          "metadata": {},
          "execution_count": 10
        },
        {
          "output_type": "display_data",
          "data": {
            "text/plain": [
              "<google.colab._quickchart_helpers.SectionTitle at 0x7bc79a009ed0>"
            ],
            "text/html": [
              "<h4 class=\"colab-quickchart-section-title\">Values</h4>\n",
              "<style>\n",
              "  .colab-quickchart-section-title {\n",
              "      clear: both;\n",
              "  }\n",
              "</style>"
            ]
          },
          "metadata": {}
        },
        {
          "output_type": "display_data",
          "data": {
            "text/plain": [
              "import numpy as np\n",
              "from google.colab import autoviz\n",
              "\n",
              "def value_plot(df, y, figscale=1):\n",
              "  from matplotlib import pyplot as plt\n",
              "  df[y].plot(kind='line', figsize=(8 * figscale, 4 * figscale), title=y)\n",
              "  plt.gca().spines[['top', 'right']].set_visible(False)\n",
              "  plt.tight_layout()\n",
              "  return autoviz.MplChart.from_current_mpl_state()\n",
              "\n",
              "chart = value_plot(_df_0, *['Nº de Ordem'], **{})\n",
              "chart"
            ],
            "text/html": [
              "      <div class=\"colab-quickchart-chart-with-code\" id=\"chart-358f7a91-2556-4815-9631-16ae13a005f4\">\n",
              "        <img src=\"data:image/png;base64,iVBORw0KGgoAAAANSUhEUgAAAYwAAADECAYAAACMRRb/AAAAOXRFWHRTb2Z0d2FyZQBNYXRwbG90\n",
              "bGliIHZlcnNpb24zLjcuMSwgaHR0cHM6Ly9tYXRwbG90bGliLm9yZy/bCgiHAAAACXBIWXMAAA9h\n",
              "AAAPYQGoP6dpAAAxvklEQVR4nO3dd1QUZ9sG8GvpUhYUpBiaBEGlqoCKIGJswViCvZdgNxg10Rhf\n",
              "31Q1xZAgajSaoMZoFCuiJlGjBrAbBcUGIk2adKQsW+7vD97sFxI1CwJDuX/n7DmyU/aaZd1r59lh\n",
              "RkREBMYYY+xfqAkdgDHGWPPAhcEYY0wlXBiMMcZUwoXBGGNMJVwYjDHGVMKFwRhjTCVcGIwxxlTC\n",
              "hcEYY0wlXBiMMcZUwoXBWB385z//Qb9+/YSOUcPkyZMxffp0oWOwFowLg7U4/fr1g0gkwtGjR2vc\n",
              "//c31A0bNsDHxwcDBw5EUFAQpFJpo+aUSqVYvXo1unTpAl1dXbRr1w4jRozA9evXGzUHY6riwmAt\n",
              "komJCZYuXYqqqqqnTk9ISEBoaChOnTqFkydPQiKRYNu2bY2WTy6XY9iwYdixYwc2b96MoqIi3L59\n",
              "G126dIG3tzfOnTv3zGWftU2MNTQuDNYiTZ8+HQqFAuvXr3/q9ISEBPTo0QM6OjoAAG9vb9y6deuZ\n",
              "6/vhhx/QqVMnGBgYIDAwEEVFRTWmV1ZW4r333sPLL7+Mtm3bom/fvs/dU9i7dy9Onz6NyMhI+Pn5\n",
              "QUtLC+bm5vj0008RGBiIOXPmKOft168fFi5ciPHjx6Nt27YIDg4GAHzxxRewtraGkZERgoKC/lEk\n",
              "RUVFmDdvHmxsbGBsbIyAgAAkJyfXeI7GjRuHefPmwdjYGCYmJvj666+Rnp6OwYMHw8DAAF27dsWF\n",
              "CxeeuR2slSHGWhg/Pz9auXIlHTp0iMRiMeXk5BAR0aRJk2jatGlERHTr1i2yt7eniooKIiKaOHEi\n",
              "bdq06anri42NJQ0NDYqMjCSpVEqRkZGko6NDfn5+ynmmTZtGr7zyCqWnp5NUKqWwsDBq3749FRYW\n",
              "PnWdEyZMoD59+jx12q+//koAKDExUbk9urq6dOzYMZLL5VRWVkY//vgjGRkZUWxsLFVVVdGWLVtI\n",
              "Q0NDuX0KhYL69etHEydOpPz8fKqsrKRly5ZRly5dqKqqSplZS0uLIiIiSCaT0aFDh0gkElG/fv0o\n",
              "Pj6eZDIZBQcHk4ODQ22eftaCcWGwFufPwiAi6t+/P73xxhtEVLMwiIjCwsKoV69e5OfnR2+88Yby\n",
              "jfTvgoKCKDAwsMZ9gYGBysLIy8sjAHT37t0a89jb29MPP/zw1HUOGDCAxo4d+9Rpt2/fJgAUGxur\n",
              "3J7x48f/Y/klS5bUuK979+7K7bt27RppampSaWmpcrpMJiMdHR2Kjo4mourC6N+/f411GBkZ0Zo1\n",
              "a5Q/X716lQBQUVHRU7Oy1oWHpFiLFhoaih9++OEfw0MFBQXYv38/tLW1AQBJSUk4e/bsU9eRkZGB\n",
              "jh071rjvrz8nJSUBAHr27AkjIyPl7dGjR8jIyHjqOtu3b49Hjx498/EAwNTU9KmPp0qmxMREyGQy\n",
              "WFpaKvMYGxsDANLT05XzWVhY1FiHnp5ejfv09PQAAKWlpU/NyloXDaEDMNaQnJ2dERQUhEWLFsHa\n",
              "2lp5f7t27Z5ZEH9naWmJlJSUGvf99Wdzc3MAQHx8fI3HeJ6hQ4dixowZuH//PhwcHGpM27lzJxwc\n",
              "HGBvb6+8T02t5me7Z2VydnZWZtLS0sLjx4+hqampUibG/g3vYbAW76OPPsKtW7fwyy+/1Gn5adOm\n",
              "ITIyEseOHYNcLsexY8dw/Phx5XQbGxuMHDkSCxYsQGpqKoDqT+QnTpxAVlbWU9c5fvx4+Pn5Yfjw\n",
              "4YiOjoZUKkVubi5WrlyJ/fv345tvvvnXTN9//z0uXrwImUyGbdu2IS4uTjndx8cHzs7OmDdvHnJz\n",
              "cwEAhYWFOHDgAMrLy+v0PDDGhcFaPGNjY3zwwQfIy8ur0/I+Pj749ttvsWjRIhgZGeG7777DzJkz\n",
              "a8yze/du9OjRAwMHDoSBgQEcHR2xdetW0DOugKyuro6oqChMmjQJQUFBEIvFcHR0RHx8PKKjo9G/\n",
              "f//nZpo0aRKWLVuGMWPGwMTEBBcvXsTrr79eY/0nT56Erq4uevbsCQMDA7i5ueHQoUMQiUR1eh4Y\n",
              "E9GzXtGMMcbYX/AeBmOMMZVwYTDGGFMJFwZjjDGVcGEwxhhTCRcGY4wxlXBhMMYYUwkXBmOMMZW0\n",
              "2sIIDQ0VOgJjjDUrrbYw/jyFA2OMMdW02sJgjDFWO1wYjDHGVMKFwRhjTCVcGLVQWinFqsO3kJJX\n",
              "JnQUxhhTup9TipWHbkKuaNhzyda6MAYNGgRXV1e4u7vD19dXeSWzxMREeHt7w8HBAZ6enkhISFAu\n",
              "09jTGsp/jyTgh4upeGd/HBQN/IthjLF/Q0TYeyUNwzfE4MdLafguJrnBH7BW/npR+4MHD5KrqysR\n",
              "Efn7+1N4eDgREUVERJCHh4dyvsaeporFixfXan4iorT8Muq66gTZLI+ibdHJtV6eMcbqS2mllBbt\n",
              "+YNslkeRzfIomrztIj0urWzQx6x1YfxVeHg4ubm5UU5ODhkYGJBUKiUiIoVCQWZmZpSYmNjo01RV\n",
              "l8IgItp1MYVslkeRw8rj9CC3tE7rYIyxF5HwqJj8vzhDNsujyG7FMdp4JpHkckWDP26druk9depU\n",
              "nDlzBgBw/PhxpKenw8LCAhoa1asTiUSwtrZGWloaDA0NG3XaX6+D/CeJRAKJRFLjPrlcXpdNx0Qv\n",
              "a5y4mY2YpDy8HRGHiLneUFfjK5gxxhoeEeHHS2n4KOo2qmQKWBjqYP2EbvC0bdcoj1+nL7137tyJ\n",
              "9PR0fPLJJ1i+fHl9Z6p3a9euhaGhYY3b5cuX67QukUiEz0a7Ql9bA3+kFTX8mCFjjAEoqZRi4Z7r\n",
              "+M/hW6iSKfBKZ1McD/ZttLIAXvAoqWnTpuHMmTOwtLREVlYWZDIZgOoWTEtLg7W1NaysrBp12tOs\n",
              "WLECxcXFNW5eXl513u6XjNpg1WtdAADrfr2PpNzSOq+LMcb+zc2MYgwLi8Gx+CxoqImwMqALtk3z\n",
              "QFs9rUbNUavCKCoqQmZmpvLnw4cPw9jYGKampujevTt27doFADhw4AAsLS1hb2/f6NOeRltbG2Kx\n",
              "uMZNXV29lk9VTWM9rODn0B5VMgWWRsRDJle80PoYY+zviAjbYx9i1DfnkZpfjpeM2mDf3N6Y1dcO\n",
              "IlHjD4WLiEjl40NTU1MxZswYVFRUQE1NDe3bt8e6devg7u6Oe/fuYfr06cjPz4dYLEZ4eDhcXFwA\n",
              "oNGnqWLJkiUICQlRef6nySquwKCvfkdppQzLhjhifr+nFxZjjNVWcbkUyw7E4ZeEHADAoK5m+GK0\n",
              "Gwx1NQXLVKvCaEnqozAAIOJqOt7ZHw8tdTVEBfvAwcygHtIxxlqz62mFWLj7Oh4VVUBLXQ3vBXTG\n",
              "NG9bQfYq/or/0vsFje5hif6dTVElV2DpvjhIeWiKMVZHRIStvydjzOYLeFRUAet2ujgwzxvT+3QU\n",
              "vCwALowXJhKJsDbQBWIdDdx8VIwt5x4IHYkx1gwVllUhaMdVrD5+BzIFYaiLBaKCfeBiaSh0NCUu\n",
              "jHpgJtbBhyOcAAChpxNxJ6tE4ESMsebkakoBAtZH4/TdXGhpqOGTkc7YMLEbxDrCfV/xNFwY9WSk\n",
              "+0sY2NUMUjnx0BRjTCUKBWHT2SSM+/YisoorYWeih8Pz+2ByL5smMQT1d1wY9UQkEmH1684w0tXE\n",
              "7awSbDyTJHQkxlgTlvdEgunbr+Dzn+9BriCMdO+AyDd90LWDWOhoz8SFUY9MDXTw4fDqoakNvyUh\n",
              "IbNY4ESMsaboYnI+AkKj8fv9x9DRVMPno1zx1Th36GvX6WxNjYYLo54Nd+uAIU7mkCmqh6aqZDw0\n",
              "xRirJlcQQk8lYuLWi8gtlcDeVB9HFvhgrKdVkxyC+jsujHomEonwyevOaKenhbvZpdjwW6LQkRhj\n",
              "TUBuaSWmfHcJX526DwUBY3pYInJhHziaN5+/3eLCaAAm+tr4eIQzAGDj2Qe4mcFDU4y1ZjGJeQgI\n",
              "jcb5B/nQ1VJHyFg3fDHGDbpaTXsI6u+4MBrIUFcLDHW1gFxBWBpxAxJZ3U6nzhhrvmRyBb789R6m\n",
              "fH8JeU+q0NncAJELfRDY3VLoaHXChdGAPh7hDBN9LdzPeYLQUzw0xVhrkl1ciYnbLiHstyQQARO8\n",
              "rHF4QR/Ym+oLHa3OuDAaUDs9LXwysvqEiJvPPcCN9CJhAzHGGsWZe7kIWB+Nyw8LoKeljvUTumFt\n",
              "oAt0NF/sLNlC48JoYEOczTHCvQMUBCzddwOVUh6aYqylksoVWHviDmaEX0FBWRWcOogRFeyL4W4d\n",
              "hI5WL7gwGsEHw5xgoq+NB4/L8NXJ+0LHYYw1gEdFFRj/7UVsOVd9Fc6pvW1wYJ43OproCZys/nBh\n",
              "NIK2elpY83r1UVNbo5NxLbVQ4ESMsfp08nYOAkKjcS21EAY6GvhmUnd8NMK52Q9B/R0XRiMZ5GSO\n",
              "wG4vQUHAOxFxPDTFWAtQJVPg46jbmLXzKoorpHCzNMSxN33xqouF0NEaBBdGI3p/mBNMDbSRnFeG\n",
              "db/cEzoOY+wFpBeUY8zm8/gu5iEA4A2fjoiY6w1rY12BkzUcLoxGZKiriU9HVR819V3sQ1xJKRA4\n",
              "EWOsLn6+lYWA9dGIyyiGYRtNbJ3qgVWvdYWWRst+S23ZW9cE9e9shjE9LEH/G5oqr5IJHYkxpqJK\n",
              "qRzvH7mFubv+QGmlDN2tjXAs2AcDu5oJHa1RcGEI4D+vdYWFoQ5S8svx+c88NMVYc5CSV4ZR35zH\n",
              "jgupAIA5fnbYO6c3LNu23CGov+PCEIBhG018OsoVALD9fAouJucLnIgx9jyRcZl4LSwGCZklaKen\n",
              "hfAZnljxahdoqreut9DWtbVNiJ9De4z3tAIALNsfjzIJD00x1tRUSuVYcfAmgvdcxxOJDF627XA8\n",
              "2Bf+jqZCRxMEF4aAVg7tgg6GOkgrKMdnP98VOg5j7C+Scp9g5MZY7LmcBpEIeLO/PXbP6glzQx2h\n",
              "owmGC0NABjqa+Hy0GwBg54VUnE/KEzgRYwwADv6RgeEbYnA3uxQm+lrYOdMLSwc5QqOVDUH9Xeve\n",
              "+ibAp5MJJvW0BgC8sz8eT3hoijHBlFfJ8E5EHJbsi0N5lRzeLxvjeLAvfDu1Fzpak8CF0QSsCOgC\n",
              "y7Zt8KioAmuO3xE6DmOt0v2cUozYEIuIaxlQEwGLBzjghzd6wlTceoeg/o4LownQ19bA56Orj5ra\n",
              "fSkNv99/LHAixloPIsK+K+kYviEGiblPYGqgjR+DemHRgE5QV2v619luTFwYTYT3yyaY1tsGAPDu\n",
              "gXiUVEoFTsRYy/dEIsPivTew7EA8KqUK+HYywfFFvuj9srHQ0ZokLowmZPmrnWHdTheZxZVYHcVD\n",
              "U4w1pNuZJRgeFoPDNzKhribCsiGO2DHDCyb62kJHa7K4MJoQXS0NfPG/oam9V9Nx9l6uwIkYa3mI\n",
              "CD9eSsXITbFIziuDhaEOfprdC/P72UONh6CeiwujielpZ4wZfWwBAO8euIniCh6aYqy+lFZKsXDP\n",
              "daw8dAtVMgX6dzbFsWBfeNq2Ezpas8CF0QQtG9wZtsa6yC6pxMdRt4WOw1iLcDOjGK+FxeBYfBY0\n",
              "1ERYGdAF26Z6oJ2eltDRmo1aFUZlZSVGjhwJBwcHuLm5YeDAgUhKSgIA5ObmYsiQIejUqROcnZ3x\n",
              "+++/K5dr7GnNXRstdawb4waRCNh/LQOn7+QIHYmxZouIsD32IUZ9cx6p+eV4yagN9s3tjVl97XgI\n",
              "qpZqvYcxe/Zs3Lt3D3FxcRgxYgSCgoIAAO+++y569eqFxMREhIeHY+LEiZBKpYJMawk8bNshyKcj\n",
              "AGDFwZsoKq8SOBFjzU9xuRRzd13DB0dvo0quwKCuZjge7Ivu1m2FjtY80Qu4cuUK2djYEBGRnp4e\n",
              "ZWVlKad5enrSyZMnBZmmisWLF6s8r1AqqmTkv+4M2SyPord+ui50HMaalT9SC6jPp6fJZnkU2b93\n",
              "jL6PSSaFQiF0rGbthb7DCA0NxYgRI5Cfnw+pVApzc3PlNFtbW6SlpTX6tKeRSCQoKSmpcZPLm/41\n",
              "tXU0q4em1ETAoeuP8GtCttCRGGvyiAhbf0/GmM0XkFFYAet2ujgwzxsz+nSESMRDUC+izoWxZs0a\n",
              "JCUlYe3atfWZp0GsXbsWhoaGNW6XL18WOpZKulu3xay+dgCA9w7dQmEZD00x9iyFZVUI2nEVq4/f\n",
              "gUxBGOpigahgH7haGgkdrUWoU2GsW7cOBw8exIkTJ6CrqwtjY2NoaGggO/v/PwGnpKTA2tq60ac9\n",
              "zYoVK1BcXFzj5uXlVZdNF8TiAQ6wN9VH3hMJ3o9MEDoOY03S1ZQCDF0fjdN3c6GloYZPRjpjw8Ru\n",
              "EOtoCh2txah1YYSEhGDPnj04efIkjIyMlPePGTMGmzdvBgBcuXIFjx49gp+fnyDT/k5bWxtisbjG\n",
              "TV1dvbabLhgdTXV8OcYN6moiRMZl4sTNLKEjMdZkKBSETWeTMO7bi8gsrkRHEz0cmu+Nyb1seAiq\n",
              "nomIiFSdOSMjA1ZWVrCzs4OBgQGA6jfjS5cuIScnB1OmTMHDhw+hpaWFDRs2wN/fHwAafZoqlixZ\n",
              "gpCQEJXnbwq++OUuNp55AGM9Lfy6uC+M+RQGrJXLeyLBkn1xyhN2jnDvgNWvu0BfW0PgZC1TrQqj\n",
              "JWmOhSGRyTE8LBb3ckox1MUCGyd1FzoSY4K5mJyP4D3XkVsqgY6mGj4c7oSxHla8V9GA+C+9mxFt\n",
              "DXV8ObZ6aOrYzSxExWcKHYmxRidXENafTsTErReRWyqBvak+jizwwThPay6LBsaF0cw4v2SIBf72\n",
              "AIBVh2/hcalE4ESMNZ7c0kpM/f4SQk7eh4KA0T0sEbmwDxzNDYSO1ipwYTRDC/3t0cVCjMJyKf5z\n",
              "+CZa6agia2ViEvMQEBqD2KR8tPnfgSDrxrhBV4u/r2gsXBjNkJaGGtaNcYWGmgi/JOQgMo6HpljL\n",
              "JZMr8OWv9zDl+0vIeyJBZ3MDHH3TB6N6WAodrdXhwmimnDoY4s3+nQAA/z2SgNySSoETMVb/sosr\n",
              "MXHbJYT9lgQiYIKXFQ4v6AN7U32ho7VKXBjN2Hz/l+HUQYziCineO8RDU6xlOXsvFwHro3H5YQH0\n",
              "tNQROt4dawNdoaPZfP6GqqXhwmjGNNXV8OVYN2iqi3DqTi4OXX8kdCTGXphUrsCnJ+5ievgVFJRV\n",
              "oauFGFHBvhjh/pLQ0Vo9LoxmrrO5GG8NcAAAfBCZgOxiHppizdejogqM//YiNp97AACY2tsGB+d7\n",
              "o6OJnsDJGMCF0SLM6WsHV0tDlFTKsOJgPA9NsWbp1O0cDF0fjWuphTDQ1sCmSd3x0QhnHoJqQrgw\n",
              "WgANdTV8OcYNWupqOHPvMSKuZQgdiTGVVckU+CTqNoJ2XkVRuRSuloY4FuyLABcLoaOxv+HCaCE6\n",
              "mRlg8cDqoamPj95GVnGFwIkY+3fpBeUYs+UCtsU8BADM7NMR++d6w9pYV+Bk7Gm4MFqQWb4d4W5l\n",
              "hFKJDMsP8FFTrGn7+VYWAtZHIy69CIZtNLF1qgf+O6wrtDT4bamp4t9MC6KhroZ1Y9ygpaGG3+8/\n",
              "xobfkqBQcGmwpkUik+P9I7cwd9cfKK2UoZu1EY4F+2BgVzOho7F/wYXRwtib6uOdQY4AgC9P3sfo\n",
              "zedxL7tU4FSMVUvJK8Oob85jx4VUAMAcPzvsm9Mblm15CKo54JOwtEBBvh2hpaGGz3++iz/SijB0\n",
              "fTRm97VD8Cud+IgTJpijcZlYcfAmnkhkaKuriZCx7vDvbCp0LFYLvIfRAolEIkzztsWppX4Y1NUM\n",
              "MgVh09kHGPz174hNyhM6HmtlKqVyvHfoJt7ccx1PJDJ42bbD8UW+XBbNEBdGC2Zh2AbfTvXAlik9\n",
              "YC7WQWp+OSZtu4Qle28g/wmfFp01vAePn2DkxljsvpQGkaj6TMu7Z/WEhWEboaOxOuDCaAUGO5nj\n",
              "5JK+mNbbBiIRcPD6IwwIOYeIq+l8JBVrMIeuZ2BYWAzuZpfCRF8LO2d64e3BjtBQ57ed5op/c62E\n",
              "gY4mPhzhjIPzvNHZ3ACF5VK8sz8eE7deQvLjJ0LHYy1IeZUM70TEYfHeOJRXydHbzhjHg33h26m9\n",
              "0NHYC+LCaGW6WbfF0Td98O6rnaGjqYYLyfkYEhqNsNOJqJIphI7Hmrn7OaUYsSEWEdcyoCYCFg9w\n",
              "wK6gnjAV6wgdjdUDLoxWSFNdDXP9Xsavb/mhr0N7VMkU+PLkfQxdH40rKQVCx2PNEBFh39V0DN8Q\n",
              "g8TcJ2hvoI0fg3ph0YBOUFfj62y3FFwYrZi1sS52zPBE6Hh3GOtpITH3CcZsvoAVB2+iuEIqdDzW\n",
              "TJRJZFiyLw7L9sejUqqAbycTnFjki94vGwsdjdUzLoxWTiQSYYT7Szi91A/jPKwAAHsup+GVL8/h\n",
              "aFwmfynOnut2ZgmGhcXg0PVHUFcT4Z3Bjtgxwwsm+tpCR2MNgAuDAQCMdLXw2WhX7J3dC3bt9ZD3\n",
              "RII391zHzO1XkF5QLnQ81sQQEX68lIqRm2KRnFcGc7EOfprdCwv87aHGQ1AtFhcGq6GnnTFOLPLF\n",
              "WwM6KU+XPuir37H192TI5PylOANKK6V4c891rDx0C1UyBfp3NsXxRb7wtG0ndDTWwLgw2D9oa6jj\n",
              "rQEOOL7IF14d26FCKsfq43cwYmMs4jOKhI7HBHTrUTFeC4tBVHwWNNREeC+gM7ZN9UA7PS2ho7FG\n",
              "wIXBnsneVB8/zeqFz0a5wLCNJhIySzByYyw+PJqAJxKZ0PFYIyIibI99iMBN55GaX46XjNpg39ze\n",
              "mN33ZR6CakW4MNhzqamJMM7TGqeX+mGEewcoCAiPTcGgkHM4dTtH6HisERRXSDFv1x/44OhtVMkV\n",
              "GNTVDMeDfdHduq3Q0Vgj48JgKjHR10bo+G7YMdMLVu3aILO4EkE7r2LermvIKakUOh5rIDfSq892\n",
              "/HNCNjTVRXh/WFdsmdIDhrqaQkdjAuDCYLXi59Aev77lhzl+dlBXE+HErWwM+PIcfriQwhdrakGI\n",
              "CNuikzH6m/PIKKyAdTtdHJjnjRl9OkIk4iGo1ooLg9VaGy11rHi1C44u9IHb/y4Ju+pIAkZtPo+7\n",
              "2SVCx2MvqLCsCkE7ruKTY3cgUxACXMwRFewDV0sjoaMxgdWqMIKDg2FrawuRSIQbN24o709MTIS3\n",
              "tzccHBzg6emJhIQEwaaxxtO1gxgH53njw+FO0NfWwPW0Iry2Pgaf/3wXlVK50PFYHVxLLcDQ9dE4\n",
              "fTcXWhpq+HikMzZO7A6xDg9BMQBUC+fOnaP09HSysbGh69evK+/39/en8PBwIiKKiIggDw8Pwaap\n",
              "avHixbVehj1bZlE5zd55hWyWR5HN8ijq+/lvFH3/sdCxmIrkcgVtOpNEdiuOkc3yKOr3xRm69ahI\n",
              "6FisiRER1f7cD7a2tjh8+DDc3d2Rm5sLe3t7FBQUQENDA0QECwsLxMTEQCwWN+o0e3t7lbdhyZIl\n",
              "CAkJqe2ms3/xS0I23j+SgOz/fRH+ereX8J+hXWDMp4posvKfSLBkXxzO3X8MABjh3gGrX3eBvjZf\n",
              "wZnV9MKviPT0dFhYWEBDo3pVIpEI1tbWSEtLg6GhYaNOe1ZhSCQSSCQ1rzAnl/OQSUMY7GQO75eN\n",
              "8eWv97HjQgoOXX+EM/dy8V5AF4zpYclfmDYxF5Pzsein68gpkUBbQw0fjXDCWA8r/j2xp2oVX3qv\n",
              "XbsWhoaGNW6XL18WOlaLZaCjiQ+GO+HQ/D7oYiFGUbkUy/bHY8LWi3yxpiZCriCsP52IiVsvIqdE\n",
              "AntTfUQu9ME4T2suC/ZML1wYVlZWyMrKgkxW/Ze/RIS0tDRYW1s3+rRnWbFiBYqLi2vcvLy8XnTT\n",
              "2b9wtzJC5MI+yos1XUwuwJDQaKznizUJKre0ElO/v4SQk/ehIGBUd0tELuwDR3MDoaOxJu6FC8PU\n",
              "1BTdu3fHrl27AAAHDhyApaUl7O3tG33as2hra0MsFte4qaurv+imMxX8ebGmk4v//2JNISfvI4Av\n",
              "1iSI2KQ8BITGIDYpH2001bFujBu+HOsGXS3+voL9u1p96T1nzhwcO3YM2dnZMDY2hoGBAZKSknDv\n",
              "3j1Mnz4d+fn5EIvFCA8Ph4uLCwA0+jRV8ZfejY+IEBmXiY+jbiPvSRUAYIKXFd4d0oX/criByeQK\n",
              "rD+diLAzSSACHM0MsHFSN9ib8l4FU12djpJqCbgwhFNUXoVPT9zFT1fSAQBW7dogfLonv3k1kJyS\n",
              "Sry55zouP6zeo5vgZYX3hzlBR5P3slnttIovvVnTYqSrhU9HVV+syapdG6QXVCBw03mcf5AndLQW\n",
              "5+y9XLwaGo3LDwugp6WO0PHuWBvoymXB6oQLgwmmp50xDs/vg+7WRiiplGHa95ex/1qG0LFaBKlc\n",
              "gc9+vovp4VdQUFaFrhZiHH3TByPcXxI6GmvGuDCYoIz1tbF7Vi8MdbWAVE54OyIOIb/e42uJv4DM\n",
              "ogqM//Yivjn7AAAwpZcNDs73hl17fYGTseaOD41ggtPRVEfY+G6waaeLTWcfYP1vSUgtKMfno12h\n",
              "rcFDJ7Vx+k4OlkbEoahcCgNtDXw22hUBLhZCx2ItBBcGaxLU1ERYNqQzbIx1sfLQLRy5kYnMogps\n",
              "mcKX/1RFlUyBz3++i20xDwEArpaG2DChO6yNdQVOxloSHpJiTco4T2tsn+EFA20NXEkpROCmWDzM\n",
              "KxM6VpOWXlCOMVsuKMtiRh9bRMztzWXB6h0XBmtyfDqZ4MB8b7xk1AYp+eV4fVOs8pBQVtPPt7IR\n",
              "sD4acelFEOto4NspPfD+MCceymMNgguDNUkOZgY4tMAbbpaGKCqXYvK2Szhy45HQsZoMiUyODyIT\n",
              "MHfXNZRWytDN2gjHF/likJO50NFYC8aFwZosUwMd/DS7NwY7maFKrsCin25g/enEVn8EVUpeGUZ9\n",
              "cx7bz6cAAOb0tcO+Ob1h2ZaHoFjD4sJgTVobLXV8M6kHZve1AwCEnLyPtyPiW+3JC6PiM/FaWAxu\n",
              "PSpBW11NfD/dAysCukBTnf8rs4bHR0mxJk9NTYT3ArrAup0u3o9MwIE/MvCoqBxbJnu0mnNQVUrl\n",
              "+CjqNnZfSgMAeNq2xfoJ3WBh2EbgZKw14Y8lrNmY3MsG303zgL62Bi4mF+D1b2KRll8udKwG9+Dx\n",
              "E4zcGIvdl9IgEgEL/e2xZ1YvLgvW6LgwWLPSz9EUEXN7w8JQB8mPyzByUyyupRYKHavBHLqegWFh\n",
              "MbibXQpjPS3snOmFtwc7QoOHoJgA+FXHmp0uFmIcXtAHTh3EKCirwoStFxEVnyl0rHpVUSXHsv1x\n",
              "WLw3DuVVcvS2M8aJRb7w7dRe6GisFePCYM2SmVgH++b0xoAupqiSKbBw93VsOpvUIo6gSswpxfAN\n",
              "Mdh3NQMiEfDWgE7YFdQTpmIdoaOxVo4LgzVbetoa2DLFAzP62AIAPv/5Ht49cBNSefM8goqIsO9q\n",
              "OoZtiEFi7hO0N9DGj0E98dYAB6ir8XW2mfD4KCnWrKmrifD+MCfYtNPFR1G3sfdqOh4VVWDT5O4Q\n",
              "6zSfI6jKJDKsOnwLB69X/3GibycTfDXOHSb62gInY+z/8R4GaxGm9+mIrVM9oKuljpikPIzadB7p\n",
              "Bc3jCKo7WSUYtiEGB68/gpoIeGewI3bM8OKyYE0OFwZrMV7pYoZ9c3rDTKyNxNwneH3TecSlFwkd\n",
              "65mICLsvpWHExlgkPy6Dubj6L9sX+NtDjYegWBPEhcFaFOeXDHF4QR90sRAj74kE4769gJ9vZQsd\n",
              "6x9KK6UI/ukG3jt0E1UyBfwd2+P4Il94dWwndDTGnokLg7U4FoZtEDG3N/wd26NSqsC8H69h6+/J\n",
              "TeYIqluPijEsLAZH4zKhoSbCewGd8d00T77uB2vyuDBYi6SvrYGtUz0wpZcNiIDVx+/gP4dvQSbg\n",
              "EVREhB3nUxC46TxS8svxklEb7J3TG7P7vsxDUKxZ4KOkWIuloa6Gj0Y4wcZYF6uP38GPl9KQUViB\n",
              "DRO7waCRj6AqrpDi3QPxOPG/4bGBXc3wxWhXGOnyXgVrPngPg7VoIpEIQb522Dy5B3Q01XDu/mOM\n",
              "2XwBmUUVjZbhRnoRhq6Pxolb2dBUF+G/r3XFt1N6cFmwZocLg7UKg53MsW9Ob5joa+NudilGbozF\n",
              "rUfFDfqYRIRt0ckYs/k8MgorYNWuDfbP9cZMn44QiXgIijU/XBis1XC1NMLhBd5wMNNHbqkEY7dc\n",
              "wKnbOQ3yWEXlVZi18yo+OXYHUjkhwMUcx4J94WZl1CCPx1hj4MJgrYplW13sn+cN304mKK+SY/YP\n",
              "VxEe+7BeH+NaagECQqNx6k4utDTU8PFIZ2yc2Lz+8pyxp+HCYK2OWEcT30/3xAQvKygI+PDobXwQ\n",
              "mQC54sUOu1UoCJvPPcDYLReRWVyJjiZ6ODTfG1N62fAQFGsR+Cgp1ippqqthzesusDHWw6cn7mL7\n",
              "+RRkFJYjdHw36GnX/r9F/hMJlkbE4ey9xwCA4W4dsCbQBfp1WBdjTRXvYbBWSyQSYa7fy9g0qTu0\n",
              "NdRw6k4uxm65gJySylqt51JyPgLWR+PsvcfQ1lDDp4EuCB3vzmXBWhwuDNbqBbhYYM/sXjDW00JC\n",
              "ZglGbozF7cySf11OriCEnU7EhK0XkVMiwcvt9XBkYR+M97LmISjWInFhMAagu3VbHF7QBy+310NW\n",
              "cSXGbD6Ps/dynzn/41IJpn1/GV+evA8FAaO6W+Lomz7obC5uxNSMNa5mXRiJiYnw9vaGg4MDPD09\n",
              "kZCQIHQk1oxZtdPFwXl90NvOGGVVcryx4yp+uJj6j/nOJ+Xh1dBoxCTloY2mOtaNccOXY92gq8VD\n",
              "UKxla9aFMWfOHMyePRv379/H8uXLMX36dKEjsWbOUFcTO2Z6YXQPS8gVhFWHb2H1sdtQKAhyBSHk\n",
              "5H1M+u4S8p5I4GhmgMiFfTC6h6XQsRlrFCJqKqfwrKXc3FzY29ujoKAAGhoaICJYWFggJiYG9vb2\n",
              "/7r8kiVLEBIS0ghJWXNERNh09gG++OUeAGBQVzOUVEpxMbkAADDe0wrvD3NCGy11IWMy1qia7T50\n",
              "eno6LCwsoKFRvQkikQjW1tZIS0v7R2FIJBJIJJIa98nl8kbLypofkUiEBf72sGzbBu9ExOPX//1F\n",
              "uJ6WOtYEumCE+0sCJ2Ss8TXrISlVrV27FoaGhjVuly9fFjoWawZGuL+EH2f1hJlYG26Whjj6pg+X\n",
              "BWu1WsWQ1NP2MFatWoXQ0NDGjMyaMYWC+JoVrNVrtnsYpqam6N69O3bt2gUAOHDgACwtLZ/6/YW2\n",
              "tjbEYnGNm7o6jz0z1XFZMNaMv8MAgC1btmD69OlYs2YNxGIxwsPDhY7EGGMtVrMuDEdHR1y4cEHo\n",
              "GIwx1io02yEpxhhjjavZfun9ogIDA2Fra1vr5eRyOS5fvgwvL68m/T0I56xfnLN+cc769aI5bWxs\n",
              "sGjRon+dr9UWRl2VlJTA0NAQxcXFEIub7nmDOGf94pz1i3PWr8bKyUNSjDHGVMKFwRhjTCVcGIwx\n",
              "xlTChVFL2traeP/996GtrS10lOfinPWLc9Yvzlm/Gisnf+nNGGNMJbyHwRhjTCVcGIwxxlTChcEY\n",
              "Y0wlXBgN7Ouvv0Z2drbQMZqclJQUbN68+bnzeHh44OzZs40TSAWZmZnw9fVt9MetrKzEyJEj4eDg\n",
              "ADc3NwwcOBBJSUkAgH79+qFjx45wd3eHu7s7vvrqK+Vyc+bMgYuLC/r374/i4mIA1VcSfPXVV/Hg\n",
              "wYMGy2trawtHR0dlpr179wIAEhMT4e3tDQcHB3h6eiIhIQEAIJVKMXLkSLi5uSEwMBAymUy53X37\n",
              "9kVhYWG9Z8zPz1fmc3d3h4ODAzQ0NFBQUNAkn9Mmg1iDsrGxoevXrwsdo8k5c+YMubm5PXeeHj16\n",
              "0JkzZxolT1NWUVFBx44dI4VCQUREYWFh5OfnR0REfn5+dOjQoX8sc/PmTfL39yciog8//JDCwsKI\n",
              "iOjbb7+lzz77rEHzPus17+/vT+Hh4UREFBERQR4eHkREdPToUZoxYwYREc2YMYOOHj1KRETvvfce\n",
              "7d27t0Gz/umLL76g1157jYia5nPaVLTaPYwLFy7Ax8cHbm5ucHV1xZEjR3D16lV4e3vD1dUVXl5e\n",
              "iI2NBVD9adjIyEi57JMnTyAS/f/1EUQiEdasWQMvLy907NhReZr1jz76CJmZmRg3bhzc3d1x48aN\n",
              "WucUiURYvXo1evbsCVtbWxw+fBhr166Fh4cHOnXqVOMT+C+//AIfHx/06NEDXl5eOHPmDAAgOzsb\n",
              "/v7+6NGjB5ycnLBw4UIoFAoAwPbt2zFgwABMmDABLi4u8PDwQHJycq1zPk9FRQXGjRuHrl27ws3N\n",
              "DYMGDcLcuXNx7949uLu7Y/jw4QCA8+fPw93dHc7OzpgxY4byk2ZDU/U5/vvr4Fm/9/qmo6ODgIAA\n",
              "5WuuV69eSElJee4ympqakEgkUCgUKCsrg5aWFrKysrBnzx4sWbKkQXI+T25uLq5evYrJkycDAEaN\n",
              "GoX09HQkJSVBU1MT5eXlAIDy8nJoaWkhPj4ed+/exdixYxsl33fffYc33njjufMI8Zyq+tqUyWQY\n",
              "PHgwPDw84OTkhIkTJ6KsrAwA8OOPP8LDwwMSiQREhGHDhmH16tV1CyR0YwkhPz+fTE1N6ffffyci\n",
              "IrlcTjk5OWRlZUU///wzERFFR0eTmZkZlZaW0sOHD8nQ0FC5fGlpKf31qQNA69atIyKiO3fukL6+\n",
              "PkmlUiJ68T0MAPT1118TEdGpU6dIT09P+Slt3759yk9pDx48oF69elFxcTERESUmJpK5uTlVVlZS\n",
              "RUUFlZaWEhGRTCajoUOH0p49e4iIKDw8nMRiMSUnJxMR0fLly2n27Nl1zvs0Bw8epEGDBil/zs/P\n",
              "/8cehkQiIUtLSzp58iQREf3yyy8EoFH2MFR9jv/+Onje770hTZ48mYKDg4mo+tOwo6MjOTs709ix\n",
              "Y+nBgwfK+VauXElubm40evRoKisro3HjxtHVq1cbPJ+NjQ25uLiQs7MzzZw5k3Jzc+nq1avk4OBQ\n",
              "Yz5PT086ffo0yeVyCgoKIldXV5o9ezZJpVJ65ZVXKD09vcGzEhHFxsaSmZmZ8nfXlJ5TVV+bCoWC\n",
              "8vLylP+eO3curV27Vrme2bNn04IFC+jzzz+nIUOGKPdWa53nBbal2YqKiiJfX98a98XHx5ONjU2N\n",
              "+1xdXSk6OlqlwsjKylL+bGRkpHyx10dh/LnuoqIiAkAVFRVERJSSkqLMtXHjRjIxMSE3NzflrUOH\n",
              "DnT//n0qKyuj+fPnk6urK7m4uJCZmRktX76ciKoLY/DgwcrHO3z4ML3yyit1zvs0Dx48ICsrK5o3\n",
              "bx799NNPVFJS8o/CiIuLI1tb2xrL2dnZNVphqPIcP60wnvV7byirV6+mXr16UVlZGRERpaWlEVH1\n",
              "m0RYWBh16dLlqcsdPnyY3n77bcrLy6Pp06dTYGAg/fTTTw2SMTU1lYiIqqqqaNmyZfTqq68+tzD+\n",
              "7quvvqKwsDB6+PAhTZgwgQIDA586X32ZOXMmvfPOO8qfm9JzquprUy6X08qVK8nd3Z2cnZ3JysqK\n",
              "xo0bp1xPRUUFubq6kpWVFT1+/LjOeVrtkJQq/hwC0NDQgFwuV95fWVn5j3l1dHSU/1ZXV6/X4ZQ/\n",
              "1/3naYv/+vOfj0NEGDhwIG7cuKG8PXr0CJ06dUJISAhyc3Nx6dIlxMfHY+LEiTW2oSGzA4CdnR1u\n",
              "376NIUOGIDY2Fs7Ozip9kfnXYb+Gpspz/LzlVJn3Ra1btw4HDx7EiRMnoKurCwCwsrICUP1cLVy4\n",
              "EMnJycjPz6+xXElJCdatW4cPP/wQX3/9Nfz8/LB371589NFHqKioqPec1tbWAKqHcN566y1ER0fD\n",
              "ysoKWVlZNV6vaWlpynn/lJqaiuPHj2P+/PlYtWoVZs+eje3bt+PNN9+s95xA9fDyvn37MHPmTOV9\n",
              "Te05VeW1uXv3bvz22284d+4cbt68ibfffrvG//Hc3FwUFhZCoVCgqKiozllaZWF4e3sjMTER0dHR\n",
              "AACFQgEzMzMoFAqcPHkSQPV4enZ2Ntzd3WFubg4iwu3btwEAO3fuVPmxxGKx8miKhjR48GCcOnUK\n",
              "8fHxyvsuX74MACgsLIS5uTl0dHSQnZ2NiIiIBs/zVxkZGRCJRBg+fDjWrVsHIoKxsXGN56Vz586Q\n",
              "yWTK711OnTrVOo46UVFISAj27NmDkydPKr9HkclkyMnJUc5z4MABmJmZwdjYuMay7777Lv773/9C\n",
              "V1cXZWVlEIlEEIlEkEqlqKqqqtecZWVlNd6Q9uzZg27dusHU1BTdu3fHrl27lFktLS1hb29fY/lF\n",
              "ixbhq6++gpqamjLrn/9uCHv37oWbmxs6d+4MoGk+p6ooLCyEiYkJxGIxSktLsX37duU0mUyG8ePH\n",
              "4+OPP0ZISAjGjh0LiURSp8dp1pdorau2bdvi0KFDWLp0KUpLS6GmpoaPP/4YBw8eRHBwMJYuXQod\n",
              "HR3s378f+vr6AICwsDC89tprMDY2xujRo1V+rODgYMyaNQu6urrYvn073N3dG2Sb7O3tsXv3bsyZ\n",
              "Mwfl5eWoqqpCt27dsHv3bixatAijR4+Gk5MTOnTogAEDBjRIhme5efMmVqxYASKCTCbDlClT4O3t\n",
              "DScnJzg7O8POzg6RkZHYu3cv5s+fD7lcDk9PT7i5uTVqzqYqIyMDS5cuhZ2dHfz9/QFUnzvot99+\n",
              "w9ChQyGRSKCmpgYTExNERkbWWDY2NhYVFRUYOHAgAGDBggWYMGECPvvsM0yZMgWGhob1mjUnJwej\n",
              "Ro2CXC4HEcHOzk75AWvLli2YPn061qxZA7FY/I+DBHbv3g03Nzc4OTkBqH5TnjVrFqqqqrBq1ap6\n",
              "zfmn7777DrNmzVL+LJFImtxzqoqpU6fiyJEjcHR0RPv27eHr64vU1FQA1c+jo6Mjpk2bBgA4d+4c\n",
              "3nrrLXzzzTe1fhw+lxRjjDGVtMohKcYYY7XHhcEYY0wlXBiMMcZUwoXBGGNMJVwYjDHGVMKFwRhj\n",
              "TCVcGIwxxlTChcEYY0wlXBiMMcZUwoXBGGNMJVwYjDHGVPJ/tdND4KCtEYkAAAAASUVORK5CYII=\n",
              "\">\n",
              "        \n",
              "      </div>\n",
              "      <script></script>\n",
              "      <script type=\"text/javascript\">\n",
              "        (() => {\n",
              "          const chartElement = document.getElementById(\"chart-358f7a91-2556-4815-9631-16ae13a005f4\");\n",
              "          async function getCodeForChartHandler(event) {\n",
              "            const chartCodeResponse =  await google.colab.kernel.invokeFunction(\n",
              "                'getCodeForChart', [\"chart-358f7a91-2556-4815-9631-16ae13a005f4\"], {});\n",
              "            const responseJson = chartCodeResponse.data['application/json'];\n",
              "            await google.colab.notebook.addCell(responseJson.code, 'code');\n",
              "          }\n",
              "          chartElement.onclick = getCodeForChartHandler;\n",
              "        })();\n",
              "      </script>\n",
              "      <style>\n",
              "        .colab-quickchart-chart-with-code  {\n",
              "            display: block;\n",
              "            float: left;\n",
              "            border: 1px solid transparent;\n",
              "        }\n",
              "\n",
              "        .colab-quickchart-chart-with-code:hover {\n",
              "            cursor: pointer;\n",
              "            border: 1px solid #aaa;\n",
              "        }\n",
              "      </style>"
            ]
          },
          "metadata": {}
        },
        {
          "output_type": "display_data",
          "data": {
            "text/plain": [
              "import numpy as np\n",
              "from google.colab import autoviz\n",
              "\n",
              "def value_plot(df, y, figscale=1):\n",
              "  from matplotlib import pyplot as plt\n",
              "  df[y].plot(kind='line', figsize=(8 * figscale, 4 * figscale), title=y)\n",
              "  plt.gca().spines[['top', 'right']].set_visible(False)\n",
              "  plt.tight_layout()\n",
              "  return autoviz.MplChart.from_current_mpl_state()\n",
              "\n",
              "chart = value_plot(_df_1, *['Ano'], **{})\n",
              "chart"
            ],
            "text/html": [
              "      <div class=\"colab-quickchart-chart-with-code\" id=\"chart-c886752f-7c4c-43b7-a9d1-5f062ed4fa48\">\n",
              "        <img src=\"data:image/png;base64,iVBORw0KGgoAAAANSUhEUgAAAYwAAADECAYAAACMRRb/AAAAOXRFWHRTb2Z0d2FyZQBNYXRwbG90\n",
              "bGliIHZlcnNpb24zLjcuMSwgaHR0cHM6Ly9tYXRwbG90bGliLm9yZy/bCgiHAAAACXBIWXMAAA9h\n",
              "AAAPYQGoP6dpAAAdVUlEQVR4nO3de1SUBd4H8O9cEEIFDeVi3EQuJpeZFIglzcVLalq51qq5Xcw1\n",
              "asu1snbR7bh7usnW+mIe3+12Tge3Yxq5mqWZiUlm5hv6viqupiKKoHJRREAuw1x+7x/I5ORtgJl5\n",
              "ZuD7Oec5Ds9tfvMw8p3n9zzzPCoRERAREd2EWukCiIjIMzAwiIjILgwMIiKyCwODiIjswsAgIiK7\n",
              "MDCIiMguDAwiIrILA4OIiOzCwCAiIrswMIiIyC4MDCInyM3NhUqlwsKFC5UuhchhVLyWFJHjpaSk\n",
              "4OTJk1Cr1SgvL4e3t7fSJRF1GfcwiBxsz5492Lt3L1atWoW6ujqsXbvWOm327NmYOXMm5s2bh4CA\n",
              "AAQFBWHx4sU2y+/evRujRo1C//79MXjwYCxcuBAGg8HVL4PoKgwMIgd75513oNfrMXHiRPzmN7/B\n",
              "O++8YzP9s88+w8iRI1FdXY0NGzbg73//OwoKCgAAZWVlGDduHB588EFUVVVh69at2LhxI7KyspR4\n",
              "KUQ2GBhEDlRbW4u8vDxkZmYCADIzM7F7924cOHDAOs9dd92FmTNnQqPR4Fe/+hX0ej0KCwsBAB9/\n",
              "/DFiY2Px/PPPo1evXoiJicHrr7+ODz74AOwek9IYGEQO1H6w+3e/+x0AICMjA9HR0TZ7GYMGDbJZ\n",
              "pnfv3mhoaAAAlJeXY8iQITbTo6Oj0dzcjHPnzjm5eqIbY2AQOYiI4L333kNraytiY2MRHByMkJAQ\n",
              "nD59Gh9//DHq6+tvuo6wsDCcOHHCZlxJSQluueUWDBw40FmlE9mFgUHkIPn5+SguLsbWrVuxf/9+\n",
              "61BUVAQA+Ne//nXTdcyaNQtHjx7FihUr0NraipKSEixevBhz586FSqVy9ksguiEGBpGDvPvuuxg3\n",
              "bhwyMjIQHBxsHWJiYjB37ly8++67N11HREQEtm7diry8PAQGBmLMmDGYNGkS3nrrLRe8AqIb4/cw\n",
              "iIjILtzDICIiuzAwiIjILgwMIiKyCwODiIjswsAgIiK7MDCIiMguDAwiIrJLjw2M5cuXK10CEZFH\n",
              "6bGBcerUKaVLICLyKD02MIiIqGMYGEREZBcGBhER2YWB0QFlNU1459vj+J8TNUqXQkTkch0OjHvu\n",
              "uQdJSUnQ6/UYNWoU9u3bBwAoLi5Geno6YmNjkZKSgkOHDlmXcfU0Z/nX7lK8teUo1hSWOf25iIjc\n",
              "jnRQbW2t9fH69eslKSlJREQyMjIkNzdXRETWrl0rycnJ1vlcPc0eL7zwQofmFxH531MXJCJrkwxb\n",
              "/JU0t5o6vDwRkSfrcGBcKTc3V3Q6nVRVVUnfvn3FaDSKiIjFYpGgoCApLi52+TR7dSYwLBaLpGd/\n",
              "IxFZm+Srg2c7vDwRkSfTdmav5LHHHkNBQQEAYPPmzSgvL0dISAi02rbVqVQqhIeHo6ysDP7+/i6d\n",
              "Fh0dfVW9BoMBBoPBZpzZbO7w61apVJicFIIPvjuBTUUVmJgQ0uF1EBF5qk4d9P7oo49QXl6O119/\n",
              "HVlZWY6uyeGys7Ph7+9vMxQWFnZqXVOS2kLim5+q0dRqcmSZRERurUtnST3++OMoKChAaGgoKioq\n",
              "YDK1/QEVEZSVlSE8PBxhYWEunXYtixYtQl1dnc2QmpraqdeceJs/wm/1RbPRjIIj5zq1DiIiT9Sh\n",
              "wLh48SLOnj1r/XnDhg0ICAhAYGAghg8fjlWrVgEA1q1bh9DQUERHR7t82rV4e3vDz8/PZtBoNB3c\n",
              "VG3a21IAsKno7E3mJiLqRjpywKO0tFRSUlIkISFBkpKSZOzYsbJv3z4RETly5IikpaVJTEyMjBgx\n",
              "QoqKiqzLuXqaPTpz0LvdwdMXJSJrk8S+vFkutRg7vR4iIk+iEhFROrSUsGDBAuTk5HRqWRHBmP/a\n",
              "gZPnG7F8ph4P6G9zcHVERO6H3/TuBJVKhcmJbW2pL4sqFK6GiMg1GBidNEXXFhjfHjuHhhajwtUQ\n",
              "ETkfA6OT4oL6YsjA3mg1WbDtpyqlyyEicjoGRiepVCpMSRoEANh0gG0pIur+GBhd0P4lvu+Kz6Gu\n",
              "mW0pIureGBhdEBPUF3FBfWE0C7YeqlS6HCIip2JgdFH7l/i+PMi2FBF1bwyMLmoPjO+Lz6O2sVXh\n",
              "aoiInIeB0UVDBvbB7SF+MFkEWw+zLUVE3RcDwwGmWK8txbYUEXVfDAwHaA+MH0pqUHPJcJO5iYg8\n",
              "EwPDASICeiPxNn+YLYItPFuKiLopBoaDWM+WYluKiLopBoaDtF+M8H9O1OBcA9tSRNT9MDAcJOxW\n",
              "X+jC+sEiwJb/cC+DiLofBoYD3Xe5LbWRbSki6oYYGA507+W21J7SC6iqb1G4GiIix2JgONCgfrdg\n",
              "RER/iACbeakQIupmGBgOxjvxEVF3xcBwsHsTQ6BSAXtP1eLsxWalyyEichgGhoMF+/sgJeJWAGxL\n",
              "EVH3wsBwgvb7ffPaUkTUnTAwnGBiQjDUKmB/+UWUX2hSuhwiIodgYDhBYF8f3Dk4AADbUkTUfTAw\n",
              "nIR34iOi7oaB4SSTLrelik7X4VRNo9LlEBF1GQPDSQL6eCN9yAAA3Msgou6BgeFE1jvxHWBgEJHn\n",
              "Y2A40YT4YGjVKhyuqMeJc5eULoeIqEsYGE7Uv3cv3BV9uS3F72QQkYdjYDgZz5Yiou6CgeFkE4YF\n",
              "w0ujwpHKBhyvblC6HCKiTutQYLS0tGDq1KmIjY2FTqfD+PHjcfz4cQBAdXU1Jk6ciJiYGCQkJOC7\n",
              "776zLufqae7E39cLo2IGAuClQojIs3V4DyMzMxNHjx7FgQMH8MADD2Du3LkAgIULFyItLQ3FxcXI\n",
              "zc3FrFmzYDQaFZnmbqxnSxVVQEQUroaIqJOkC/bs2SMREREiItK7d2+pqKiwTktJSZH8/HxFptnj\n",
              "hRdesHverqprbpWYv2yWiKxNcqSi3mXPS0TkSF06hrF8+XI88MADqKmpgdFoRHBwsHVaZGQkysrK\n",
              "XD7tWgwGA+rr620Gs9nclZfeIX4+Xhgd196WOuuy5yUicqROB8aSJUtw/PhxZGdnO7Iep8jOzoa/\n",
              "v7/NUFhY6NIa2ttSX7ItRUQeqlOBsXTpUqxfvx5fffUVfH19ERAQAK1Wi8rKSus8paWlCA8Pd/m0\n",
              "a1m0aBHq6upshtTU1M689E4be3sQvLVqnDjfiMMV9S59biIiR+hwYOTk5GDNmjXIz89Hv379rON/\n",
              "+9vf4r333gMA7NmzB2fOnMHo0aMVmfZL3t7e8PPzsxk0Gk1HX3qX9PHWIiMuEAC/xEdEHqojBzzK\n",
              "y8sFgERFRYlOpxOdTiepqakiIlJZWSnjx4+X6OhoGTZsmGzfvt26nKun2cOVB73bbTxwRiKyNsmo\n",
              "N7eLxWJx+fMTEXWFSqRnNtQXLFiAnJwclz5nU6sJI17bhmajGRvnjURiqL9Ln5+IqCv4TW8X8u2l\n",
              "xZjb29pSPFuKiDwNA8PFpiTyS3xE5JkYGC6WMTQQvr00OHOxGfvLLypdDhGR3RgYLubjpcG424MA\n",
              "8GwpIvIsDAwFTLnikucWC9tSROQZGBgKuDt2IPp6a1FR14J95bVKl0NEZBcGhgJ8vDQYP6ytLbWR\n",
              "9/smIg/BwFBI+534NrMtRUQegoGhkFExA9HXR4vqBgP2lF5QuhwioptiYCikl1aNCfFtl2fn/b6J\n",
              "yBMwMBQ0xdqWqoSZbSkicnMMDAXdFT0A/Xy9cP6SAT+erFG6HCKiG2JgKMhLo8bEy22pTfwSHxG5\n",
              "OQaGwtrPltryn0qYzBaFqyEiuj4GhsJ+FRWAW3v3woXGVuw+wbYUEbkvBobCtBo1JiZcbkvxS3xE\n",
              "5MYYGG6g/WypLYcqYWRbiojcFAPDDdw5OAAD+nijrtmI74+fV7ocIqJrYmC4AY1ahXsTL3+Jj2dL\n",
              "EZGbYmC4icmX78T39aFKGExmhashIroaA8NNpETeisC+3mhoMeH7YraliMj9MDDchFqtwr1X3O+b\n",
              "iMjdMDDcyH26tsDIP1yFFiPbUkTkXhgYbuSOsP4I8ffBJYMJO46dU7ocIiIbDAw3olarrAe/ebYU\n",
              "EbkbBoabab+21LafqtDcyrYUEbkPBoab0Yf1w239bkFTqxnfHq1WuhwiIisGhptRqVTWS4XwbCki\n",
              "cicMDDc0JWkQAOCbI1VoajUpXA0RURsGhhtKuM0P4bf6osVowTc/sS1FRO6BgeGGrmxL8WwpInIX\n",
              "HQqM+fPnIzIyEiqVCvv377eOLy4uRnp6OmJjY5GSkoJDhw4pNq27aG9LFRytxiUD21JE5AakA3bs\n",
              "2CHl5eUSEREh+/bts47PyMiQ3NxcERFZu3atJCcnKzbNXi+88EKHl3Eli8UiGf8okIisTbJh32ml\n",
              "yyEikg4FRrsrA6Oqqkr69u0rRqNRRNr+0AUFBUlxcbHLp3WEuweGiMh/fX1EIrI2ye9X7lG6FCIi\n",
              "6fIxjPLycoSEhECr1QJo67+Hh4ejrKzM5dOux2AwoL6+3mYwm93/S3GTL7elvjt2DvUtRoWrIaKe\n",
              "rkcc9M7Ozoa/v7/NUFhYqHRZNxUX3BcxgX3QarYg/1CV0uUQUQ/X5cAICwtDRUUFTKa2A7MigrKy\n",
              "MoSHh7t82vUsWrQIdXV1NkNqampXX7pLtF8q5MuDPFuKiJTV5cAIDAzE8OHDsWrVKgDAunXrEBoa\n",
              "iujoaJdPux5vb2/4+fnZDBqNpqsv3SXaT6/dWXwOdU1sSxGRgjpywCMzM1Nuu+020Wg0EhgYKEOG\n",
              "DBERkSNHjkhaWprExMTIiBEjpKioyLqMq6fZyxMOerebsGyHRGRtkrw9ZUqXQkQ9mEpEROnQUsKC\n",
              "BQuQk5OjdBl2+e/txVi69Rjujh2Ij+Z4RiuNiLqfHnHQ29O1ny216/h51Da2KlwNEfVUDAwPMHhA\n",
              "b8QP8oPZIthyqFLpcoioh2JgeIjJvLYUESmMgeEhpiS2taV+KDmP85cMCldDRD0RA8NDhAf4IinU\n",
              "HxYBtvyHbSkicj0Ghgf5+U58ZxWuhIh6IgaGB7k3sS0wfjx5AdUNLQpXQ0Q9DQPDg4T298Ud4f0g\n",
              "Anx1kG0pInItBoaHmZzIs6WISBkMDA/TfnrtnlMXUFnHthQRuQ4Dw8OE+N+C5Ij+EAE28wq2RORC\n",
              "DAwPxLOliEgJDAwPNCkxBCoV8H9lF3HmYrPS5RBRD8HA8EBBfj5IjbwVALCZB7+JyEUYGB7K2pbi\n",
              "cQwichEGhoeamBACtQo4UH4R5RealC6HiHoABoaHGtjXG2lRAQB4v28icg0GhgebcvnGSjxbiohc\n",
              "gYHhwSYmBEOjVuE/Z+pRer5R6XKIqJtjYHiwW3v3QvoQtqWIyDUYGB7u5y/xMTCIyLkYGB5uQnww\n",
              "tGoVfqqoR8m5S0qXQ0TdGAPDw/Xz7YWRMQMA8Aq2RORcDIxugGdLEZErMDC6gfHDgtBLo8axqks4\n",
              "VtWgdDlE1E0xMLoB/1u8cHdsW1uKB7+JyFkYGN1E+42Vviw6CxFRuBoi6o4YGN3EuNuD0EurRsm5\n",
              "RhypZFuKiByPgdFN9PXxwq9jBwLg2VJE5BwMjG5kiu7ns6XYliIiR2NgdCNjhwbCx0uN0pomHDpb\n",
              "r3Q5RNTNMDC6kd7eWowZGgiAZ0sRkeN5dGAUFxcjPT0dsbGxSElJwaFDh5QuSXGTE9vaUl8eZFuK\n",
              "iBzLowPjqaeeQmZmJo4dO4asrCzMnj1b6ZIUN2ZoIG7x0qD8QjOKTtcpXQ4RdSMq8dCPodXV1YiO\n",
              "jsaFCxeg1WohIggJCcH333+P6Ojomy6/YMEC5OTkuKBS15u3+v+wqagCA/t641bfXtBqVNBq1PBS\n",
              "q6DVqOClUUOrvjxOo4JWrW4b3/7v9aZffux1eX1a9eV5fzHe6/Kytuu8cj226zdbBCazwGixwGS2\n",
              "fWw0W2CyCEzWf6+czwJj+7TrLGM0C0zW8W2Pjeaf12e8vKx1/FXTf37sof9VqAd5fWqi9dpyzqB1\n",
              "2pqdrLy8HCEhIdBq216CSqVCeHg4ysrKrgoMg8EAg8FgM85sNrusVlebnhyGTUUVONdgwLkGw80X\n",
              "IKJuoanV5NT1e2xgdER2djZeeeUVm3FpaWkKVeN8d8cOxLYFo1FzyXCTT9HX/8R9/U/x1/rkbvuJ\n",
              "3ni9T+9XrMtynQ/r19oT+Xkv5hp7NNedt32P5+Z7P1eOv9YeVfv61SrX/h6JOmrIwD5OXX+PaEld\n",
              "aw9j8eLFWL58uStLpitYLD+HkkbdFgYatQoqFf8qE7krjz3oHRgYiOHDh2PVqlUAgHXr1iE0NPSa\n",
              "xy+8vb3h5+dnM2g0GleXTFdQq1Xw1mrQ21sLHy8NtBo1w4LIzXl0S+r999/H7NmzsWTJEvj5+SE3\n",
              "N1fpkoiIui2PDoy4uDjs3r1b6TKIiHoEj21JERGRa3nsQe+umjZtGiIjIzu8nNlsRmFhIVJTU936\n",
              "OAjrdCzW6Vis07G6WmdERASee+65m87XYwOjs+rr6+Hv74+6ujr4+fkpXc51sU7HYp2OxTody1V1\n",
              "siVFRER2YWAQEZFdGBhERGQXBkYHeXt7429/+xu8vb2VLuWGWKdjsU7HYp2O5ao6edCbiIjswj0M\n",
              "IiKyCwODiIjswsAgIiK7MDCc7O2330ZlZaXSZbid0tJSvPfeezecJzk5Gd9++61rCrLD2bNnMWrU\n",
              "KJc/b0tLC6ZOnYrY2FjodDqMHz8ex48fBwD8+te/xuDBg6HX66HX67Fs2TLrck899RQSExMxZswY\n",
              "1NW13a5XRDBp0iSUlJQ4rd7IyEjExcVZa8rLywMAFBcXIz09HbGxsUhJScGhQ4cAAEajEVOnToVO\n",
              "p8O0adNgMpmsr/vuu+9GbW2tw2usqamx1qfX6xEbGwutVosLFy645TZ1G0JOFRERIfv27VO6DLdT\n",
              "UFAgOp3uhvOMGDFCCgoKXFKPO2tubpYvv/xSLBaLiIisWLFCRo8eLSIio0ePls8+++yqZQ4ePCgZ\n",
              "GRkiIvLKK6/IihUrRETkgw8+kDfffNOp9V7vPZ+RkSG5ubkiIrJ27VpJTk4WEZGNGzfKE088ISIi\n",
              "TzzxhGzcuFFERP7yl79IXl6eU2tt949//EOmTJkiIu65Td1Fj93D2L17N0aOHAmdToekpCR8/vnn\n",
              "2Lt3L9LT05GUlITU1FTs2rULQNun4X79+lmXvXTpks29G1QqFZYsWYLU1FQMHjzYepn1V199FWfP\n",
              "nsWMGTOg1+uxf//+DtepUqnwxhtv4M4770RkZCQ2bNiA7OxsJCcnIyYmxuYT+Ndff42RI0dixIgR\n",
              "SE1NRUFBAQCgsrISGRkZGDFiBOLj4zFv3jxYLBYAwMqVKzFu3Dg8/PDDSExMRHJyMk6cONHhOm+k\n",
              "ubkZM2bMwLBhw6DT6XDPPffg6aefxtGjR6HX63H//fcDAH744Qfo9XokJCTgiSeesH7SdDZ7t/Ev\n",
              "3wfX+707mo+PD+69917rey4tLQ2lpaU3XMbLywsGgwEWiwWNjY3o1asXKioqsGbNGixYsMApdd5I\n",
              "dXU19u7di0ceeQQA8OCDD6K8vBzHjx+Hl5cXmpqaAABNTU3o1asXioqKcOTIEUyfPt0l9X344Yf4\n",
              "/e9/f8N5lNim9r43TSYTJkyYgOTkZMTHx2PWrFlobGwEAHz88cdITk6GwWCAiOC+++7DG2+80bmC\n",
              "lE4sJdTU1EhgYKB89913IiJiNpulqqpKwsLCZMuWLSIisnPnTgkKCpKGhgY5efKk+Pv7W5dvaGiQ\n",
              "KzcdAFm6dKmIiPz000/Sp08fMRqNItL1PQwA8vbbb4uIyLZt26R3797WT2mffvqp9VNaSUmJpKWl\n",
              "SV1dnYiIFBcXS3BwsLS0tEhzc7M0NDSIiIjJZJLJkyfLmjVrREQkNzdX/Pz85MSJEyIikpWVJZmZ\n",
              "mZ2u91rWr18v99xzj/Xnmpqaq/YwDAaDhIaGSn5+voiIfP311wLAJXsY9m7jX74PbvR7d6ZHHnlE\n",
              "5s+fLyJtn4bj4uIkISFBpk+fLiUlJdb5Xn75ZdHpdPLQQw9JY2OjzJgxQ/bu3ev0+iIiIiQxMVES\n",
              "EhJkzpw5Ul1dLXv37pXY2Fib+VJSUuSbb74Rs9ksc+fOlaSkJMnMzBSj0Shjx46V8vJyp9cqIrJr\n",
              "1y4JCgqy/u7caZva+960WCxy/vx56+Onn35asrOzrevJzMyUZ599Vt566y2ZOHGidW+1w/V04bV4\n",
              "rE2bNsmoUaNsxhUVFUlERITNuKSkJNm5c6ddgVFRUWH9uV+/ftY3uyMCo33dFy9eFADS3NwsIiKl\n",
              "paXWuv75z3/KgAEDRKfTWYdBgwbJsWPHpLGxUZ555hlJSkqSxMRECQoKkqysLBFpC4wJEyZYn2/D\n",
              "hg0yduzYTtd7LSUlJRIWFiZ/+MMf5JNPPpH6+vqrAuPAgQMSGRlps1xUVJTLAsOebXytwLje791Z\n",
              "3njjDUlLS5PGxkYRESkrKxORtj8SK1askNtvv/2ay23YsEFeeuklOX/+vMyePVumTZsmn3zyiVNq\n",
              "PHXqlIiItLa2yp///GeZNGnSDQPjl5YtWyYrVqyQkydPysMPPyzTpk275nyOMmfOHPnTn/5k/dmd\n",
              "tqm9702z2Swvv/yy6PV6SUhIkLCwMJkxY4Z1Pc3NzZKUlCRhYWFy7ty5TtfTY1tS9mhvAWi1WpjN\n",
              "Zuv4lpaWq+b18fGxPtZoNA5tp7Svu/2yxVf+3P48IoLx48dj//791uHMmTOIiYlBTk4Oqqur8eOP\n",
              "P6KoqAizZs2yeQ3OrB0AoqKicPjwYUycOBG7du1CQkKCXQcyXXnLVnu28Y2Ws2ferlq6dCnWr1+P\n",
              "r776Cr6+vgCAsLAwAG3bat68eThx4gRqampslquvr8fSpUvxyiuv4O2338bo0aORl5eHV199Fc3N\n",
              "zQ6vMzw8HEBbC+f555/Hzp07ERYWhoqKCpv3a1lZmXXedqdOncLmzZvxzDPPYPHixcjMzMTKlSvx\n",
              "xz/+0eF1Am3t5U8//RRz5syxjnO3bWrPe3P16tXYvn07duzYgYMHD+Kll16y+T9eXV2N2tpaWCwW\n",
              "XLx4sdO19MjASE9PR3FxMXbu3AkAsFgsCAoKgsViQX5+PoC2fnplZSX0ej2Cg4MhIjh8+DAA4KOP\n",
              "PrL7ufz8/KxnUzjThAkTsG3bNhQVFVnHFRYWAgBqa2sRHBwMHx8fVFZWYu3atU6v50qnT5+GSqXC\n",
              "/fffj6VLl0JEEBAQYLNdhg4dCpPJZD3usm3btp5x1omdcnJysGbNGuTn51uPo5hMJlRVVVnnWbdu\n",
              "HYKCghAQEGCz7MKFC/HXv/4Vvr6+aGxshEqlgkqlgtFoRGtrq0PrbGxstPmDtGbNGtxxxx0IDAzE\n",
              "8OHDsWrVKmutoaGhiI6Otln+ueeew7Jly6BWq621tj92hry8POh0OgwdOhSAe25Te9TW1mLAgAHw\n",
              "8/NDQ0MDVq5caZ1mMpkwc+ZMvPbaa8jJycH06dNhMBg69TwefYvWzurfvz8+++wzvPjii2hoaIBa\n",
              "rcZrr72G9evXY/78+XjxxRfh4+ODf//73+jTpw8AYMWKFZgyZQoCAgLw0EMP2f1c8+fPx5NPPglf\n",
              "X1+sXLkSer3eKa8pOjoaq1evxlNPPYWmpia0trbijjvuwOrVq/Hcc8/hoYceQnx8PAYNGoRx48Y5\n",
              "pYbrOXjwIBYtWgQRgclkwqOPPor09HTEx8cjISEBUVFR+OKLL5CXl4dnnnkGZrMZKSkp0Ol0Lq3T\n",
              "XZ0+fRovvvgioqKikJGRAaDt2kHbt2/H5MmTYTAYoFarMWDAAHzxxRc2y+7atQvNzc0YP348AODZ\n",
              "Z5/Fww8/jDfffBOPPvoo/P39HVprVVUVHnzwQZjNZogIoqKirB+w3n//fcyePRtLliyBn5/fVScJ\n",
              "rF69GjqdDvHx8QDa/ig/+eSTaG1txeLFix1aZ7sPP/wQTz75pPVng8HgdtvUHo899hg+//xzxMXF\n",
              "YeDAgRg1ahROnToFoG07xsXF4fHHHwcA7NixA88//zzefffdDj8PryVFRER26ZEtKSIi6jgGBhER\n",
              "2YWBQUREdmFgEBGRXRgYRERkFwYGERHZhYFBRER2YWAQEZFdGBhERGQXBgYREdmFgUFERHb5fxyL\n",
              "QfvGHY+1AAAAAElFTkSuQmCC\n",
              "\">\n",
              "        \n",
              "      </div>\n",
              "      <script></script>\n",
              "      <script type=\"text/javascript\">\n",
              "        (() => {\n",
              "          const chartElement = document.getElementById(\"chart-c886752f-7c4c-43b7-a9d1-5f062ed4fa48\");\n",
              "          async function getCodeForChartHandler(event) {\n",
              "            const chartCodeResponse =  await google.colab.kernel.invokeFunction(\n",
              "                'getCodeForChart', [\"chart-c886752f-7c4c-43b7-a9d1-5f062ed4fa48\"], {});\n",
              "            const responseJson = chartCodeResponse.data['application/json'];\n",
              "            await google.colab.notebook.addCell(responseJson.code, 'code');\n",
              "          }\n",
              "          chartElement.onclick = getCodeForChartHandler;\n",
              "        })();\n",
              "      </script>\n",
              "      <style>\n",
              "        .colab-quickchart-chart-with-code  {\n",
              "            display: block;\n",
              "            float: left;\n",
              "            border: 1px solid transparent;\n",
              "        }\n",
              "\n",
              "        .colab-quickchart-chart-with-code:hover {\n",
              "            cursor: pointer;\n",
              "            border: 1px solid #aaa;\n",
              "        }\n",
              "      </style>"
            ]
          },
          "metadata": {}
        },
        {
          "output_type": "display_data",
          "data": {
            "text/plain": [
              "import numpy as np\n",
              "from google.colab import autoviz\n",
              "\n",
              "def value_plot(df, y, figscale=1):\n",
              "  from matplotlib import pyplot as plt\n",
              "  df[y].plot(kind='line', figsize=(8 * figscale, 4 * figscale), title=y)\n",
              "  plt.gca().spines[['top', 'right']].set_visible(False)\n",
              "  plt.tight_layout()\n",
              "  return autoviz.MplChart.from_current_mpl_state()\n",
              "\n",
              "chart = value_plot(_df_2, *['Ano de Frequência'], **{})\n",
              "chart"
            ],
            "text/html": [
              "      <div class=\"colab-quickchart-chart-with-code\" id=\"chart-7deaebce-335c-41ae-92c7-6d755c9cb91c\">\n",
              "        <img src=\"data:image/png;base64,iVBORw0KGgoAAAANSUhEUgAAAYwAAADECAYAAACMRRb/AAAAOXRFWHRTb2Z0d2FyZQBNYXRwbG90\n",
              "bGliIHZlcnNpb24zLjcuMSwgaHR0cHM6Ly9tYXRwbG90bGliLm9yZy/bCgiHAAAACXBIWXMAAA9h\n",
              "AAAPYQGoP6dpAAAiA0lEQVR4nO3de1hUBf4/8PdwEeRuIKByUxFMgSEFYtnMyHtauZqalwILrTXT\n",
              "0jZ1/VlbmWxpWOtT6X63sNY0czUr0wovqall7GqghgKKoHJRQECEgZn5/P5AJie1BpgrvF/Pc57H\n",
              "OdfPOYy8OZ9z5oxCRARERES/w87SBRARkW1gYBARkUEYGEREZBAGBhERGYSBQUREBmFgEBGRQRgY\n",
              "RERkEAYGEREZhIFBREQGYWAQ3URAQADWrl1r6TJMYvv27fDz88Py5cuNut79+/fDzc0NGo3GqOsl\n",
              "68HAIKuTnp4OhUKBhQsXWrqUVktOToajoyPc3Nx0Q0hIiKXLQn5+PpYvX46cnBwcPHgQu3fvNtq6\n",
              "Bw0ahCtXrsDe3t5o6yTrouCzpMjaxMbG4syZM7Czs0NRURGcnJzMXkNAQACWLl2K5OTkVi2fnJwM\n",
              "tVqNdevW/e68jY2NcHR0bNV2iMyJZxhkVX788UdkZmZi3bp1qKqqwqZNm/SmJycn4+GHH8bs2bPh\n",
              "7e0NPz8/LFmyRG+eQ4cOYdCgQejSpQt69uyJhQsXQqVS3XKbV65cweOPPw5vb2/06NEDb7311g3z\n",
              "5OTkYMyYMfDz80OPHj0wa9Ys1NbWtmofFQoFVq5ciYSEBLi6umLz5s3QaDR44403cPvtt8PT0xMD\n",
              "Bw7Erl279JZbvnw5goKC4OXlhZSUFEycOFEv0BQKBXbu3Kl7XVBQAIVCgby8PN247du3484770SX\n",
              "Ll3Qp08f/OMf/7hh/g8++ABKpRLu7u6Ij4/HiRMndPOo1WqkpaWhX79+cHd3R0BAAF577TUAwLff\n",
              "fguFQgG1Wq17nZCQAG9vb3Tp0gX33nsvjh492qpjRlZCiKxIcnKyREdHi4jIpEmT5A9/+IPe9KSk\n",
              "JOnUqZNs2LBB1Gq1HDx4UBwcHGT37t0iInL27FlxcXGRlStXikqlklOnTkm/fv1k7ty5t9zmjBkz\n",
              "5I477pCioiK5cuWKJCcni729vaSnp4uIyMWLF8XHx0fS0tKkvr5eLl68KEOGDJGUlJRbrjMpKUmm\n",
              "Tp1602kAJDw8XI4fPy5arVauXr0qL774oiiVSsnJyRGNRiNbtmwRFxcXycvLExGRjz76SLy8vOTA\n",
              "gQPS0NAga9asEQcHB0lKStJbb0ZGhu71mTNnBIDk5uaKiMju3bvF09NTdu7cKRqNRrKzsyUgIEDW\n",
              "rVunN/+QIUPkwoULUldXJ+PHj5e7775bt87FixdL79695YcffhCNRiPl5eVy8OBBERHZs2ePAJDG\n",
              "xkYREfnuu+/kwIEDolKppLq6WmbMmCFBQUGiUqluedzIujEwyGpUVFRI586d5Z133hERkV27dgkA\n",
              "OXr0qG6epKQkSUxM1FsuJiZG/v73v4uIyLJly3SB02zLli3SuXNn0Wq1N2xTo9GIk5OTfP7557px\n",
              "ly9fFoVCoQuMN954Q+Lj4/WW++6776RTp06iVqtvui9JSUni6Ogonp6eumHp0qUi0vSLffXq1Xrz\n",
              "e3h4yFdffaU3bujQofLKK6/o/j1v3jy96QMGDGhRYNx///2ycOFCvXUsXbpUhgwZojf/3r17ddO3\n",
              "bdsmnTt3FhERrVYrbm5usmnTppvu868D49cqKioEgGRlZd10Olk/B8uc1xDdqPli99SpUwEAiYmJ\n",
              "CA0NxTvvvIM1a9bo5uvevbvecq6urqipqQEAFBUVoXfv3nrTQ0NDUVdXh4sXL8LX11dv2sWLF6FS\n",
              "qdCzZ0/dOE9PT9x2222617m5ufjvf/8LLy8v3TgRgUKhQElJCXr06HHT/Zk4ceItr2Fcv73S0lJU\n",
              "V1djwoQJsLP7pUvc2NiI0NBQAMC5c+fw4IMP3nIdhsjNzcXOnTvx7rvv6sZpNBoEBQXpzXf98XV1\n",
              "dUVdXR3UajUqKytx5coVhIeHG7S9rKwsLF68GP/73/9QU1Oj27eysrIW1U3Wg9cwyCqICFavXo2G\n",
              "hgaEhYXB398f3bp1w7lz5/DRRx+hurraoPUEBgbi9OnTeuPy8/PRuXNndO3a9Yb5u3btCicnJxQU\n",
              "FOjGVVVVobKyUvfa398fd911Fy5fvqwbqqqqUF9ff8uw+D3XB4OXlxecnZ2xbds2vW3U1tbqfrkH\n",
              "BATo1Qjghtdubm5611UuXLigN93f3x8LFy7U20ZNTQ2OHz9uUM0+Pj5wc3PDqVOnDJp/woQJ6N27\n",
              "N44dO4bq6mqcOXMGQNPPmmwTA4OsQkZGBnJzc/HNN9/g6NGjuiErKwsA8MEHHxi0nilTpuDkyZNY\n",
              "tWoVGhoakJ+fjyVLliAlJQUKheKG+e3s7DBt2jT87W9/w/nz51FbW4v58+frzTt9+nQcOXIE77zz\n",
              "Dq5evQoRQVFREbZu3WqUfXdycsKTTz6J559/Hj///DNEBHV1ddi3b5/ul3NSUhLef/99fP/991Cr\n",
              "1fjXv/6Fn376SW89MTExWLt2Lerr61FaWoqXXnpJb/rcuXOxatUq7Nq1C2q1Gmq1GseOHcO+ffsM\n",
              "qlOhUODpp5/GokWLkJmZCRFBRUUFDh06dNP5q6qq4OHhAU9PT1RUVGD+/PmtODpkTRgYZBXeffdd\n",
              "DB06FImJifD399cNffr0QUpKil4b5bcEBwfjm2++wcaNG+Hr64t7770Xo0aNwuuvv37LZVauXInI\n",
              "yEhERkYiLCwMkZGR8Pf3100PCgrCoUOHkJGRgd69e8PLywsjRoxAdnZ2m/e72YoVKzB58mRMmDAB\n",
              "Xl5eCAkJQWpqKhobGwEAU6dOxfPPP48JEybAx8cH33//Pf70pz/prePtt99GSUkJfHx8MGzYMDzy\n",
              "yCN608eOHYt///vfeOGFF+Dr6wtfX1+kpKTg0qVLBtf58ssvIyUlBVOnToW7uzuioqKwf//+m877\n",
              "/vvvY9OmTbq7rUaNGtXCo0LWhp/DILJR06ZNg4ODQ7v9RDpZH55hEBGRQRgYRERkELakiIjIIDzD\n",
              "ICIigzAwiIjIIAwMIiIyCAODiIgM0mED42aPsCYiolvrsIFx9uxZS5dARGRTOmxgEBFRyzAwiIjI\n",
              "IAwMIiIyCAOjBQrLr+Kdb/NwKL/c0qUQEZldiwNj+PDhiIqKQnR0NAYNGoQjR44AaPo2r4SEBISF\n",
              "hSE2NlbvS1nMPc1UPjhUgNe/OomPfyw0+baIiKxOS7/TtbKyUvfvLVu2SFRUlIiIJCYm6r4DedOm\n",
              "TRITE6Obz9zTDPHss8+2aH4Rkf+erZDgBduk35IdUtdw8+9yJiJqr1ocGNdLT08XpVIppaWl4u7u\n",
              "rvvyd61WK35+fpKbm2v2aYZqTWBotVpJSN0lwQu2yY7s4hYvT0Rkyxxac1by6KOPYs+ePQCA7du3\n",
              "o6ioCN26dYODQ9PqFAoFgoKCUFhYCE9PT7NOCw0NvaFelUoFlUqlN06j0bR4vxUKBe6L9Mf/7T+D\n",
              "L7OLMTLC//cXIiJqJ1p10fvDDz9EUVERli5digULFhi7JqNLTU2Fp6en3nD48OFWrWt0VHcAwK6f\n",
              "S1HX0PLQISKyVW26SyopKQl79uxBQEAAiouLoVarAQAigsLCQgQFBSEwMNCs025m0aJFqKqq0hvi\n",
              "4uJatc/KAE/08OqMqw0afHuyrFXrICKyRS0KjMuXL+PChQu611u3boW3tzd8fX0xYMAArFu3DgCw\n",
              "efNmBAQEIDQ01OzTbsbJyQkeHh56g729fQsPVROFQoHRUd0AANuyi1u1DiIim9SSCx4FBQUSGxsr\n",
              "EREREhUVJUOGDJEjR46IiEhOTo7Ex8dLnz59ZODAgZKVlaVbztzTDNGai97NjhZWSvCCbdL3/+2Q\n",
              "qyreLUVEHUOH/YrWefPmIS0trVXLiggGvb4H5yrr8M7UAbgvspuRqyMisj78pHcrXN+W+jKLbSki\n",
              "6hgYGK00JvLa3VI5pbjaoLZwNUREpsfAaKWIHh4Ius0F9Y1a7M7h3VJE1P4xMFqJbSki6mgYGG0w\n",
              "+trF7t05ZahVsS1FRO0bA6MN+nf3QIi3C1RqLXaxLUVE7RwDow3021IXfmduIiLbxsBoo9HX7pba\n",
              "c/IirrAtRUTtGAOjjW7v5o5ePq5oUGux6+dSS5dDRGQyDIw20nu2FO+WIqJ2jIFhBM2BsffkRdTU\n",
              "N1q4GiIi02BgGEG4nzt6d3VFg0aLnWxLEVE7xcAwgqa2VNPFb36Ij4jaKwaGkTR/iG/fqUuoqmNb\n",
              "iojaHwaGkYT5uSHU162pLXWCbSkian8YGEaiUCh0Zxlf8pv4iKgdYmAYUfPdUvtzL7ItRUTtDgPD\n",
              "iML83BHm54ZGjSCDbSkiamcYGEbW/KgQPluKiNobBoaRjY7yBwDsz72EqqtsSxFR+8HAMLJQX3f0\n",
              "9XeHWiv4+kSJpcshIjIaBoYJ6O6W4of4iKgdYWCYwH3X7pY6kHcJlbUNFq6GiMg4GBgm0LurG27v\n",
              "5gG1VvAN21JE1E4wMExkDB95TkTtDAPDRO67dh3jYH45KtiWIqJ2gIFhIj19XNG/uwc0WsHXx9mW\n",
              "IiLbx8AwoeZHhfBuKSJqDxgYJjRa15a6hPIrKgtXQ0TUNgwMEwr2dkVkD09oBfiKbSkisnEMDBO7\n",
              "jx/iI6J2goFhYs1tqe9Pl+NiDdtSRGS7WhQY9fX1GDt2LMLCwqBUKjFs2DDk5eUBAMrKyjBy5Ej0\n",
              "6dMHERER2Ldvn245c0+zJkHeLogKYFuKiGxfi88wZs6ciZMnT+Knn37Cgw8+iJSUFADAwoULER8f\n",
              "j9zcXKSnp2PKlClobGy0yDRr03yWsZ1tKSKyZdIGP/74owQHB4uIiKurqxQXF+umxcbGSkZGhkWm\n",
              "GeLZZ581eN62KiyvleAF26Tnwm1SWl1ntu0SERlTm65hvPXWW3jwwQdRXl6OxsZG+Pv766aFhISg\n",
              "sLDQ7NNuRqVSobq6Wm/QaDRt2fUWCbzNBcpAL2gF+PoY21JEZJtaHRjLli1DXl4eUlNTjVmPSaSm\n",
              "psLT01NvOHz4sFlrGBPJZ0sRkW1rVWCsWLECW7ZswY4dO+Di4gJvb284ODigpOSXv54LCgoQFBRk\n",
              "9mk3s2jRIlRVVekNcXFxrdn1VhsV2XQ2dLigAmXV9WbdNhGRMbQ4MNLS0rBhwwZkZGTAy8tLN37C\n",
              "hAlYvXo1AODHH3/E+fPnMXjwYItM+zUnJyd4eHjoDfb29i3d9TYJ6OKCO4K8IALsYFuKiGxRSy54\n",
              "FBUVCQDp1auXKJVKUSqVEhcXJyIiJSUlMmzYMAkNDZV+/frJ7t27dcuZe5ohzHnRu9n/7cuX4AXb\n",
              "ZMK7B82+bSKitlKIiFg6tCxh3rx5SEtLM+s2L1yuQ8Lfd0OhAA4tHAJ/T2ezbp+IqC34SW8z6u7V\n",
              "GQODu1xrS/HiNxHZFgaGmY3ms6WIyEYxMMys+WGEmWcrUVxVZ+FqiIgMx8AwM39PZ8SGdAEAbM/m\n",
              "3VJEZDsYGBbwS1vqgoUrISIyHAPDAkZFdoNCAfyv8DLOX2ZbiohsAwPDAvw8nBEbfBsAYEc2L34T\n",
              "kW1gYFjI6Cg+W4qIbAsDw0JGRfhDoQCOFl3Gucqrli6HiOh3MTAsxNfDGXEhzW0p3i1FRNaPgWFB\n",
              "Y5rbUryOQUQ2gIFhQSMi/GGnAH4quoyiCraliMi6MTAsyNfdGXf29AYAbOdZBhFZOQaGhTXfLfUl\n",
              "A4OIrBwDw8JGXmtLZZ2rQmE521JEZL0YGBbm4+aEP/RuakvxLIOIrBkDwwqMjuwOAPgym8+WIiLr\n",
              "xcCwAiP6+8HeToFj56tRcKnW0uUQEd0UA8MKeLs5IYFtKSKycgwMK8Fv4iMia8fAsBIj+vvD3k6B\n",
              "E8XVOH3xiqXLISK6AQPDSnRx7YQ/hvoA4If4iMg6MTCsyOhIfwB85DkRWScGhhUZ3s8fDnYK5JTU\n",
              "IK+MbSkisi4MDCvCthQRWTMGhpVpfrYUA4OIrA0Dw8qM6OcPR/vmtlSNpcshItJhYFgZTxdH3HWt\n",
              "LfVlFr+Jj4isBwPDCo2O4rOliMj6MDCs0LB+fnC0V+BU6RWcKmVbioisAwPDCnl2dsTdfboC4KNC\n",
              "iMh6tCgw5syZg5CQECgUChw9elQ3Pjc3FwkJCQgLC0NsbCyOHz9usWntxfXfxCciFq6GiAiAtMDe\n",
              "vXulqKhIgoOD5ciRI7rxiYmJkp6eLiIimzZtkpiYGItNM9Szzz7b4mXMqaquQfr8dbsEL9gmOcXV\n",
              "li6HiEhaFBjNrg+M0tJScXd3l8bGRhER0Wq14ufnJ7m5uWaf1hLWHhgiIo+v/VGCF2yTN77OsXQp\n",
              "RETS5msYRUVF6NatGxwcHAAACoUCQUFBKCwsNPu0W1GpVKiurtYbNBpNW3fd5MZca0ttY1uKiKxA\n",
              "h7jonZqaCk9PT73h8OHDli7rdw253RedHOxw+mItckp4txQRWVabAyMwMBDFxcVQq9UAABFBYWEh\n",
              "goKCzD7tVhYtWoSqqiq9IS4urq27bnLuzo64J4x3SxGRdWhzYPj6+mLAgAFYt24dAGDz5s0ICAhA\n",
              "aGio2afdipOTEzw8PPQGe3v7tu66WfBuKSKyGi254DFz5kzp0aOH2Nvbi6+vr/Tu3VtERHJyciQ+\n",
              "Pl769OkjAwcOlKysLN0y5p5mKFu46C0iUlPfKGGLm+6WOnb+sqXLIaIOTCHSMf9snTdvHtLS0ixd\n",
              "hkGe+Hcmvj5eiln39MbzI/tauhwi6qA6xEVvW/fLs6XYliIiy2Fg2IAhfX3h5GCHs+VXcfxCtaXL\n",
              "IaIOioFhA1ydHHBvX18ATWcZRESWwMCwEbq7pbLYliIiy2Bg2Ih7+/rC2dEOhRVXcew821JEZH4M\n",
              "DBvh0skBQ/r6AQC28YuViMgCGBg2hG0pIrIkBoYNSQz3RWdHe5yrrEPWuSpLl0NEHQwDw4Z07mSP\n",
              "IbfzbikisgwGho0Zw7YUEVkIA8PG3BPuC5dO9jh/uQ5Hiy5buhwi6kAYGDbG2dEeQ29vuluKjzwn\n",
              "InNiYNig5rultmcXQ6tlW4qIzIOBYYMGh3WFayd7XKiqxxG2pYjITBgYNsjZ0R7D+rEtRUTmxcCw\n",
              "UfdFsi1FRObFwLBRd4d1hZuTA0qq6/G/wkpLl0NEHQADw0Zd35baxrYUEZkBA8OGjb7WltpxjG0p\n",
              "IjI9BoYNGxTmA3cnB5RWq/BftqWIyMQYGDbMycEew/rzbikiMg8Gho0bc92H+DRsSxGRCTEwbNxd\n",
              "oV3h7uyAshoVMgsqLF0OEbVjDAwb18nBDiP6+wPgI8+JyLQYGO3AL8+WKmFbiohMhoHRDvyxtw88\n",
              "Ozvi0hUVDp9hW4qITIOB0Q40taWu3S2VfcHC1RBRe8XAaCdGR3UHAHx1rARqjdbC1RBRe8TAaCcS\n",
              "envDy8URl640sC1FRCbBwGgnHO3tMPLa3VLbeLcUEZkAA6Mdab5bim0pIjIFBkY78ode3uji4oiK\n",
              "2gZ8f5ptKSIyLpsOjNzcXCQkJCAsLAyxsbE4fvy4pUuyKAd7O4yMaP4QH++WIiLjsunAeOKJJzBz\n",
              "5kycOnUKCxYsQHJysqVLsrjRkb/cLdXIthQRGZGDpQtorbKyMmRmZuKbb74BAIwfPx6zZ89GXl4e\n",
              "QkNDLVyd5cT3ug23uXZCRW0D9p26iD+G+li6JCIyE0d7O9jbKUy2fpsNjKKiInTr1g0ODk27oFAo\n",
              "EBQUhMLCwhsCQ6VSQaVS6Y3TaDRmq9WcmttS638oxOMfZFq6HCIyo38+MhDDr90taQo23ZIyVGpq\n",
              "Kjw9PfWGw4cPW7osk5kSFwSXTvaWLoOI2hmFiNjk0+rKysoQGhqKiooKODg4QETQrVs3fPfddwad\n",
              "YSxZsgRvvfWWOUs2q0aNFg1q67+GYZNvPjIa0zVPOiYnBzs42JvuPMBmW1K+vr4YMGAA1q1bh+Tk\n",
              "ZGzevBkBAQE3vX7h5OQEJycnvXH29u37L3BHezs4mvCNQ0Qdj80GBgCsWbMGycnJWLZsGTw8PJCe\n",
              "nm7pkoiI2i2bDozw8HAcOnTI0mUQEXUI7FkQEZFBbPaid1uNGzcOISEhLV5Oo9Hg8OHDiIuLs+rr\n",
              "IKzTuFincbFO42prncHBwZg7d+7vztdhA6O1qqur4enpiaqqKnh4eFi6nFtincbFOo2LdRqXuepk\n",
              "S4qIiAzCwCAiIoMwMIiIyCAMjBZycnLCiy++eMMHAa0N6zQu1mlcrNO4zFUnL3oTEZFBeIZBREQG\n",
              "YWAQEZFBGBhERGQQBoaJvfnmmygpKbF0GVanoKAAq1ev/s15YmJi8O2335qnIANcuHABgwYNMvt2\n",
              "6+vrMXbsWISFhUGpVGLYsGHIy8sDANxzzz3o2bMnoqOjER0djZUrV+qWe+KJJxAZGYl7770XVVVV\n",
              "AAARwahRo5Cfn2+yekNCQhAeHq6raePGjQCA3NxcJCQkICwsDLGxsTh+/DgAoLGxEWPHjoVSqcS4\n",
              "ceOgVqt1+3333XejsrLS6DWWl5fr6ouOjkZYWBgcHBxQUVFhlcfUagiZVHBwsBw5csTSZVidPXv2\n",
              "iFKp/M15Bg4cKHv27DFLPdasrq5OvvzyS9FqtSIismrVKhk8eLCIiAwePFg+/fTTG5bJzs6WxMRE\n",
              "ERF56aWXZNWqVSIi8s9//lNee+01k9Z7q/d8YmKipKeni4jIpk2bJCYmRkREvvjiC5k+fbqIiEyf\n",
              "Pl2++OILERH561//Khs3bjRprc2WL18uY8aMERHrPKbWosOeYRw6dAh33XUXlEoloqKi8NlnnyEz\n",
              "MxMJCQmIiopCXFwcDhw4AKDpr2EvLy/dsleuXIFC8ctXvygUCixbtgxxcXHo2bOn7jHrL7/8Mi5c\n",
              "uIBJkyYhOjoaR48ebXGdCoUCr776Ku68806EhIRg69atSE1NRUxMDPr06aP3F/jXX3+Nu+66CwMH\n",
              "DkRcXBz27NkDACgpKUFiYiIGDhyI/v37Y/bs2dBqm75cae3atRg6dCgmT56MyMhIxMTE4PTp0y2u\n",
              "87fU1dVh0qRJ6NevH5RKJYYPH44nn3wSJ0+eRHR0NB544AEAwMGDBxEdHY2IiAhMnz5d95emqRl6\n",
              "jH/9PrjVz93YnJ2dcd999+nec/Hx8SgoKPjNZRwdHaFSqaDValFbW4tOnTqhuLgYGzZswLx580xS\n",
              "528pKytDZmYmpk2bBgAYP348ioqKkJeXB0dHR1y9ehUAcPXqVXTq1AlZWVnIycnBxIkTzVLfe++9\n",
              "h8cff/w357HEMTX0valWqzFixAjExMSgf//+mDJlCmprawEAH330EWJiYqBSqSAiuP/++/Hqq6+2\n",
              "riBLJ5YllJeXi6+vr+zbt09ERDQajZSWlkpgYKB89dVXIiKyf/9+8fPzk5qaGjlz5ox4enrqlq+p\n",
              "qZHrDx0AWbFihYiI/Pzzz+Lm5iaNjY0i0vYzDADy5ptviojIzp07xdXVVfdX2ieffKL7Ky0/P1/i\n",
              "4+OlqqpKRERyc3PF399f6uvrpa6uTmpqakRERK1Wy+jRo2XDhg0iIpKeni4eHh5y+vRpERFZsGCB\n",
              "zJw5s9X13syWLVtk+PDhutfl5eU3nGGoVCoJCAiQjIwMERH5+uuvBYBZzjAMPca/fh/81s/dlKZN\n",
              "myZz5swRkaa/hsPDwyUiIkImTpwo+fn5uvkWL14sSqVSHnroIamtrZVJkyZJZmamyesLDg6WyMhI\n",
              "iYiIkMcee0zKysokMzNTwsLC9OaLjY2VXbt2iUajkZSUFImKipKZM2dKY2OjDBkyRIqKikxeq4jI\n",
              "gQMHxM/PT/ezs6Zjauh7U6vVyqVLl3T/fvLJJyU1NVW3npkzZ8pTTz0lr7/+uowcOVJ3ttrietqw\n",
              "LzZr27ZtMmjQIL1xWVlZEhwcrDcuKipK9u/fb1BgFBcX6157eXnp3uzGCIzmdV++fFkASF1dnYiI\n",
              "FBQU6Op6++23xcfHR5RKpW7o3r27nDp1Smpra2XWrFkSFRUlkZGR4ufnJwsWLBCRpsAYMWKEbntb\n",
              "t26VIUOGtLrem8nPz5fAwED585//LB9//LFUV1ffEBg//fSThISE6C3Xq1cvswWGIcf4ZoFxq5+7\n",
              "qbz66qsSHx8vtbW1IiJSWFgoIk2/JFatWiW33377TZfbunWrPPfcc3Lp0iVJTk6WcePGyccff2yS\n",
              "Gs+ePSsiIg0NDfL888/LqFGjfjMwfm3lypWyatUqOXPmjEyePFnGjRt30/mM5bHHHpO//OUvutfW\n",
              "dEwNfW9qNBpZvHixREdHS0REhAQGBsqkSZN066mrq5OoqCgJDAyUixcvtrqeDtuSMkRzC8DBwQEa\n",
              "jUY3vr6+/oZ5nZ2ddf+2t7c3ajuled3Njy2+/nXzdkQEw4YNw9GjR3XD+fPn0adPH6SlpaGsrAw/\n",
              "/PADsrKyMGXKFL19MGXtANCrVy+cOHECI0eOxIEDBxAREWHQhczr236mZsgx/q3lDJm3rVasWIEt\n",
              "W7Zgx44dcHFxAQAEBgYCaDpWs2fPxunTp1FeXq63XHV1NVasWIGXXnoJb775JgYPHoyNGzfi5Zdf\n",
              "Rl1dndHrDAoKAtDUwnnmmWewf/9+BAYGori4WO/9WlhYqJu32dmzZ7F9+3bMmjULS5YswcyZM7F2\n",
              "7Vo8/fTTRq8TaGovf/LJJ3jsscd046ztmBry3ly/fj12796NvXv3Ijs7G88995ze//GysjJUVlZC\n",
              "q9Xi8uXLra6lQwZGQkICcnNzsX//fgCAVquFn58ftFotMjIyADT100tKShAdHQ1/f3+ICE6cOAEA\n",
              "+PDDDw3eloeHh+5uClMaMWIEdu7ciaysLN24w4cPAwAqKyvh7+8PZ2dnlJSUYNOmTSav53rnzp2D\n",
              "QqHAAw88gBUrVkBE4O3trXdc+vbtC7VarbvusnPnzo5x14mB0tLSsGHDBmRkZOiuo6jVapSWlurm\n",
              "2bx5M/z8/ODt7a237MKFC/HCCy/AxcUFtbW1UCgUUCgUaGxsRENDg1HrrK2t1fuFtGHDBtxxxx3w\n",
              "9fXFgAEDsG7dOl2tAQEBCA0N1Vt+7ty5WLlyJezs7HS1Nv/bFDZu3AilUom+ffsCsM5jaojKykr4\n",
              "+PjAw8MDNTU1WLt2rW6aWq3Gww8/jFdeeQVpaWmYOHEiVCpVq7Zj01/R2lpdunTBp59+ivnz56Om\n",
              "pgZ2dnZ45ZVXsGXLFsyZMwfz58+Hs7Mz/vOf/8DNzQ0AsGrVKowZMwbe3t546KGHDN7WnDlzMGPG\n",
              "DLi4uGDt2rWIjo42yT6FhoZi/fr1eOKJJ3D16lU0NDTgjjvuwPr16zF37lw89NBD6N+/P7p3746h\n",
              "Q4eapIZbyc7OxqJFiyAiUKvVeOSRR5CQkID+/fsjIiICvXr1wueff46NGzdi1qxZ0Gg0iI2NhVKp\n",
              "NGud1urcuXOYP38+evXqhcTERABNzw7avXs3Ro8eDZVKBTs7O/j4+ODzzz/XW/bAgQOoq6vDsGHD\n",
              "AABPPfUUJk+ejNdeew2PPPIIPD09jVpraWkpxo8fD41GAxFBr169dH9grVmzBsnJyVi2bBk8PDxu\n",
              "uElg/fr1UCqV6N+/P4CmX8ozZsxAQ0MDlixZYtQ6m7333nuYMWOG7rVKpbK6Y2qIRx99FJ999hnC\n",
              "w8PRtWtXDBo0CGfPngXQdBzDw8ORlJQEANi7dy+eeeYZvPvuuy3eDp8lRUREBumQLSkiImo5BgYR\n",
              "ERmEgUFERAZhYBARkUEYGEREZBAGBhERGYSBQUREBmFgEBGRQRgYRERkEAYGEREZhIFBREQG+f81\n",
              "yh5Nq00UVwAAAABJRU5ErkJggg==\n",
              "\">\n",
              "        \n",
              "      </div>\n",
              "      <script></script>\n",
              "      <script type=\"text/javascript\">\n",
              "        (() => {\n",
              "          const chartElement = document.getElementById(\"chart-7deaebce-335c-41ae-92c7-6d755c9cb91c\");\n",
              "          async function getCodeForChartHandler(event) {\n",
              "            const chartCodeResponse =  await google.colab.kernel.invokeFunction(\n",
              "                'getCodeForChart', [\"chart-7deaebce-335c-41ae-92c7-6d755c9cb91c\"], {});\n",
              "            const responseJson = chartCodeResponse.data['application/json'];\n",
              "            await google.colab.notebook.addCell(responseJson.code, 'code');\n",
              "          }\n",
              "          chartElement.onclick = getCodeForChartHandler;\n",
              "        })();\n",
              "      </script>\n",
              "      <style>\n",
              "        .colab-quickchart-chart-with-code  {\n",
              "            display: block;\n",
              "            float: left;\n",
              "            border: 1px solid transparent;\n",
              "        }\n",
              "\n",
              "        .colab-quickchart-chart-with-code:hover {\n",
              "            cursor: pointer;\n",
              "            border: 1px solid #aaa;\n",
              "        }\n",
              "      </style>"
            ]
          },
          "metadata": {}
        },
        {
          "output_type": "display_data",
          "data": {
            "text/plain": [
              "<google.colab._quickchart_helpers.SectionTitle at 0x7bc799f8d8a0>"
            ],
            "text/html": [
              "<h4 class=\"colab-quickchart-section-title\">Distributions</h4>\n",
              "<style>\n",
              "  .colab-quickchart-section-title {\n",
              "      clear: both;\n",
              "  }\n",
              "</style>"
            ]
          },
          "metadata": {}
        },
        {
          "output_type": "display_data",
          "data": {
            "text/plain": [
              "import numpy as np\n",
              "from google.colab import autoviz\n",
              "\n",
              "def histogram(df, colname, num_bins=20, figscale=1):\n",
              "  from matplotlib import pyplot as plt\n",
              "  df[colname].plot(kind='hist', bins=num_bins, title=colname, figsize=(8*figscale, 4*figscale))\n",
              "  plt.gca().spines[['top', 'right',]].set_visible(False)\n",
              "  plt.tight_layout()\n",
              "  return autoviz.MplChart.from_current_mpl_state()\n",
              "\n",
              "chart = histogram(_df_3, *['Nº de Ordem'], **{})\n",
              "chart"
            ],
            "text/html": [
              "      <div class=\"colab-quickchart-chart-with-code\" id=\"chart-92711113-03d4-4308-9beb-50a44d87ba84\">\n",
              "        <img src=\"data:image/png;base64,iVBORw0KGgoAAAANSUhEUgAAAYwAAADECAYAAACMRRb/AAAAOXRFWHRTb2Z0d2FyZQBNYXRwbG90\n",
              "bGliIHZlcnNpb24zLjcuMSwgaHR0cHM6Ly9tYXRwbG90bGliLm9yZy/bCgiHAAAACXBIWXMAAA9h\n",
              "AAAPYQGoP6dpAAAZZUlEQVR4nO3de1BU9/kG8GcFXUVZUNCAIqAsoCkIQiEMohBTqjEtELQGLxMk\n",
              "cvHCYEdnTKy1EZOCHZtWY8eKYm2CrbVBaSlErbExQauJNyTKGEElXMrFK2IDuMD394d1f67skrPL\n",
              "Hljg+czsDOec7559312Wh3PO7jkKIYQAERHRdxjU2wUQEVHfwMAgIiJJGBhERCQJA4OIiCRhYBAR\n",
              "kSQMDCIikoSBQUREkjAwiIhIEgYGERFJwsAg6sLPf/5zRERE9HYZOhYvXowlS5b0dhk0ADEwqM+K\n",
              "iIiAQqHAP/7xD535z/5B/d3vfoewsDBERkYiMTERGo2mR+vUaDT45S9/icmTJ8PGxgajRo1CdHQ0\n",
              "Ll682KN1EHUXA4P6NEdHR6xZswaPHj3Su/zKlSvYtm0bPvnkExw7dgytra3Izs7usfra29vx4x//\n",
              "GB988AF27tyJ+/fvo7S0FJMnT0ZoaCg+++wzg/c11BNRb2FgUJ+2ZMkSdHR04P3339e7/MqVKwgM\n",
              "DMTQoUMBAKGhobh8+bLB9eXk5MDT0xO2traIjY3F/fv3dZa3tLTgZz/7GTw8PDBy5EjMmDGjyy2F\n",
              "AwcO4Pjx48jPz0d4eDiGDBkCJycnbN68GbGxsUhJSdGOjYiIQGpqKuLi4jBy5EikpaUBALZs2QJX\n",
              "V1fY29sjMTGxU5Dcv38fy5cvh5ubGxwcHDBnzhzcuHFD5zl67bXXsHz5cjg4OMDR0RFbt25FVVUV\n",
              "Zs2aBVtbWzz//PM4ffq0wT6IAACCqI8KDw8X69evF3l5eUKlUon6+nohhBCLFi0S8fHxQgghLl++\n",
              "LNRqtWhubhZCCLFw4UKxY8cOves7deqUsLa2Fvn5+UKj0Yj8/HwxdOhQER4erh0THx8vXnrpJVFV\n",
              "VSU0Go3Yvn27GD16tLh3757edS5YsEBMmzZN77J//vOfAoAoKyvT9mNjYyMKCwtFe3u7+O9//yv+\n",
              "9Kc/CXt7e3Hq1Cnx6NEjkZWVJaytrbX9dXR0iIiICLFw4UJx584d0dLSItauXSsmT54sHj16pK15\n",
              "yJAh4qOPPhJtbW0iLy9PKBQKERERIUpKSkRbW5tIS0sTXl5exjz9NAAxMKjPehIYQggxc+ZMsXTp\n",
              "UiGEbmAIIcT27dtFSEiICA8PF0uXLtX+IX1WYmKiiI2N1ZkXGxurDYzbt28LAOLq1as6Y9RqtcjJ\n",
              "ydG7zh/84Adi/vz5epeVlpYKAOLUqVPafuLi4jrdf/Xq1TrzAgICtP2dP39eDB48WDQ1NWmXt7W1\n",
              "iaFDh4qioiIhxOPAmDlzps467O3tRUZGhnb63LlzAoC4f/++3lqJhBCCu6SoX9i2bRtycnI67R66\n",
              "e/cucnNzoVQqAQDl5eU4ceKE3nVUV1djwoQJOvOeni4vLwcAvPDCC7C3t9feampqUF1drXedo0eP\n",
              "Rk1NjcHHA4AxY8bofTwpNZWVlaGtrQ0uLi7aehwcHAAAVVVV2nHOzs466xg+fLjOvOHDhwMAmpqa\n",
              "9NZKBADWvV0AkTn4+PggMTERq1atgqurq3b+qFGjDAbEs1xcXFBRUaEz7+lpJycnAEBJSYnOY3Tl\n",
              "lVdeQUJCAq5duwYvLy+dZR9++CG8vLygVqu18wYN0v0fzlBNPj4+2pqGDBmCW7duYfDgwZJqIjIV\n",
              "tzCo39i0aRMuX76Mo0ePmnT/+Ph45Ofno7CwEO3t7SgsLMTHH3+sXe7m5oaYmBisXLkS33zzDYDH\n",
              "/5EfPnwYtbW1etcZFxeH8PBwREVFoaioCBqNBg0NDVi/fj1yc3Px+9///jtr+sMf/oAzZ86gra0N\n",
              "2dnZuHTpknZ5WFgYfHx8sHz5cjQ0NAAA7t27h4MHD+Lbb7816XkgMoSBQf2Gg4MDNm7ciNu3b5t0\n",
              "/7CwMOzatQurVq2Cvb099uzZgzfeeENnzJ///GcEBgYiMjIStra28Pb2xu7duyEMXOnYysoKBQUF\n",
              "WLRoERITE6FSqeDt7Y2SkhIUFRVh5syZXda0aNEirF27Fj/5yU/g6OiIM2fO4NVXX9VZ/7Fjx2Bj\n",
              "Y4MXXngBtra28PPzQ15eHhQKhUnPA5EhCmHoN52IiOgp3MIgIiJJGBhERCQJA4OIiCRhYBARkSQM\n",
              "DCIikoSBQUREkjAwiIhIkn4RGNu2bevtEoiI+r1+ERhPTtNARETy6ReBQURE8pMtMFpaWhATEwMv\n",
              "Ly/4+fkhMjJSe3roZxUUFGDSpEnw9PREbGwsHjx4IFdZRERkIlm3MJKTk/H111/j0qVLiI6ORmJi\n",
              "YqcxDx8+xNKlS/G3v/0NZWVlGDt2LN555x05yyIiIhPIFhhDhw7FnDlztGfMDAkJ6XRefwA4fPgw\n",
              "pk6dikmTJgEAVqxYgf3798tVFhERmajHLqC0bds2REdHd5pfWVkJNzc37bS7uztqa2vR1tYGa+vO\n",
              "5bW2tqK1tVVnXnt7u/kLJiIiHT0SGBkZGSgvL8fx48e7va7MzEykp6frzAsJCen2ekk697cKTb5v\n",
              "xeZXzFhJ39Cd5wsYmM/ZQNQXfk9k/5TUr3/9axw6dAiHDx+GjY1Np+Wurq46H4utqKiAs7Oz3q0L\n",
              "AFi3bh0aGxt1bsHBwbLVT0REj8kaGL/5zW+wf/9+HDt2DPb29nrHzJ49GxcuXMDVq1cBADt27EBc\n",
              "XJzBdSqVSqhUKp2blZWVHOUTEdFTZNslVV1djTVr1mDixIl48cUXATz+Y//FF1/gF7/4BcaOHYtl\n",
              "y5bB1tYW2dnZiImJQVtbG3x8fPDBBx/IVRYREZlItsBwcXExeJ3jTZs26UxHRUUhKipKrlKIiMgM\n",
              "+E1vIiKShIFBRESSMDCIiEgSBgYREUnCwCAiIkkYGEREJAkDg4iIJGFgEBGRJAwMIiKShIFBRESS\n",
              "MDCIiEgSBgYREUnCwCAiIkkYGEREJAkDg4iIJGFgEBGRJAwMIiKShIFBRESSMDCIiEgSBgYREUnC\n",
              "wCAiIkkYGEREJAkDg4iIJGFgEBGRJLIGRlpaGtzd3aFQKFBcXKx3zIkTJzBs2DD4+/trb83NzXKW\n",
              "RUREJrCWc+Xz5s3D2rVrERYW1uU4b29vg4FCRESWQdbAmDFjhpyrJyKiHiRrYEh1/fp1BAQEwMrK\n",
              "CgkJCVixYoXBsa2trWhtbdWZ197eLneJREQDXq8HRkBAAKqrq2FnZ4fq6mrMmTMHjo6OmD9/vt7x\n",
              "mZmZSE9P15kXEhLSE6USEQ1ovf4pKZVKBTs7OwCAi4sLFixYgKKiIoPj161bh8bGRp1bcHBwT5VL\n",
              "RDRg9Xpg1NbWoqOjAwDQ1NSEgoICTJ061eB4pVIJlUqlc7OysuqpcomIBiyjA+Po0aOSx6akpMDF\n",
              "xQXV1dWYNWsW1Go1ACAxMRH5+fkAgIMHD8LX1xd+fn4ICQlBZGQkEhISjC2LiIhkZvQxjE2bNiEt\n",
              "LQ0rVqxAQkICVCqVwbFZWVl652dnZ2t/Tk1NRWpqqrFlEBFRDzN6C+PUqVP4y1/+gsuXL8PLywsr\n",
              "VqxAaWmpHLUREZEFMekYxtSpU7F7924cOXIEBQUFmDJlCiIjI/HVV1+Zuz4iIrIQJgXGJ598gujo\n",
              "aMTGxmLlypWoq6tDSkoKXn31VXPXR0REFsLoYxiTJ0+Go6Mj0tLSEBsbq/2E0rx587Bnzx6zF0hE\n",
              "RJbB6MDYt28fAgMD9S47fPhwtwsiIiLLZPQuqfPnz+Pu3bva6Tt37mD37t1mLYqIiCyP0YGxY8cO\n",
              "jBo1Sjvt4OCAHTt2mLUoIiKyPEYHhhCi0zye/I+IqP8zOjCcnZ3x17/+VTt94MABODs7m7UoIiKy\n",
              "PEYf9N66dSuio6Oxdu1aAICNjQ3+/ve/m70wIiKyLEYHxqRJk1BaWoqvv/4awOOr5fHkf0RE/Z9J\n",
              "18NQKBSwt7dHW1sbampqAACurq5mLYyIiCyL0YHxxz/+EWlpaRg8eDAGDXp8CEShUKChocHsxRER\n",
              "keUwOjDeeecdnD17Ft7e3nLUQ0REFsroT0k5OjoyLIiIBiCjAyMmJgZbt25FQ0MDHjx4oL0REVH/\n",
              "ZvQuqfXr1wMAVq9eDYVCASEEFAoFv7xHRNTPGR0YT66/TUREA4tJ18M4f/48cnJyAAD3799HbW2t\n",
              "WYsiIiLLY9LJB9944w1s3LgRwOOz1S5cuNDcdRERkYUxOjB27dqFM2fOQKVSAQA8PDxw69YtsxdG\n",
              "RESWxejAUCqVGDZsmM48a2uTvjBORER9iNGBMXr0aFy7dg0KhQLA429+87QgRET9n0lnq12wYAGu\n",
              "Xr2K8ePHQ6VSoaCgQI7aiIjIghi9haFWq/HFF1/g/PnzOHr0KEpKSjBhwgS9Y9PS0uDu7g6FQoHi\n",
              "4mKD69yzZw88PT3h4eGBpKQkaDQaY8siIiKZGR0YlZWVqK6uxvDhwzFixAjU1NSgsrJS79h58+bh\n",
              "5MmTcHNzM7i+mzdvYsOGDSgqKkJ5eTnq6+uxa9cuY8siIiKZGb1LKjAwUPsN75aWFnz77bdwcHDQ\n",
              "e7baGTNmfOf6cnNzERUVBScnJwDAsmXLkJGRgZUrVxpbGhERycjowHj2I7SHDh3CpUuXTC6gsrJS\n",
              "ZwvE3d3d4BYLALS2tqK1tVVnHk9LQkQkv25/HjY2NhYZGRlIT083Rz3fKTMzs9NjhYSEmLw+97cK\n",
              "u1VPxeZXunV/IuqsO+9LviflY/QxjKfPUHvv3j0cOXKkW2erdXV1xTfffKOdrqio6PJjuuvWrUNj\n",
              "Y6POLTg42OTHJyIiaYzewrC3t9cew7CysoKnpyfef/99kwuYO3cuwsLCsHHjRjz33HPYuXMn4uLi\n",
              "DI5XKpVQKpU683hNcSIi+Rm9hdHR0YH29nZ0dHRAo9GgtLQUs2fP1js2JSUFLi4uqK6uxqxZs6BW\n",
              "qwEAiYmJyM/PBwBMnDgR6enpmDZtGtRqNUaPHo2UlJRutERERHKQ9ZweWVlZeudnZ2frTCclJSEp\n",
              "KUnOUoiIqJuMDoxBgwZpTwvyNF5IiYiofzM6MDZt2oTm5mYsX74cALBz504MGzYMP/3pT81dGxER\n",
              "WRCjAyMvLw/nz5/XTr/77rsIDAzUXrqViIj6J6MPejc1Nel8q7uhoQFNTU1mLYqIiCyP0VsYa9as\n",
              "gZ+fH+bMmQMAOHLkiPbqe0RE1H8ZHRgpKSmYNm0aPv30UwDA6tWr8b3vfc/shRERkWUx6WO1Dg4O\n",
              "8PX1RUREBNra2vDo0SMMGTLE3LUREZEFMfoYRm5uLkJCQpCQkAAAuHLlCmJiYsxdFxERWRijAyMz\n",
              "MxMXLlyAvb09AMDPz0/nXFBERNQ/GR0YVlZWcHBw0JnH3VFERP2f0YFha2uL+vp67be9jx8/jlGj\n",
              "Rpm9MCIisixGH/T+1a9+hZdffhk3btxAWFgYbt68icLC7l1TgoiILJ9RgfHkTLWffvop/v3vf0MI\n",
              "gdDQUO3xDCIi6r+MCoxBgwYhOTkZly5dwssvvyxXTUREZIGMPobh6emJ8vJyOWohIiILZvQxjLt3\n",
              "78Lf3x+hoaEYMWKEdv6hQ4fMWhgREVkWyYGRnJyMXbt2IT4+HlFRURg5cqScdRERkYWRHBjnzp0D\n",
              "AMTHxyMgIAAXLlyQrSgiIrI8Rh/DAB5fXY+IiAYWyVsYzc3N+OqrryCEQEtLi/bnJ6ZMmSJLgURE\n",
              "ZBmMCoyoqCjt9NM/KxQK3Lhxw7yVERGRRZEcGBUVFTKWQUREls6kYxhERDTwyBoYZWVlCA0NhZeX\n",
              "F4KCgnDlypVOY06cOIFhw4bB399fe2tubpazLCIiMoFJV9yTKiUlBcnJyViyZAlyc3OxZMkSnD17\n",
              "ttM4b29vFBcXy1kKERF1k2xbGA0NDTh37hwWL14MAJg7dy6qqqp4WhEioj5KtsCoqqqCs7MzrK0f\n",
              "b8QoFAq4urqisrKy09jr168jICAAQUFB2LFjR5frbW1txYMHD3Ru7e3tsvRARET/T9ZdUlIEBASg\n",
              "uroadnZ2qK6uxpw5c+Do6Ij58+frHZ+ZmYn09HSdeSEhIT1RKhHRgCbbFsb48eNRW1uLtrY2AI+/\n",
              "HV5ZWQlXV1edcSqVCnZ2dgAAFxcXLFiwAEVFRQbXu27dOjQ2NurcgoOD5WqDiIj+R7bAGDNmDAIC\n",
              "ArBv3z4AwMGDB+Hi4gK1Wq0zrra2Fh0dHQCApqYmFBQUYOrUqQbXq1QqoVKpdG5WVlZytUFERP8j\n",
              "68dqs7KykJWVBS8vL2zevBl79+4FACQmJiI/Px/A4yDx9fWFn58fQkJCEBkZiYSEBDnLIiIiE8h6\n",
              "DMPb2xunT5/uND87O1v7c2pqKlJTU+Usg4iIzIDf9CYiIkkYGEREJAkDg4iIJGFgEBGRJAwMIiKS\n",
              "hIFBRESSMDCIiEgSBgYREUnCwCAiIkkYGEREJAkDg4iIJGFgEBGRJAwMIiKShIFBRESSMDCIiEgS\n",
              "BgYREUnCwCAiIkkYGEREJAkDg4iIJGFgEBGRJAwMIiKShIFBRESSMDCIiEgSBgYREUkia2CUlZUh\n",
              "NDQUXl5eCAoKwpUrV/SO27NnDzw9PeHh4YGkpCRoNBo5yyIiIhPIGhgpKSlITk7GtWvX8Oabb2LJ\n",
              "kiWdxty8eRMbNmxAUVERysvLUV9fj127dslZFhERmUC2wGhoaMC5c+ewePFiAMDcuXNRVVWF8vJy\n",
              "nXG5ubmIioqCk5MTFAoFli1bhv3798tVFhERmcharhVXVVXB2dkZ1taPH0KhUMDV1RWVlZVQq9Xa\n",
              "cZWVlXBzc9NOu7u7o7Ky0uB6W1tb0draqjOvvb3dzNUTEdGzZAsMuWRmZiI9PV1n3qRJk7B69Wqj\n",
              "19Xe3g7nL79EcHAwrKysTKpn9erjJt3PnNrb2/FlN/swRmw37tvV89XTfchBXw/deb6A3vkd6+3X\n",
              "wly/Y73dhzEM9Sy1h+78nri5uWHVqlXfOU4hhBAmP0oXGhoaoFarcffuXVhbW0MIAWdnZ5w8eVJn\n",
              "C2PLli24fv06du7cCQD4+OOPkZGRgZMnT+pdr74tDKVSCaVSaXSNDx48gJ2dHRobG6FSqYy+v6Vg\n",
              "H5ajP/QAsA9LYkk9yHYMY8yYMQgICMC+ffsAAAcPHoSLi4tOWACPj23k5+ejrq4OQgjs3LkTcXFx\n",
              "BterVCqhUql0bqaEBRERGUfWT0llZWUhKysLXl5e2Lx5M/bu3QsASExMRH5+PgBg4sSJSE9Px7Rp\n",
              "06BWqzF69GikpKTIWRYREZlA1mMY3t7eOH36dKf52dnZOtNJSUlISkqSsxQiIuqmAf1Nb6VSibff\n",
              "frvP79JiH5ajP/QAsA9LYkk9yHbQm4iI+pcBvYVBRETSMTCIiEgSBgYREUkyYAND6pl0e4q7uzu8\n",
              "vb3h7+8Pf39/HDhw4DvrlGOZsdLS0uDu7g6FQoHi4mJZa5OrJ0M9GHpNLLEHAGhpaUFMTAy8vLzg\n",
              "5+eHyMhI7bnbGhoaMHv2bHh6esLHxweff/659n49vaw7fURERGDChAna1+S3v/2txfbxwx/+EFOm\n",
              "TIG/vz+mT5+OixcvAuhb741OxAD14osvir179wohhPjoo4/E97///V6tx83NTVy8eLHT/K7qlGOZ\n",
              "sT777DNRVVXVqf6errs7PRnqwdBrYok9CCFEc3OzKCwsFB0dHUIIIbZv3y7Cw8OFEEIkJCSIt99+\n",
              "WwghxJdffinGjRsnHj161CvLutNHeHi4yMvL03s/S+vj3r172p8PHTokpkyZIoToW++NZw3IwKiv\n",
              "rxe2trZCo9EIIYTo6OgQzz33nCgrK+u1mvT9ceqqTjmWmav+nq7bXD1JDQxL7uFpZ8+eFW5ubkII\n",
              "IYYPHy5qa2u1y4KCgsSxY8d6ZVl3+ugqMCy5j7179wo/P78++954YkDukurqTLq96fXXX4evry+W\n",
              "Ll2KW7dudVmnHMvMpafrlrOnZ1+T3ujPVNu2bUN0dDTu3LkDjUYDJycn7bInZ4Xu6WXd6eOJt956\n",
              "C76+vnjttddw48YNALDYPl5//XWMHz8eGzZsQE5OTp9/bwzIwLBEn3/+OUpKSnDhwgU4OjoiPj6+\n",
              "t0sa8Prya5KRkYHy8nJkZmb2dind8mwfOTk5uHr1KkpKSjB9+nT86Ec/6uUKu/bhhx+iqqoK7777\n",
              "Lt58883eLqf7TNou6eMscZfU0/7zn/+IESNG9IlN1Cf64y6ppz15TXqjP2Nt2bJFBAYG6uxDt7Gx\n",
              "MbhrpaeXdaePZymVSnH79m2L7uOJoUOHirq6uj753nhiQAaGEI/3hT59ICgwMLDXann48KHOm+K9\n",
              "994T06dPF0J0Xaccy0z17B/bnq7bHD093UNXr4kl9/Dee++JgIAAcffuXZ358fHxOgdvx44dqz14\n",
              "29PLTO1Do9GIuro67XRubq5wdXXttR67cu/ePVFTU6OdzsvLE+PGjRMdHR198r3xxIANjKtXr4qQ\n",
              "kBDh6ekpAgMDRUlJSa/Vcv36deHv7y98fX2Fj4+PiIqKEjdv3vzOOuVYZqzk5GQxbtw4YWVlJcaM\n",
              "GSM8PDx6pe7u9KSvh65eE0vsQQghqqqqBAAxceJE4efnJ/z8/ERwcLAQQoi6ujoRGRkp1Gq1eP75\n",
              "58W//vUv7f16epmpfTx8+FAEBgYKHx8fMWXKFDFz5kxRXFxskX1UVFSIoKAgba0vvfSS9p+RvvTe\n",
              "eBbPJUVERJLwoDcREUnCwCAiIkkYGEREJAkDg4iIJGFgEBGRJAwMIiKShIFBRESSMDCIiEgSBgYR\n",
              "EUnCwCAiIkkYGEREJMn/AcoN00DmKfdxAAAAAElFTkSuQmCC\n",
              "\">\n",
              "        \n",
              "      </div>\n",
              "      <script></script>\n",
              "      <script type=\"text/javascript\">\n",
              "        (() => {\n",
              "          const chartElement = document.getElementById(\"chart-92711113-03d4-4308-9beb-50a44d87ba84\");\n",
              "          async function getCodeForChartHandler(event) {\n",
              "            const chartCodeResponse =  await google.colab.kernel.invokeFunction(\n",
              "                'getCodeForChart', [\"chart-92711113-03d4-4308-9beb-50a44d87ba84\"], {});\n",
              "            const responseJson = chartCodeResponse.data['application/json'];\n",
              "            await google.colab.notebook.addCell(responseJson.code, 'code');\n",
              "          }\n",
              "          chartElement.onclick = getCodeForChartHandler;\n",
              "        })();\n",
              "      </script>\n",
              "      <style>\n",
              "        .colab-quickchart-chart-with-code  {\n",
              "            display: block;\n",
              "            float: left;\n",
              "            border: 1px solid transparent;\n",
              "        }\n",
              "\n",
              "        .colab-quickchart-chart-with-code:hover {\n",
              "            cursor: pointer;\n",
              "            border: 1px solid #aaa;\n",
              "        }\n",
              "      </style>"
            ]
          },
          "metadata": {}
        },
        {
          "output_type": "display_data",
          "data": {
            "text/plain": [
              "import numpy as np\n",
              "from google.colab import autoviz\n",
              "\n",
              "def histogram(df, colname, num_bins=20, figscale=1):\n",
              "  from matplotlib import pyplot as plt\n",
              "  df[colname].plot(kind='hist', bins=num_bins, title=colname, figsize=(8*figscale, 4*figscale))\n",
              "  plt.gca().spines[['top', 'right',]].set_visible(False)\n",
              "  plt.tight_layout()\n",
              "  return autoviz.MplChart.from_current_mpl_state()\n",
              "\n",
              "chart = histogram(_df_4, *['Ano'], **{})\n",
              "chart"
            ],
            "text/html": [
              "      <div class=\"colab-quickchart-chart-with-code\" id=\"chart-f4c5a583-8aa3-42a9-a0db-ddfb5ad85d8c\">\n",
              "        <img src=\"data:image/png;base64,iVBORw0KGgoAAAANSUhEUgAAAYwAAADECAYAAACMRRb/AAAAOXRFWHRTb2Z0d2FyZQBNYXRwbG90\n",
              "bGliIHZlcnNpb24zLjcuMSwgaHR0cHM6Ly9tYXRwbG90bGliLm9yZy/bCgiHAAAACXBIWXMAAA9h\n",
              "AAAPYQGoP6dpAAASUklEQVR4nO3deWwU9f/H8de26HJoOYrYgkCBHh70kEpTwUZRMeLXAKKJeERQ\n",
              "SYlH0GAiJUq8CPUWxABCTFUwiiholKgo4o2UQ0Al3C0UpRQFW1BYoP38/uDHpmuhfGa7052uz0cy\n",
              "SXc+szvvdzbbV2c+3RmfMcYIAIDTiIt2AQCAloHAAABYITAAAFYIDACAFQIDAGCFwAAAWCEwAABW\n",
              "CAwAgBUCAwBghcAAAFghMAALJSUl8vl8KioqinYpQNT4uJYUcHr9+/dXWVmZ4uLiVFFRIb/fH+2S\n",
              "gGbHEQZwGitXrtSqVas0b948VVdXa8GCBcGx0aNHa+TIkbr//vuVmJioc889V5MmTQp5/vLly1VQ\n",
              "UKCOHTuqV69eKioqUiAQaO42gCYjMIDTmDFjhnJycnTttdfqhhtu0IwZM0LGFy1apMsuu0xVVVX6\n",
              "4IMP9PTTT2vZsmWSpJ07d+rqq6/WjTfeqD179mjJkiX66KOPNGHChGi0AjQJgQE0Yv/+/Zo/f74K\n",
              "CwslSYWFhVq+fLnWrVsX3GbgwIEaOXKk4uPjdemllyonJ0elpaWSpLfeekvp6el68MEHdeaZZyot\n",
              "LU2TJ0/W7NmzxdlgtDQEBtCIE5Pdt912myRp0KBBSk1NDTnK6Nq1a8hz2rVrpwMHDkiSKioq1KdP\n",
              "n5Dx1NRUHTp0SHv37nW5eiCyCAzgFIwxmjVrlo4cOaL09HQlJSUpOTlZu3bt0ltvvaWamprTvkb3\n",
              "7t21ffv2kHXbtm1TmzZtdM4557hVOuAKAgM4hc8//1xbtmzRkiVLtHbt2uCyfv16SdIbb7xx2te4\n",
              "9dZbtWnTJk2fPl1HjhzRtm3bNGnSJI0ZM0Y+n8/tFoCIIjCAU5g5c6auvvpqDRo0SElJScElLS1N\n",
              "Y8aM0cyZM0/7Gj179tSSJUs0f/58denSRVdeeaWGDBmiZ599thk6ACKL72EAAKxwhAEAsEJgAACs\n",
              "EBgAACsEBgDACoEBALBCYAAArBAYAAArng2MadOmRbsEAEA9ng2MHTt2RLsEAEA9ng0MAIC3EBgA\n",
              "ACsEBgDACoEBALBCYAAArLSKdgFuSSla3KTnlz/9vwhVAgCxgSMMAIAVAgMAYIXAAABYITAAAFYI\n",
              "DACAFQIDAGCFwAAAWCEwAABWCAwAgBUCAwBghcAAAFghMAAAVggMAIAVAgMAYMXVwAgEArr//vuV\n",
              "lpamzMxM3X777W7uDgDgIlfvh1FUVCSfz6fNmzfL5/OpsrLSzd0BAFzkWmD8/fffeu2117Rr1y75\n",
              "fD5JUlJSklu7AwC4zLVTUtu2bVOnTp00ZcoUXXLJJSooKNDSpUtPum0gEFBNTU3IUltb61ZpAIAw\n",
              "uBYYx44d044dO3ThhRdq1apVevnll3XzzTdrz549DbYtLi5W+/btQ5bS0lK3SgMAhMG1wOjRo4fi\n",
              "4uJ02223SZIuvvhi9erVSz///HODbSdOnKjq6uqQJS8vz63SAABhcC0wOnfurKuuukqfffaZJKms\n",
              "rExlZWW64IILGmzr9/uVkJAQssTHx7tVGgAgDK7+l9SsWbN09913a8KECYqLi9Orr76qbt26ublL\n",
              "AIBLXA2M3r17a9myZW7uAgDQTPimNwDACoEBALBCYAAArBAYAAArBAYAwAqBAQCwQmAAAKwQGAAA\n",
              "KwQGAMAKgQEAsEJgAACsEBgAACuOA+PE5coBAP8tjgPjySefVEZGhqZNm6aamho3agIAeJDjwPj+\n",
              "++/1zjvv6JdfflF6erruvfdebdiwwY3aAAAeEtYcxsUXX6w5c+bo008/1ccff6ysrCwNHjz4pLdf\n",
              "BQDEhrAC44svvtCwYcM0YsQI3XfffaqsrNTYsWN1ww03RLo+AIBHOL7j3gUXXKDOnTtr3LhxGjFi\n",
              "RPDe2zfddJNee+21iBcIAPAGx4Exb9485ebmnnTsk08+aXJBAABvcnxKavXq1dq3b1/w8Z9//qk5\n",
              "c+ZEtCgAgPc4DowZM2aoU6dOwceJiYmaMWNGRIsCAHiP48AwxjRYV1tbG5FiAADe5TgwkpOT9e67\n",
              "7wYfz58/X8nJyREtCgDgPY4nvadOnaphw4bp4YcfliS1bdtWH374YcQLAwB4i+PAOP/887VhwwZt\n",
              "2rRJkpSRkRH811oAQOxyHBiS5PP51KFDBx07dky//fabJKlHjx4RLQwA4C2OA+P111/XuHHjdMYZ\n",
              "Zygu7vgUiM/nU1VVVcSLAwB4h+PAeOqpp7Ry5UplZGS4UQ8AwKMc/5dU586dHYdFSUmJfD6fPvjg\n",
              "A6e7AwB4hOPAGD58uKZOnaqqqirV1NQEl1MpLy/XnDlzlJ+f36RCAQDR5TgwHnnkEY0fP15JSUnq\n",
              "2LGjOnTooI4dO55027q6Oo0ZM0bTp0+X3+9vcrEAgOhxPIdRV1dnve2LL76ogQMHnvJihScEAgEF\n",
              "AoGQdXx7HAC8Jaz7YaxevVpz586VJP3111/avXt3g21++eUXvf/++3r00UdP+3rFxcVq3759yFJa\n",
              "WhpOaQAAl4R18cG77rpLjz/+uKTjV6u99dZbG2z37bffqry8XGlpaUpJSdGPP/6owsJCzZw5s8G2\n",
              "EydOVHV1dciSl5fnvBsAgGscB8bs2bP1448/KiEhQZLUp08f7d27t8F299xzj3bv3q3y8nKVl5cr\n",
              "Pz9fs2fP1j333NNgW7/fr4SEhJCFb48DgLc4Dgy/3682bdqErGvVKqwvjAMAWhDHv+nPOeccbd68\n",
              "WT6fT9Lxb37bXBbkq6++clwcAMA7wrpa7S233KKNGzeqe/fuSkhI0Mcff+xGbQAAD3EcGKmpqVqx\n",
              "YoU2bdokYwxXqwWA/wjHgbFz505JUrt27SSJq9UCwH+E48DIzc2Vz+eTMUaHDx/WP//8o8TERK5W\n",
              "CwAxznFg/PtfaBcuXKh169ZFrCAAgDeF9U3v+kaMGKHFixdHohYAgIc5PsKof2Xa2tparVixotGr\n",
              "1QIAYoPjwOjQoUNwDiM+Pl5paWl6+eWX3agNAOAhrl6tFgAQO5o8hwEA+G9wfIQRFxcXvCxIfcYY\n",
              "+Xw+7mMBADHKcWA8+eSTOnToUPCqs7NmzVKbNm304IMPRro2AICHOA6MRYsWafXq1cHHkydPVm5u\n",
              "rh555JGIFgYA8BbHcxgHDhwI+VZ3VVWVDhw4ENGiAADe4/gI46GHHlJ2drauu+46SdKnn34avPse\n",
              "ACB2OQ6MsWPHauDAgVq2bJkkafz48brooosiXhgAwFvCulVeYmKiMjMzdcUVV+jYsWM6cuSIzjzz\n",
              "zEjXBgDwEMdzGO+9957y8/N15513SpJ+/fVXDR8+PNJ1AQA8xnFgFBcXa82aNerQoYMkKTs7Wzt2\n",
              "7Ih0XQAAj3EcGPHx8UpMTAxZx+koAIh9jgPj7LPP1p49e4Lf9l66dKk6deoU8cIAAN7ieNL7mWee\n",
              "0ZAhQ7R9+3ZddtllKisr434YAPAf4Cgw6urqVFtbq2XLlumHH36QMUYDBgwIzmcAAGKXo8CIi4tT\n",
              "YWGh1q1bpyFDhrhVEwDAgxzPYaSlpWnr1q1u1AIA8DDHcxj79u1TTk6OBgwYoLPOOiu4fuHChREt\n",
              "DADgLdaBUVhYqNmzZ2vUqFEaOnSoOnbs6GZdAACPsQ6MVatWSZJGjRqlfv36ac2aNa4VBQDwnrBu\n",
              "0WqMiXQdAACPsz7COHTokH7++WcZY3T48OHgzydkZWWFbH/48GGNHDlSGzZsUJs2bdSlSxfNnDlT\n",
              "qampkaseANBsHAXG0KFDg4/r/+zz+bR9+/YGzyksLNSQIUPk8/n0yiuvaMyYMfrqq6+aVjEAICqs\n",
              "A6O8vNzRC7du3Tp4kyVJys/P1/PPP+/oNQAA3hHW/TDCMW3aNA0bNuykY4FAQIFAIGRdbW1tc5QF\n",
              "ALAU1qS3U1OmTNHWrVtVXFx80vHi4mK1b98+ZCktLW2O0gAAllwPjOeff14LFy7UJ598orZt2550\n",
              "m4kTJ6q6ujpkycvLc7s0AIADrp6SevHFF/X222/riy++aPQChX6/X36/P2RdfHy8m6UBABxyLTB2\n",
              "7dqlhx56SL1799agQYMkHQ+GFStWuLVLAICLXAuM8847jy/4AUAMaZZJbwBAy0dgAACsEBgAACsE\n",
              "BgDACoEBALBCYAAArBAYAAArBAYAwAqBAQCwQmAAAKwQGAAAKwQGAMAKgQEAsEJgAACsNNs9vQEA\n",
              "J5dStLhJzy9/+n8RqqRxHGEAAKwQGAAAKwQGAMAKgQEAsEJgAACsEBgAACsEBgDACoEBALBCYAAA\n",
              "rBAYAAArBAYAwAqBAQCwQmAAAKy4GhhbtmzRgAEDlJ6erv79++vXX391c3cAABe5Ghhjx45VYWGh\n",
              "Nm/erAkTJmj06NFu7g4A4CLXAqOqqkqrVq3S7bffLkm68cYbVVFRoa1bt7q1SwCAi1y7gVJFRYWS\n",
              "k5PVqtXxXfh8PvXo0UM7d+5UampqyLaBQECBQCBkXW1trVulAQDC4Ik77hUXF+uJJ54IWXf++edr\n",
              "/PjxYb1ebW2tkktLlZeXp/j4+LBeY/z4pWE9L9Jqa2tV2sRevCSW+qEXb2qJvYxoZMymn6b+vurZ\n",
              "s6ceeOCB027nM8aYJu3pFKqqqpSamqp9+/apVatWMsYoOTlZ3333ndURht/vl9/vD2vfNTU1at++\n",
              "vaqrq5WQkBB2D14QS71IsdUPvXhTLPUieasf1+YwunTpon79+mnevHmSpPfff1/nnXdeg7CQjodD\n",
              "QkJCyBJuWAAA3OHqKalXX31Vo0eP1pQpU5SQkKCSkhI3dwcAcJGrgZGRkaHly5e7uQsAQDOJyW96\n",
              "+/1+PfbYYzFxWiuWepFiqx968aZY6kXyVj+uTXoDAGJLTB5hAAAij8AAAFghMAAAVmIuMLx6hdyU\n",
              "lBRlZGQoJydHOTk5mj9/vqTG63VjLBzjxo1TSkqKfD6f1q5d62p9bvd1ql5O9f54uZfDhw9r+PDh\n",
              "Sk9PV3Z2tgYPHhy8VltVVZWuvfZapaWlqW/fvvrmm2+Cz2vusab2csUVV6hXr17B9+all17ydC+S\n",
              "dM011ygrK0s5OTkqKCjQTz/9JKllfmZCmBgzaNAgU1JSYowxZsGCBeaSSy6JbkH/r2fPnuann35q\n",
              "sL6xet0YC8fXX39tKioqGvTQ3LVHoq9T9XKq98fLvRw6dMgsXrzY1NXVGWOMmT59urn88suNMcbc\n",
              "eeed5rHHHjPGGFNaWmq6detmjhw5EpWxpvZy+eWXm0WLFp30eV7sxRhj9u/fH/x54cKFJisryxjT\n",
              "Mj8z9cVUYOzZs8ecffbZ5ujRo8YYY+rq6sy5555rtmzZEuXKTv4LqbF63RiLZA/NXXuk+7INjJbQ\n",
              "ywkrV640PXv2NMYY065dO7N79+7gWP/+/c3nn38elbGm9tJYYLSEXkpKSkx2dnaL/8wYY0xMnZJq\n",
              "7Aq5XnDHHXcoMzNTd999t/bu3dtovW6MRVJz194cff37/YlGn00xbdo0DRs2TH/++aeOHj2qpKSk\n",
              "4FhKSop27tzZ7GNN7eWEoqIiZWZm6uabb9b27dslyfO93HHHHerevbsmTZqkuXPnxsRnJqYCw8u+\n",
              "+eYbrV+/XmvWrFHnzp01atSoaJeEelr6+zNlyhRt3bpVxcXF0S6lyf7dy9y5c7Vx40atX79eBQUF\n",
              "uv7666NcoZ0333xTFRUVmjx5siZMmBDtciIj7GMTD/LyKan6fv/9d3PWWWe1mMPQE2L5lFR9J96f\n",
              "aPQZjueee87k5uaGnDdv27btKU+rNPdYU3v5N7/fb/744w/P91Jf69atTWVlZYv+zBgTY3MYxhw/\n",
              "31l/kic3Nze6BRljDh48GPIBeOGFF0xBQYExpvF63Rhrin//km3u2iPZV/1eGnt/vN7LCy+8YPr1\n",
              "62f27dsXsn7UqFEhE7ddu3YNTtw291hTejl69KiprKwMPn7vvfdMjx49otanjf3795vffvst+HjR\n",
              "okWmW7dupq6urkV/ZoyJwcDYuHGjyc/PN2lpaSY3N9esX78+2iWZbdu2mZycHJOZmWn69u1rhg4d\n",
              "asrKyowxjdfrxlg4CgsLTbdu3Ux8fLzp0qWL6dOnT1Rqj0RfJ+ulsffHy71UVFQYSaZ3794mOzvb\n",
              "ZGdnm7y8PGOMMZWVlWbw4MEmNTXVXHjhhebLL78MPq+5x5rSy8GDB01ubq7p27evycrKMldeeaVZ\n",
              "u3atp3spLy83/fv3D9Z81VVXBf84aYmfmfq4lhQAwAqT3gAAKwQGAMAKgQEAsEJgAACsEBgAACsE\n",
              "BgDACoEBALBCYAAArBAYAAArBAYAwAqBAQCw8n8vXzs6kUD2NwAAAABJRU5ErkJggg==\n",
              "\">\n",
              "        \n",
              "      </div>\n",
              "      <script></script>\n",
              "      <script type=\"text/javascript\">\n",
              "        (() => {\n",
              "          const chartElement = document.getElementById(\"chart-f4c5a583-8aa3-42a9-a0db-ddfb5ad85d8c\");\n",
              "          async function getCodeForChartHandler(event) {\n",
              "            const chartCodeResponse =  await google.colab.kernel.invokeFunction(\n",
              "                'getCodeForChart', [\"chart-f4c5a583-8aa3-42a9-a0db-ddfb5ad85d8c\"], {});\n",
              "            const responseJson = chartCodeResponse.data['application/json'];\n",
              "            await google.colab.notebook.addCell(responseJson.code, 'code');\n",
              "          }\n",
              "          chartElement.onclick = getCodeForChartHandler;\n",
              "        })();\n",
              "      </script>\n",
              "      <style>\n",
              "        .colab-quickchart-chart-with-code  {\n",
              "            display: block;\n",
              "            float: left;\n",
              "            border: 1px solid transparent;\n",
              "        }\n",
              "\n",
              "        .colab-quickchart-chart-with-code:hover {\n",
              "            cursor: pointer;\n",
              "            border: 1px solid #aaa;\n",
              "        }\n",
              "      </style>"
            ]
          },
          "metadata": {}
        },
        {
          "output_type": "display_data",
          "data": {
            "text/plain": [
              "import numpy as np\n",
              "from google.colab import autoviz\n",
              "\n",
              "def histogram(df, colname, num_bins=20, figscale=1):\n",
              "  from matplotlib import pyplot as plt\n",
              "  df[colname].plot(kind='hist', bins=num_bins, title=colname, figsize=(8*figscale, 4*figscale))\n",
              "  plt.gca().spines[['top', 'right',]].set_visible(False)\n",
              "  plt.tight_layout()\n",
              "  return autoviz.MplChart.from_current_mpl_state()\n",
              "\n",
              "chart = histogram(_df_5, *['Ano de Frequência'], **{})\n",
              "chart"
            ],
            "text/html": [
              "      <div class=\"colab-quickchart-chart-with-code\" id=\"chart-ddacddd5-035a-495a-902f-8ec411fe9149\">\n",
              "        <img src=\"data:image/png;base64,iVBORw0KGgoAAAANSUhEUgAAAYwAAADECAYAAACMRRb/AAAAOXRFWHRTb2Z0d2FyZQBNYXRwbG90\n",
              "bGliIHZlcnNpb24zLjcuMSwgaHR0cHM6Ly9tYXRwbG90bGliLm9yZy/bCgiHAAAACXBIWXMAAA9h\n",
              "AAAPYQGoP6dpAAAYQUlEQVR4nO3de1BU9/kG8OcAuqLIRRAhIKKARCsXRS01oYka29qmakyNSbQB\n",
              "K8EmTbWjM4pjrYlxIKm3qK3XJphqJrVGTDua2ChqvN8veCkKCooXhIiCKKzs8vYPf+6PFTBnlz1w\n",
              "WJ/PzJlxz/e757wvO8vjnsOeo4iIgIiI6Hu4NHcBRETUMjAwiIhIFQYGERGpwsAgIiJVGBhERKQK\n",
              "A4OIiFRhYBARkSoMDCIiUoWBQUREqjAw6IkQHByM1atXN3cZmvjqq6/QqVMnzJ0716Hb3b17Nzw8\n",
              "PGA2mx26XWq5GBikuYyMDCiKgtTU1OYuxW5JSUlo1aoVPDw8LEtoaGhzl4ULFy5g7ty5yMnJwb59\n",
              "+7B9+3aHbTshIQEVFRVwdXV12DapZVN4LSnSWr9+/ZCfnw8XFxcUFhbCYDA0eQ3BwcGYM2cOkpKS\n",
              "7Hp+UlISTCYT1q5d+71zq6ur0apVK7v2Q6Rn/IRBmjp8+DCOHDmCtWvXoqysDOvXr7caT0pKwquv\n",
              "vop33nkHvr6+6NSpE2bOnGk1Z//+/UhISICPjw+6du2K1NRUGI3GBvdZUVGB8ePHw9fXF0FBQVi0\n",
              "aFGdOTk5OXjxxRfRqVMnBAUF4e2338bdu3ft6lFRFCxcuBADBgxAu3btsGHDBpjNZsyfPx89evSA\n",
              "l5cX4uLikJWVZfW8uXPnIiQkBN7e3khOTsYrr7xiFWiKomDbtm2WxwUFBVAUBXl5eZZ1X331FX74\n",
              "wx/Cx8cHERERWLx4cZ35n376KWJiYtC+fXvEx8fj7NmzljkmkwkLFixAz5490b59ewQHB+PDDz8E\n",
              "AOzcuROKosBkMlkeDxgwAL6+vvDx8cGgQYNw4sQJu35m1EIJkYaSkpIkNjZWRERGjx4tP/rRj6zG\n",
              "ExMTpXXr1vL555+LyWSSffv2iZubm2zfvl1ERC5duiRt27aVhQsXitFolPPnz0vPnj1l0qRJDe7z\n",
              "zTfflN69e0thYaFUVFRIUlKSuLq6SkZGhoiIlJSUiJ+fnyxYsECqqqqkpKREBg8eLMnJyQ1uMzEx\n",
              "UcaMGVPvGACJjIyUM2fOSE1Njdy7d09mzZolMTExkpOTI2azWTIzM6Vt27aSl5cnIiKfffaZeHt7\n",
              "y969e+X+/fuyYsUKcXNzk8TERKvtbt261fI4Pz9fAEhubq6IiGzfvl28vLxk27ZtYjab5dSpUxIc\n",
              "HCxr1661mj948GC5du2aVFZWyssvvyw//vGPLducMWOGhIWFycGDB8VsNsvNmzdl3759IiKyY8cO\n",
              "ASDV1dUiIrJnzx7Zu3evGI1GKS8vlzfffFNCQkLEaDQ2+HMj58LAIM2UlpaKu7u7LF26VEREsrKy\n",
              "BICcOHHCMicxMVEGDhxo9by+ffvKBx98ICIiaWlplsB5KDMzU9zd3aWmpqbOPs1msxgMBvn3v/9t\n",
              "WXf79m1RFMUSGPPnz5f4+Hir5+3Zs0dat24tJpOp3l4SExOlVatW4uXlZVnmzJkjIg9+sS9fvtxq\n",
              "vqenp2zZssVq3QsvvCDvv/++5d+TJ0+2Gu/Tp49NgfHLX/5SUlNTrbYxZ84cGTx4sNX8b7/91jK+\n",
              "adMmcXd3FxGRmpoa8fDwkPXr19fb86OB8ajS0lIBINnZ2fWOk/Nxa57PNfQkeHiye8yYMQCAgQMH\n",
              "Ijw8HEuXLsWKFSss85566imr57Vr1w537twBABQWFiIsLMxqPDw8HJWVlSgpKYG/v7/VWElJCYxG\n",
              "I7p27WpZ5+XlhQ4dOlge5+bm4ujRo/D29rasExEoioKioiIEBQXV288rr7zS4DmM2vu7ceMGysvL\n",
              "MWrUKLi4/P9R3+rqaoSHhwMArly5guHDhze4DTVyc3Oxbds2LFu2zLLObDYjJCTEal7tn2+7du1Q\n",
              "WVkJk8mEW7duoaKiApGRkar2l52djRkzZuDYsWO4c+eOpbfi4mKb6qaWi+cwSBMiguXLl+P+/fvo\n",
              "3r07AgICEBgYiCtXruCzzz5DeXm5qu107twZFy9etFp34cIFuLu7o2PHjnXmd+zYEQaDAQUFBZZ1\n",
              "ZWVluHXrluVxQEAAnn32Wdy+fduylJWVoaqqqsGw+D61g8Hb2xtt2rTBpk2brPZx9+5dyy/34OBg\n",
              "qxoB1Hns4eFhdV7l2rVrVuMBAQFITU212sedO3dw5swZVTX7+fnBw8MD58+fVzV/1KhRCAsLw+nT\n",
              "p1FeXo78/HwAD15rejIwMEgTW7duRW5uLr755hucOHHCsmRnZwMAPv30U1Xbef3113Hu3DksWbIE\n",
              "9+/fx4ULFzBz5kwkJydDUZQ6811cXDB27Fi8++67uHr1Ku7evYspU6ZYzR03bhyOHz+OpUuX4t69\n",
              "exARFBYW4ssvv3RI7waDAb/97W8xdepU/Pe//4WIoLKyErt27bL8ck5MTMQnn3yCAwcOwGQy4W9/\n",
              "+xtOnjxptZ2+ffti9erVqKqqwo0bN/Dee+9ZjU+aNAlLlixBVlYWTCYTTCYTTp8+jV27dqmqU1EU\n",
              "/P73v8f06dNx5MgRiAhKS0uxf//+eueXlZXB09MTXl5eKC0txZQpU+z46VBLxsAgTSxbtgwvvPAC\n",
              "Bg4ciICAAMsSERGB5ORkq8Moj9OlSxd88803WLduHfz9/TFo0CAMHToUf/7znxt8zsKFCxEVFYWo\n",
              "qCh0794dUVFRCAgIsIyHhIRg//792Lp1K8LCwuDt7Y2f/vSnOHXqVKP7fmjevHl47bXXMGrUKHh7\n",
              "eyM0NBTp6emorq4GAIwZMwZTp07FqFGj4OfnhwMHDuCll16y2sZf//pXFBUVwc/PD0OGDMGvf/1r\n",
              "q/ERI0ZgzZo1+NOf/gR/f3/4+/sjOTkZ3333neo6Z8+ejeTkZIwZMwbt27dHdHQ0du/eXe/cTz75\n",
              "BOvXr7f8tdXQoUNt/KlQS8fvYRDpxNixY+Hm5ua030inlo+fMIiISBUGBhERqcJDUkREpAo/YRAR\n",
              "kSoMDCIiUoWBQUREqjAwiIhIFd0GRn2XpCYiouaj28C4dOlSc5dARES16DYwiIhIXxgYRESkCgOD\n",
              "iIhUYWAQEZEqDAwiIlLFaW/RGpq6uVHPL/jgFw6qhIjIOfATBhERqcLAICIiVRgYRESkCgODiIhU\n",
              "YWAQEZEqDAwiIlKFgUFERKowMIiISBUGBhERqcLAICIiVRgYRESkCgODiIhUYWAQEZEqDAwiIlJF\n",
              "08AwGo145513EBERgaioKIwdO1bL3RERkYY0vR9GamoqFEXB+fPnoSgKioqKtNwdERFpSLPAuHv3\n",
              "Lj7++GNcuXIFiqIAAAICArTaHRERaUyzQ1IXLlxAhw4dkJaWhr59+yIhIQFZWVn1zjUajSgvL7da\n",
              "zGazVqUREZEdNAsMk8mES5cuoWfPnjhy5AgWL16M0aNH48aNG3Xmpqenw8vLy2o5dOiQVqUREZEd\n",
              "NAuMkJAQuLi4YMyYMQCA3r17o2vXrjh16lSdudOnT0dZWZnV0r9/f61KIyIiO2gWGH5+fhg8eDD+\n",
              "85//AADy8/ORn5+PHj161JlrMBjg6elptbi6umpVGhER2UHTv5Javnw5xo8fj2nTpsHFxQUrVqxA\n",
              "UFCQlrskIiKNaBoY3bp1w44dO7TcBRERNRF+05uIiFRhYBARkSoMDCIiUoWBQUREqjAwiIhIFQYG\n",
              "ERGpwsAgIiJVGBhERKQKA4OIiFRhYBARkSoMDCIiUoWBQUREqtgcGA8vV05ERE8WmwNj9uzZiIyM\n",
              "xKJFi1BeXq5FTUREpEM2B8bevXvxj3/8A6dPn0b37t3x9ttv4+zZs1rURkREOmLXOYzevXtj1apV\n",
              "2LJlCzZt2oTo6GgMGTKk3tuvEhGRc7ArMLZt24bhw4dj5MiR+N3vfoeioiJMmDABL730kqPrIyIi\n",
              "nbD5jns9evSAn58fJk6ciJEjR1ruvf2rX/0KH3/8scMLJCIifbA5MNauXYu4uLh6x77++utGF0RE\n",
              "RPpk8yGpo0ePorS01PL45s2bWLVqlUOLIiIi/bE5MJYuXYoOHTpYHvv6+mLp0qUOLYqIiPTH5sAQ\n",
              "kTrrzGazQ4ohIiL9sjkwAgMD8c9//tPyeN26dQgMDHRoUUREpD82n/T+6KOPMHz4cEydOhUA0LZt\n",
              "W/zrX/9yeGFERKQvNgfG008/jbNnz+LcuXMAgMjISMuf1hIRkfOyOTAAQFEUeHt7w2Qy4erVqwCA\n",
              "kJAQhxZGRET6YnNgrF69GhMnTkSrVq3g4vLgFIiiKCguLnZ4cUREpB82B8b777+Pw4cPIzIyUot6\n",
              "iIhIp2z+Kyk/Pz+bwyIjIwOKouDLL7+0dXdERKQTNgfGiBEj8NFHH6G4uBjl5eWWpSEFBQVYtWoV\n",
              "4uPjG1UoERE1L5sDY8aMGZg8eTICAgLg4+MDb29v+Pj41Du3pqYGycnJWLJkCQwGQ6OLJSKi5mPz\n",
              "OYyamhrVcxcsWIBnnnmmwYsVPmQ0GmE0Gq3W8dvjRET6Ytf9MI4ePYo1a9YAAG7fvo3r16/XmXP6\n",
              "9Gls2LABf/zjH793e+np6fDy8rJaDh06ZE9pRESkEbsuPvib3/wG7777LoAHV6t9/fXX68zbvXs3\n",
              "CgoKEBERgdDQUBw4cAApKSlYtmxZnbnTp09HWVmZ1dK/f3/buyEiIs3YHBgrV67EgQMH4OnpCQAI\n",
              "CwtDSUlJnXlvvfUWrl+/joKCAhQUFCA+Ph4rV67EW2+9VWeuwWCAp6en1cJvjxMR6YvNgWEwGODu\n",
              "7m61zs3Nri+MExFRC2Lzb/qOHTvi/PnzUBQFwINvfqu5LMjOnTttLo6IiPTDrqvVvvbaa8jJyUHn\n",
              "zp3h6emJTZs2aVEbERHpiM2BER4ejoMHD+LcuXMQEV6tlojoCWFzYFy+fBkA0K5dOwDg1WqJiJ4Q\n",
              "NgdGXFwcFEWBiKCqqgr37t2Dr68vr1ZLROTkbA6MR/+ENjMzEydPnnRYQUREpE92fdO7tpEjR2Lz\n",
              "5s2OqIWIiHTM5k8Yta9MazabcfDgwcderZaIiJyDzYHh7e1tOYfh6uqKiIgILF68WIvaiIhIRzS9\n",
              "Wi0RETmPRp/DICKiJ4PNnzBcXFwslwWpTUSgKArvY0FE5KRsDozZs2ejsrLSctXZ5cuXw93dHX/4\n",
              "wx8cXRsREemIzYGxceNGHD161PJ4zpw5iIuLw4wZMxxaGBER6YvN5zDu3Llj9a3u4uJi3Llzx6FF\n",
              "ERGR/tj8CWPKlCmIiYnBz3/+cwDAli1bLHffIyIi52VzYEyYMAHPPPMMduzYAQCYPHkyfvCDHzi8\n",
              "MCIi0he7bpXn6+uLqKgoPP/88zCZTLh//z5at27t6NqIiEhHbD6H8cUXXyA+Ph7jxo0DAJw5cwYj\n",
              "RoxwdF1ERKQzNgdGeno6jh07Bm9vbwBATEwMLl265Oi6iIhIZ2wODFdXV/j6+lqt4+EoIiLnZ3Ng\n",
              "tG/fHjdu3LB82zsrKwsdOnRweGFERKQvNp/0/vDDDzF06FBcvHgRzz77LPLz83k/DCKiJ4BNgVFT\n",
              "UwOz2YwdO3Zg3759EBEMGDDAcj6DiIicl02B4eLigpSUFJw8eRJDhw7VqiYiItIhm89hREREIC8v\n",
              "T4taiIhIx2w+h1FaWorY2FgMGDAAHh4elvWZmZkOLYyIiPRFdWCkpKRg5cqVSExMxLBhw+Dj46Nl\n",
              "XUREpDOqA+PIkSMAgMTERPTp0wfHjh3TrCgiItIfu27RKiKOroOIiHRO9SeMyspKnDp1CiKCqqoq\n",
              "y78fio6OtppfVVWFV199FWfPnoW7uzv8/f2xbNkyhIeHO656IiJqMjYFxrBhwyyPa/9bURRcvHix\n",
              "znNSUlIwdOhQKIqCv/zlL0hOTsbOnTsbVzERETUL1YFRUFBg04bbtGljuckSAMTHx2PevHk2bYOI\n",
              "iPTDrvth2GPRokUYPnx4vWNGoxFGo9FqndlsboqyiIhIJbtOetsqLS0NeXl5SE9Pr3c8PT0dXl5e\n",
              "VsuhQ4eaojQiIlJJ88CYN28eMjMz8fXXX6Nt27b1zpk+fTrKysqslv79+2tdGhER2UDTQ1ILFizA\n",
              "559/jm3btj32AoUGgwEGg8Fqnaurq5alERGRjTQLjCtXrmDKlCno1q0bBg4cCOBBMBw8eFCrXRIR\n",
              "kYY0C4zg4GB+wY+IyIk0yUlvIiJq+RgYRESkCgODiIhUYWAQEZEqDAwiIlKFgUFERKowMIiISBUG\n",
              "BhERqcLAICIiVRgYRESkCgODiIhUYWAQEZEqDAwiIlKFgUFERKo02T29iYiofqGpmxv1/IIPfuGg\n",
              "Sh6PnzCIiEgVBgYREanCwCAiIlUYGEREpAoDg4iIVGFgEBGRKgwMIiJShYFBRESqMDCIiEgVBgYR\n",
              "EanCwCAiIlUYGEREpAoDg4iIVNE0MHJzczFgwAB0794d/fr1w5kzZ7TcHRERaUjTwJgwYQJSUlJw\n",
              "/vx5TJs2DUlJSVrujoiINKRZYBQXF+PIkSMYO3YsAODll19GYWEh8vLytNolERFpSLMbKBUWFiIw\n",
              "MBBubg92oSgKQkJCcPnyZYSHh1vNNRqNMBqNVuvMZrNWpRERkR10cce99PR0vPfee1brnn76aUye\n",
              "PNmu7ZnNZgQeOoT+/fvD1dXVrm1Mnpxl1/MczWw241Aje9ETZ+qHvehTS+xl5GPG1PTT2N9XXbp0\n",
              "waRJk753niIi0qg9NaC4uBjh4eEoLS2Fm5sbRASBgYHYs2ePqk8YBoMBBoPBrn2Xl5fDy8sLZWVl\n",
              "8PT0tLsHPXCmXgDn6oe96JMz9QLoqx/NzmH4+/ujT58+WLt2LQBgw4YNCA4OrhMWwINw8PT0tFrs\n",
              "DQsiItKGpoekVqxYgaSkJKSlpcHT0xMZGRla7o6IiDSkaWBERkZi//79Wu6CiIiaiFN+09tgMGDW\n",
              "rFlOcVjLmXoBnKsf9qJPztQLoK9+NDvpTUREzsUpP2EQEZHjMTCIiEgVBgYREanidIGh1yvkhoaG\n",
              "IjIyErGxsYiNjcW6desAPL5eLcbsMXHiRISGhkJRFJw4cULT+rTuq6FeGnp99NxLVVUVRowYge7d\n",
              "uyMmJgZDhgyxXKutuLgYP/vZzxAREYFevXph165dluc19Vhje3n++efRtWtXy2uzcOFCXfcCAD/5\n",
              "yU8QHR2N2NhYJCQk4Pjx4wBa5nvGijiZgQMHSkZGhoiIrF+/Xvr27du8Bf2fLl26yPHjx+usf1y9\n",
              "WozZ49tvv5XCwsI6PTR17Y7oq6FeGnp99NxLZWWlbN68WWpqakREZMmSJfLcc8+JiMi4ceNk1qxZ\n",
              "IiJy6NAhCQoKkvv37zfLWGN7ee6552Tjxo31Pk+PvYiI3Lp1y/LvzMxMiY6OFpGW+Z6pzakC48aN\n",
              "G9K+fXuprq4WEZGamhrp1KmT5ObmNnNl9f9Cely9Wow5soemrt3RfakNjJbQy0OHDx+WLl26iIhI\n",
              "u3bt5Pr165axfv36ydatW5tlrLG9PC4wWkIvGRkZEhMT0+LfMyIiTnVI6nFXyNWDN954A1FRURg/\n",
              "fjxKSkoeW68WY47U1LU3RV+Pvj7N0WdjLFq0CMOHD8fNmzdRXV2NgIAAy1hoaCguX77c5GON7eWh\n",
              "1NRUREVFYfTo0bh48SIA6L6XN954A507d8bMmTOxZs0ap3jPOFVg6NmuXbuQnZ2NY8eOwc/PD4mJ\n",
              "ic1dEtXS0l+ftLQ05OXlIT09vblLabRHe1mzZg1ycnKQnZ2NhIQEvPjii81coTp///vfUVhYiDlz\n",
              "5mDatGnNXY5j2P3ZRIf0fEiqtmvXromHh0eL+Rj6kDMfkqrt4evTHH3aY+7cuRIXF2d13Lxt27YN\n",
              "HlZp6rHG9vIog8Eg3333ne57qa1NmzZSVFTUot8zIk52DkPkwfHO2id54uLimrcgEamoqLB6A8yf\n",
              "P18SEhJE5PH1ajHWGI/+km3q2h3ZV+1eHvf66L2X+fPnS58+faS0tNRqfWJiotWJ26eeespy4rap\n",
              "xxrTS3V1tRQVFVkef/HFFxISEtJsfapx69YtuXr1quXxxo0bJSgoSGpqalr0e0bECQMjJydH4uPj\n",
              "JSIiQuLi4iQ7O7u5S5ILFy5IbGysREVFSa9evWTYsGGSn58vIo+vV4sxe6SkpEhQUJC4urqKv7+/\n",
              "hIWFNUvtjuirvl4e9/rouZfCwkIBIN26dZOYmBiJiYmR/v37i4hIUVGRDBkyRMLDw6Vnz56yfft2\n",
              "y/OaeqwxvVRUVEhcXJz06tVLoqOjZdCgQXLixAld91JQUCD9+vWz1Dx48GDLf05a4numNl5LioiI\n",
              "VOFJbyIiUoWBQUREqjAwiIhIFQYGERGpwsAgIiJVGBhERKQKA4OIiFRhYBARkSoMDCIiUoWBQURE\n",
              "qjAwiIhIlf8BrJkf1reWjHwAAAAASUVORK5CYII=\n",
              "\">\n",
              "        \n",
              "      </div>\n",
              "      <script></script>\n",
              "      <script type=\"text/javascript\">\n",
              "        (() => {\n",
              "          const chartElement = document.getElementById(\"chart-ddacddd5-035a-495a-902f-8ec411fe9149\");\n",
              "          async function getCodeForChartHandler(event) {\n",
              "            const chartCodeResponse =  await google.colab.kernel.invokeFunction(\n",
              "                'getCodeForChart', [\"chart-ddacddd5-035a-495a-902f-8ec411fe9149\"], {});\n",
              "            const responseJson = chartCodeResponse.data['application/json'];\n",
              "            await google.colab.notebook.addCell(responseJson.code, 'code');\n",
              "          }\n",
              "          chartElement.onclick = getCodeForChartHandler;\n",
              "        })();\n",
              "      </script>\n",
              "      <style>\n",
              "        .colab-quickchart-chart-with-code  {\n",
              "            display: block;\n",
              "            float: left;\n",
              "            border: 1px solid transparent;\n",
              "        }\n",
              "\n",
              "        .colab-quickchart-chart-with-code:hover {\n",
              "            cursor: pointer;\n",
              "            border: 1px solid #aaa;\n",
              "        }\n",
              "      </style>"
            ]
          },
          "metadata": {}
        },
        {
          "output_type": "display_data",
          "data": {
            "text/plain": [
              "<google.colab._quickchart_helpers.SectionTitle at 0x7bc799d845e0>"
            ],
            "text/html": [
              "<h4 class=\"colab-quickchart-section-title\">2-d distributions</h4>\n",
              "<style>\n",
              "  .colab-quickchart-section-title {\n",
              "      clear: both;\n",
              "  }\n",
              "</style>"
            ]
          },
          "metadata": {}
        },
        {
          "output_type": "display_data",
          "data": {
            "text/plain": [
              "import numpy as np\n",
              "from google.colab import autoviz\n",
              "\n",
              "def scatter_plots(df, colname_pairs, figscale=1, alpha=.8):\n",
              "  from matplotlib import pyplot as plt\n",
              "  plt.figure(figsize=(len(colname_pairs) * 6 * figscale, 6 * figscale))\n",
              "  for plot_i, (x_colname, y_colname) in enumerate(colname_pairs, start=1):\n",
              "    ax = plt.subplot(1, len(colname_pairs), plot_i)\n",
              "    df.plot(kind='scatter', x=x_colname, y=y_colname, s=(32 * figscale), alpha=alpha, ax=ax)\n",
              "    ax.spines[['top', 'right',]].set_visible(False)\n",
              "  plt.tight_layout()\n",
              "  return autoviz.MplChart.from_current_mpl_state()\n",
              "\n",
              "chart = scatter_plots(_df_6, *[[['Nº de Ordem', 'Ano'], ['Ano', 'Ano de Frequência']]], **{})\n",
              "chart"
            ],
            "text/html": [
              "      <div class=\"colab-quickchart-chart-with-code\" id=\"chart-aa700a13-7208-4648-b513-6b8284e11e7c\">\n",
              "        <img src=\"data:image/png;base64,iVBORw0KGgoAAAANSUhEUgAAAlMAAAEoCAYAAAB8THR3AAAAOXRFWHRTb2Z0d2FyZQBNYXRwbG90\n",
              "bGliIHZlcnNpb24zLjcuMSwgaHR0cHM6Ly9tYXRwbG90bGliLm9yZy/bCgiHAAAACXBIWXMAAA9h\n",
              "AAAPYQGoP6dpAAAo9ElEQVR4nO3de3QUdZ738U+ThiCXhBnuS2gCdILLBBJyI8QRRLmI64KjiyyX\n",
              "h4AILMFhhzC7wC4zKDqCZ3lQDkeOzA6XHVBuJ5lZZwBnEUF2RQxyiyDRBIjJhADKQLjm/nv+4LHX\n",
              "yC2h0l3d6ffrnDonXb+q6m9Vhy+fVFdXO4wxRgAAALgvTewuAAAAIJARpgAAACwgTAEAAFhAmAIA\n",
              "ALCAMAUAAGABYQoAAMACwhQAAIAFhCkAAAALCFMAAAAWEKbqYPny5XaXAAC10JcA/0GYqoOvvvrK\n",
              "7hIAoBb6EuA/CFMAAAAWEKYAAAAsIEwBAABYQJgCAACwgDAFAABgAWEKAADAAqfdBQAIfPvyv9GG\n",
              "Twp1+pur6t6ulSb0dynV3c7usgAEMV/2JcIUAEv25X+jeVmf6XpFlZo3DVH26Qs6VlyqJU/3IVAB\n",
              "sIWv+xJv8wGwZMMnhbpeUaVOYc31gxbN1Cmsua5XVOntTwrtLg1AkPJ1XyJMAbDk9DdX1bxpiBwO\n",
              "hyTJ4XCoedMQnfrmqs2VAQhWvu5LhCkAlnRv10plldUyxkiSjDEqq6xWj/atbK4MQLDydV/yapga\n",
              "NmyY+vbtq7i4OD388MM6fPiwJCkvL0+pqamKjo5WUlKSjh8/7lnH12MArJnQ36UWzZw6e7lMF69X\n",
              "6OzlMrVo5tT4/i67S7sjehPQuPm8LxkvunjxoufnrKws07dvX2OMMYMHDzZr1641xhizdetWk5iY\n",
              "6FnO12N1MXv27HotDwSbj/K+NukbDprH3/jQpG84aD7K/9ruku6qMfQm+hJwd77sS14NU9+1du1a\n",
              "Exsba86dO2dat25tKisrjTHG1NTUmI4dO5q8vDyfj9UVTQtovAK1N9GXAP/h9VsjTJw4Ubt375Yk\n",
              "bd++XUVFRercubOczptP7XA45HK5VFhYqPDwcJ+Oud3uW+otLy9XeXl5rXnV1dXeOTgAbBNIvYm+\n",
              "BPg3r1+A/tvf/lZFRUV65ZVXNHfuXG8/nWWLFy9WeHh4rSk7O9vusgA0sEDqTfQlwL/57NN8aWlp\n",
              "2r17tyIiIlRSUqKqqipJN6+wLywslMvlUteuXX06djvz589XaWlprSk5OdnbhweATQKhN9GXAP/m\n",
              "tTB16dIlnTlzxvP497//vdq2basOHTooPj5eGzZskCRlZmYqIiJCbrfb52O3ExoaqrCwsFpTSEiI\n",
              "tw4TAB8LxN5EXwL8nLcuxiooKDBJSUkmJibG9O3b1zz22GPm8OHDxhhjcnNzTUpKiomKijIJCQkm\n",
              "JyfHs56vx+qCCz2BxqOx9Cb6EuA/HMb8/zta4Y4yMjK0bNkyu8sAAA/6EuA/uAM6AACABYQpAAAA\n",
              "CwhTAAAAFhCmAAAALCBMAQAAWECYAgAAsIAwBQAAYAFhCgAAwALCFAAAgAWEKQAAAAsIUwAAABYQ\n",
              "pgAAACwgTAEAAFhAmAIAALCAMAUAAGABYQoAAMACwhQAAIAFhCkAAAALCFMAAAAWEKYAAAAsIEwB\n",
              "AABYQJgCAACwgDAFAABgAWEKAADAAsIUAACABYQpAAAACwhTAAAAFngtTJWVlempp55SdHS0YmNj\n",
              "NXToUOXn50uSHnnkEXXv3l1xcXGKi4vT66+/7lnv/PnzevzxxxUVFaWYmBjt3bvXq2MAggu9CUCD\n",
              "M15y48YNs23bNlNTU2OMMWbFihVm0KBBxhhjBg0aZH73u9/ddr3JkyebhQsXGmOMyc7ONl26dDEV\n",
              "FRVeG6uL2bNn13lZAP6tsfQm+hLgP7wWpr7vwIEDplu3bsaYuzesli1bmpKSEs/jpKQks3PnTq+N\n",
              "1QVNC2i8ArU30ZcA/+Gza6aWL1+uUaNGeR7PmzdPffr00ZgxY3Tq1ClJ0oULF1RZWalOnTp5louM\n",
              "jFRhYaFXxm6nvLxcly9frjVVV1c32HEA4F8CoTfRlwD/5pMw9eqrryo/P1+LFy+WJK1fv165ubnK\n",
              "ycnRww8/rCeffNIXZdTJ4sWLFR4eXmvKzs62uywAXhAovYm+BPg3r4eppUuXKisrSzt27FCLFi0k\n",
              "SV27dpUkORwOvfDCCzp16pQuXLigtm3byul06uzZs571CwoK5HK5vDJ2O/Pnz1dpaWmtKTk5uUGP\n",
              "CQD7BVJvoi8B/s2rYWrZsmXauHGjdu7cqTZt2kiSqqqqdO7cOc8ymZmZ6tixo9q2bStJGj16tN56\n",
              "6y1J0oEDB1RcXKxBgwZ5bez7QkNDFRYWVmsKCQlpyMMCwGaB1pvoS4Cf89bFWEVFRUaS6dGjh4mN\n",
              "jTWxsbEmOTnZXL161SQkJJiYmBjTt29f8+ijj5ojR4541jt79qwZOnSocbvdpnfv3uaDDz7w6lhd\n",
              "cKEn0Hg0lt5EXwL8h8MYY+wOdP4uIyNDy5Yts7sMAPCgLwH+gzugAwAAWECYAgAAsIAwBQAAYAFh\n",
              "CgAAwALCFAAAgAWEKQAAAAsIUwAAABYQpgAAACwgTAEAAFhAmAIAALCAMAUAAGABYQoAAMACwhQA\n",
              "AIAFhCkAAAALnHYXAABW3LhxQytWrNCRI0dUVlbmmZ+VlWVjVQCCCWemAAS0qVOnqqCgQPv27dPg\n",
              "wYP11VdfqVu3bnaXBSCIEKYABLSjR49q5cqVCgsL009/+lPt2bNHBw8etLssAEGEMAUgoD3wwAOS\n",
              "JKfTqWvXrql169b6+uuvba4KQDDhmikAAe2HP/yhLl68qCeeeELDhw9Xu3btFBERYXdZAIIIYQpA\n",
              "QNu2bZtCQkL08ssv6+2339alS5c0ceJEu8sCEEQIUwACWkhIiCTJ4XBowoQJNlcDIBgRpgAEpLFj\n",
              "x2rjxo3q16+fHA7HLeOHDh2yoSoAwYgwBSAg/fznP5ckvfHGG/YWAiDoEaYABKSEhARJUv/+/RUa\n",
              "Guo5O1VTU6OKigo7SwMQZLg1AoCA9uijj+ry5cuex1euXNGQIUNsrAhAsCFMAQho169fV3h4uOdx\n",
              "eHi4rl69amNFAIINYQpAQKupqakVni5fvqyqqiobKwIQbLwWpsrKyvTUU08pOjpasbGxGjp0qPLz\n",
              "8yVJ58+f1+OPP66oqCjFxMRo7969nvV8PQYgsI0fP15DhgzRunXrtG7dOg0bNkxpaWl3XJ7eBKDB\n",
              "GS+5ceOG2bZtm6mpqTHGGLNixQozaNAgY4wxkydPNgsXLjTGGJOdnW26dOliKioqbBmri9mzZ9/P\n",
              "IQDgI+vWrTOjR482o0ePNuvXr7/rso2lN9GXAP/htTD1fQcOHDDdunUzxhjTsmVLU1JS4hlLSkoy\n",
              "O3futGWsLmhaQOMVqL2JvgT4D5/dGmH58uUaNWqULly4oMrKSnXq1MkzFhkZqcLCQp+P3U55ebnK\n",
              "y8trzauurra8/wC849KlS1q1apVOnjxZ61qpNWvW1Gn9QOhN9CXAv/kkTL366qvKz8/Xrl27dOPG\n",
              "DV885X1bvHixXnrppVrzUlJSbKoGwL383d/9ndq3b68BAwZ4vlqmrgKlN9GXAP/m9U/zLV26VFlZ\n",
              "WdqxY4datGihtm3byul06uzZs55lCgoK5HK5fD52O/Pnz1dpaWmtKTk5uSEPCYAGVFJSoo0bN2rW\n",
              "rFmaOXOmZ7qXQOpN9CXAv3k1TC1btkwbN27Uzp071aZNG8/80aNH66233pIkHThwQMXFxRo0aJAt\n",
              "Y98XGhqqsLCwWlN9/9oF4Ds9e/bUpUuX6rVOoPUm+hLg57x1MVZRUZGRZHr06GFiY2NNbGysSU5O\n",
              "NsYYc/bsWTN06FDjdrtN7969zQcffOBZz9djdcGFnoD/GjNmjOnevbuZMWOGmT17tme6k8bSm+hL\n",
              "gP9wGGOM3YHO32VkZGjZsmV2lwHgNr5/LdG3Fi5c6ONKfIu+BPgPvugYQEBr7KEJgP/j62QABLSi\n",
              "oiI9+eSTiouLkyQdOXJEr7/+ur1FAQgqhCkAAemNN96QJE2fPl1///d/r2+vWIiJianzPaYAoCEQ\n",
              "pgAEnNWrV3s+hXf+/HlNmDBBTZrcbGdOp1NOJ1cwAPAdwhSAgPPggw9q//79kqSQkBB993M0Fy9e\n",
              "FJ+rAeBL/PkGIOA89NBDatWqlSTp2Wef1fTp03X58mX95je/0VtvvaXnn3/e5goBBBPCFICAFBsb\n",
              "K0maM2eONm7cqNLSUv3Xf/2XMjIyNG7cOJurAxBMCFMAAt7YsWM1duxYu8sAEKQIUwAC2uTJk+Vw\n",
              "OG6Zzyf6APgKYQpAQEtMTPT8XFZWpszMTMXHx9tYEYBgQ5gCENBmzpxZ6/GMGTM0cuRIm6oBEIy4\n",
              "NQKARqV58+b685//bHcZAIIIZ6YABLSMjAzPz9XV1fr0008VExNjY0UAgg1hCkBACw8P9/zsdDo1\n",
              "a9YsPf300zZWBCDYEKYABLSFCxfaXQKAIEeYAhDQFi1adNfxX/7ylz6qBECwIkwBCGgnTpzQrl27\n",
              "NHLkSDkcDr377rt67LHH1KVLF7tLAxAkCFMAAtqFCxd05MgR/dVf/ZWkm2eqJk2apHfeecfmygAE\n",
              "C26NACCgnTlzxhOkJKlz584qLi62sSIAwYYwBSCgRUREaOHChSoqKlJRUZFefPFFRURE2F0WgCBS\n",
              "rzB15coVpaenKzo6WtHR0XrhhRd05coVb9UGAPe0bt06nThxQnFxcerXr59yc3O1bt06u8sCEETq\n",
              "dc1Uenq6WrRooS1btsjhcGjVqlVKT0/X+vXrvVUfANxVp06dtGXLFrvLABDE6hWmcnJydPToUc/j\n",
              "lStXKjY2tsGLAoC6Ki0t1b/+67/qq6++0h/+8Ad9/vnnOnr0qMaOHWt3aQCCRL3e5quurq71tt7V\n",
              "q1dVXV3d4EUBQF1Nnz5dnTp10unTpyVJ3bt312uvvWZzVQCCSb3OTKWlpSklJUVjxoyRJG3ZskWT\n",
              "J0/2SmEAUBdffvmlNm3apMzMTEnSAw88IGOMzVUBCCb1ClP/9E//pJiYGO3atUuStHTpUj3++ONe\n",
              "KQwA6qJZs2a1Ht+4cYMwBcCn6n3TzhEjRmjEiBHeqAUA6m3w4MH61a9+pbKyMr3//vt6/fXX+aJj\n",
              "AD5Vr2umCgoKNGPGDA0bNkyPPvqoZ7qTWbNmKTIyUg6HQ0eOHPHMj4yMVK9evRQXF6e4uDht3rzZ\n",
              "M5aXl6fU1FRFR0crKSlJx48f9+oYgMD28ssvq0mTJgoLC9O//Mu/6KGHHtIvfvGLOy5PXwLQ4Ew9\n",
              "JCUlmXnz5pn//M//NH/84x890518+OGHpqioyHTr1s0cPnzYM//7j79r8ODBZu3atcYYY7Zu3WoS\n",
              "ExO9OlYXs2fPrtfyAHyjqqrKTJgwoV7r0JcANLR6hak+ffrc15PUtWmdO3fOtG7d2lRWVhpjjKmp\n",
              "qTEdO3Y0eXl5XhmrK5oW4L+Sk5Pvaz36EoCGUq9rpmJiYlRYWCiXy2X5jNjEiRNljFFycrKWLFmi\n",
              "9u3bq6ioSJ07d5bTebMsh8Mhl8ulwsJChYeHN/iY2+2+pa7y8nKVl5fXmsftHwD/NXjwYE2bNk2T\n",
              "Jk1Sq1atPPP79u1b723RlwDcj3qFqa+//lqxsbEaMGCAmjdv7pmflZVVryfdu3evXC6XKisrtWDB\n",
              "AqWlpWn79u312oa3LF68WC+99FKteSkpKTZVA+Bevr22aefOnZ55DodDp06dqtd26EsA7le9wtSE\n",
              "CRM0YcIEz+PKykpdvXq13k/67Zmtpk2b6mc/+5mio6MlSV27dlVJSYmqqqrkdDpljPGcCQsLC2vw\n",
              "sduZP3++MjIyas2728WsAOxx6NAhxcfHe27WaRV9CcD9qten+dLS0jw37jx27JgWLFigDRs21OsJ\n",
              "r127pkuXLnkeb9y4Uf369ZMkdejQQfHx8Z5tZmZmKiIiQm632ytjtxMaGqqwsLBaU0hISL32EYD3\n",
              "Pf/8856frd6uhb4EwJK6Xlx17do1s2bNGvPQQw+Zzp07mzZt2pgTJ07cdZ1p06aZLl26mJCQENOh\n",
              "QwfTs2dPc/LkSRMXF2f69OljYmJizMiRI83p06c96+Tm5pqUlBQTFRVlEhISTE5OjlfH6oILPQH/\n",
              "ExcXd9uf74W+BKChOYy5962Cp06dqqysLA0cOFDPPfecRowYoaioqAY7ve7vMjIytGzZMrvLAPAd\n",
              "8fHxOnTo0C0/Bwv6EuA/6nTN1KZNm5SYmKjp06dr+PDhcjgccjgc3q4NAO7o1KlTnjudf/fnb9X3\n",
              "gzEAcL/qFKZKSkq0efNmLVq0SNOmTdPEiRNVWVnp7doA4I6WL1/u+XnUqFE2VgIg2NUpTLVq1UpT\n",
              "pkzRlClT9Pnnn2vNmjWqqKhQamqqJkyYoPT0dG/XCQC1pKWl2V0CAEiq56f5JKl3795aunSpiouL\n",
              "NWfOHG3bts0bdQEAAASEeoepbzmdTj3zzDOEKQAAENTuO0wBAACAMAWgETh48KDWr18vSbp48aJK\n",
              "SkpsrghAMCFMAQhoK1eu1HPPPacXX3xRkvSXv/xF48aNs7coAEGFMAUgoP3617/W/v37FRYWJknq\n",
              "2bOnvv76a5urAhBMCFMAAlpoaKgeeOCBWvOcznp9hzsAWEKYAhDQ2rdvry+//NLzrQzr1q2Ty+Wy\n",
              "uSoAwYQ/3wAEtDfeeENjx45Vbm6uunbtqrCwMP3xj3+0uywAQYQwBSCgud1uffLJJ/riiy9kjFGv\n",
              "Xr0UEhJid1kAgghhCkBAKiwsrPW4ZcuWkqTi4mJJ4q0+AD5DmAIQkBISEjzXSV24cEFNmzaVJFVW\n",
              "Vqpt27Y6f/68neUBCCKEKQAB6dvbH8ydO1dut1tTpkyRJK1Zs0YnT560szQAQYZP8wEIaH/60580\n",
              "depUNWnSRE2aNNHzzz+v9957z+6yAAQRwhSAgFZRUaEvvvjC8/jLL79UeXm5jRUBCDa8zQcgoC1Z\n",
              "skQPPfSQYmNjJUk5OTlas2aNzVUBCCaEKQABbeTIkTpx4oT2798vSRowYIDatWtnc1UAgglhCkDA\n",
              "a9++vf72b//W7jIABCmumQIAALCAMAUAAGABYQoAAMACwhSAgHblyhWlp6crOjpa0dHReuGFF3Tl\n",
              "yhW7ywIQRAhTAAJaenq6qqurtWXLFm3dulU1NTVKT0+3uywAQYRP8wEIaDk5OTp69Kjn8cqVKz33\n",
              "nAIAX+DMFICAVl1dXettvatXr6q6utrGigAEG6+GqVmzZikyMlIOh0NHjhzxzM/Ly1Nqaqqio6OV\n",
              "lJSk48eP2zYGILClpaUpJSVFixYt0qJFi5SSkqLJkyffcXn6EoAGZ7zoww8/NEVFRaZbt27m8OHD\n",
              "nvmDBw82a9euNcYYs3XrVpOYmGjbWF3Mnj27XssD8K3t27ebOXPmmDlz5pgdO3bcdVn6EoCG5tUw\n",
              "9a3vNq1z586Z1q1bm8rKSmOMMTU1NaZjx44mLy/P52N1RdMCGh/6EoCG4vML0IuKitS5c2c5nTef\n",
              "2uFwyOVyqbCwUOHh4T4dc7vdt9RXXl5+yzfOc/0F4L8KCgr02muv6eTJk6qqqvLM/+CDD+q8DfoS\n",
              "ACv4NN/3LF68WC+99FKteSkpKTZVA+Benn32WT322GN64YUXFBISYnc5XkFfAvybz8NU165dVVJS\n",
              "oqqqKjmdThljVFhYKJfLpbCwMJ+O3c78+fOVkZFRa94vfvELXxwaAPehrKxMixcvtrQN+hIAK3x+\n",
              "a4QOHTooPj5eGzZskCRlZmYqIiJCbrfb52O3ExoaqrCwsFpTY/1rF2gMYmJiVFhYaGkb9CUAlnjz\n",
              "gqxp06aZLl26mJCQENOhQwfTs2dPY4wxubm5JiUlxURFRZmEhASTk5PjWcfXY3XBhZ6A/xoyZIhp\n",
              "06aNGTFihPnJT37ime6EvgSgoTmMMcbuQOfvMjIytGzZMrvLAHAb//Ef/3Hb+WlpaT6uxLfoS4D/\n",
              "4AJ0AAHt+6Gpurpaf/jDH2yqBkAw4utkADQKX3zxhf75n/9ZXbp00SuvvGJ3OQCCCGemAASs69ev\n",
              "a/PmzfrNb36j06dP68aNG/r444/14IMP2l0agCDCmSkAAWnq1Knq2rWr3n33Xc2bN0+FhYVq06YN\n",
              "QQqAz3FmCkBA2rRpkxITEzV9+nQNHz5cDodDDofD7rIABCHOTAEISCUlJZowYYIWLVqkbt26acGC\n",
              "BaqsrLS7LABBiDAFICC1atVKU6ZM0b59+/Tee++prKxMFRUVSk1N1cqVK+0uD0AQIUwBCHi9e/fW\n",
              "0qVLVVxcrDlz5mjbtm12lwQgiBCmADQaTqdTzzzzDGEKgE8RpgAAACwgTAEAAFhAmAIAALCAMAUA\n",
              "AGABYQoAAMACwhQAAIAFhCkAAAALCFMAAAAWEKYAAAAsIEwBAABYQJgCAACwgDAFAABgAWEKAADA\n",
              "AsIUAACABYQpAAAACwhTAAAAFhCmAAAALCBMAQAAWGBbmIqMjFSvXr0UFxenuLg4bd68WZKUl5en\n",
              "1NRURUdHKykpScePH/es440xAPguehOAejM26datmzl8+PAt8wcPHmzWrl1rjDFm69atJjEx0atj\n",
              "dTF79ux6LQ8gcAVKb6IvAf7Dr8LUuXPnTOvWrU1lZaUxxpiamhrTsWNHk5eX55WxuqJpAcEjUHoT\n",
              "fQnwH047z4pNnDhRxhglJydryZIlKioqUufOneV03izL4XDI5XKpsLBQ4eHhDT7mdrtvqam8vFzl\n",
              "5eW15lVXV3vzMADwM/7Wm+hLgH+z7ZqpvXv3KicnR4cOHVK7du2UlpZmVym1LF68WOHh4bWm7Oxs\n",
              "u8sC4CP+2JvoS4B/sy1MuVwuSVLTpk31s5/9TP/93/+trl27qqSkRFVVVZIkY4wKCwvlcrm8MnY7\n",
              "8+fPV2lpaa0pOTnZ24cDgJ/wx95EXwL8my1h6tq1a7p06ZLn8caNG9WvXz916NBB8fHx2rBhgyQp\n",
              "MzNTERERcrvdXhm7ndDQUIWFhdWaQkJCvHg0APgLf+1N9CXAz9lxodbJkydNXFyc6dOnj4mJiTEj\n",
              "R440p0+fNsYYk5uba1JSUkxUVJRJSEgwOTk5nvW8MVYXXOgJBIdA6k30JcB/OIwxxu5A5+8yMjK0\n",
              "bNkyu8sAAA/6EuA/uAM6AACABYQpAAAACwhTAAAAFhCmAAAALCBMAQAAWECYAgAAsIAwBQAAYAFh\n",
              "CgAAwALCFAAAgAWEKQAAAAsIUwAAABYQpgAAACwgTAEAAFhAmAIAALCAMAUAAGABYQoAAMACwhQA\n",
              "AIAFhCkAAAALCFMAAAAWEKYAAAAsIEwBAABYQJgCAACwgDAFAABgAWEKAADAAsIUAACABYQpAAAA\n",
              "C5x2F9AY7Mv/Rhs+KdTpb66qe7tWmtDfpVR3O7vLqrNAr//f957U6o8KdPFahX7QspmmPBSpqQN7\n",
              "2l1WvQT6axDo9QOAFUFzZiovL0+pqamKjo5WUlKSjh8/3iDb3Zf/jeZlfabs0xd0paxK2acvaF7W\n",
              "Z9qX/02DbN/bAr3+f997Uq+994XOlZapqrpG50rL9Np7X+jf9560u7Q6C/TXINDrt5u3ehMA3wma\n",
              "MDV9+nRNmzZNX375pebOnatJkyY1yHY3fFKo6xVV6hTWXD9o0UydwprrekWV3v6ksEG27211qX9f\n",
              "/jdKf/uQRizfq/S3D/nVf5KrPypQdY1RM6dDzZwhauZ0qLrGaM1HBXaXVmfB8DuEO/NWb9qX/41+\n",
              "9Isdipy3zTMN+b97GmTbAGoLijB1/vx5ffrpp5owYYIk6ZlnnlFRUZHy8/Mtb/v0N1fVvGmIHA6H\n",
              "JMnhcKh50xCd+uaq5W37wr3q9/ezDhevVaiJQ2riuPmr3MTRRE0c0l+uVdhcWd019t8h3Jm3etO+\n",
              "/G/0f1Z/omuVNbXm5399jUAFeEFQhKmioiJ17txZTufNS8QcDodcLpcKC2/9y7m8vFyXL1+uNVVX\n",
              "V99x293btVJZZbWMMZIkY4zKKqvVo30r7+xMA7tX/f5+1uEHLZupxkg15uZ/GjWmRjVG+mHLZjZX\n",
              "VneN/XcId1bX3lTfvrThk0JVm9uP5X99rcHqB3BTUISp+li8eLHCw8NrTdnZ2XdcfkJ/l1o0c+rs\n",
              "5TJdvF6hs5fL1KKZU+P7u3xY9f27V/3+ftZhykORCmniUEWVUUVVtSqqjEKaOPTcjyPtLq3OGvvv\n",
              "EKyrb1867Sf/PoFgERRhqmvXriopKVFVVZWkm385FxYWyuW6tdnPnz9fpaWltabk5OQ7bjvV3U5L\n",
              "nu6j/t3bqnVzp/p3b6slz/RRas/A+CTTver397MOUwf21NzHe6lTeHM5Q5qoU3hzzR3RS1MfDpxP\n",
              "8zX23yHcWV17U337Uvd2/vHvEwgWQXFrhA4dOig+Pl4bNmzQpEmTlJmZqYiICLnd7luWDQ0NVWho\n",
              "aK15ISEhd91+qrtdQH8M/G71T+jv0rHiUp29XKbmTUNUVlntd2cdpg7sGXC3Qvi+xvw7hDura2+q\n",
              "b1+a0N+lPx0rue1bfe72LRukdgD/KyjOTEnSqlWrtGrVKkVHR2vJkiVau3at3SUFBM46AN7ljd6U\n",
              "6m6n9VP6q2XT2i3e3b6l3p/ziOXtA6gtKM5MSVKvXr308ccf211GQOKsA+A93upNqe52Ov7yiAbf\n",
              "LoBbBc2ZKQAAAG8gTAEAAFhAmAIAALCAMAUAAGABYQoAAMACwhQAAIAFDvPtra1xR08//bQiIyPv\n",
              "ukx1dbWys7OVnJx8z5t8NibBut8S+25l37t166Z//Md/9EJlwYO+dHfBuu/But+SvX2JMNVALl++\n",
              "rPDwcJWWliosLMzucnwmWPdbYt+Ddd8DSTC/TsG678G635K9+87bfAAAABYQpgAAACwgTAEAAFhA\n",
              "mGogoaGhWrhw4S3f7N7YBet+S+x7sO57IAnm1ylY9z1Y91uyd9+5AB0AAMACzkwBAABYQJgCAACw\n",
              "gDAFAABgAWGqAeTl5Sk1NVXR0dFKSkrS8ePH7S7pnmbNmqXIyEg5HA4dOXLEM/9u++LrMW8oKyvT\n",
              "U089pejoaMXGxmro0KHKz8+XJJ0/f16PP/64oqKiFBMTo71793rW8/WYNwwbNkx9+/ZVXFycHn74\n",
              "YR0+fFhS43/Ng1UgHmf6UvD1JamR9CYDywYPHmzWrl1rjDFm69atJjEx0d6C6uDDDz80RUVFplu3\n",
              "bubw4cOe+XfbF1+PecONGzfMtm3bTE1NjTHGmBUrVphBgwYZY4yZPHmyWbhwoTHGmOzsbNOlSxdT\n",
              "UVFhy5g3XLx40fNzVlaW6du3rzGm8b/mwSoQjzN9Kfj6kjGNozcRpiw6d+6cad26tamsrDTGGFNT\n",
              "U2M6duxo8vLybK6sbr7btO62L74e85UDBw6Ybt26GWOMadmypSkpKfGMJSUlmZ07d9oy5m1r1641\n",
              "sbGxQfmaB4NAP870peDsS8YEbm9yWjgzB0lFRUXq3LmznM6bh9LhcMjlcqmwsFBut9vm6urnbvsS\n",
              "Hh7u0zFfHbvly5dr1KhRunDhgiorK9WpUyfPWGRkpAoLC30+5k0TJ07U7t27JUnbt28Pytc8GNCX\n",
              "Avt3NNj6khT4vYlrphC0Xn31VeXn52vx4sV2l+Izv/3tb1VUVKRXXnlFc+fOtbscAN8TjH1JCvze\n",
              "RJiyqGvXriopKVFVVZUkyRijwsJCuVwumyurv7vti6/HvG3p0qXKysrSjh071KJFC7Vt21ZOp1Nn\n",
              "z571LFNQUCCXy+XzMV9IS0vT7t27FRERETSveTBpTMeZvhQ8fUkK3N5EmLKoQ4cOio+P14YNGyRJ\n",
              "mZmZioiICLhT6dLd98XXY960bNkybdy4UTt37lSbNm0880ePHq233npLknTgwAEVFxdr0KBBtow1\n",
              "tEuXLunMmTOex7///e/Vtm3boHnNg01jOs7B8jsajH1JakS96f4vE8O3cnNzTUpKiomKijIJCQkm\n",
              "JyfH7pLuadq0aaZLly4mJCTEdOjQwfTs2dMYc/d98fWYNxQVFRlJpkePHiY2NtbExsaa5ORkY4wx\n",
              "Z8+eNUOHDjVut9v07t3bfPDBB571fD3W0AoKCkxSUpKJiYkxffv2NY899pjnAt/G/poHq0A8zvSl\n",
              "4OpLxjSe3sR38wEAAFjA23wAAAAWEKYAAAAsIEzBksjISD344IOeT0BIUmJiovbs2SNJWrFihX7y\n",
              "k5/o6aef1ptvvlmnbX53/fo4ceKE/uZv/kY9e/ZUz5499eSTTyo3N7fO6x87dkyRkZH1fl4AwevK\n",
              "lStq1aqVpkyZYncpsBFhCpaVl5dr9erVt8y/du2a3nzzTWVlZSkzM1MrVqzQtWvXvFLDmTNnNGjQ\n",
              "II0fP14nT57UyZMnNX78eD3yyCO1Pub7re+GPwC4X5s3b1ZCQoKysrJ09epVu8uBTQhTsOzFF1/U\n",
              "yy+/rOvXr98yVpfPN+zbt09xcXGKiYnR5MmTawWds2fP6tlnn1VycrL69OmjBQsW3HYbK1eu1COP\n",
              "PKJx48Z55o0dO1YDBw7UypUrJUmTJk3Sc889p4EDByomJsZTe1RUlBISErRp06Za2/zTn/6kH//4\n",
              "x0pISFBycrLn7rx79uxRTEyMZsyYob59+6pPnz7KycnRpEmT1KdPH/Xv31/FxcX33G8AgW/16tWa\n",
              "O3euBg4cqM2bN0uS1q1bpyFDhmjs2LHq06ePEhMTderUKc86//Zv/6Yf/ehH6tOnj8aPH6/S0lK7\n",
              "ykcDIUzBstjYWA0ePFivv/56rfktW7bUzJkzNXLkSI0aNUo//elP1bJly1rLVFRUaMyYMVq6dKmO\n",
              "HTumsWPH6ujRo57xtLQ0zZw5U9nZ2Tp8+LA+/fRTbd269ZYaDh06pAEDBtwyf8CAATp48KDn8cGD\n",
              "B7Vt2zbl5uZq27Zt2rp1qw4ePKhPP/1UBQUFnuVOnTqlF198Udu3b9fBgwf1zjvvaNy4cSovL5ck\n",
              "5ebm6vnnn1dOTo6eeuopPfroo5o3b54+++wzJSYm6o033rifQwkggHz++ecqKirS8OHDNWXKlFpn\n",
              "6A8cOKBXX31Vn332mYYMGaLXXntNkrRjxw6tWbNGH330kT777DO1bNlS8+bNs2sX0ED4bj40iJdf\n",
              "flnJycn6h3/4h1rzZ82apVmzZt1xvdzcXDmdTg0ZMkSSNGzYMPXo0UPSzbcJd+3apXPnznmWv3r1\n",
              "qr744ov7rnP06NFq3bq1JGnXrl169tlnFRYWJkmaPn26/ud//keS9N577yk/P18DBw70rNukSRPP\n",
              "d1S53W4lJCRIunmNl9vt1oMPPihJSk5O1u9+97v7rhFAYFi9erUmTpyokJAQPfHEE5o+fbpOnDgh\n",
              "6eYfct27d/f8vGLFCknS+++/rzFjxnhuzDljxgyNHj3alvrRcAhTaBCRkZEaN26cXnnllVrzZ86c\n",
              "qQsXLkiS2rZtW6eL0B0Oh6T/fYtw//79at68+V3XiY+P18cff6zZs2fXmv/xxx8rPj7e87hVq1b3\n",
              "fN5vn3vo0KF65513blmuuLi4Vj0hISG3POaaLKBxq6ys1Pr169W0aVNPn7h+/bpWr16tmJiYOveE\n",
              "7/YdBC7e5kODWbBggTZs2FDrqwHefPNNbdq0SZs2bbptkPr2k4DfXo/0/vvv6+TJk5JuBp/Bgwdr\n",
              "yZIlnuXPnDmjP//5z7dsZ8aMGdq9e3et8LNx40bt2bNH6enpt613yJAh2rp1q65cuSJjjH796197\n",
              "xoYPH673339fOTk5nnnZ2dl1PRQAGrl3331XPXr0UHFxsQoKClRQUKD9+/dr/fr1qqysvON6Q4YM\n",
              "0ZYtW3T58mVJ0qpVqzRs2DBflQ0v4cwUGky7du00a9Ys/fKXv6zzOs2aNdPmzZuVnp6u6upqJSUl\n",
              "KTY21jP+9ttvKyMjQzExMXI4HGrZsqVWrVqliIiIWtvp0qWL9uzZo5///OdasGCBHA6HevXqpQ8/\n",
              "/FCdO3e+7XM/8cQTys7OVnx8vMLCwjRixAjPmNvt1jvvvKPp06fr+vXrqqioUL9+/W57pgpA8Fm9\n",
              "erXGjx9fa95f//Vfq0uXLrpy5cod1xsxYoSOHTumAQMGqEmTJurbt6/nQzIIXHydDAAAgAW8zQcA\n",
              "AGABYQoAAMACwhQAAIAFhCkAAAALCFMAAAAWEKYAAAAsIEwBAABYQJgCAACwgDAFAABgAWEKAADA\n",
              "AsIUAACABf8P8R37xSGqZq0AAAAASUVORK5CYII=\n",
              "\">\n",
              "        \n",
              "      </div>\n",
              "      <script></script>\n",
              "      <script type=\"text/javascript\">\n",
              "        (() => {\n",
              "          const chartElement = document.getElementById(\"chart-aa700a13-7208-4648-b513-6b8284e11e7c\");\n",
              "          async function getCodeForChartHandler(event) {\n",
              "            const chartCodeResponse =  await google.colab.kernel.invokeFunction(\n",
              "                'getCodeForChart', [\"chart-aa700a13-7208-4648-b513-6b8284e11e7c\"], {});\n",
              "            const responseJson = chartCodeResponse.data['application/json'];\n",
              "            await google.colab.notebook.addCell(responseJson.code, 'code');\n",
              "          }\n",
              "          chartElement.onclick = getCodeForChartHandler;\n",
              "        })();\n",
              "      </script>\n",
              "      <style>\n",
              "        .colab-quickchart-chart-with-code  {\n",
              "            display: block;\n",
              "            float: left;\n",
              "            border: 1px solid transparent;\n",
              "        }\n",
              "\n",
              "        .colab-quickchart-chart-with-code:hover {\n",
              "            cursor: pointer;\n",
              "            border: 1px solid #aaa;\n",
              "        }\n",
              "      </style>"
            ]
          },
          "metadata": {}
        }
      ],
      "source": [
        "data.describe()"
      ]
    },
    {
      "cell_type": "code",
      "execution_count": 11,
      "metadata": {
        "id": "Cx-5Oo4teho6",
        "outputId": "f5eba9df-7e41-4078-b6fc-4956e8e41f87",
        "colab": {
          "base_uri": "https://localhost:8080/",
          "height": 0
        }
      },
      "outputs": [
        {
          "output_type": "stream",
          "name": "stdout",
          "text": [
            "<class 'pandas.core.frame.DataFrame'>\n",
            "RangeIndex: 308309 entries, 0 to 308308\n",
            "Data columns (total 23 columns):\n",
            " #   Column                                   Non-Null Count   Dtype \n",
            "---  ------                                   --------------   ----- \n",
            " 0   Nº de Ordem                              308309 non-null  int64 \n",
            " 1   Variavel                                 308309 non-null  object\n",
            " 2   Ano                                      308309 non-null  int64 \n",
            " 3   Variavel.1                               308309 non-null  object\n",
            " 4   Tipo de IES                              308309 non-null  object\n",
            " 5   Nome da IES                              308309 non-null  object\n",
            " 6   Natureza                                 308309 non-null  object\n",
            " 7   Prov. UO                                 308309 non-null  object\n",
            " 8   Sexo                                     308309 non-null  object\n",
            " 9   Idade                                    308309 non-null  object\n",
            " 10  Data de nascimento                       308266 non-null  object\n",
            " 11  Provincia Residencia                     308309 non-null  object\n",
            " 12  Município de Residência                  307125 non-null  object\n",
            " 13  País de Origem                           308301 non-null  object\n",
            " 14  Periodo de Estudo                        308309 non-null  object\n",
            " 15  Unidade Organica                         308309 non-null  object\n",
            " 16  Nome do Curso                            308309 non-null  object\n",
            " 17  Ano de Frequência                        308309 non-null  int64 \n",
            " 18  Situação Académica                       308309 non-null  object\n",
            " 19  Ano Primeiro Matrícula Ensino Superior   308308 non-null  object\n",
            " 20  Necessidade de Educação Especial         308309 non-null  object\n",
            " 21  Trabalhador                              308309 non-null  object\n",
            " 22  Nível de Graduação                       308307 non-null  object\n",
            "dtypes: int64(3), object(20)\n",
            "memory usage: 54.1+ MB\n"
          ]
        }
      ],
      "source": [
        "data.info()"
      ]
    },
    {
      "cell_type": "markdown",
      "metadata": {
        "id": "pSs5WuIieho7"
      },
      "source": [
        "Verificar os valores null na base de dados"
      ]
    },
    {
      "cell_type": "code",
      "execution_count": 12,
      "metadata": {
        "id": "aH8umDueeho8",
        "outputId": "4c5a6b7d-c91f-4e86-cd44-a79e1e5033f7",
        "colab": {
          "base_uri": "https://localhost:8080/",
          "height": 0
        }
      },
      "outputs": [
        {
          "output_type": "execute_result",
          "data": {
            "text/plain": [
              "Nº de Ordem                                   0\n",
              "Variavel                                      0\n",
              "Ano                                           0\n",
              "Variavel.1                                    0\n",
              "Tipo de IES                                   0\n",
              "Nome da IES                                   0\n",
              "Natureza                                      0\n",
              "Prov. UO                                      0\n",
              "Sexo                                          0\n",
              "Idade                                         0\n",
              "Data de nascimento                           43\n",
              "Provincia Residencia                          0\n",
              "Município de Residência                    1184\n",
              "País de Origem                                8\n",
              "Periodo de Estudo                             0\n",
              "Unidade Organica                              0\n",
              "Nome do Curso                                 0\n",
              "Ano de Frequência                             0\n",
              "Situação Académica                            0\n",
              "Ano Primeiro Matrícula Ensino Superior        1\n",
              "Necessidade de Educação Especial              0\n",
              "Trabalhador                                   0\n",
              "Nível de Graduação                            2\n",
              "dtype: int64"
            ]
          },
          "metadata": {},
          "execution_count": 12
        }
      ],
      "source": [
        "data.isnull().sum()"
      ]
    },
    {
      "cell_type": "markdown",
      "source": [
        "**Resposta:** Constatou-se que possui :\n",
        "- 1184 valores nulo na variavél Municipio;\n",
        "- 43 valores nulo na variavel Data de Nascimento;\n",
        "- 1 valor nulo na variavel Ano Primeiro Matriculado\n",
        "- 2 valores nulo na variavel de Graduação."
      ],
      "metadata": {
        "id": "a3-E9eXLhn6e"
      }
    },
    {
      "cell_type": "code",
      "execution_count": 13,
      "metadata": {
        "id": "WZSC8Kgyeho9",
        "outputId": "cd211f83-4938-4134-f70c-aa2f6408bbf9",
        "colab": {
          "base_uri": "https://localhost:8080/",
          "height": 0
        }
      },
      "outputs": [
        {
          "output_type": "execute_result",
          "data": {
            "text/plain": [
              "Nº de Ordem                                0.000000\n",
              "Variavel                                   0.000000\n",
              "Ano                                        0.000000\n",
              "Variavel.1                                 0.000000\n",
              "Tipo de IES                                0.000000\n",
              "Nome da IES                                0.000000\n",
              "Natureza                                   0.000000\n",
              "Prov. UO                                   0.000000\n",
              "Sexo                                       0.000000\n",
              "Idade                                      0.000000\n",
              "Data de nascimento                         0.013947\n",
              "Provincia Residencia                       0.000000\n",
              "Município de Residência                    0.384030\n",
              "País de Origem                             0.002595\n",
              "Periodo de Estudo                          0.000000\n",
              "Unidade Organica                           0.000000\n",
              "Nome do Curso                              0.000000\n",
              "Ano de Frequência                          0.000000\n",
              "Situação Académica                         0.000000\n",
              "Ano Primeiro Matrícula Ensino Superior     0.000324\n",
              "Necessidade de Educação Especial           0.000000\n",
              "Trabalhador                                0.000000\n",
              "Nível de Graduação                         0.000649\n",
              "dtype: float64"
            ]
          },
          "metadata": {},
          "execution_count": 13
        }
      ],
      "source": [
        "data.isna().sum()/data.shape[0] * 100"
      ]
    },
    {
      "cell_type": "markdown",
      "metadata": {
        "id": "ukPe_bOmehpA"
      },
      "source": [
        "## Visualizando os valores null na base de dados"
      ]
    },
    {
      "cell_type": "code",
      "execution_count": 14,
      "metadata": {
        "id": "x_IFIB2SehpA",
        "outputId": "0ee694e8-6572-478d-c610-353040e12844",
        "colab": {
          "base_uri": "https://localhost:8080/",
          "height": 620
        }
      },
      "outputs": [
        {
          "output_type": "execute_result",
          "data": {
            "text/plain": [
              "       Nº de Ordem   Variavel   Ano Variavel.1   Tipo de IES  \\\n",
              "1121          1122  Matricula  2019  Estudante  Universidade   \n",
              "1184          1185  Matricula  2019  Estudante  Universidade   \n",
              "30342        30343  Matricula  2019  Estudante  Universidade   \n",
              "30626        30627  Matricula  2019  Estudante  Universidade   \n",
              "30647        30648  Matricula  2019  Estudante  Universidade   \n",
              "\n",
              "                           Nome da IES Natureza Prov. UO       Sexo Idade  \\\n",
              "1121   Universidade Católica de Angola  Privada   Luanda  Masculino    20   \n",
              "1184   Universidade Católica de Angola  Privada   Luanda   Feminino    20   \n",
              "30342         Universidade Óscar Ribas  Privada   Luanda  Masculino    21   \n",
              "30626         Universidade Óscar Ribas  Privada   Luanda  Masculino    23   \n",
              "30647         Universidade Óscar Ribas  Privada   Luanda  Masculino    52   \n",
              "\n",
              "       ... País de Origem Periodo de Estudo  \\\n",
              "1121   ...         Angola           Regular   \n",
              "1184   ...         Angola           Regular   \n",
              "30342  ...         Angola           Regular   \n",
              "30626  ...         Angola           Regular   \n",
              "30647  ...         Angola       Pós-Laboral   \n",
              "\n",
              "                              Unidade Organica          Nome do Curso   \\\n",
              "1121                   Faculdade de Engenharia  Engenharia Informática   \n",
              "1184             Faculdade de Ciências Humanas              Psicologia   \n",
              "30342  Faculdade de Ciências Humanas e Sociais                 Direito   \n",
              "30626  Faculdade de Ciências Humanas e Sociais                 Direito   \n",
              "30647  Faculdade de Ciências Humanas e Sociais                 Direito   \n",
              "\n",
              "      Ano de Frequência Situação Académica  \\\n",
              "1121                  1      Novo Ingresso   \n",
              "1184                  1      Novo Ingresso   \n",
              "30342                 2        Continuante   \n",
              "30626                 2        Continuante   \n",
              "30647                 4        Continuante   \n",
              "\n",
              "      Ano Primeiro Matrícula Ensino Superior   \\\n",
              "1121                                     2019   \n",
              "1184                                     2019   \n",
              "30342                                    2018   \n",
              "30626                                    2017   \n",
              "30647                                    2012   \n",
              "\n",
              "       Necessidade de Educação Especial Trabalhador Nível de Graduação  \n",
              "1121                    Sem necessidade        Não        Licenciatura  \n",
              "1184                    Sem necessidade        Não        Licenciatura  \n",
              "30342                   Sem necessidade        Não        Licenciatura  \n",
              "30626                   Sem necessidade        Sim        Licenciatura  \n",
              "30647                   Sem necessidade        Sim        Licenciatura  \n",
              "\n",
              "[5 rows x 23 columns]"
            ],
            "text/html": [
              "\n",
              "  <div id=\"df-fabd4297-c003-4b6e-9a22-540ce90a77ff\" class=\"colab-df-container\">\n",
              "    <div>\n",
              "<style scoped>\n",
              "    .dataframe tbody tr th:only-of-type {\n",
              "        vertical-align: middle;\n",
              "    }\n",
              "\n",
              "    .dataframe tbody tr th {\n",
              "        vertical-align: top;\n",
              "    }\n",
              "\n",
              "    .dataframe thead th {\n",
              "        text-align: right;\n",
              "    }\n",
              "</style>\n",
              "<table border=\"1\" class=\"dataframe\">\n",
              "  <thead>\n",
              "    <tr style=\"text-align: right;\">\n",
              "      <th></th>\n",
              "      <th>Nº de Ordem</th>\n",
              "      <th>Variavel</th>\n",
              "      <th>Ano</th>\n",
              "      <th>Variavel.1</th>\n",
              "      <th>Tipo de IES</th>\n",
              "      <th>Nome da IES</th>\n",
              "      <th>Natureza</th>\n",
              "      <th>Prov. UO</th>\n",
              "      <th>Sexo</th>\n",
              "      <th>Idade</th>\n",
              "      <th>...</th>\n",
              "      <th>País de Origem</th>\n",
              "      <th>Periodo de Estudo</th>\n",
              "      <th>Unidade Organica</th>\n",
              "      <th>Nome do Curso</th>\n",
              "      <th>Ano de Frequência</th>\n",
              "      <th>Situação Académica</th>\n",
              "      <th>Ano Primeiro Matrícula Ensino Superior</th>\n",
              "      <th>Necessidade de Educação Especial</th>\n",
              "      <th>Trabalhador</th>\n",
              "      <th>Nível de Graduação</th>\n",
              "    </tr>\n",
              "  </thead>\n",
              "  <tbody>\n",
              "    <tr>\n",
              "      <th>1121</th>\n",
              "      <td>1122</td>\n",
              "      <td>Matricula</td>\n",
              "      <td>2019</td>\n",
              "      <td>Estudante</td>\n",
              "      <td>Universidade</td>\n",
              "      <td>Universidade Católica de Angola</td>\n",
              "      <td>Privada</td>\n",
              "      <td>Luanda</td>\n",
              "      <td>Masculino</td>\n",
              "      <td>20</td>\n",
              "      <td>...</td>\n",
              "      <td>Angola</td>\n",
              "      <td>Regular</td>\n",
              "      <td>Faculdade de Engenharia</td>\n",
              "      <td>Engenharia Informática</td>\n",
              "      <td>1</td>\n",
              "      <td>Novo Ingresso</td>\n",
              "      <td>2019</td>\n",
              "      <td>Sem necessidade</td>\n",
              "      <td>Não</td>\n",
              "      <td>Licenciatura</td>\n",
              "    </tr>\n",
              "    <tr>\n",
              "      <th>1184</th>\n",
              "      <td>1185</td>\n",
              "      <td>Matricula</td>\n",
              "      <td>2019</td>\n",
              "      <td>Estudante</td>\n",
              "      <td>Universidade</td>\n",
              "      <td>Universidade Católica de Angola</td>\n",
              "      <td>Privada</td>\n",
              "      <td>Luanda</td>\n",
              "      <td>Feminino</td>\n",
              "      <td>20</td>\n",
              "      <td>...</td>\n",
              "      <td>Angola</td>\n",
              "      <td>Regular</td>\n",
              "      <td>Faculdade de Ciências Humanas</td>\n",
              "      <td>Psicologia</td>\n",
              "      <td>1</td>\n",
              "      <td>Novo Ingresso</td>\n",
              "      <td>2019</td>\n",
              "      <td>Sem necessidade</td>\n",
              "      <td>Não</td>\n",
              "      <td>Licenciatura</td>\n",
              "    </tr>\n",
              "    <tr>\n",
              "      <th>30342</th>\n",
              "      <td>30343</td>\n",
              "      <td>Matricula</td>\n",
              "      <td>2019</td>\n",
              "      <td>Estudante</td>\n",
              "      <td>Universidade</td>\n",
              "      <td>Universidade Óscar Ribas</td>\n",
              "      <td>Privada</td>\n",
              "      <td>Luanda</td>\n",
              "      <td>Masculino</td>\n",
              "      <td>21</td>\n",
              "      <td>...</td>\n",
              "      <td>Angola</td>\n",
              "      <td>Regular</td>\n",
              "      <td>Faculdade de Ciências Humanas e Sociais</td>\n",
              "      <td>Direito</td>\n",
              "      <td>2</td>\n",
              "      <td>Continuante</td>\n",
              "      <td>2018</td>\n",
              "      <td>Sem necessidade</td>\n",
              "      <td>Não</td>\n",
              "      <td>Licenciatura</td>\n",
              "    </tr>\n",
              "    <tr>\n",
              "      <th>30626</th>\n",
              "      <td>30627</td>\n",
              "      <td>Matricula</td>\n",
              "      <td>2019</td>\n",
              "      <td>Estudante</td>\n",
              "      <td>Universidade</td>\n",
              "      <td>Universidade Óscar Ribas</td>\n",
              "      <td>Privada</td>\n",
              "      <td>Luanda</td>\n",
              "      <td>Masculino</td>\n",
              "      <td>23</td>\n",
              "      <td>...</td>\n",
              "      <td>Angola</td>\n",
              "      <td>Regular</td>\n",
              "      <td>Faculdade de Ciências Humanas e Sociais</td>\n",
              "      <td>Direito</td>\n",
              "      <td>2</td>\n",
              "      <td>Continuante</td>\n",
              "      <td>2017</td>\n",
              "      <td>Sem necessidade</td>\n",
              "      <td>Sim</td>\n",
              "      <td>Licenciatura</td>\n",
              "    </tr>\n",
              "    <tr>\n",
              "      <th>30647</th>\n",
              "      <td>30648</td>\n",
              "      <td>Matricula</td>\n",
              "      <td>2019</td>\n",
              "      <td>Estudante</td>\n",
              "      <td>Universidade</td>\n",
              "      <td>Universidade Óscar Ribas</td>\n",
              "      <td>Privada</td>\n",
              "      <td>Luanda</td>\n",
              "      <td>Masculino</td>\n",
              "      <td>52</td>\n",
              "      <td>...</td>\n",
              "      <td>Angola</td>\n",
              "      <td>Pós-Laboral</td>\n",
              "      <td>Faculdade de Ciências Humanas e Sociais</td>\n",
              "      <td>Direito</td>\n",
              "      <td>4</td>\n",
              "      <td>Continuante</td>\n",
              "      <td>2012</td>\n",
              "      <td>Sem necessidade</td>\n",
              "      <td>Sim</td>\n",
              "      <td>Licenciatura</td>\n",
              "    </tr>\n",
              "  </tbody>\n",
              "</table>\n",
              "<p>5 rows × 23 columns</p>\n",
              "</div>\n",
              "    <div class=\"colab-df-buttons\">\n",
              "\n",
              "  <div class=\"colab-df-container\">\n",
              "    <button class=\"colab-df-convert\" onclick=\"convertToInteractive('df-fabd4297-c003-4b6e-9a22-540ce90a77ff')\"\n",
              "            title=\"Convert this dataframe to an interactive table.\"\n",
              "            style=\"display:none;\">\n",
              "\n",
              "  <svg xmlns=\"http://www.w3.org/2000/svg\" height=\"24px\" viewBox=\"0 -960 960 960\">\n",
              "    <path d=\"M120-120v-720h720v720H120Zm60-500h600v-160H180v160Zm220 220h160v-160H400v160Zm0 220h160v-160H400v160ZM180-400h160v-160H180v160Zm440 0h160v-160H620v160ZM180-180h160v-160H180v160Zm440 0h160v-160H620v160Z\"/>\n",
              "  </svg>\n",
              "    </button>\n",
              "\n",
              "  <style>\n",
              "    .colab-df-container {\n",
              "      display:flex;\n",
              "      gap: 12px;\n",
              "    }\n",
              "\n",
              "    .colab-df-convert {\n",
              "      background-color: #E8F0FE;\n",
              "      border: none;\n",
              "      border-radius: 50%;\n",
              "      cursor: pointer;\n",
              "      display: none;\n",
              "      fill: #1967D2;\n",
              "      height: 32px;\n",
              "      padding: 0 0 0 0;\n",
              "      width: 32px;\n",
              "    }\n",
              "\n",
              "    .colab-df-convert:hover {\n",
              "      background-color: #E2EBFA;\n",
              "      box-shadow: 0px 1px 2px rgba(60, 64, 67, 0.3), 0px 1px 3px 1px rgba(60, 64, 67, 0.15);\n",
              "      fill: #174EA6;\n",
              "    }\n",
              "\n",
              "    .colab-df-buttons div {\n",
              "      margin-bottom: 4px;\n",
              "    }\n",
              "\n",
              "    [theme=dark] .colab-df-convert {\n",
              "      background-color: #3B4455;\n",
              "      fill: #D2E3FC;\n",
              "    }\n",
              "\n",
              "    [theme=dark] .colab-df-convert:hover {\n",
              "      background-color: #434B5C;\n",
              "      box-shadow: 0px 1px 3px 1px rgba(0, 0, 0, 0.15);\n",
              "      filter: drop-shadow(0px 1px 2px rgba(0, 0, 0, 0.3));\n",
              "      fill: #FFFFFF;\n",
              "    }\n",
              "  </style>\n",
              "\n",
              "    <script>\n",
              "      const buttonEl =\n",
              "        document.querySelector('#df-fabd4297-c003-4b6e-9a22-540ce90a77ff button.colab-df-convert');\n",
              "      buttonEl.style.display =\n",
              "        google.colab.kernel.accessAllowed ? 'block' : 'none';\n",
              "\n",
              "      async function convertToInteractive(key) {\n",
              "        const element = document.querySelector('#df-fabd4297-c003-4b6e-9a22-540ce90a77ff');\n",
              "        const dataTable =\n",
              "          await google.colab.kernel.invokeFunction('convertToInteractive',\n",
              "                                                    [key], {});\n",
              "        if (!dataTable) return;\n",
              "\n",
              "        const docLinkHtml = 'Like what you see? Visit the ' +\n",
              "          '<a target=\"_blank\" href=https://colab.research.google.com/notebooks/data_table.ipynb>data table notebook</a>'\n",
              "          + ' to learn more about interactive tables.';\n",
              "        element.innerHTML = '';\n",
              "        dataTable['output_type'] = 'display_data';\n",
              "        await google.colab.output.renderOutput(dataTable, element);\n",
              "        const docLink = document.createElement('div');\n",
              "        docLink.innerHTML = docLinkHtml;\n",
              "        element.appendChild(docLink);\n",
              "      }\n",
              "    </script>\n",
              "  </div>\n",
              "\n",
              "\n",
              "<div id=\"df-6bd8c2cd-5999-4583-9cbd-d6029da12546\">\n",
              "  <button class=\"colab-df-quickchart\" onclick=\"quickchart('df-6bd8c2cd-5999-4583-9cbd-d6029da12546')\"\n",
              "            title=\"Suggest charts.\"\n",
              "            style=\"display:none;\">\n",
              "\n",
              "<svg xmlns=\"http://www.w3.org/2000/svg\" height=\"24px\"viewBox=\"0 0 24 24\"\n",
              "     width=\"24px\">\n",
              "    <g>\n",
              "        <path d=\"M19 3H5c-1.1 0-2 .9-2 2v14c0 1.1.9 2 2 2h14c1.1 0 2-.9 2-2V5c0-1.1-.9-2-2-2zM9 17H7v-7h2v7zm4 0h-2V7h2v10zm4 0h-2v-4h2v4z\"/>\n",
              "    </g>\n",
              "</svg>\n",
              "  </button>\n",
              "\n",
              "<style>\n",
              "  .colab-df-quickchart {\n",
              "    background-color: #E8F0FE;\n",
              "    border: none;\n",
              "    border-radius: 50%;\n",
              "    cursor: pointer;\n",
              "    display: none;\n",
              "    fill: #1967D2;\n",
              "    height: 32px;\n",
              "    padding: 0 0 0 0;\n",
              "    width: 32px;\n",
              "  }\n",
              "\n",
              "  .colab-df-quickchart:hover {\n",
              "    background-color: #E2EBFA;\n",
              "    box-shadow: 0px 1px 2px rgba(60, 64, 67, 0.3), 0px 1px 3px 1px rgba(60, 64, 67, 0.15);\n",
              "    fill: #174EA6;\n",
              "  }\n",
              "\n",
              "  [theme=dark] .colab-df-quickchart {\n",
              "    background-color: #3B4455;\n",
              "    fill: #D2E3FC;\n",
              "  }\n",
              "\n",
              "  [theme=dark] .colab-df-quickchart:hover {\n",
              "    background-color: #434B5C;\n",
              "    box-shadow: 0px 1px 3px 1px rgba(0, 0, 0, 0.15);\n",
              "    filter: drop-shadow(0px 1px 2px rgba(0, 0, 0, 0.3));\n",
              "    fill: #FFFFFF;\n",
              "  }\n",
              "</style>\n",
              "\n",
              "  <script>\n",
              "    async function quickchart(key) {\n",
              "      const charts = await google.colab.kernel.invokeFunction(\n",
              "          'suggestCharts', [key], {});\n",
              "    }\n",
              "    (() => {\n",
              "      let quickchartButtonEl =\n",
              "        document.querySelector('#df-6bd8c2cd-5999-4583-9cbd-d6029da12546 button');\n",
              "      quickchartButtonEl.style.display =\n",
              "        google.colab.kernel.accessAllowed ? 'block' : 'none';\n",
              "    })();\n",
              "  </script>\n",
              "</div>\n",
              "    </div>\n",
              "  </div>\n"
            ]
          },
          "metadata": {},
          "execution_count": 14
        }
      ],
      "source": [
        "data[data.isnull().any(axis=1)].head()"
      ]
    },
    {
      "cell_type": "markdown",
      "source": [
        "**Resposta:** A lista acima mostra alguns registos que se ecnontram nesses casos de ausencias"
      ],
      "metadata": {
        "id": "TCU9dP0WiMR0"
      }
    },
    {
      "cell_type": "code",
      "execution_count": 15,
      "metadata": {
        "id": "htaD1KF2ehpC",
        "outputId": "ff623f7c-fd6b-492e-921e-0f53d0547fae",
        "colab": {
          "base_uri": "https://localhost:8080/",
          "height": 0
        }
      },
      "outputs": [
        {
          "output_type": "stream",
          "name": "stdout",
          "text": [
            "Valores nulo Data de Nascimento:  43\n",
            "Valores nulo nos Municipios:  1184\n",
            "Valores nulo em Pais de Origem:  8\n",
            "Valores nulo de Ano Primeiro Matrícula Ensino Superior:  1\n",
            "Valores nulo de Nível de Graduação:  2\n"
          ]
        }
      ],
      "source": [
        "print('Valores nulo Data de Nascimento: ',data['Data de nascimento '].isnull().sum())\n",
        "print('Valores nulo nos Municipios: ',data['Município de Residência'].isnull().sum())\n",
        "print('Valores nulo em Pais de Origem: ',data['País de Origem'].isnull().sum())\n",
        "print('Valores nulo de Ano Primeiro Matrícula Ensino Superior: ',data['Ano Primeiro Matrícula Ensino Superior '].isnull().sum())\n",
        "print('Valores nulo de Nível de Graduação: ',data['Nível de Graduação'].isnull().sum())"
      ]
    },
    {
      "cell_type": "markdown",
      "metadata": {
        "id": "IMqQ35kWehpD"
      },
      "source": [
        "# Mostrar os valores inconsistentes na coluna Idade"
      ]
    },
    {
      "cell_type": "code",
      "execution_count": 16,
      "metadata": {
        "id": "BPvKuxxrehpD",
        "outputId": "c974a679-bb6e-451b-88d7-8841e5c35a43",
        "colab": {
          "base_uri": "https://localhost:8080/",
          "height": 0
        }
      },
      "outputs": [
        {
          "output_type": "execute_result",
          "data": {
            "text/plain": [
              "array([24, 25, 19, 20, 23, 26, 21, 27, 18, 22, 28, 29, 30, 31, 37, 34, 44,\n",
              "       33, 38, 35, 40, 42, 43, 50, 36, 32, 48, 47, 39, 41, 55, 57, 49, 53,\n",
              "       45, 59, 46, 54, 51, 52, 58, 63, 60, 17, 69, 16, 62, 61, 56, 64, 65,\n",
              "       67, 68, 66, 70, 76, 'Não Especificado', 80, 78, 93], dtype=object)"
            ]
          },
          "metadata": {},
          "execution_count": 16
        }
      ],
      "source": [
        "data['Idade'].unique()"
      ]
    },
    {
      "cell_type": "code",
      "execution_count": 17,
      "metadata": {
        "id": "JGYUYhfxehpE",
        "outputId": "fafe26d3-7faa-41b3-c4b4-c94fdda58562",
        "colab": {
          "base_uri": "https://localhost:8080/",
          "height": 0
        }
      },
      "outputs": [
        {
          "output_type": "execute_result",
          "data": {
            "text/plain": [
              "Nº de Ordem                                20\n",
              "Variavel                                   20\n",
              "Ano                                        20\n",
              "Variavel.1                                 20\n",
              "Tipo de IES                                20\n",
              "Nome da IES                                20\n",
              "Natureza                                   20\n",
              "Prov. UO                                   20\n",
              "Sexo                                       20\n",
              "Idade                                      20\n",
              "Data de nascimento                         10\n",
              "Provincia Residencia                       20\n",
              "Município de Residência                    20\n",
              "País de Origem                             20\n",
              "Periodo de Estudo                          20\n",
              "Unidade Organica                           20\n",
              "Nome do Curso                              20\n",
              "Ano de Frequência                          20\n",
              "Situação Académica                         20\n",
              "Ano Primeiro Matrícula Ensino Superior     20\n",
              "Necessidade de Educação Especial           20\n",
              "Trabalhador                                20\n",
              "Nível de Graduação                         20\n",
              "dtype: int64"
            ]
          },
          "metadata": {},
          "execution_count": 17
        }
      ],
      "source": [
        "data[data['Idade']=='Não Especificado'].count() # Numero de Idade Não especificada"
      ]
    },
    {
      "cell_type": "markdown",
      "source": [
        "**Resposta:** Encontramos 20 caso de Idade não especificado"
      ],
      "metadata": {
        "id": "Wl_u-tIbik55"
      }
    },
    {
      "cell_type": "code",
      "execution_count": 18,
      "metadata": {
        "id": "c97TpttFehpF",
        "outputId": "56ca6cae-fd05-4497-a7b5-415bb353137c",
        "colab": {
          "base_uri": "https://localhost:8080/",
          "height": 0
        }
      },
      "outputs": [
        {
          "output_type": "execute_result",
          "data": {
            "text/plain": [
              "Nº de Ordem  Variavel   Ano   Variavel.1  Tipo de IES         Nome da IES                                            Natureza  Prov. UO  Sexo       Idade             Data de nascimento   Provincia Residencia  Município de Residência  País de Origem  Periodo de Estudo  Unidade Organica                                       Nome do Curso                                 Ano de Frequência  Situação Académica  Ano Primeiro Matrícula Ensino Superior   Necessidade de Educação Especial  Trabalhador  Nível de Graduação\n",
              "234198       Matricula  2019  Estudante   Instituto Superior  Instituto Superior de Gestão, Logística e Transportes  Pública   Luanda    Feminino   Não Especificado  27-07-2014           Luanda                Luanda Belas             Angola          Regular            Instituto Superior de Gestão, Logística e Transportes  Gestão Logítica e Transporte                  1                  Novo Ingresso       2019                                     Sem necessidade                   Sim          Licenciatura          1\n",
              "305414       Matricula  2019  Estudante   Instituto Superior  Instituto Superior Politécnico Lusíada de Cabinda      Privada   Cabinda   Masculino  Não Especificado  2019-12-31 00:00:00  CABINDA               CABINDA                  Angola          Regular            Departamento de Ciências Económicas                    Gestão de Recursos Humanos                    2                  Continuante         2018                                     Sem necessidade                   Não          Licenciatura          1\n",
              "305419       Matricula  2019  Estudante   Instituto Superior  Instituto Superior Politécnico Lusíada de Cabinda      Privada   Cabinda   Feminino   Não Especificado  2016-10-07 00:00:00  CABINDA               CABINDA                  Angola          Regular            Departamento de Ciências Económicas                    Gestão de Recursos Humanos                    2                  Continuante         2018                                     Sem necessidade                   Não          Licenciatura          1\n",
              "305813       Matricula  2019  Estudante   Instituto Superior  Instituto Superior Politécnico Lusíada de Cabinda      Privada   Cabinda   Feminino   Não Especificado  2018-12-03 00:00:00  CABINDA               CABINDA                  Angola          Pós-Laboral        Departamento de Ciências Económicas                    Gestão de Empresas                            2                  Continuante         2018                                     Sem necessidade                   Não          Licenciatura          1\n",
              "305847       Matricula  2019  Estudante   Instituto Superior  Instituto Superior Politécnico Lusíada de Cabinda      Privada   Cabinda   Feminino   Não Especificado  2009-06-10 00:00:00  CABINDA               CABINDA                  Angola          Pós-Laboral        Departamento de Ciências Económicas                    Gestão de Empresas                            3                  Continuante         2017                                     Sem necessidade                   Não          Licenciatura          1\n",
              "306237       Matricula  2019  Estudante   Instituto Superior  Instituto Superior Politécnico Privado da Catepa       Privada   Malanje   Masculino  Não Especificado  2019-03-12 00:00:00  Malanje               Malanje Malanje          Angola          Regular            Instituto Superior Politécnico Privado da Catepa       Direito                                       3                  Continuante         2017                                     Sem necessidade                   Não          Licenciatura          1\n",
              "306432       Matricula  2019  Estudante   Instituto Superior  Instituto Superior Politécnico Privado da Catepa       Privada   Malanje   Masculino  Não Especificado  2019-02-04 00:00:00  Malanje               Malanje Malanje          Angola          Pós-Laboral        Instituto Superior Politécnico Privado da Catepa       Psicologia                                    2                  Continuante         2018                                     Sem necessidade                   Sim          Licenciatura          1\n",
              "307351       Matricula  2019  Estudante   Instituto Superior  Instituto Superior Politécnico Privado da Catepa       Privada   Malanje   Feminino   Não Especificado  2019-05-06 00:00:00  Malanje               Malanje Malanje          Angola          Regular            Instituto Superior Politécnico Privado da Catepa       Gestão e Administração de Empresas            3                  Continuante         2017                                     Sem necessidade                   Não          Licenciatura          1\n",
              "307978       Matricula  2019  Estudante   Instituto Superior  Instituto Superior Politécnico Privado da Catepa       Privada   Malanje   Feminino   Não Especificado  2019-07-13 00:00:00  Malanje               Malanje Malanje          Angola          Pós-Laboral        Instituto Superior Politécnico Privado da Catepa       Análises Clínicas e Saúde Pública             3                  Continuante         2017                                     Sem necessidade                   Sim          Licenciatura          1\n",
              "308175       Matricula  2019  Estudante   Instituto Superior  Instituto Superior Politécnico Privado da Catepa       Privada   Malanje   Masculino  Não Especificado  2016-08-12 00:00:00  Malanje               Malanje Malanje          Angola          Pós-Laboral        Instituto Superior Politécnico Privado da Catepa       Engenharia de Telecomunicações e Electrónica  2                  Continuante         2018                                     Sem necessidade                   Sim          Licenciatura          1\n",
              "dtype: int64"
            ]
          },
          "metadata": {},
          "execution_count": 18
        }
      ],
      "source": [
        "data[data['Idade']=='Não Especificado'].value_counts()"
      ]
    },
    {
      "cell_type": "code",
      "execution_count": 19,
      "metadata": {
        "id": "59-kWoVmehpF",
        "outputId": "f6262dc2-a0f4-4b0d-befd-c868f354bbe3",
        "colab": {
          "base_uri": "https://localhost:8080/",
          "height": 0
        }
      },
      "outputs": [
        {
          "output_type": "execute_result",
          "data": {
            "text/plain": [
              "Nº de Ordem                                0.006487\n",
              "Variavel                                   0.006487\n",
              "Ano                                        0.006487\n",
              "Variavel.1                                 0.006487\n",
              "Tipo de IES                                0.006487\n",
              "Nome da IES                                0.006487\n",
              "Natureza                                   0.006487\n",
              "Prov. UO                                   0.006487\n",
              "Sexo                                       0.006487\n",
              "Idade                                      0.006487\n",
              "Data de nascimento                         0.003243\n",
              "Provincia Residencia                       0.006487\n",
              "Município de Residência                    0.006487\n",
              "País de Origem                             0.006487\n",
              "Periodo de Estudo                          0.006487\n",
              "Unidade Organica                           0.006487\n",
              "Nome do Curso                              0.006487\n",
              "Ano de Frequência                          0.006487\n",
              "Situação Académica                         0.006487\n",
              "Ano Primeiro Matrícula Ensino Superior     0.006487\n",
              "Necessidade de Educação Especial           0.006487\n",
              "Trabalhador                                0.006487\n",
              "Nível de Graduação                         0.006487\n",
              "dtype: float64"
            ]
          },
          "metadata": {},
          "execution_count": 19
        }
      ],
      "source": [
        "data[data['Idade']=='Não Especificado'].count()/data.shape[0] * 100"
      ]
    },
    {
      "cell_type": "markdown",
      "metadata": {
        "id": "FCQ9i_VfehpG"
      },
      "source": [
        "**Resposta:** Valorese inconsistente são 32 que corresponde a 0.128%, isto é, 20 casos de idade não especificado com 12 casos de idade nula\n",
        "### Solução: Preencher os dados não especificado com as diferentes tecnicas:\n",
        "- Eliminar dados não especificados já com 0.128% não terá muito impacto\n",
        "- Preencher com a tecnica de somatoria de media entre dados anterior e posterios ou media geral\n"
      ]
    },
    {
      "cell_type": "code",
      "execution_count": 20,
      "metadata": {
        "id": "mzkbZrp1ehpG"
      },
      "outputs": [],
      "source": [
        "# data[data['Idade']=='Não Especificado']\n",
        "data['Idade']=data['Idade'].replace('Não Especificado',0)"
      ]
    },
    {
      "cell_type": "code",
      "execution_count": 21,
      "metadata": {
        "id": "dvNwT2aoehpH"
      },
      "outputs": [],
      "source": [
        "data['Idade']=data['Idade'].astype(int)"
      ]
    },
    {
      "cell_type": "code",
      "execution_count": 22,
      "metadata": {
        "id": "4acntjTxehpH"
      },
      "outputs": [],
      "source": [
        "media_idade=data['Idade'].mean()\n",
        "data['Idade']=data['Idade'].replace(0,media_idade)"
      ]
    },
    {
      "cell_type": "code",
      "execution_count": 23,
      "metadata": {
        "id": "RWdIIGq9ehpJ",
        "outputId": "addb0bb2-148e-49fb-f9ff-8f73e4af9c12",
        "colab": {
          "base_uri": "https://localhost:8080/",
          "height": 0
        }
      },
      "outputs": [
        {
          "output_type": "execute_result",
          "data": {
            "text/plain": [
              "array([24., 25., 19., 20., 23., 26., 21., 27., 18., 22., 28., 29., 30.,\n",
              "       31., 37., 34., 44., 33., 38., 35., 40., 42., 43., 50., 36., 32.,\n",
              "       48., 47., 39., 41., 55., 57., 49., 53., 45., 59., 46., 54., 51.,\n",
              "       52., 58., 63., 60., 17., 69., 16., 62., 61., 56., 64., 65., 67.,\n",
              "       68., 66., 70., 76., 80., 78., 93.])"
            ]
          },
          "metadata": {},
          "execution_count": 23
        }
      ],
      "source": [
        "data['Idade']=data['Idade'].round()\n",
        "data['Idade'].unique()"
      ]
    },
    {
      "cell_type": "code",
      "execution_count": 24,
      "metadata": {
        "id": "NIRq4biKehpK",
        "outputId": "c5234b16-3d2c-4dc9-c7d5-06e15d52f982",
        "colab": {
          "base_uri": "https://localhost:8080/",
          "height": 0
        }
      },
      "outputs": [
        {
          "output_type": "execute_result",
          "data": {
            "text/plain": [
              "27.47714468276956"
            ]
          },
          "metadata": {},
          "execution_count": 24
        }
      ],
      "source": [
        "data['Idade'].mean()"
      ]
    },
    {
      "cell_type": "markdown",
      "source": [
        "**Resposta:** A media de Idade nesse dataset é 27.47"
      ],
      "metadata": {
        "id": "dNRV4jb6jJW9"
      }
    },
    {
      "cell_type": "code",
      "execution_count": 25,
      "metadata": {
        "id": "5TH_4OyNehpL",
        "outputId": "cea2df72-0c0f-422c-dc87-74e8bbcdc831",
        "colab": {
          "base_uri": "https://localhost:8080/",
          "height": 300
        }
      },
      "outputs": [
        {
          "output_type": "execute_result",
          "data": {
            "text/plain": [
              "         Nº de Ordem       Ano          Idade  Ano de Frequência\n",
              "count  308309.000000  308309.0  308309.000000      308309.000000\n",
              "mean   154155.000000    2019.0      27.477145           2.378620\n",
              "std     89001.286409       0.0       7.628131           1.323711\n",
              "min         1.000000    2019.0      16.000000           1.000000\n",
              "25%     77078.000000    2019.0      22.000000           1.000000\n",
              "50%    154155.000000    2019.0      25.000000           2.000000\n",
              "75%    231232.000000    2019.0      31.000000           3.000000\n",
              "max    308309.000000    2019.0      93.000000           6.000000"
            ],
            "text/html": [
              "\n",
              "  <div id=\"df-5999f83c-bade-4f24-a5d0-ea9ae58e0835\" class=\"colab-df-container\">\n",
              "    <div>\n",
              "<style scoped>\n",
              "    .dataframe tbody tr th:only-of-type {\n",
              "        vertical-align: middle;\n",
              "    }\n",
              "\n",
              "    .dataframe tbody tr th {\n",
              "        vertical-align: top;\n",
              "    }\n",
              "\n",
              "    .dataframe thead th {\n",
              "        text-align: right;\n",
              "    }\n",
              "</style>\n",
              "<table border=\"1\" class=\"dataframe\">\n",
              "  <thead>\n",
              "    <tr style=\"text-align: right;\">\n",
              "      <th></th>\n",
              "      <th>Nº de Ordem</th>\n",
              "      <th>Ano</th>\n",
              "      <th>Idade</th>\n",
              "      <th>Ano de Frequência</th>\n",
              "    </tr>\n",
              "  </thead>\n",
              "  <tbody>\n",
              "    <tr>\n",
              "      <th>count</th>\n",
              "      <td>308309.000000</td>\n",
              "      <td>308309.0</td>\n",
              "      <td>308309.000000</td>\n",
              "      <td>308309.000000</td>\n",
              "    </tr>\n",
              "    <tr>\n",
              "      <th>mean</th>\n",
              "      <td>154155.000000</td>\n",
              "      <td>2019.0</td>\n",
              "      <td>27.477145</td>\n",
              "      <td>2.378620</td>\n",
              "    </tr>\n",
              "    <tr>\n",
              "      <th>std</th>\n",
              "      <td>89001.286409</td>\n",
              "      <td>0.0</td>\n",
              "      <td>7.628131</td>\n",
              "      <td>1.323711</td>\n",
              "    </tr>\n",
              "    <tr>\n",
              "      <th>min</th>\n",
              "      <td>1.000000</td>\n",
              "      <td>2019.0</td>\n",
              "      <td>16.000000</td>\n",
              "      <td>1.000000</td>\n",
              "    </tr>\n",
              "    <tr>\n",
              "      <th>25%</th>\n",
              "      <td>77078.000000</td>\n",
              "      <td>2019.0</td>\n",
              "      <td>22.000000</td>\n",
              "      <td>1.000000</td>\n",
              "    </tr>\n",
              "    <tr>\n",
              "      <th>50%</th>\n",
              "      <td>154155.000000</td>\n",
              "      <td>2019.0</td>\n",
              "      <td>25.000000</td>\n",
              "      <td>2.000000</td>\n",
              "    </tr>\n",
              "    <tr>\n",
              "      <th>75%</th>\n",
              "      <td>231232.000000</td>\n",
              "      <td>2019.0</td>\n",
              "      <td>31.000000</td>\n",
              "      <td>3.000000</td>\n",
              "    </tr>\n",
              "    <tr>\n",
              "      <th>max</th>\n",
              "      <td>308309.000000</td>\n",
              "      <td>2019.0</td>\n",
              "      <td>93.000000</td>\n",
              "      <td>6.000000</td>\n",
              "    </tr>\n",
              "  </tbody>\n",
              "</table>\n",
              "</div>\n",
              "    <div class=\"colab-df-buttons\">\n",
              "\n",
              "  <div class=\"colab-df-container\">\n",
              "    <button class=\"colab-df-convert\" onclick=\"convertToInteractive('df-5999f83c-bade-4f24-a5d0-ea9ae58e0835')\"\n",
              "            title=\"Convert this dataframe to an interactive table.\"\n",
              "            style=\"display:none;\">\n",
              "\n",
              "  <svg xmlns=\"http://www.w3.org/2000/svg\" height=\"24px\" viewBox=\"0 -960 960 960\">\n",
              "    <path d=\"M120-120v-720h720v720H120Zm60-500h600v-160H180v160Zm220 220h160v-160H400v160Zm0 220h160v-160H400v160ZM180-400h160v-160H180v160Zm440 0h160v-160H620v160ZM180-180h160v-160H180v160Zm440 0h160v-160H620v160Z\"/>\n",
              "  </svg>\n",
              "    </button>\n",
              "\n",
              "  <style>\n",
              "    .colab-df-container {\n",
              "      display:flex;\n",
              "      gap: 12px;\n",
              "    }\n",
              "\n",
              "    .colab-df-convert {\n",
              "      background-color: #E8F0FE;\n",
              "      border: none;\n",
              "      border-radius: 50%;\n",
              "      cursor: pointer;\n",
              "      display: none;\n",
              "      fill: #1967D2;\n",
              "      height: 32px;\n",
              "      padding: 0 0 0 0;\n",
              "      width: 32px;\n",
              "    }\n",
              "\n",
              "    .colab-df-convert:hover {\n",
              "      background-color: #E2EBFA;\n",
              "      box-shadow: 0px 1px 2px rgba(60, 64, 67, 0.3), 0px 1px 3px 1px rgba(60, 64, 67, 0.15);\n",
              "      fill: #174EA6;\n",
              "    }\n",
              "\n",
              "    .colab-df-buttons div {\n",
              "      margin-bottom: 4px;\n",
              "    }\n",
              "\n",
              "    [theme=dark] .colab-df-convert {\n",
              "      background-color: #3B4455;\n",
              "      fill: #D2E3FC;\n",
              "    }\n",
              "\n",
              "    [theme=dark] .colab-df-convert:hover {\n",
              "      background-color: #434B5C;\n",
              "      box-shadow: 0px 1px 3px 1px rgba(0, 0, 0, 0.15);\n",
              "      filter: drop-shadow(0px 1px 2px rgba(0, 0, 0, 0.3));\n",
              "      fill: #FFFFFF;\n",
              "    }\n",
              "  </style>\n",
              "\n",
              "    <script>\n",
              "      const buttonEl =\n",
              "        document.querySelector('#df-5999f83c-bade-4f24-a5d0-ea9ae58e0835 button.colab-df-convert');\n",
              "      buttonEl.style.display =\n",
              "        google.colab.kernel.accessAllowed ? 'block' : 'none';\n",
              "\n",
              "      async function convertToInteractive(key) {\n",
              "        const element = document.querySelector('#df-5999f83c-bade-4f24-a5d0-ea9ae58e0835');\n",
              "        const dataTable =\n",
              "          await google.colab.kernel.invokeFunction('convertToInteractive',\n",
              "                                                    [key], {});\n",
              "        if (!dataTable) return;\n",
              "\n",
              "        const docLinkHtml = 'Like what you see? Visit the ' +\n",
              "          '<a target=\"_blank\" href=https://colab.research.google.com/notebooks/data_table.ipynb>data table notebook</a>'\n",
              "          + ' to learn more about interactive tables.';\n",
              "        element.innerHTML = '';\n",
              "        dataTable['output_type'] = 'display_data';\n",
              "        await google.colab.output.renderOutput(dataTable, element);\n",
              "        const docLink = document.createElement('div');\n",
              "        docLink.innerHTML = docLinkHtml;\n",
              "        element.appendChild(docLink);\n",
              "      }\n",
              "    </script>\n",
              "  </div>\n",
              "\n",
              "\n",
              "<div id=\"df-9f5beebc-8cd7-480f-bc4d-bbbb5a01443c\">\n",
              "  <button class=\"colab-df-quickchart\" onclick=\"quickchart('df-9f5beebc-8cd7-480f-bc4d-bbbb5a01443c')\"\n",
              "            title=\"Suggest charts.\"\n",
              "            style=\"display:none;\">\n",
              "\n",
              "<svg xmlns=\"http://www.w3.org/2000/svg\" height=\"24px\"viewBox=\"0 0 24 24\"\n",
              "     width=\"24px\">\n",
              "    <g>\n",
              "        <path d=\"M19 3H5c-1.1 0-2 .9-2 2v14c0 1.1.9 2 2 2h14c1.1 0 2-.9 2-2V5c0-1.1-.9-2-2-2zM9 17H7v-7h2v7zm4 0h-2V7h2v10zm4 0h-2v-4h2v4z\"/>\n",
              "    </g>\n",
              "</svg>\n",
              "  </button>\n",
              "\n",
              "<style>\n",
              "  .colab-df-quickchart {\n",
              "    background-color: #E8F0FE;\n",
              "    border: none;\n",
              "    border-radius: 50%;\n",
              "    cursor: pointer;\n",
              "    display: none;\n",
              "    fill: #1967D2;\n",
              "    height: 32px;\n",
              "    padding: 0 0 0 0;\n",
              "    width: 32px;\n",
              "  }\n",
              "\n",
              "  .colab-df-quickchart:hover {\n",
              "    background-color: #E2EBFA;\n",
              "    box-shadow: 0px 1px 2px rgba(60, 64, 67, 0.3), 0px 1px 3px 1px rgba(60, 64, 67, 0.15);\n",
              "    fill: #174EA6;\n",
              "  }\n",
              "\n",
              "  [theme=dark] .colab-df-quickchart {\n",
              "    background-color: #3B4455;\n",
              "    fill: #D2E3FC;\n",
              "  }\n",
              "\n",
              "  [theme=dark] .colab-df-quickchart:hover {\n",
              "    background-color: #434B5C;\n",
              "    box-shadow: 0px 1px 3px 1px rgba(0, 0, 0, 0.15);\n",
              "    filter: drop-shadow(0px 1px 2px rgba(0, 0, 0, 0.3));\n",
              "    fill: #FFFFFF;\n",
              "  }\n",
              "</style>\n",
              "\n",
              "  <script>\n",
              "    async function quickchart(key) {\n",
              "      const charts = await google.colab.kernel.invokeFunction(\n",
              "          'suggestCharts', [key], {});\n",
              "    }\n",
              "    (() => {\n",
              "      let quickchartButtonEl =\n",
              "        document.querySelector('#df-9f5beebc-8cd7-480f-bc4d-bbbb5a01443c button');\n",
              "      quickchartButtonEl.style.display =\n",
              "        google.colab.kernel.accessAllowed ? 'block' : 'none';\n",
              "    })();\n",
              "  </script>\n",
              "</div>\n",
              "    </div>\n",
              "  </div>\n"
            ]
          },
          "metadata": {},
          "execution_count": 25
        }
      ],
      "source": [
        "data.describe()"
      ]
    },
    {
      "cell_type": "markdown",
      "metadata": {
        "id": "_UTuj4ySehpM"
      },
      "source": [
        "## Mostrar os valores inconsistentes na coluna Nome da IES"
      ]
    },
    {
      "cell_type": "code",
      "execution_count": 26,
      "metadata": {
        "id": "Kkm5oApsehpM",
        "outputId": "0261a8a5-a9c1-4aea-c253-b8b04527587c",
        "colab": {
          "base_uri": "https://localhost:8080/",
          "height": 0
        }
      },
      "outputs": [
        {
          "output_type": "execute_result",
          "data": {
            "text/plain": [
              "array(['Universidade Católica de Angola', 'Universidade de Belas',\n",
              "       'Universidade Gregório Semedo', 'Universidade Jean Piaget',\n",
              "       'Universidade Metodista de Angola', 'Universidade Óscar Ribas',\n",
              "       'Universidade Técnica de Angola',\n",
              "       'Instituto Superior Politécnico Alvorecer da Juventude',\n",
              "       'Instituto Superior Politécnico Atlântida',\n",
              "       'Instituto Superior Politécnico Cardeal Dom Alexandre do Nascimento',\n",
              "       'Instituto Superior Politécnico Católico de Benguela',\n",
              "       'Instituto Superior Politécnico Católico do Huambo',\n",
              "       'Instituto Superior Politécnico Kangonjo ',\n",
              "       'Instituto Superior Politécnico de Libolo',\n",
              "       'Instituto Superior Politécnico do Cazenga',\n",
              "       'Instituto Superior Politécnico Lusíada de Benguela',\n",
              "       'Instituto Superior Politécnico Maravilha',\n",
              "       'Instituto Superior Politécnico Sol Nascente',\n",
              "       'Instituto Superior Politécnico Katangoji',\n",
              "       'Instituto Superior Politécnico Privado de Menongue ',\n",
              "       'Instituto Superior Politécnico Lusíada da Lunda Sul ',\n",
              "       'Instituto Superior Politécnico do Cuanza Sul',\n",
              "       'Instituto Superior Politécnico de Malanje',\n",
              "       'Instituto Superior de Tecnologia de Informação e Comunicação',\n",
              "       'Instituto Superior de Tecnologia Agro-Alimentar de Malanje',\n",
              "       'Instituto Superior de Serviço Social',\n",
              "       'Instituto Superior de Educação Física e Desportos',\n",
              "       'Instituto Superior de Ciências da Educação do Huambo',\n",
              "       'Instituto Superior de Ciências da Educação de Luanda',\n",
              "       'Instituto Superior de Ciências da Educação da Huíla',\n",
              "       'Instituto Superior de Artes', 'Universidade Lueji A´Nkonde',\n",
              "       'Universidade Katyavala Buila', 'Universidade Kimpa Vita',\n",
              "       'Universidade José Eduardo dos Santos',\n",
              "       'Universidade Cuito Cuanavale', 'Universidade Onze de Novembro',\n",
              "       'Escola Superior Politécnica de Malanje',\n",
              "       'Escola Superior Pedagógica do Cuanza Norte',\n",
              "       'Escola Superior Pedagógica do Bengo',\n",
              "       'Escola Superior Pedagógica do Bié',\n",
              "       'Académia de Pescas e de Ciências do Mar do Namibe',\n",
              "       'Instituto Superior Politécnico de Ciência e Tecnologia',\n",
              "       'Instituto Superior Politécnico Intercontinetal de Luanda',\n",
              "       'Instituto Superior de Ciências de Administração e Humanas     ',\n",
              "       'Instituto Superior de Ciências Sociais e Relações Internacionais',\n",
              "       'Instituto Superior Politécnico de Tecnologia e Ciências',\n",
              "       'Instituto Superior Politécnico Lusíada do Huambo',\n",
              "       'Instituto Superior Politécnico Privado de Kilamba',\n",
              "       'Instituto Superior Politécnico da Tundavala',\n",
              "       'Universidade Independente de Angola',\n",
              "       'Instituto Superior Politécnico Privado Sinodal',\n",
              "       'Instituto Superior Politécnico de Porto Amboim',\n",
              "       'Instituto Superior de Ciências da Educação do Uíge',\n",
              "       'Universidade Mandume Ya Ndemofayo',\n",
              "       'Instituto Superior de Relações Internacionais Venâncio de Moura',\n",
              "       'Instituto Superior Politécnico do Kuito',\n",
              "       'Instituto Superior Politécnico da Caála',\n",
              "       'Instituto Superior Politécnico Jean Piaget de Benguela',\n",
              "       'Universidade Agostinho Neto',\n",
              "       'Instituto Superior de Gestão, Logística e Transportes',\n",
              "       'Instituto Superior Técnico de Administração e Finanças',\n",
              "       'Instituto Superior Politécnico Kalandula de Angola',\n",
              "       'Instituto Superior Politécnico de Benguela',\n",
              "       'Instituto Superior Politécnico Metropolitano de Angola',\n",
              "       'Instituto Superior Politécnico de Humanidade e Tecnologias EKUIKUI-II',\n",
              "       'Instituto Superior Politécnico Tocoísta',\n",
              "       'Intituto Superior Politécnico do Zango',\n",
              "       'Universidade Lusíada de Angola',\n",
              "       'Escola Superior Técnica de Ciências do Desporto',\n",
              "       'Instituto Superior de Angola',\n",
              "       'Instituto Superior Politécnico Privado do Uíge',\n",
              "       'Instituto Superior Politécnico Walinga ',\n",
              "       'Instituto Superior Técnico de Angola',\n",
              "       'Universidade Privada de Angola',\n",
              "       'Instituto Superior Politécnico Independente',\n",
              "       'Instituto Superior Deolinda Rodrigues',\n",
              "       'Instituto Superior de Ciências da Comunicação',\n",
              "       'Instituto Superior Politécnico de Cabinda',\n",
              "       'Instituto Superior Politécnico Gregório Semedo',\n",
              "       'Instituto Superior Politécnico Privado do Luena',\n",
              "       'Instituto Superior Politécnico Envangélico do Lubango',\n",
              "       'Instituto Superior Politécnico Internacional de Angola',\n",
              "       'Instituto Superior Politécnico Lusíada de Cabinda',\n",
              "       'Instituto Superior Politécnico Privado da Catepa'], dtype=object)"
            ]
          },
          "metadata": {},
          "execution_count": 26
        }
      ],
      "source": [
        "data['Nome da IES'].unique()"
      ]
    },
    {
      "cell_type": "markdown",
      "metadata": {
        "id": "5FYBfsuYehpW"
      },
      "source": [
        "Constatou-se que essa coluna não possui valor null ou inconsistente"
      ]
    },
    {
      "cell_type": "markdown",
      "metadata": {
        "id": "XMelDTmFehpZ"
      },
      "source": [
        "## Mostrar os valores inconsistentes na coluna Natureza"
      ]
    },
    {
      "cell_type": "code",
      "execution_count": 27,
      "metadata": {
        "id": "TD_2p5m8ehpj",
        "outputId": "a4899c80-9867-4cfe-8b3a-dae01e67143f",
        "colab": {
          "base_uri": "https://localhost:8080/",
          "height": 0
        }
      },
      "outputs": [
        {
          "output_type": "execute_result",
          "data": {
            "text/plain": [
              "array(['Universidade', 'Instituto Superior', 'Escola Superior',\n",
              "       'Academia'], dtype=object)"
            ]
          },
          "metadata": {},
          "execution_count": 27
        }
      ],
      "source": [
        "data['Tipo de IES'].unique()"
      ]
    },
    {
      "cell_type": "markdown",
      "source": [
        "**Resposta:** Essa coluna não possui valor nulo ou inconsistencia"
      ],
      "metadata": {
        "id": "EUSf1x3KjUUL"
      }
    },
    {
      "cell_type": "markdown",
      "metadata": {
        "id": "O1aQX3kqehpk"
      },
      "source": [
        "## Mostrar os valores inconsistentes na coluna Prov. UO"
      ]
    },
    {
      "cell_type": "code",
      "execution_count": 28,
      "metadata": {
        "id": "6cxKauP2ehpl",
        "outputId": "75bd5b30-6466-4615-855a-319632ee1e55",
        "colab": {
          "base_uri": "https://localhost:8080/",
          "height": 0
        }
      },
      "outputs": [
        {
          "output_type": "execute_result",
          "data": {
            "text/plain": [
              "array(['Privada', 'Pública'], dtype=object)"
            ]
          },
          "metadata": {},
          "execution_count": 28
        }
      ],
      "source": [
        "data['Natureza'].unique()"
      ]
    },
    {
      "cell_type": "markdown",
      "metadata": {
        "id": "av9kPzUqehpn"
      },
      "source": [
        "## Mostrar os valores inconsistentes na coluna Sexo"
      ]
    },
    {
      "cell_type": "code",
      "execution_count": 29,
      "metadata": {
        "id": "bqM7DZ3aehpn",
        "outputId": "18f3cd0a-3e48-4b61-e9ca-68374a8bf045",
        "colab": {
          "base_uri": "https://localhost:8080/",
          "height": 0
        }
      },
      "outputs": [
        {
          "output_type": "execute_result",
          "data": {
            "text/plain": [
              "array(['Masculino', 'Feminino'], dtype=object)"
            ]
          },
          "metadata": {},
          "execution_count": 29
        }
      ],
      "source": [
        "data['Sexo'].unique()"
      ]
    },
    {
      "cell_type": "markdown",
      "source": [
        "**Resposta:** Sem problema quanto a essa coluna"
      ],
      "metadata": {
        "id": "3MfRzPjCjhro"
      }
    },
    {
      "cell_type": "markdown",
      "metadata": {
        "id": "5wyRahTYehp1"
      },
      "source": [
        "## Mostrar os valores inconsistentes na coluna País de Origem"
      ]
    },
    {
      "cell_type": "code",
      "execution_count": 30,
      "metadata": {
        "id": "-yQtcj9xehp2",
        "outputId": "27072df7-0188-4bf9-c4ae-951dce6058de",
        "colab": {
          "base_uri": "https://localhost:8080/",
          "height": 0
        }
      },
      "outputs": [
        {
          "output_type": "execute_result",
          "data": {
            "text/plain": [
              "array(['Angola', 'Moçambique', 'São Tomé e Príncipe', 'Brasil',\n",
              "       'África do Sul', 'Serra Leoa', 'Ruanda', 'Andorra', 'Cabo Verde',\n",
              "       'Portugal', 'Alemanha', 'França', 'Cuba', 'Roménia',\n",
              "       'Estados Unidos da América', 'Coreia do Sul', 'Rússia', 'Bélgica',\n",
              "       'Guiné-Bissau', 'Zambia', 'Namíbia', 'Argelina', 'Americana',\n",
              "       'Espanha', 'Tanzânia', 'Republica Democrática do Congo',\n",
              "       'Congo Democrático', 'Federação Russa', 'Argélia', 'Zimbabwe',\n",
              "       'Etiópia', nan, 'Outra (Z.M)', 'América do Sul (sem esp.)',\n",
              "       'Inglesa', 'Alemã', 'Bulgária', 'Antígua e Barbuda', 'Antártida',\n",
              "       'Belarus', 'Congo, República Democrática do (antigo Zaire)',\n",
              "       'Portugal ', 'Trindade e Tobago', 'Congo-Brazzaville',\n",
              "       'Coreia do Norte', 'Angolana', 'Namibia', 'Zaire', 'São Tomé',\n",
              "       'Congo Democratico', 'Brasileira', 'Cubano',\n",
              "       'República Democrática do Congo', 'Reino Unido', 'Itália',\n",
              "       'Uruguai', 'Antilhas Neerlandesas', 'Costa do Marfim', 'Guiné',\n",
              "       'Russia', 'Portuguesa', 'Republica Democratica Do ',\n",
              "       'Sao Tome E Principe', 'ANGOLA', 'RDC', 'Angola '], dtype=object)"
            ]
          },
          "metadata": {},
          "execution_count": 30
        }
      ],
      "source": [
        "data['País de Origem'].unique()"
      ]
    },
    {
      "cell_type": "markdown",
      "metadata": {
        "id": "O5xrYVMeehp4"
      },
      "source": [
        "Note-se que foi colocado diferente descrição por Pais de Origem que na verdade diz a mesma coisa além de apresentar certas cidades que não conseguimos identificar\n"
      ]
    },
    {
      "cell_type": "markdown",
      "metadata": {
        "id": "17hnG6Z5ehp5"
      },
      "source": [
        "### Solução: Harmonizando esses dados"
      ]
    },
    {
      "cell_type": "code",
      "execution_count": 31,
      "metadata": {
        "id": "-FiS7K78ehp5",
        "outputId": "b884fe88-c904-408d-aa81-0f03cc107ae2",
        "colab": {
          "base_uri": "https://localhost:8080/",
          "height": 0
        }
      },
      "outputs": [
        {
          "output_type": "execute_result",
          "data": {
            "text/plain": [
              "array(['Angola', 'Moçambique', 'São Tomé e Príncipe', 'Brasil',\n",
              "       'África do Sul', 'Serra Leoa', 'Ruanda', 'Andorra', 'Cabo Verde',\n",
              "       'Portugal', 'Alemanha', 'França', 'Cuba', 'Roménia',\n",
              "       'Estados Unidos da América', 'Coreia do Sul', 'Rússia', 'Bélgica',\n",
              "       'Guiné-Bissau', 'Zambia', 'Namíbia', 'Argelina', 'Espanha',\n",
              "       'Tanzânia', 'Republica Democrática do Congo',\n",
              "       'República Democrática do Congo', 'Argélia', 'Zimbabwe', 'Etiópia',\n",
              "       'País Não Especificado', 'Outra (Z.M)',\n",
              "       'América do Sul (sem esp.)', 'Inglesa', 'Bulgária',\n",
              "       'Antígua e Barbuda', 'Antártida', 'Belarus', 'Trindade e Tobago',\n",
              "       'Congo-Brazzaville', 'Coreia do Norte', 'Reino Unido', 'Itália',\n",
              "       'Uruguai', 'Antilhas Neerlandesas', 'Costa do Marfim', 'Guiné'],\n",
              "      dtype=object)"
            ]
          },
          "metadata": {},
          "execution_count": 31
        }
      ],
      "source": [
        "data['País de Origem']=data['País de Origem'].replace('ANGOLA','Angola')\n",
        "data['País de Origem']=data['País de Origem'].replace('Angolana','Angola')\n",
        "data['País de Origem']=data['País de Origem'].replace('Angola ','Angola')\n",
        "data['País de Origem']=data['País de Origem'].replace('São Tomé','São Tomé e Príncipe')\n",
        "data['País de Origem']=data['País de Origem'].replace('Sao Tome E Principe','São Tomé e Príncipe')\n",
        "data['País de Origem']=data['País de Origem'].replace('Brasileira','Brasil')\n",
        "data['País de Origem']=data['País de Origem'].replace('Portugal ','Portugal')\n",
        "data['País de Origem']=data['País de Origem'].replace('Portuguesa','Portugal')\n",
        "data['País de Origem']=data['País de Origem'].replace('Alemã','Alemanha')\n",
        "data['País de Origem']=data['País de Origem'].replace('Cubano','Cuba')\n",
        "data['País de Origem']=data['País de Origem'].replace('Russia','Rússia')\n",
        "data['País de Origem']=data['País de Origem'].replace('Federação Russa','Rússia')\n",
        "data['País de Origem']=data['País de Origem'].replace('Republica Democratica Do ','República Democrática do Congo')\n",
        "data['País de Origem']=data['País de Origem'].replace('Congo Democrático','República Democrática do Congo')\n",
        "data['País de Origem']=data['País de Origem'].replace('RDC','República Democrática do Congo')\n",
        "data['País de Origem']=data['País de Origem'].replace('Congo, República Democrática do (antigo Zaire)','República Democrática do Congo')\n",
        "data['País de Origem']=data['País de Origem'].replace('Congo Democratico','República Democrática do Congo')\n",
        "data['País de Origem']=data['País de Origem'].replace('Zaire','República Democrática do Congo')\n",
        "data['País de Origem']=data['País de Origem'].replace('Namibia','Namíbia')\n",
        "data['País de Origem']=data['País de Origem'].replace('Americana','Estados Unidos da América')\n",
        "data['País de Origem'] = data['País de Origem'].replace(np.nan, 'País Não Especificado')\n",
        "data['País de Origem'].unique()"
      ]
    },
    {
      "cell_type": "markdown",
      "source": [
        "**Resposta:** Resolvido com Harmonia de países"
      ],
      "metadata": {
        "id": "suYNwCkTkOaK"
      }
    },
    {
      "cell_type": "markdown",
      "metadata": {
        "id": "4iU3tNQqehp9"
      },
      "source": [
        "## Mostrar os valores inconsistentes na coluna Periodo de Estudo"
      ]
    },
    {
      "cell_type": "code",
      "execution_count": 32,
      "metadata": {
        "id": "jBTKuHtZehp9",
        "outputId": "f3f73e12-0844-4242-f5e6-e6d2fbb96a49",
        "colab": {
          "base_uri": "https://localhost:8080/",
          "height": 0
        }
      },
      "outputs": [
        {
          "output_type": "execute_result",
          "data": {
            "text/plain": [
              "array(['Regular', 'Pós-Laboral'], dtype=object)"
            ]
          },
          "metadata": {},
          "execution_count": 32
        }
      ],
      "source": [
        "data['Periodo de Estudo'].unique()"
      ]
    },
    {
      "cell_type": "markdown",
      "source": [
        "**Resposta:** Sem problema de inconsistencia"
      ],
      "metadata": {
        "id": "U4h-o2QdkT1U"
      }
    },
    {
      "cell_type": "markdown",
      "metadata": {
        "id": "oJrc59jPehqA"
      },
      "source": [
        "## Mostrar os valores inconsistentes na coluna Unidade Organica"
      ]
    },
    {
      "cell_type": "code",
      "execution_count": 33,
      "metadata": {
        "id": "1RBIor_6ehqB",
        "outputId": "04047018-715e-4b11-de12-9299c464f205",
        "colab": {
          "base_uri": "https://localhost:8080/",
          "height": 0
        }
      },
      "outputs": [
        {
          "output_type": "execute_result",
          "data": {
            "text/plain": [
              "array(['Instituto Superior Dom Bosco', 'Instituto Superior João Paulo II',\n",
              "       'Faculdade de Ciências Humanas', 'Faculdade de Economia e Gestão',\n",
              "       'Faculdade de Direito', 'Faculdade de Engenharia',\n",
              "       'Faculdade de Teologia', 'Instituto Superior de Ciências de Saúde',\n",
              "       'Faculdade de Ciências Sociais e Económicas',\n",
              "       'Faculdade de Ciências de Saúde',\n",
              "       'Faculdade de Engenharia e Novas Tecnologias',\n",
              "       'Faculdade de Ciências Jurídicas e Políticas',\n",
              "       'Faculdade de Ciências Económicas e Empresariais',\n",
              "       'Faculdade de Ciências Sociais e Desenvolvimento Humano ',\n",
              "       'Faculdade de Ciências da Saúde',\n",
              "       'Faculdade de Ciências Sociais e Humanas',\n",
              "       'Faculdade de Ciências e Tecnologias',\n",
              "       'Faculdade de Humanidades, Artes, Educação e Formação de Professores',\n",
              "       'Faculdade de Ciências Económicas e Empresariais ',\n",
              "       'Faculdade de Direito ', 'Faculdade de Engenharia e Ambiente',\n",
              "       'Faculdade de Ciências Humanas e Sociais',\n",
              "       'Faculdade de Arquitectura ',\n",
              "       'Faculdade de Engenharias e Tecnologia',\n",
              "       'Faculdade de Gestão e Ciências Económicas',\n",
              "       'Faculdade de Letras e Ciências Sociais ',\n",
              "       'Faculdade de Engenharias ', 'Departamento de Ciências de Saúde',\n",
              "       'Departamento de Ciências das Engenharias e Exactas',\n",
              "       'Departamento de Ciências Sociais e Económicas',\n",
              "       'Departamento de Ciências Sociais Economicas Jurídicas e Humanas',\n",
              "       'Departamento da Saúde',\n",
              "       'Departamento de Ciência Sociais e Humanas',\n",
              "       'Departamento de Engenharia',\n",
              "       'Departamento de Ciências da Educação e Sociais',\n",
              "       'Departamento de Ciências Economicas',\n",
              "       'Departamento de Arquitectura ', 'Departamento de Direito ',\n",
              "       'Departamento de Ciências Económicas',\n",
              "       'Departamento de Ciências Jurídica', 'Departamento de Linguística',\n",
              "       'Departamento de Ciências Jurídicas Económicas, Sociais e Tecnologicas',\n",
              "       'Departamento de Ciências da Educação ',\n",
              "       'Departamento de Ciências de Saúde ', 'Departamento de Saúde ',\n",
              "       'Departamento de Ciências Sociais e Humanas',\n",
              "       'Departamento de Engenharia ',\n",
              "       'Instituto Superior Politécnico de Libolo',\n",
              "       'Departamento de Ciências da Educação',\n",
              "       'Departamento de Engenharia e Tecnologia',\n",
              "       'Departamento de Ciências Económicas e Gestão ',\n",
              "       'Departamento de Ciências Sociais e Humanas ',\n",
              "       'Departamento de Ciências Económicas e Empresariais',\n",
              "       'Departamento de Ciências Jurídicas ',\n",
              "       'Departamento de Ciências Humanas e Tecnologias',\n",
              "       'Departamento de Ciências Económicas e Jurídicas',\n",
              "       'Departamento de Ciências e Tecnologias', 'Departamento de Saúde',\n",
              "       'Departamento de Gestão de Recursos Humanos',\n",
              "       'Departamento Engenharia e Tecnologia',\n",
              "       'Departamento de Ciências Sociais  ', 'Departamento de Direito',\n",
              "       'Departamento de Psicologia', 'Departamento de Recurso Humanos',\n",
              "       'Departamento de Agronomia', 'Departamento de Zootecnia',\n",
              "       'Departamento de Gestão Agrária', 'Departamento de Enfermagem',\n",
              "       'Departamento de Contabilidade e Gestão',\n",
              "       'Departamento de Ciências e Tecnologias da Saúde',\n",
              "       'Departamento de Engenharia de Telecomunicações',\n",
              "       'Departamento de Engenharia de Informática',\n",
              "       'Departamento de Engenharia de Processo',\n",
              "       'Departamento de Educação Infantil',\n",
              "       'Departamento de Serviço Social',\n",
              "       'Departamento de Educação Física e Desporto ',\n",
              "       'Departamento de Letras Modernas',\n",
              "       'Departamento de Ciências da Natureza',\n",
              "       'Departamento de Ciências Exactas',\n",
              "       'Departamento de Ciências Sociais',\n",
              "       'Departamento de Letras Modernas ', 'Educação Física e Desporto',\n",
              "       'Departamento de Ciências Exactas ',\n",
              "       'Departamento de Ciencias da Educação', 'Departamento de Música',\n",
              "       'Departamento de Cinema e Teatro', 'Departamento de Artes Visuais',\n",
              "       'Departamento de Diseño de Modas', 'Departamento de Teatro',\n",
              "       'Escola Superior Pedagógica da Lunda Norte ',\n",
              "       'Escola Superior Pegadógica de Lunda Sul',\n",
              "       'Escola Superior Politécnica da Lunda Norte',\n",
              "       'Faculdade de Economia', 'Faculdade de Medicina',\n",
              "       'Instituto Superior de Ciências da Educação do Cuanza Sul',\n",
              "       'Instituto Superior de Ciências da Educação de Benguela',\n",
              "       'Faculdade de Economia ',\n",
              "       'Instituto Superior Politécnico de Benguela ',\n",
              "       'Escola Superior Politécnica do Cuanza Norte',\n",
              "       'Facultade de Economia', 'Escola Superior Politécnica do Uíge',\n",
              "       'Instituto Superior Politécnico do Huambo',\n",
              "       'Escola Superior Politécnica do Moxico',\n",
              "       'Escola Superior Politécnica do Bié',\n",
              "       'Faculdade de Ciências Agrárias',\n",
              "       'Faculdade de Medicina Veterinária',\n",
              "       'Escola Superior de Hotelaria e Turismo',\n",
              "       'Escola Superior Pedagógica de Cunene',\n",
              "       'Instituto Superior Politécnico do Cunene',\n",
              "       'Instituto Superior de Ciências de Saúde Cuando Cubango',\n",
              "       'Escola Superior Politécnica do Cuando Cubango',\n",
              "       'Escola Superior Pedagógica de Cuando Cubango',\n",
              "       'Instituto Superior de Ciências da Educação',\n",
              "       'Escola Superior Politécnica do Zaire no Soyo',\n",
              "       \"Escola Superior Politécnica do Zaire no M'Banza Kongo\",\n",
              "       'Instituto Superior Politécnico de Cabinda',\n",
              "       'Departamento de Ciências Sociais ',\n",
              "       'Departamento de Ciências de Línguas e Ciências Sociais ',\n",
              "       'Departamento de Ensino Primário',\n",
              "       'Faculdade de Pescas e Navegação',\n",
              "       'Faculdade de Processamento de Pescado',\n",
              "       'Faculdade de Exploração de Recursos Aquáticos',\n",
              "       'Departamento de Contablidade, Finaças e Gestão',\n",
              "       'Departamento de Ciências Jurídicas e Criminais',\n",
              "       'Departamento de Gestão e Economia',\n",
              "       'Departamento de Ciência Jurídicas e Criminalistica',\n",
              "       'Departamento de Economia',\n",
              "       'Departamento de Administração Pública ',\n",
              "       'Departamento de Engenharia e Tecnologias',\n",
              "       'Departamento de Ciências Sociais e Aplicadas',\n",
              "       'Departamento de Ciências Jurídicas',\n",
              "       'Instituto Superior Politécnico Privado de Kilamba',\n",
              "       'Departamento de Engenharias', 'Departamento de Artes',\n",
              "       'Universidade Independente de Angola',\n",
              "       'Departamento de Ciências das Engenharias ',\n",
              "       'Departamento de Ciências da Saúde ',\n",
              "       'Departamento de Ciências Económicas, Sociais e Humanas',\n",
              "       'Departamento de Ciências Tecnológicas',\n",
              "       'Departamento de Educação de Infância', 'Faculdade de Medicina ',\n",
              "       'Instituto Superior Politécnico da Huíla',\n",
              "       'Escola Superior Pedagógica do Namibe',\n",
              "       'Escola Superior Politécnica do Namibe',\n",
              "       'Instituto Superior de Relações Internacionais',\n",
              "       'Departamento de Ciências Jurídicas e Comunicação',\n",
              "       'Departamento de Economia e Gestão', 'Departamento de Educação',\n",
              "       'Instituto Superior Politécnico da Caála ',\n",
              "       ' Departamento de Ciências da Educação, Sociais e Humanas ',\n",
              "       'Departamento de Ciências da Educação, Sociais e Humanas',\n",
              "       'Faculdade de Ciências', 'Faculdade de Ciências Sociais',\n",
              "       'Faculdade de Letras', 'Instituto Superior de Ciências da Saúde',\n",
              "       'Escola Superior  de Hotelaria  e Turismo',\n",
              "       'Instituto Superior de Gestão, Logística e Transportes',\n",
              "       'Instituto Superior Técnico de Administração e Finanças',\n",
              "       'Departamento de Ciências Humanas',\n",
              "       'Departamento de Ciências da Saúde',\n",
              "       'Departamento de Ciências e Tecnologia da Saúde',\n",
              "       'Departamento de Gestão e Desenvolvimento Humano',\n",
              "       'Departamento de Ciências Tecnológicas e Engenharias',\n",
              "       'Departamento de Ciências Humanas, Educação e Artes',\n",
              "       'Departamento de Ciências Económicas e Gestao',\n",
              "       'Departamento de Humanidade e Tecnologia',\n",
              "       'Departamento de Ciências Sociais, Comportamentais e Económicas e Direito',\n",
              "       'Departamento de Saúde e Desporto',\n",
              "       'Departamento de Ciências Saúde',\n",
              "       'Departamento de Ciencias Economicas  ',\n",
              "       'Departamento de Ciencias Socias',\n",
              "       'Departamento de Ciencias Sociais ',\n",
              "       'Intituto Superior Politécnico do Zango',\n",
              "       'Faculdade de Ciências Económicas',\n",
              "       'Faculdade de Direito e Relações Internacionais',\n",
              "       'Faculdade de Ciências Tecnológicas',\n",
              "       'Departamento de Ciências e Tecnologias ',\n",
              "       'Departamento de Ciências Económicas ',\n",
              "       'Instituto Superior Politécnico Privado do Uíge ',\n",
              "       'Instituto Superior Politécnico Walinga ',\n",
              "       'Instituto Superior Técnico de Angola',\n",
              "       'Faculdade de Ciências Humanas, Sociais e Políticas',\n",
              "       'Faculdade de Engenharia ',\n",
              "       'Departamento de Ciências da Engenharia e Tecnologia ',\n",
              "       'Departamento de Informação',\n",
              "       'Departamento de Arquitectura e Urbanismo',\n",
              "       'Departamento de Enfermagem ',\n",
              "       'Departamento de Gestão e Contabilidade',\n",
              "       'Departamento de Engenharia Informática',\n",
              "       'Departamento de Relações Internacionais',\n",
              "       'Departamento de Ciências Jurídicas e Políticas',\n",
              "       'Departamento e Novas Tecnologias',\n",
              "       'Departamento de Ciências Económicas, Jurídicas e Humanas',\n",
              "       'Departamento de Ciências Socias e Humanas ',\n",
              "       'Departamento de Engenharia e Arquitectura ',\n",
              "       'Departamento de Ciências Informáticas',\n",
              "       'Instituto Superior Politécnico Privado da Catepa'], dtype=object)"
            ]
          },
          "metadata": {},
          "execution_count": 33
        }
      ],
      "source": [
        "data['Unidade Organica'].unique()"
      ]
    },
    {
      "cell_type": "markdown",
      "metadata": {
        "id": "_QgxABLgehqB"
      },
      "source": [
        "## Mostrar os valores inconsistentes na coluna Nome do Curso Inscrito no Ensino Superior"
      ]
    },
    {
      "cell_type": "code",
      "execution_count": 34,
      "metadata": {
        "id": "jEfdjHcWehqC",
        "outputId": "74e12186-682d-43b2-9184-929ed012afb0",
        "colab": {
          "base_uri": "https://localhost:8080/",
          "height": 0
        }
      },
      "outputs": [
        {
          "output_type": "execute_result",
          "data": {
            "text/plain": [
              "array(['Filosofia', 'Pedagogia', 'Serviço Social ',\n",
              "       'Educação Moral e Cívica', 'Educação de Infância',\n",
              "       'Línguas e Administração', 'Contabilidade e Administração',\n",
              "       'Direito', 'Psicologia', 'Engenharia Informática',\n",
              "       'Engenharia de Petróleos', 'Engenharia de Telecomunicações',\n",
              "       'Economia e Gestão', 'Teologia', 'Sociologia', 'Nutrição',\n",
              "       'Economia e Gestão de Saúde', 'Saúde Pública',\n",
              "       'Relações Internacionais', 'Enfermagem',\n",
              "       'Gestão de Recursos Humanos', 'Contabilidade e Gestão',\n",
              "       'Administração e Marketing', 'Gestão Aeronáutica',\n",
              "       'Gestão Autarquias', 'Fisioterapia', 'Medicina Dentária',\n",
              "       'Farmácia', 'Análises Clínicas e Saúde Pública',\n",
              "       'Gestão Hospitalar', 'Informática de Gestão',\n",
              "       'Ciências Políticas e Administração do Território',\n",
              "       'Organização e Gestão de Empresas', 'Gestão Comercial e Marketing',\n",
              "       'Comunicação Empresarial e Línguas', 'Medicina',\n",
              "       'Engenharia Informática de Gestão',\n",
              "       'Engenharia de Pesquisa e Produção de Petróleos',\n",
              "       'Ciências do Desporto e Motricidade Humana',\n",
              "       'Engenharia Electromecânica', 'Engenharia Civil',\n",
              "       'Engenharia de Refinação de Petróleos',\n",
              "       'Ensino do Português e Línguas Nacionais',\n",
              "       'Ciências da Comunicação', 'Gestão e Administração de Empresas',\n",
              "       'Engenharia Industrial e Sistemas Eléctricos',\n",
              "       'Turismo, Gestão Hoteleira e Animação',\n",
              "       'Ambiente e Gestão do Território',\n",
              "       'Língua Portuguesa e Comunicação', 'Arquitectura e Urbanismo',\n",
              "       'Engenharia Mecatrónica', 'Economia', 'Cardiopneumologia',\n",
              "       'Ciências do Desporto e Educação Física', 'Biologia',\n",
              "       'Engenharia do Ambiente', 'Contabilidade e Finanças',\n",
              "       'Engenharia de Gestão Industrial',\n",
              "       'Engenharia Informática e Comunicações',\n",
              "       'Gestão Administração e Marketing', 'Gestão',\n",
              "       'Língua e Literatura Inglesa', 'Língua Inglesa', 'Geologia',\n",
              "       'Engenharia de Ambiente',\n",
              "       'Engenharia de Telecomunicações e Electrónica', 'Engenharia Minas',\n",
              "       'Engenharia de Geologia e Minas', 'Ciências Económicas e Gestão',\n",
              "       'Engenharia dos Recursos Naturais e Ambiente', 'Odontologia',\n",
              "       'Radiologia', 'Gestão de Empresas', 'Análises Clínicas',\n",
              "       'Gestão de Contabilidades', 'Engenharia de Construção Civil',\n",
              "       'Agronomia', 'Ciências da Educação',\n",
              "       'Ciências Políticas e Relações Internacionais', 'Arquitectura',\n",
              "       'Economia Agrária', 'Didáctica da Língua Portuguesa',\n",
              "       'Gestão do Empreendedorismo', 'Ensino de Pedagogia', 'Zootecnia',\n",
              "       'Engenharia Electrónica e Telecomunicações',\n",
              "       'Gestão Empresarial e Contabilidade',\n",
              "       'Gestão e Administração Pública', 'Relações internacionais',\n",
              "       'Engenharia Agronômica', 'Contabilidade', 'Informática',\n",
              "       'Ciências Económicas Empresariais', 'Ensino de Psicologia',\n",
              "       'Desporto e Educação Física', 'Ensino de Sociologia',\n",
              "       'Ensino de História', 'Ensino de Biologia', 'Ensino de Geografia',\n",
              "       'História', 'Psicologia Didatica', 'Engenharia Química',\n",
              "       'Engenharia Mecânica', 'Comunicação Social', 'Recursos Humanos',\n",
              "       'Engenharia Zootecnia', 'Gestão Agrária', 'Ciências Farmacêuticas',\n",
              "       'Psicologia Clínica', 'Engenharia em Tecnologia Agro-Alimentar ',\n",
              "       'Educação Física e Desportos', 'Ensino da Língua Portuguesa',\n",
              "       'Ensino de Matemática', 'Ensino de Física',\n",
              "       'Ensino da Língua Inglesa', 'Ensino de Química',\n",
              "       'Ensino da Língua e Literaturas Africanas',\n",
              "       'Ensino da Língua Francesa', 'Ensino Primário',\n",
              "       'Educador de Infância', 'Ensino de Filosofia',\n",
              "       'Informática Educativa', 'Música', 'Teatro',\n",
              "       'Artes Visuais e Plásticas', 'Design de Moda', 'Artes Visuais',\n",
              "       'Ensino Especial', 'Ensino Pré-Escolar', 'Administração e Gestão',\n",
              "       'Engenharia de Geologia', 'Engenharia de Metalurgia e Materiais',\n",
              "       'Engenharia de Minas', 'MEDICINA', 'Contabilidade e Auditoria',\n",
              "       'Ciências da Computação', 'Educação Especial', 'Educação Primária',\n",
              "       'Engenharia de Gestão Logística e Transporte',\n",
              "       'Administração Pública', 'Engenharia Electrotecnia',\n",
              "       'Engenharia Hidráulica', 'Engenharia Florestal',\n",
              "       'Engenharia de Recursos Hídricos', 'Electromedicina',\n",
              "       'Medicina Veterinária', 'Gestão de Turismo',\n",
              "       'Engenharia de Informática de Gestão', 'Engenharia Agropecuária',\n",
              "       'Ensino de Língua Inglêsa',\n",
              "       'Engenharia de Organização e Manutenção Industrial',\n",
              "       'Ensino De Física', 'Hotelaria e Turismo', 'Ensino da História',\n",
              "       'Ensino Linguística Francesa', 'Ensino da Geografia',\n",
              "       'ENSINO DE FíSICA', 'Ensino de Informática Educativa',\n",
              "       'Educação Pré-Escolar', 'Navegação', 'Mecânica Naval',\n",
              "       'Engenharia de Técnica de Processamento de Pescado', 'Aquicultura',\n",
              "       'Recursos Marinhos',\n",
              "       'Engenharia de Electrotecnia e Electrónica Industrial',\n",
              "       'Oceanografia', 'Logística e Gestão Comercial',\n",
              "       'Ciências Criminais', 'Ciências Jurídicas',\n",
              "       'Engenharia de Redes e Telecomunicações',\n",
              "       'Contablidade e Finanças',\n",
              "       'Engenharia Informática e Sistemas de Informação',\n",
              "       'Ciência de Gestão e Administração',\n",
              "       'Gestão Bancária e Seguradora', 'Gestão de Banca e Seguros',\n",
              "       'Ciências Políticas', 'Engenharia Eléctrica',\n",
              "       'Engenharia de Produção Industrial', 'Geofísica',\n",
              "       'Contabilidade Superior de Gestão', 'Psicologia Organizacional',\n",
              "       'Design Gráfico', 'Informática e Gestão de Empresas',\n",
              "       'Finanças e Contabilidade', 'Gestão e Marketing',\n",
              "       'Engenharia Electrotécnica e Telecomunicações',\n",
              "       'Engenharia e Gestão Industrial',\n",
              "       'Administração Local e Autárquica', 'Turismo e Gestão Hoteleira',\n",
              "       'Sociologia da Educação', 'Análise Clínica e Laboratório',\n",
              "       'Administração e Gestão Hospitalar', 'Sociologia Política',\n",
              "       'Engenharia Electrónica', 'Psicologia Escolar', 'Construção Civil',\n",
              "       'Engenharia da Computação', 'Desenho', 'Engenharia em Geologia',\n",
              "       'Matemática', 'Geografia', 'Química', 'Magistério Primário ',\n",
              "       'Física', 'Biologia Marinha',\n",
              "       'Comunicação Social e Técnicas de Imagem', 'Economia e Finanças',\n",
              "       'Pedagogia do Trabalho', 'Biomedicina',\n",
              "       'Administração Pública e Gestão de Cidades',\n",
              "       'Enfermagem e Obstetrícia',\n",
              "       'Ciências de Educação Física, Desporto e Motricidade Humana',\n",
              "       'Radiologia e Imagiologia',\n",
              "       'Enfermagem de Saúde Materna e Obstétrica',\n",
              "       'Engenharia Geográfica', 'Metereologia  ', 'Antropologia',\n",
              "       'Geodemografia', 'Gestão Financeira', 'Engenharia Electrotécnica',\n",
              "       'Língua e Literatura Francesa', 'Língua e Literatura Portuguesa',\n",
              "       'Línguas e Literaturas Africanas',\n",
              "       'Secretariado Executivo e Comunicação Empresarial',\n",
              "       'Gestão Logítica e Transporte', 'Gestão Bancária e de Seguros',\n",
              "       'Informática de Gestão Financeira', 'Psicologia de Trabalho',\n",
              "       'Psicologia Criminal', 'Engenharia de Mecânica',\n",
              "       'Administração e Gestão do Território', 'Gestão do Ambiente',\n",
              "       'Geologias e Minas', 'Planeamento Regional e Urbano',\n",
              "       'Cinema e Televisão', 'Jornalismo', 'Administração de Empresas',\n",
              "       'Gestão Bancária', 'Gestão Pública', 'Gestão Escolar',\n",
              "       'Contabilidade, Fiscalidade e Auditoria',\n",
              "       'Contabilidade de Gestão', 'Gestão Desportiva', 'Biotecnologia',\n",
              "       'Engenharia Energética', 'Engenharia de Energêtica',\n",
              "       'Engenharia de Electromecânica', 'Gestão e Contabilidade',\n",
              "       'Ciências da Informação', 'Arquitectura, Urbanismo e Construção',\n",
              "       'Psicologa da Educação', 'Gestão Bancária e Seguros',\n",
              "       'Gestão de Recursos Humanos e Marketing',\n",
              "       'Comunicação Social e Imagem'], dtype=object)"
            ]
          },
          "metadata": {},
          "execution_count": 34
        }
      ],
      "source": [
        "data['Nome do Curso '].unique()"
      ]
    },
    {
      "cell_type": "code",
      "execution_count": 35,
      "metadata": {
        "id": "Og93gUnVehqD",
        "outputId": "f799f8fd-bd39-4190-a8ca-65cb9c826e90",
        "colab": {
          "base_uri": "https://localhost:8080/",
          "height": 0
        }
      },
      "outputs": [
        {
          "output_type": "execute_result",
          "data": {
            "text/plain": [
              "array(['Novo Ingresso', 'Continuante', 'Baixa Académica', 'Repetente',\n",
              "       'Preparação de Tese', 'Novo ingresso', 'NOVO INGRESSO',\n",
              "       'novo Ingresso', 'Prescrito', 'Incorporado', 'continuante'],\n",
              "      dtype=object)"
            ]
          },
          "metadata": {},
          "execution_count": 35
        }
      ],
      "source": [
        "data['Situação Académica'].unique()"
      ]
    },
    {
      "cell_type": "markdown",
      "source": [
        "**Resposta:** Houve algumas repetições e falta de harmonizações"
      ],
      "metadata": {
        "id": "skRE6mVtkeYY"
      }
    },
    {
      "cell_type": "code",
      "execution_count": 36,
      "metadata": {
        "id": "_rQ3NdDfehqE",
        "outputId": "448dd26b-6e96-4be9-b4e3-bc93ece7d165",
        "colab": {
          "base_uri": "https://localhost:8080/",
          "height": 0
        }
      },
      "outputs": [
        {
          "output_type": "execute_result",
          "data": {
            "text/plain": [
              "array(['Novo Ingresso', 'Continuante', 'Baixa Académica', 'Repetente',\n",
              "       'Preparação de Tese', 'Prescrito', 'Incorporado'], dtype=object)"
            ]
          },
          "metadata": {},
          "execution_count": 36
        }
      ],
      "source": [
        "data['Situação Académica']=data['Situação Académica'].replace('NOVO INGRESSO','Novo Ingresso')\n",
        "data['Situação Académica']=data['Situação Académica'].replace('Novo ingresso','Novo Ingresso')\n",
        "data['Situação Académica']=data['Situação Académica'].replace('novo Ingresso','Novo Ingresso')\n",
        "data['Situação Académica']=data['Situação Académica'].replace('continuante','Continuante')\n",
        "data['Situação Académica'].unique()"
      ]
    },
    {
      "cell_type": "code",
      "execution_count": 37,
      "metadata": {
        "id": "esGEKo4WehqE",
        "outputId": "d84f86a4-2381-44a4-c740-e0a7f40bdf57",
        "colab": {
          "base_uri": "https://localhost:8080/",
          "height": 0
        }
      },
      "outputs": [
        {
          "output_type": "execute_result",
          "data": {
            "text/plain": [
              "array(['Sem necessidade', 'Outro', 'Não Especificado', 'Físico motor',\n",
              "       'cego', 'Surdo', 'Cego', 'Surdo e Mudo', 'Sem Necessidade',\n",
              "       'Físico Motor', 'SEM NECESSIDADE', 'OUTRO', 'Sem Necessidade ',\n",
              "       'sem necessidade'], dtype=object)"
            ]
          },
          "metadata": {},
          "execution_count": 37
        }
      ],
      "source": [
        "data['Necessidade de Educação Especial'].unique()"
      ]
    },
    {
      "cell_type": "markdown",
      "source": [
        "**Resposta:** De igual modo com essa coluna"
      ],
      "metadata": {
        "id": "9Yks-rezknfY"
      }
    },
    {
      "cell_type": "code",
      "execution_count": 38,
      "metadata": {
        "id": "AQhU2KvpehqF",
        "outputId": "7c4a7d2c-17b5-42bf-e3f5-a88e9cba5b1b",
        "colab": {
          "base_uri": "https://localhost:8080/",
          "height": 0
        }
      },
      "outputs": [
        {
          "output_type": "execute_result",
          "data": {
            "text/plain": [
              "array(['Sem Necessidade', 'Outro', 'Não Especificado', 'Físico Motor',\n",
              "       'Cego', 'Surdo', 'Surdo e Mudo', 'OUTRO'], dtype=object)"
            ]
          },
          "metadata": {},
          "execution_count": 38
        }
      ],
      "source": [
        "data['Necessidade de Educação Especial']=data['Necessidade de Educação Especial'].replace('Sem necessidade','Sem Necessidade')\n",
        "data['Necessidade de Educação Especial']=data['Necessidade de Educação Especial'].replace('SEM NECESSIDADE','Sem Necessidade')\n",
        "data['Necessidade de Educação Especial']=data['Necessidade de Educação Especial'].replace('Sem Necessidade ','Sem Necessidade')\n",
        "data['Necessidade de Educação Especial']=data['Necessidade de Educação Especial'].replace('sem necessidade','Sem Necessidade')\n",
        "data['Necessidade de Educação Especial']=data['Necessidade de Educação Especial'].replace('Físico motor','Físico Motor')\n",
        "data['Necessidade de Educação Especial']=data['Necessidade de Educação Especial'].replace('cego','Cego')\n",
        "data['Necessidade de Educação Especial'].unique()"
      ]
    },
    {
      "cell_type": "code",
      "execution_count": 39,
      "metadata": {
        "id": "0FiZ_13lehqG",
        "outputId": "3ed0af1b-b135-4683-8124-e59e7e36e868",
        "colab": {
          "base_uri": "https://localhost:8080/",
          "height": 0
        }
      },
      "outputs": [
        {
          "output_type": "execute_result",
          "data": {
            "text/plain": [
              "array([1, 2, 3, 4, 5, 6])"
            ]
          },
          "metadata": {},
          "execution_count": 39
        }
      ],
      "source": [
        "data['Ano de Frequência'].unique()"
      ]
    },
    {
      "cell_type": "code",
      "execution_count": 40,
      "metadata": {
        "id": "kG5Cf-r7ehqG",
        "outputId": "be32d220-c5da-49d9-b218-331378bf08f2",
        "colab": {
          "base_uri": "https://localhost:8080/",
          "height": 0
        }
      },
      "outputs": [
        {
          "output_type": "execute_result",
          "data": {
            "text/plain": [
              "array([2019, 2018, 2017, 2007, 2016, 2015, 2004, 2006, 2013, 2014, 2008,\n",
              "       2012, 2009, 2005, 2011, 2010, 2000, 2003, 2001, 2002, 1987, 1997,\n",
              "       1994, 1992, '1998', '1993', '1997', '1994', '1999', '1981', '1996',\n",
              "       '2011', '1992', '2018', '2017', '2016', '2013', '2015', '2012',\n",
              "       '2014', '1989', '1984', 2094, '2019', '2010', '2009', '2006',\n",
              "       '2008', '2007', '2005', '2003', '.2011', 20147, 2047,\n",
              "       'Transf. 2016', 1991, '2003/04', 'Transf. 2018', 1990, '2005/06',\n",
              "       '2004/05', '1989/1990', '2003/2004', 1998, 1999, 1996, '2004',\n",
              "       1980, 1995, 1982, 1979, 1989, 1986, 1993, nan, '2002', '2001',\n",
              "       '2000'], dtype=object)"
            ]
          },
          "metadata": {},
          "execution_count": 40
        }
      ],
      "source": [
        "data['Ano Primeiro Matrícula Ensino Superior '].unique()"
      ]
    },
    {
      "cell_type": "markdown",
      "source": [
        "**Resposta:** Apresenta algumas inconsistencia de tipo de valor e na harmonização de ano"
      ],
      "metadata": {
        "id": "IJKOqRtKku5B"
      }
    },
    {
      "cell_type": "code",
      "execution_count": 41,
      "metadata": {
        "id": "gzAGYiNCehqH",
        "outputId": "539b76fc-971b-4249-c362-fe766e0a6a7e",
        "colab": {
          "base_uri": "https://localhost:8080/",
          "height": 0
        }
      },
      "outputs": [
        {
          "output_type": "execute_result",
          "data": {
            "text/plain": [
              "1"
            ]
          },
          "metadata": {},
          "execution_count": 41
        }
      ],
      "source": [
        "# Obtém a lista de valores NaN\n",
        "data['Ano Primeiro Matrícula Ensino Superior '].isna().sum()"
      ]
    },
    {
      "cell_type": "code",
      "execution_count": 42,
      "metadata": {
        "id": "DQr_J7dyehqI",
        "outputId": "7b9e18f5-1e53-479d-afc3-078c0021c4f4",
        "colab": {
          "base_uri": "https://localhost:8080/",
          "height": 0
        }
      },
      "outputs": [
        {
          "output_type": "execute_result",
          "data": {
            "text/plain": [
              "array([2019, 2018, 2017, 2007, 2016, 2015, 2004, 2006, 2013, 2014, 2008,\n",
              "       2012, 2009, 2005, 2011, 2010, 2000, 2003, 2001, 2002, 1987, 1997,\n",
              "       1994, 1992, '1998', '1993', '1997', '1994', '1999', '1981', '1996',\n",
              "       '2011', '1992', '2018', '2017', '2016', '2013', '2015', '2012',\n",
              "       '2014', '1989', '1984', '2019', '2010', '2009', '2006', '2008',\n",
              "       '2007', '2005', '2003', 1991, 1990, 1989, 1998, 1999, 1996, '2004',\n",
              "       1980, 1995, 1982, 1979, 1986, 1993, 0, '2002', '2001', '2000'],\n",
              "      dtype=object)"
            ]
          },
          "metadata": {},
          "execution_count": 42
        }
      ],
      "source": [
        "# Substitui os valores textuais por NaN\n",
        "data['Ano Primeiro Matrícula Ensino Superior '] = data['Ano Primeiro Matrícula Ensino Superior '].replace('Transf. 2016', 2016)\n",
        "data['Ano Primeiro Matrícula Ensino Superior '] = data['Ano Primeiro Matrícula Ensino Superior '].replace(2094, 2014)\n",
        "data['Ano Primeiro Matrícula Ensino Superior '] = data['Ano Primeiro Matrícula Ensino Superior '].replace(20147, 2014)\n",
        "data['Ano Primeiro Matrícula Ensino Superior '] = data['Ano Primeiro Matrícula Ensino Superior '].replace(2047, 2014)\n",
        "data['Ano Primeiro Matrícula Ensino Superior '] = data['Ano Primeiro Matrícula Ensino Superior '].replace('2003/04', 2003)\n",
        "data['Ano Primeiro Matrícula Ensino Superior '] = data['Ano Primeiro Matrícula Ensino Superior '].replace('2005/06', 2005)\n",
        "data['Ano Primeiro Matrícula Ensino Superior '] = data['Ano Primeiro Matrícula Ensino Superior '].replace('2004/05', 2004)\n",
        "data['Ano Primeiro Matrícula Ensino Superior '] = data['Ano Primeiro Matrícula Ensino Superior '].replace('Transf. 2018', 2018)\n",
        "data['Ano Primeiro Matrícula Ensino Superior '] = data['Ano Primeiro Matrícula Ensino Superior '].replace('1989/1990', 1989)\n",
        "data['Ano Primeiro Matrícula Ensino Superior '] = data['Ano Primeiro Matrícula Ensino Superior '].replace('2003/2004', 2003)\n",
        "data['Ano Primeiro Matrícula Ensino Superior '] = data['Ano Primeiro Matrícula Ensino Superior '].replace('.2011', 2011)\n",
        "data['Ano Primeiro Matrícula Ensino Superior '] = data['Ano Primeiro Matrícula Ensino Superior '].replace(np.nan, 0)\n",
        "data['Ano Primeiro Matrícula Ensino Superior '].unique()"
      ]
    },
    {
      "cell_type": "code",
      "execution_count": 43,
      "metadata": {
        "id": "QB1F9tK5ehqJ",
        "outputId": "a2ebb33c-4818-4ebd-a576-e6b066da4381",
        "colab": {
          "base_uri": "https://localhost:8080/",
          "height": 0
        }
      },
      "outputs": [
        {
          "output_type": "execute_result",
          "data": {
            "text/plain": [
              "array([2019, 2018, 2017, 2007, 2016, 2015, 2004, 2006, 2013, 2014, 2008,\n",
              "       2012, 2009, 2005, 2011, 2010, 2000, 2003, 2001, 2002, 1987, 1997,\n",
              "       1994, 1992, 1998, 1993, 1999, 1981, 1996, 1989, 1984, 1991, 1990,\n",
              "       1980, 1995, 1982, 1979, 1986,    0], dtype=int32)"
            ]
          },
          "metadata": {},
          "execution_count": 43
        }
      ],
      "source": [
        "data['Ano Primeiro Matrícula Ensino Superior '] = data['Ano Primeiro Matrícula Ensino Superior '].astype(np.int32)\n",
        "data['Ano Primeiro Matrícula Ensino Superior '].unique()"
      ]
    },
    {
      "cell_type": "code",
      "execution_count": 44,
      "metadata": {
        "id": "0OK0DBqpehqK",
        "outputId": "ec54312e-38df-4165-8ca6-914375c96106",
        "colab": {
          "base_uri": "https://localhost:8080/",
          "height": 0
        }
      },
      "outputs": [
        {
          "output_type": "execute_result",
          "data": {
            "text/plain": [
              "array(['Não ', 'Sim ', 'Não Especificado', 'Sim', 'Outro', 'Não', 'sim ',\n",
              "       'sim', 'SIM', 'NÃO', 'não', 'SIm'], dtype=object)"
            ]
          },
          "metadata": {},
          "execution_count": 44
        }
      ],
      "source": [
        "data['Trabalhador'].unique()"
      ]
    },
    {
      "cell_type": "code",
      "execution_count": 45,
      "metadata": {
        "id": "oVTmLokdehqY",
        "outputId": "59b6db31-5eeb-4a40-fb1a-bde7de85781d",
        "colab": {
          "base_uri": "https://localhost:8080/",
          "height": 0
        }
      },
      "outputs": [
        {
          "output_type": "execute_result",
          "data": {
            "text/plain": [
              "array(['Não', 'Sim', 'Não Especificado', 'Outro'], dtype=object)"
            ]
          },
          "metadata": {},
          "execution_count": 45
        }
      ],
      "source": [
        "data['Trabalhador'] = data['Trabalhador'].replace('Não ', 'Não')\n",
        "data['Trabalhador'] = data['Trabalhador'].replace('não', 'Não')\n",
        "data['Trabalhador'] = data['Trabalhador'].replace('NÃO', 'Não')\n",
        "data['Trabalhador'] = data['Trabalhador'].replace('Sim ', 'Sim')\n",
        "data['Trabalhador'] = data['Trabalhador'].replace('SIM', 'Sim')\n",
        "data['Trabalhador'] = data['Trabalhador'].replace('sim', 'Sim')\n",
        "data['Trabalhador'] = data['Trabalhador'].replace('SIm', 'Sim')\n",
        "data['Trabalhador'] = data['Trabalhador'].replace('sim ', 'Sim')\n",
        "data['Trabalhador'].unique()"
      ]
    },
    {
      "cell_type": "markdown",
      "source": [
        "**Resposta:** Resolvido com Falta de harmonização"
      ],
      "metadata": {
        "id": "5uTjiBx8k7el"
      }
    },
    {
      "cell_type": "code",
      "execution_count": 46,
      "metadata": {
        "id": "eWpRBTudehqZ",
        "outputId": "4f6dcf71-7b3c-4b96-8b3a-b4076035285c",
        "colab": {
          "base_uri": "https://localhost:8080/",
          "height": 0
        }
      },
      "outputs": [
        {
          "output_type": "execute_result",
          "data": {
            "text/plain": [
              "array(['Licenciatura', 'Licenciado', 'Licenciatura bietapica',\n",
              "       'LICENCIATURA', 'Licenciatura ', 'Bacharelato', nan], dtype=object)"
            ]
          },
          "metadata": {},
          "execution_count": 46
        }
      ],
      "source": [
        "data['Nível de Graduação'].unique()"
      ]
    },
    {
      "cell_type": "code",
      "execution_count": 47,
      "metadata": {
        "id": "7CadQy-Behqa",
        "outputId": "6c252aee-7920-4a66-bdf7-c7c369cd3d6a",
        "colab": {
          "base_uri": "https://localhost:8080/",
          "height": 0
        }
      },
      "outputs": [
        {
          "output_type": "execute_result",
          "data": {
            "text/plain": [
              "array(['Licenciatura', 'Licenciatura bietapica', 'Bacharelato',\n",
              "       'Não informado'], dtype=object)"
            ]
          },
          "metadata": {},
          "execution_count": 47
        }
      ],
      "source": [
        "data['Nível de Graduação'] = data['Nível de Graduação'].replace('Licenciado', 'Licenciatura')\n",
        "data['Nível de Graduação'] = data['Nível de Graduação'].replace('LICENCIATURA', 'Licenciatura')\n",
        "data['Nível de Graduação'] = data['Nível de Graduação'].replace('Licenciatura ', 'Licenciatura')\n",
        "data['Nível de Graduação'] = data['Nível de Graduação'].replace(np.nan, 'Não informado')\n",
        "data['Nível de Graduação'].unique()"
      ]
    },
    {
      "cell_type": "markdown",
      "source": [
        "**Resposta:** Harmonizado os grau academicos"
      ],
      "metadata": {
        "id": "WChXES7-lEbP"
      }
    },
    {
      "cell_type": "code",
      "execution_count": 48,
      "metadata": {
        "id": "lBzd04uSehqa",
        "outputId": "8d707e54-b602-4e8d-c63b-3c7a2211d754",
        "colab": {
          "base_uri": "https://localhost:8080/",
          "height": 0
        }
      },
      "outputs": [
        {
          "output_type": "execute_result",
          "data": {
            "text/plain": [
              "array(['Matricula'], dtype=object)"
            ]
          },
          "metadata": {},
          "execution_count": 48
        }
      ],
      "source": [
        "data['Variavel'].unique()"
      ]
    },
    {
      "cell_type": "markdown",
      "source": [
        "**Resposta:** Sem problema"
      ],
      "metadata": {
        "id": "qleWHRuPlJgU"
      }
    },
    {
      "cell_type": "code",
      "execution_count": 49,
      "metadata": {
        "id": "6O0W3Kuxehqc",
        "outputId": "a7955498-fce5-4cbe-bfcd-270f1ca6c69f",
        "colab": {
          "base_uri": "https://localhost:8080/",
          "height": 0
        }
      },
      "outputs": [
        {
          "output_type": "execute_result",
          "data": {
            "text/plain": [
              "array(['Estudante'], dtype=object)"
            ]
          },
          "metadata": {},
          "execution_count": 49
        }
      ],
      "source": [
        "data['Variavel.1'].unique()"
      ]
    },
    {
      "cell_type": "markdown",
      "source": [
        "**Resposta:** Sem problema"
      ],
      "metadata": {
        "id": "jo7UuHg9lMmT"
      }
    },
    {
      "cell_type": "code",
      "execution_count": 50,
      "metadata": {
        "id": "NaVmh2heehqf",
        "outputId": "5b0f7336-9577-41ba-ea23-886170fcdb00",
        "colab": {
          "base_uri": "https://localhost:8080/",
          "height": 0
        }
      },
      "outputs": [
        {
          "output_type": "execute_result",
          "data": {
            "text/plain": [
              "array(['Luanda', 'Malanje', 'Benguela', 'Huambo', 'Cuanza Sul',\n",
              "       'Cuando Cubango', 'Lunda Sul ', 'Huíla', 'Lunda Norte',\n",
              "       'Cuanza Norte', 'Uíge', 'Moxico', 'Bié', 'Cunene', 'Cabinda',\n",
              "       'Zaire', 'Bengo', 'Namibe'], dtype=object)"
            ]
          },
          "metadata": {},
          "execution_count": 50
        }
      ],
      "source": [
        "data['Prov. UO'].unique()"
      ]
    },
    {
      "cell_type": "code",
      "source": [
        "data['Provincia Residencia'].unique()"
      ],
      "metadata": {
        "colab": {
          "base_uri": "https://localhost:8080/",
          "height": 0
        },
        "id": "nkfzaFiH7X8J",
        "outputId": "cb436c4e-4c9b-472d-8a3a-3ecdb259a689"
      },
      "execution_count": 75,
      "outputs": [
        {
          "output_type": "execute_result",
          "data": {
            "text/plain": [
              "array(['Luanda', 'Bengo', 'Cuanza Sul', 'Benguela', 'Moxico',\n",
              "       'Lunda Norte', 'Uíge', 'Huíla', 'Cuanza Norte', 'Bié', 'Lunda Sul',\n",
              "       'Namibe ', 'Malanje', 'Huambo', 'Zaire', 'Cunene', 'Cabinda',\n",
              "       'Cuando Cubango', 'bengo', 'Namibe', 'Bengo ', 'Benguela ',\n",
              "       'HUAMBO', 'BIÉ', 'huambo', 'LUANDA', 'BENGUELA', 'CABINDA',\n",
              "       'Malanje ', 'Luanda ', 'Lubango', 'LUanda', 'Cuando-Cubango',\n",
              "       'Malange', 'luanda', 'Lunda norte', 'BENGO', 'cabinda', 'benguela',\n",
              "       'ZAIRE', 'LUNDA NORTE', 'lunda norte', 'zaire', 'CUNENE', 'MOXICO',\n",
              "       'Cunene ', 'Uige', 'Huila', 'Huila ', 'Buco- Zau', 'Belize',\n",
              "       'Kuanza-Sul', 'BIE', 'Huambo ', 'Massabi- Cacongo',\n",
              "       'Landana- Cacongo', 'Kuando- Kubango', 'Mbanza-Kongo',\n",
              "       'Soyo- Zaire', 'Lândana-Cacongo', 'Bembe-Uige', 'Kuanza Norte',\n",
              "       'Kuanza - Norte', 'Landana - Cacongo', 'Cacongo', 'Lunda - Norte',\n",
              "       '  Landana -Cacongo', 'Negage', 'Kuanza - Sul', 'Bie',\n",
              "       'Tando- Zinze', 'Buco - Zau', 'CABINDA '], dtype=object)"
            ]
          },
          "metadata": {},
          "execution_count": 75
        }
      ]
    },
    {
      "cell_type": "markdown",
      "source": [
        "**Resposta:** Falta de harmonização e repetição de alguns países"
      ],
      "metadata": {
        "id": "0AuZRI8mlQ-R"
      }
    },
    {
      "cell_type": "code",
      "source": [
        "data['Provincia Residencia'] = data['Provincia Residencia'].replace('LUANDA', 'Luanda')\n",
        "data['Provincia Residencia'] = data['Provincia Residencia'].replace('Luanda ', 'Luanda')\n",
        "data['Provincia Residencia'] = data['Provincia Residencia'].replace('LUanda', 'Luanda')\n",
        "data['Provincia Residencia'] = data['Provincia Residencia'].replace('luanda', 'Luanda')\n",
        "data['Provincia Residencia'] = data['Provincia Residencia'].replace('bengo', 'Bengo')\n",
        "data['Provincia Residencia'] = data['Provincia Residencia'].replace('Bengo ', 'Bengo')\n",
        "data['Provincia Residencia'] = data['Provincia Residencia'].replace('BENGO', 'Bengo')\n",
        "data['Provincia Residencia'] = data['Provincia Residencia'].replace('Cuanza Sul', 'Cuanza-Sul')\n",
        "data['Provincia Residencia'] = data['Provincia Residencia'].replace('Kuanza - Sul', 'Cuanza-Sul')\n",
        "data['Provincia Residencia'] = data['Provincia Residencia'].replace('Kuanza-Sul', 'Cuanza-Sul')\n",
        "data['Provincia Residencia'] = data['Provincia Residencia'].replace('BENGUELA', 'Benguela')\n",
        "data['Provincia Residencia'] = data['Provincia Residencia'].replace('benguela', 'Benguela')\n",
        "data['Provincia Residencia'] = data['Provincia Residencia'].replace('Benguela ', 'Benguela')\n",
        "data['Provincia Residencia'] = data['Provincia Residencia'].replace('MOXICO', 'Moxico')\n",
        "data['Provincia Residencia'] = data['Provincia Residencia'].replace('Lunda Norte', 'Lunda-Norte')\n",
        "data['Provincia Residencia'] = data['Provincia Residencia'].replace('Lunda - Norte','Lunda-Norte')\n",
        "data['Provincia Residencia'] = data['Provincia Residencia'].replace('Lunda norte','Lunda-Norte')\n",
        "data['Provincia Residencia'] = data['Provincia Residencia'].replace('LUNDA NORTE','Lunda-Norte')\n",
        "data['Provincia Residencia'] = data['Provincia Residencia'].replace('lunda norte','Lunda-Norte')\n",
        "data['Provincia Residencia'] = data['Provincia Residencia'].replace('Uige', 'Uíge')\n",
        "data['Provincia Residencia'] = data['Provincia Residencia'].replace('Negage', 'Uíge')\n",
        "data['Provincia Residencia'] = data['Provincia Residencia'].replace('Bembe-Uige', 'Uíge')\n",
        "data['Provincia Residencia'] = data['Provincia Residencia'].replace('Huila', 'Huíla')\n",
        "data['Provincia Residencia'] = data['Provincia Residencia'].replace('Huila ', 'Huíla')\n",
        "data['Provincia Residencia'] = data['Provincia Residencia'].replace('Lubango', 'Huíla')\n",
        "data['Provincia Residencia'] = data['Provincia Residencia'].replace('Cuanza-Norte', 'Cuanza-Norte')\n",
        "data['Provincia Residencia'] = data['Provincia Residencia'].replace('Kuanza Norte', 'Cuanza-Norte')\n",
        "data['Provincia Residencia'] = data['Provincia Residencia'].replace('Kuanza - Norte', 'Cuanza-Norte')\n",
        "data['Provincia Residencia'] = data['Provincia Residencia'].replace('Bié', 'Bié')\n",
        "data['Provincia Residencia'] = data['Provincia Residencia'].replace('BIÉ', 'Bié')\n",
        "data['Provincia Residencia'] = data['Provincia Residencia'].replace('Bie', 'Bié')\n",
        "data['Provincia Residencia'] = data['Provincia Residencia'].replace('BIE', 'Bié')\n",
        "data['Provincia Residencia'] = data['Provincia Residencia'].replace('Malanje ', 'Malanje')\n",
        "data['Provincia Residencia'] = data['Provincia Residencia'].replace('Malange', 'Malanje')\n",
        "data['Provincia Residencia'] = data['Provincia Residencia'].replace('HUAMBO', 'Huambo')\n",
        "data['Provincia Residencia'] = data['Provincia Residencia'].replace('huambo', 'Huambo')\n",
        "data['Provincia Residencia'] = data['Provincia Residencia'].replace('Huambo ', 'Huambo')\n",
        "data['Provincia Residencia'] = data['Provincia Residencia'].replace('ZAIRE', 'Zaire')\n",
        "data['Provincia Residencia'] = data['Provincia Residencia'].replace('zaire', 'Zaire')\n",
        "data['Provincia Residencia'] = data['Provincia Residencia'].replace('Soyo- Zaire', 'Zaire')\n",
        "data['Provincia Residencia'] = data['Provincia Residencia'].replace('Mbanza-Kongo', 'Zaire')\n",
        "data['Provincia Residencia'] = data['Provincia Residencia'].replace('CUNENE', 'Cunene')\n",
        "data['Provincia Residencia'] = data['Provincia Residencia'].replace('Cunene ', 'Cunene')\n",
        "data['Provincia Residencia'] = data['Provincia Residencia'].replace('CABINDA', 'Cabinda')\n",
        "data['Provincia Residencia'] = data['Provincia Residencia'].replace('cabinda', 'Cabinda')\n",
        "data['Provincia Residencia'] = data['Provincia Residencia'].replace('CABINDA ', 'Cabinda')\n",
        "data['Provincia Residencia'] = data['Provincia Residencia'].replace('  Landana -Cacongo', 'Cabinda')\n",
        "data['Provincia Residencia'] = data['Provincia Residencia'].replace('Landana - Cacongo', 'Cabinda')\n",
        "data['Provincia Residencia'] = data['Provincia Residencia'].replace('Lândana-Cacongo', 'Cabinda')\n",
        "data['Provincia Residencia'] = data['Provincia Residencia'].replace('Landana- Cacongo', 'Cabinda')\n",
        "data['Provincia Residencia'] = data['Provincia Residencia'].replace('Cacongo', 'Cabinda')\n",
        "data['Provincia Residencia'] = data['Provincia Residencia'].replace('Buco - Zau', 'Cabinda')\n",
        "data['Provincia Residencia'] = data['Provincia Residencia'].replace('Buco- Zau', 'Cabinda')\n",
        "data['Provincia Residencia'] = data['Provincia Residencia'].replace('Tando- Zinze', 'Cabinda')\n",
        "data['Provincia Residencia'] = data['Provincia Residencia'].replace('Massabi- Cacongo', 'Cabinda')\n",
        "data['Provincia Residencia'] = data['Provincia Residencia'].replace('Cuando Cubango', 'Cuando-Cubango')\n",
        "data['Provincia Residencia'] = data['Provincia Residencia'].replace('Kuando- Kubango', 'Cuando-Cubango')\n",
        "data['Provincia Residencia'].unique()"
      ],
      "metadata": {
        "colab": {
          "base_uri": "https://localhost:8080/",
          "height": 0
        },
        "id": "5oq8I5Bn7dkQ",
        "outputId": "d1d836df-c079-4d2f-e259-9703fa5b0be5"
      },
      "execution_count": 76,
      "outputs": [
        {
          "output_type": "execute_result",
          "data": {
            "text/plain": [
              "array(['Luanda', 'Bengo', 'Cuanza-Sul', 'Benguela', 'Moxico',\n",
              "       'Lunda-Norte', 'Uíge', 'Huíla', 'Cuanza Norte', 'Bié', 'Lunda Sul',\n",
              "       'Namibe ', 'Malanje', 'Huambo', 'Zaire', 'Cunene', 'Cabinda',\n",
              "       'Cuando-Cubango', 'Namibe', 'Belize', 'Cuanza-Norte'], dtype=object)"
            ]
          },
          "metadata": {},
          "execution_count": 76
        }
      ]
    },
    {
      "cell_type": "markdown",
      "metadata": {
        "id": "BKRaR9Ylehqg"
      },
      "source": [
        "# CONCLUSÃO"
      ]
    },
    {
      "cell_type": "markdown",
      "metadata": {
        "id": "QQd3cnFjehqh"
      },
      "source": [
        "Antes de apresentarmos um procedimento para Análise Exploratória, realizamos a Análise de Wrangling, na qual realizamos o pré-processamento dos dados. Durante essa análise, verificamos a presença de dados vazios e inconsistentes, encontrando 113 municípios com dados faltantes, correspondendo a 0.65% dos dados, e 32 casos em que a idade dos alunos não foi especificada e algumas que se encontrava vazia naqual resolvemos com a tecnica de preenchimento de media geral, representando 0.128% das informações. Na coluna de sexo, identificamos uma falta de harmonização nas atribuições de países e outras variaveis, além da inconsistência encontrada em \"Regular\".\n",
        "\n",
        "Apesar disso, as demais colunas estão em perfeitas condições para passar pela análise exploratória."
      ]
    },
    {
      "cell_type": "markdown",
      "metadata": {
        "id": "ys-2KZgjehqm"
      },
      "source": [
        "## Eliminando os registos que não possui municipios"
      ]
    },
    {
      "cell_type": "code",
      "execution_count": 52,
      "metadata": {
        "id": "YjK1U6lrehrA",
        "outputId": "d0996f28-af8f-4a8b-c929-68be19f9c00e",
        "colab": {
          "base_uri": "https://localhost:8080/",
          "height": 0
        }
      },
      "outputs": [
        {
          "output_type": "execute_result",
          "data": {
            "text/plain": [
              "Nº de Ordem                                0\n",
              "Variavel                                   0\n",
              "Ano                                        0\n",
              "Variavel.1                                 0\n",
              "Tipo de IES                                0\n",
              "Nome da IES                                0\n",
              "Natureza                                   0\n",
              "Prov. UO                                   0\n",
              "Sexo                                       0\n",
              "Idade                                      0\n",
              "Data de nascimento                         0\n",
              "Provincia Residencia                       0\n",
              "Município de Residência                    0\n",
              "País de Origem                             0\n",
              "Periodo de Estudo                          0\n",
              "Unidade Organica                           0\n",
              "Nome do Curso                              0\n",
              "Ano de Frequência                          0\n",
              "Situação Académica                         0\n",
              "Ano Primeiro Matrícula Ensino Superior     0\n",
              "Necessidade de Educação Especial           0\n",
              "Trabalhador                                0\n",
              "Nível de Graduação                         0\n",
              "dtype: int64"
            ]
          },
          "metadata": {},
          "execution_count": 52
        }
      ],
      "source": [
        "data.dropna(inplace=True)\n",
        "data.drop_duplicates()\n",
        "data.isnull().sum()"
      ]
    },
    {
      "cell_type": "markdown",
      "source": [
        "**Resposta:** O dataset já não possui mais valor vazio e inconsistente"
      ],
      "metadata": {
        "id": "COtOD7mjmEYJ"
      }
    },
    {
      "cell_type": "code",
      "execution_count": 53,
      "metadata": {
        "id": "eWAaWG6HehrB",
        "outputId": "3d62e636-352e-495d-bffa-3dacaf03ce93",
        "colab": {
          "base_uri": "https://localhost:8080/",
          "height": 0
        }
      },
      "outputs": [
        {
          "output_type": "execute_result",
          "data": {
            "text/plain": [
              "(307083, 23)"
            ]
          },
          "metadata": {},
          "execution_count": 53
        }
      ],
      "source": [
        "data.shape"
      ]
    },
    {
      "cell_type": "markdown",
      "source": [
        "**Resposta:** Ficamos com 307083 registos"
      ],
      "metadata": {
        "id": "w1HXAPPdmK97"
      }
    },
    {
      "cell_type": "markdown",
      "metadata": {
        "id": "CdIFx3-JehrC"
      },
      "source": [
        "## Exportar dados em CSV, JSON E EXCEL APÓS A LIMPEZA"
      ]
    },
    {
      "cell_type": "code",
      "execution_count": 60,
      "metadata": {
        "id": "ko3ie0lQehrD"
      },
      "outputs": [],
      "source": [
        "data.to_csv('dataMISCTI_clean.csv',index=False)\n",
        "data.to_json('dataMISCTI_clean.json',orient='records',lines=True)\n",
        "data.to_excel('dataMISCTI_clean.xlsx',sheet_name='Dados', index=False)"
      ]
    },
    {
      "cell_type": "markdown",
      "metadata": {
        "id": "nagBmy4jehrD"
      },
      "source": [
        "# ANÁLISE EXPLORATORIA\n",
        "---"
      ]
    },
    {
      "cell_type": "markdown",
      "metadata": {
        "id": "WvqDzR4gehrE"
      },
      "source": [
        "## Biblioteca para visualização de dados nos graficos"
      ]
    },
    {
      "cell_type": "code",
      "execution_count": 61,
      "metadata": {
        "id": "MPVSzl3-ehrE"
      },
      "outputs": [],
      "source": [
        "import seaborn as sns\n",
        "import matplotlib.pyplot as plt"
      ]
    },
    {
      "cell_type": "markdown",
      "metadata": {
        "id": "een9zBzxehrF"
      },
      "source": [
        "## Idade Maxima e Minima desse dataset"
      ]
    },
    {
      "cell_type": "code",
      "execution_count": 71,
      "metadata": {
        "id": "i5WbxyviehrH",
        "outputId": "d48ec583-3eb5-4f52-d64f-cf08ef014109",
        "colab": {
          "base_uri": "https://localhost:8080/",
          "height": 0
        }
      },
      "outputs": [
        {
          "output_type": "stream",
          "name": "stdout",
          "text": [
            "O estudante com idade maximo é :  93.0\n",
            "O estudante com idade minimo é :  16.0\n"
          ]
        }
      ],
      "source": [
        "uni_idade_max=data.loc[data['Idade'] == max(data['Idade']),'Unidade Organica'].item()\n",
        "print('O estudante com idade maximo é : ',data['Idade'].max())\n",
        "print('O estudante com idade minimo é : ',data['Idade'].min())"
      ]
    },
    {
      "cell_type": "markdown",
      "source": [
        "## Estudante por local de residencia"
      ],
      "metadata": {
        "id": "YbUtz7e56UOz"
      }
    },
    {
      "cell_type": "code",
      "source": [
        "contagem_residen=data.groupby(['Variavel.1','Provincia Residencia'])['Provincia Residencia'].size()\n",
        "contagem_residen"
      ],
      "metadata": {
        "colab": {
          "base_uri": "https://localhost:8080/",
          "height": 0
        },
        "id": "9-DEZ31C6SQp",
        "outputId": "a204da15-2016-49eb-b0bf-b2eed6ebbfec"
      },
      "execution_count": 84,
      "outputs": [
        {
          "output_type": "execute_result",
          "data": {
            "text/plain": [
              "Variavel.1  Provincia Residencia\n",
              "Estudante   Belize                       9\n",
              "            Bengo                     2092\n",
              "            Benguela                 23520\n",
              "            Bié                       6489\n",
              "            Cabinda                  11470\n",
              "            Cuando-Cubango            2655\n",
              "            Cuanza Norte              4808\n",
              "            Cuanza-Norte                 2\n",
              "            Cuanza-Sul                9028\n",
              "            Cunene                    2285\n",
              "            Huambo                   25420\n",
              "            Huíla                    21204\n",
              "            Luanda                  139232\n",
              "            Lunda Sul                 5092\n",
              "            Lunda-Norte               5525\n",
              "            Malanje                   8478\n",
              "            Moxico                   10465\n",
              "            Namibe                    6434\n",
              "            Namibe                     105\n",
              "            Uíge                     17831\n",
              "            Zaire                     4939\n",
              "Name: Provincia Residencia, dtype: int64"
            ]
          },
          "metadata": {},
          "execution_count": 84
        }
      ]
    },
    {
      "cell_type": "code",
      "source": [
        "contagem_residen.plot(kind='barh',stacked=True) # kind=[area,barh,box,density,hist,kde,line,pie,\n",
        "plt.title('Proporção de Estudantes por Provincia de Residencia')\n",
        "plt.xlabel('Quantidade de Estudante')\n",
        "plt.ylabel('Provincia de Residencia')\n",
        "plt.show()"
      ],
      "metadata": {
        "colab": {
          "base_uri": "https://localhost:8080/",
          "height": 472
        },
        "id": "cqp-OJs-Mv3J",
        "outputId": "9cf0b955-8ef7-47bf-8982-b2ee6e51ccd5"
      },
      "execution_count": 85,
      "outputs": [
        {
          "output_type": "display_data",
          "data": {
            "text/plain": [
              "<Figure size 640x480 with 1 Axes>"
            ],
            "image/png": "[encoded data removed]"
          },
          "metadata": {}
        }
      ]
    },
    {
      "cell_type": "markdown",
      "source": [
        "## Comparação de Media, Mediana e Desvio Padrão quanto a Idade de Estudante"
      ],
      "metadata": {
        "id": "gD_DcBz-mtMk"
      }
    },
    {
      "cell_type": "code",
      "execution_count": 64,
      "metadata": {
        "id": "U4WdoTACehrJ",
        "outputId": "ff7940b4-62d9-42e5-f7e4-d1930b4e5398",
        "colab": {
          "base_uri": "https://localhost:8080/",
          "height": 0
        }
      },
      "outputs": [
        {
          "output_type": "stream",
          "name": "stdout",
          "text": [
            "A media de Idade por Sexo Feminino 26.869113898816728\n",
            "A media de Idade por Sexo Masculino 27.978442610652664\n",
            "A mediane de Idade por Sexo Feminino 25.0\n",
            "A mediane de Idade por Sexo Masculino 26.0\n",
            "O desvio padrão de Idade por Sexo Feminino 7.360266150215111\n",
            "O desvio padrão de Idade por Sexo Masculino 7.805148237024668\n"
          ]
        }
      ],
      "source": [
        "med_fem=data.loc[data['Sexo'] == 'Feminino', 'Idade'].mean()\n",
        "print('A media de Idade por Sexo Feminino',med_fem)\n",
        "med_masc=data.loc[data['Sexo'] == 'Masculino', 'Idade'].mean()\n",
        "print('A media de Idade por Sexo Masculino',med_masc)\n",
        "med_fem=data.loc[data['Sexo'] == 'Feminino', 'Idade'].median()\n",
        "print('A mediane de Idade por Sexo Feminino',med_fem)\n",
        "med_masc=data.loc[data['Sexo'] == 'Masculino', 'Idade'].median()\n",
        "print('A mediane de Idade por Sexo Masculino',med_masc)\n",
        "med_fem=data.loc[data['Sexo'] == 'Feminino', 'Idade'].std()\n",
        "print('O desvio padrão de Idade por Sexo Feminino',med_fem)\n",
        "med_masc=data.loc[data['Sexo'] == 'Masculino', 'Idade'].std()\n",
        "print('O desvio padrão de Idade por Sexo Masculino',med_masc)"
      ]
    },
    {
      "cell_type": "markdown",
      "metadata": {
        "id": "O6eAm4PPehrK"
      },
      "source": [
        "**Resposta:**\n",
        "Constatamos que não houve descrepancia em termo de Idade inscrito no Sexo, isto é, A media por Sexo feminio deu em torno de 33.21 e Masculino 33.11, quanto a Mediana deu a mesma que é 31.0, já o desvio padrão a rondou ao 8.89 para feminio e 8.54 para masculino."
      ]
    },
    {
      "cell_type": "markdown",
      "metadata": {
        "id": "14CpernQehrK"
      },
      "source": [
        "## Contagem de Estudante Por Sexo em Relação ao Tipo de IES"
      ]
    },
    {
      "cell_type": "code",
      "execution_count": 67,
      "metadata": {
        "id": "SN3rOB25ehrN",
        "outputId": "aba13a93-e3a7-4fca-a8c8-4711e944a8a4",
        "colab": {
          "base_uri": "https://localhost:8080/",
          "height": 206
        }
      },
      "outputs": [
        {
          "output_type": "execute_result",
          "data": {
            "text/plain": [
              "Sexo                Feminino  Masculino\n",
              "Tipo de IES                            \n",
              "Academia                 285        613\n",
              "Escola Superior         3593       6769\n",
              "Instituto Superior     75732      81593\n",
              "Universidade           60848      77650"
            ],
            "text/html": [
              "\n",
              "  <div id=\"df-e0fc9aa6-5fae-4e14-81dc-35a43e914b67\" class=\"colab-df-container\">\n",
              "    <div>\n",
              "<style scoped>\n",
              "    .dataframe tbody tr th:only-of-type {\n",
              "        vertical-align: middle;\n",
              "    }\n",
              "\n",
              "    .dataframe tbody tr th {\n",
              "        vertical-align: top;\n",
              "    }\n",
              "\n",
              "    .dataframe thead th {\n",
              "        text-align: right;\n",
              "    }\n",
              "</style>\n",
              "<table border=\"1\" class=\"dataframe\">\n",
              "  <thead>\n",
              "    <tr style=\"text-align: right;\">\n",
              "      <th>Sexo</th>\n",
              "      <th>Feminino</th>\n",
              "      <th>Masculino</th>\n",
              "    </tr>\n",
              "    <tr>\n",
              "      <th>Tipo de IES</th>\n",
              "      <th></th>\n",
              "      <th></th>\n",
              "    </tr>\n",
              "  </thead>\n",
              "  <tbody>\n",
              "    <tr>\n",
              "      <th>Academia</th>\n",
              "      <td>285</td>\n",
              "      <td>613</td>\n",
              "    </tr>\n",
              "    <tr>\n",
              "      <th>Escola Superior</th>\n",
              "      <td>3593</td>\n",
              "      <td>6769</td>\n",
              "    </tr>\n",
              "    <tr>\n",
              "      <th>Instituto Superior</th>\n",
              "      <td>75732</td>\n",
              "      <td>81593</td>\n",
              "    </tr>\n",
              "    <tr>\n",
              "      <th>Universidade</th>\n",
              "      <td>60848</td>\n",
              "      <td>77650</td>\n",
              "    </tr>\n",
              "  </tbody>\n",
              "</table>\n",
              "</div>\n",
              "    <div class=\"colab-df-buttons\">\n",
              "\n",
              "  <div class=\"colab-df-container\">\n",
              "    <button class=\"colab-df-convert\" onclick=\"convertToInteractive('df-e0fc9aa6-5fae-4e14-81dc-35a43e914b67')\"\n",
              "            title=\"Convert this dataframe to an interactive table.\"\n",
              "            style=\"display:none;\">\n",
              "\n",
              "  <svg xmlns=\"http://www.w3.org/2000/svg\" height=\"24px\" viewBox=\"0 -960 960 960\">\n",
              "    <path d=\"M120-120v-720h720v720H120Zm60-500h600v-160H180v160Zm220 220h160v-160H400v160Zm0 220h160v-160H400v160ZM180-400h160v-160H180v160Zm440 0h160v-160H620v160ZM180-180h160v-160H180v160Zm440 0h160v-160H620v160Z\"/>\n",
              "  </svg>\n",
              "    </button>\n",
              "\n",
              "  <style>\n",
              "    .colab-df-container {\n",
              "      display:flex;\n",
              "      gap: 12px;\n",
              "    }\n",
              "\n",
              "    .colab-df-convert {\n",
              "      background-color: #E8F0FE;\n",
              "      border: none;\n",
              "      border-radius: 50%;\n",
              "      cursor: pointer;\n",
              "      display: none;\n",
              "      fill: #1967D2;\n",
              "      height: 32px;\n",
              "      padding: 0 0 0 0;\n",
              "      width: 32px;\n",
              "    }\n",
              "\n",
              "    .colab-df-convert:hover {\n",
              "      background-color: #E2EBFA;\n",
              "      box-shadow: 0px 1px 2px rgba(60, 64, 67, 0.3), 0px 1px 3px 1px rgba(60, 64, 67, 0.15);\n",
              "      fill: #174EA6;\n",
              "    }\n",
              "\n",
              "    .colab-df-buttons div {\n",
              "      margin-bottom: 4px;\n",
              "    }\n",
              "\n",
              "    [theme=dark] .colab-df-convert {\n",
              "      background-color: #3B4455;\n",
              "      fill: #D2E3FC;\n",
              "    }\n",
              "\n",
              "    [theme=dark] .colab-df-convert:hover {\n",
              "      background-color: #434B5C;\n",
              "      box-shadow: 0px 1px 3px 1px rgba(0, 0, 0, 0.15);\n",
              "      filter: drop-shadow(0px 1px 2px rgba(0, 0, 0, 0.3));\n",
              "      fill: #FFFFFF;\n",
              "    }\n",
              "  </style>\n",
              "\n",
              "    <script>\n",
              "      const buttonEl =\n",
              "        document.querySelector('#df-e0fc9aa6-5fae-4e14-81dc-35a43e914b67 button.colab-df-convert');\n",
              "      buttonEl.style.display =\n",
              "        google.colab.kernel.accessAllowed ? 'block' : 'none';\n",
              "\n",
              "      async function convertToInteractive(key) {\n",
              "        const element = document.querySelector('#df-e0fc9aa6-5fae-4e14-81dc-35a43e914b67');\n",
              "        const dataTable =\n",
              "          await google.colab.kernel.invokeFunction('convertToInteractive',\n",
              "                                                    [key], {});\n",
              "        if (!dataTable) return;\n",
              "\n",
              "        const docLinkHtml = 'Like what you see? Visit the ' +\n",
              "          '<a target=\"_blank\" href=https://colab.research.google.com/notebooks/data_table.ipynb>data table notebook</a>'\n",
              "          + ' to learn more about interactive tables.';\n",
              "        element.innerHTML = '';\n",
              "        dataTable['output_type'] = 'display_data';\n",
              "        await google.colab.output.renderOutput(dataTable, element);\n",
              "        const docLink = document.createElement('div');\n",
              "        docLink.innerHTML = docLinkHtml;\n",
              "        element.appendChild(docLink);\n",
              "      }\n",
              "    </script>\n",
              "  </div>\n",
              "\n",
              "    </div>\n",
              "  </div>\n"
            ]
          },
          "metadata": {},
          "execution_count": 67
        }
      ],
      "source": [
        "count_sex_unidade=data.groupby(['Tipo de IES','Sexo']).size().unstack(fill_value=0)\n",
        "count_sex_unidade"
      ]
    },
    {
      "cell_type": "code",
      "source": [
        "count_sex_unidade.plot(kind='barh',stacked=True) # kind=[area,barh,box,density,hist,kde,line,pie,\n",
        "plt.title('Proporção de Estudantes por Sexo em cada IES')\n",
        "plt.xlabel('Tipo de IES')\n",
        "plt.ylabel('Contagem')\n",
        "plt.show()"
      ],
      "metadata": {
        "colab": {
          "base_uri": "https://localhost:8080/",
          "height": 472
        },
        "id": "KWeMvk45NZGU",
        "outputId": "b3951253-87a1-452d-ee3d-fa7f61aa7daf"
      },
      "execution_count": 81,
      "outputs": [
        {
          "output_type": "display_data",
          "data": {
            "text/plain": [
              "<Figure size 640x480 with 1 Axes>"
            ],
            "image/png": "[encoded data removed]"
          },
          "metadata": {}
        }
      ]
    },
    {
      "cell_type": "markdown",
      "source": [
        "## Estudante por periodo"
      ],
      "metadata": {
        "id": "zvxbnoxzOTn_"
      }
    },
    {
      "cell_type": "code",
      "source": [
        "count_estud_periodo=data.groupby(['Variavel.1','Periodo de Estudo']).size().unstack(fill_value=0)\n",
        "count_estud_periodo"
      ],
      "metadata": {
        "colab": {
          "base_uri": "https://localhost:8080/",
          "height": 112
        },
        "id": "vbLNE4N1OLj-",
        "outputId": "742ad665-2c8d-43b4-dd94-2bc23f98cee9"
      },
      "execution_count": 87,
      "outputs": [
        {
          "output_type": "execute_result",
          "data": {
            "text/plain": [
              "Periodo de Estudo  Pós-Laboral  Regular\n",
              "Variavel.1                             \n",
              "Estudante                90420   216663"
            ],
            "text/html": [
              "\n",
              "  <div id=\"df-129db597-593d-4eac-846a-9a834107fff6\" class=\"colab-df-container\">\n",
              "    <div>\n",
              "<style scoped>\n",
              "    .dataframe tbody tr th:only-of-type {\n",
              "        vertical-align: middle;\n",
              "    }\n",
              "\n",
              "    .dataframe tbody tr th {\n",
              "        vertical-align: top;\n",
              "    }\n",
              "\n",
              "    .dataframe thead th {\n",
              "        text-align: right;\n",
              "    }\n",
              "</style>\n",
              "<table border=\"1\" class=\"dataframe\">\n",
              "  <thead>\n",
              "    <tr style=\"text-align: right;\">\n",
              "      <th>Periodo de Estudo</th>\n",
              "      <th>Pós-Laboral</th>\n",
              "      <th>Regular</th>\n",
              "    </tr>\n",
              "    <tr>\n",
              "      <th>Variavel.1</th>\n",
              "      <th></th>\n",
              "      <th></th>\n",
              "    </tr>\n",
              "  </thead>\n",
              "  <tbody>\n",
              "    <tr>\n",
              "      <th>Estudante</th>\n",
              "      <td>90420</td>\n",
              "      <td>216663</td>\n",
              "    </tr>\n",
              "  </tbody>\n",
              "</table>\n",
              "</div>\n",
              "    <div class=\"colab-df-buttons\">\n",
              "\n",
              "  <div class=\"colab-df-container\">\n",
              "    <button class=\"colab-df-convert\" onclick=\"convertToInteractive('df-129db597-593d-4eac-846a-9a834107fff6')\"\n",
              "            title=\"Convert this dataframe to an interactive table.\"\n",
              "            style=\"display:none;\">\n",
              "\n",
              "  <svg xmlns=\"http://www.w3.org/2000/svg\" height=\"24px\" viewBox=\"0 -960 960 960\">\n",
              "    <path d=\"M120-120v-720h720v720H120Zm60-500h600v-160H180v160Zm220 220h160v-160H400v160Zm0 220h160v-160H400v160ZM180-400h160v-160H180v160Zm440 0h160v-160H620v160ZM180-180h160v-160H180v160Zm440 0h160v-160H620v160Z\"/>\n",
              "  </svg>\n",
              "    </button>\n",
              "\n",
              "  <style>\n",
              "    .colab-df-container {\n",
              "      display:flex;\n",
              "      gap: 12px;\n",
              "    }\n",
              "\n",
              "    .colab-df-convert {\n",
              "      background-color: #E8F0FE;\n",
              "      border: none;\n",
              "      border-radius: 50%;\n",
              "      cursor: pointer;\n",
              "      display: none;\n",
              "      fill: #1967D2;\n",
              "      height: 32px;\n",
              "      padding: 0 0 0 0;\n",
              "      width: 32px;\n",
              "    }\n",
              "\n",
              "    .colab-df-convert:hover {\n",
              "      background-color: #E2EBFA;\n",
              "      box-shadow: 0px 1px 2px rgba(60, 64, 67, 0.3), 0px 1px 3px 1px rgba(60, 64, 67, 0.15);\n",
              "      fill: #174EA6;\n",
              "    }\n",
              "\n",
              "    .colab-df-buttons div {\n",
              "      margin-bottom: 4px;\n",
              "    }\n",
              "\n",
              "    [theme=dark] .colab-df-convert {\n",
              "      background-color: #3B4455;\n",
              "      fill: #D2E3FC;\n",
              "    }\n",
              "\n",
              "    [theme=dark] .colab-df-convert:hover {\n",
              "      background-color: #434B5C;\n",
              "      box-shadow: 0px 1px 3px 1px rgba(0, 0, 0, 0.15);\n",
              "      filter: drop-shadow(0px 1px 2px rgba(0, 0, 0, 0.3));\n",
              "      fill: #FFFFFF;\n",
              "    }\n",
              "  </style>\n",
              "\n",
              "    <script>\n",
              "      const buttonEl =\n",
              "        document.querySelector('#df-129db597-593d-4eac-846a-9a834107fff6 button.colab-df-convert');\n",
              "      buttonEl.style.display =\n",
              "        google.colab.kernel.accessAllowed ? 'block' : 'none';\n",
              "\n",
              "      async function convertToInteractive(key) {\n",
              "        const element = document.querySelector('#df-129db597-593d-4eac-846a-9a834107fff6');\n",
              "        const dataTable =\n",
              "          await google.colab.kernel.invokeFunction('convertToInteractive',\n",
              "                                                    [key], {});\n",
              "        if (!dataTable) return;\n",
              "\n",
              "        const docLinkHtml = 'Like what you see? Visit the ' +\n",
              "          '<a target=\"_blank\" href=https://colab.research.google.com/notebooks/data_table.ipynb>data table notebook</a>'\n",
              "          + ' to learn more about interactive tables.';\n",
              "        element.innerHTML = '';\n",
              "        dataTable['output_type'] = 'display_data';\n",
              "        await google.colab.output.renderOutput(dataTable, element);\n",
              "        const docLink = document.createElement('div');\n",
              "        docLink.innerHTML = docLinkHtml;\n",
              "        element.appendChild(docLink);\n",
              "      }\n",
              "    </script>\n",
              "  </div>\n",
              "\n",
              "    </div>\n",
              "  </div>\n"
            ]
          },
          "metadata": {},
          "execution_count": 87
        }
      ]
    },
    {
      "cell_type": "code",
      "source": [
        "count_estud_periodo.plot(kind='bar',stacked=True) # kind=[area,barh,box,density,hist,kde,line,pie,\n",
        "plt.title('Proporção de Estudantes por Periodo')\n",
        "plt.xlabel('Periodo')\n",
        "plt.ylabel('Contagem')\n",
        "plt.show()"
      ],
      "metadata": {
        "colab": {
          "base_uri": "https://localhost:8080/",
          "height": 528
        },
        "id": "t513Jas6Pwt5",
        "outputId": "ed8a06b8-3fd4-474a-d3ca-04571227dcc6"
      },
      "execution_count": 107,
      "outputs": [
        {
          "output_type": "display_data",
          "data": {
            "text/plain": [
              "<Figure size 640x480 with 1 Axes>"
            ],
            "image/png": "[encoded data removed]"
          },
          "metadata": {}
        }
      ]
    },
    {
      "cell_type": "markdown",
      "source": [
        "## Numero de Estudante por Sexo"
      ],
      "metadata": {
        "id": "od_XSgHlS2qg"
      }
    },
    {
      "cell_type": "code",
      "source": [
        "count_estud_sexo=data.groupby(['Variavel.1','Sexo']).size().unstack(fill_value=0)\n",
        "count_estud_sexo"
      ],
      "metadata": {
        "colab": {
          "base_uri": "https://localhost:8080/",
          "height": 112
        },
        "id": "vdiTmWEiSv9T",
        "outputId": "0c10fa1e-89fe-4b70-ec5d-9f4e8f5665fb"
      },
      "execution_count": 100,
      "outputs": [
        {
          "output_type": "execute_result",
          "data": {
            "text/plain": [
              "Sexo        Feminino  Masculino\n",
              "Variavel.1                     \n",
              "Estudante     140458     166625"
            ],
            "text/html": [
              "\n",
              "  <div id=\"df-aeb14139-4687-4f04-a360-18f564d9c95b\" class=\"colab-df-container\">\n",
              "    <div>\n",
              "<style scoped>\n",
              "    .dataframe tbody tr th:only-of-type {\n",
              "        vertical-align: middle;\n",
              "    }\n",
              "\n",
              "    .dataframe tbody tr th {\n",
              "        vertical-align: top;\n",
              "    }\n",
              "\n",
              "    .dataframe thead th {\n",
              "        text-align: right;\n",
              "    }\n",
              "</style>\n",
              "<table border=\"1\" class=\"dataframe\">\n",
              "  <thead>\n",
              "    <tr style=\"text-align: right;\">\n",
              "      <th>Sexo</th>\n",
              "      <th>Feminino</th>\n",
              "      <th>Masculino</th>\n",
              "    </tr>\n",
              "    <tr>\n",
              "      <th>Variavel.1</th>\n",
              "      <th></th>\n",
              "      <th></th>\n",
              "    </tr>\n",
              "  </thead>\n",
              "  <tbody>\n",
              "    <tr>\n",
              "      <th>Estudante</th>\n",
              "      <td>140458</td>\n",
              "      <td>166625</td>\n",
              "    </tr>\n",
              "  </tbody>\n",
              "</table>\n",
              "</div>\n",
              "    <div class=\"colab-df-buttons\">\n",
              "\n",
              "  <div class=\"colab-df-container\">\n",
              "    <button class=\"colab-df-convert\" onclick=\"convertToInteractive('df-aeb14139-4687-4f04-a360-18f564d9c95b')\"\n",
              "            title=\"Convert this dataframe to an interactive table.\"\n",
              "            style=\"display:none;\">\n",
              "\n",
              "  <svg xmlns=\"http://www.w3.org/2000/svg\" height=\"24px\" viewBox=\"0 -960 960 960\">\n",
              "    <path d=\"M120-120v-720h720v720H120Zm60-500h600v-160H180v160Zm220 220h160v-160H400v160Zm0 220h160v-160H400v160ZM180-400h160v-160H180v160Zm440 0h160v-160H620v160ZM180-180h160v-160H180v160Zm440 0h160v-160H620v160Z\"/>\n",
              "  </svg>\n",
              "    </button>\n",
              "\n",
              "  <style>\n",
              "    .colab-df-container {\n",
              "      display:flex;\n",
              "      gap: 12px;\n",
              "    }\n",
              "\n",
              "    .colab-df-convert {\n",
              "      background-color: #E8F0FE;\n",
              "      border: none;\n",
              "      border-radius: 50%;\n",
              "      cursor: pointer;\n",
              "      display: none;\n",
              "      fill: #1967D2;\n",
              "      height: 32px;\n",
              "      padding: 0 0 0 0;\n",
              "      width: 32px;\n",
              "    }\n",
              "\n",
              "    .colab-df-convert:hover {\n",
              "      background-color: #E2EBFA;\n",
              "      box-shadow: 0px 1px 2px rgba(60, 64, 67, 0.3), 0px 1px 3px 1px rgba(60, 64, 67, 0.15);\n",
              "      fill: #174EA6;\n",
              "    }\n",
              "\n",
              "    .colab-df-buttons div {\n",
              "      margin-bottom: 4px;\n",
              "    }\n",
              "\n",
              "    [theme=dark] .colab-df-convert {\n",
              "      background-color: #3B4455;\n",
              "      fill: #D2E3FC;\n",
              "    }\n",
              "\n",
              "    [theme=dark] .colab-df-convert:hover {\n",
              "      background-color: #434B5C;\n",
              "      box-shadow: 0px 1px 3px 1px rgba(0, 0, 0, 0.15);\n",
              "      filter: drop-shadow(0px 1px 2px rgba(0, 0, 0, 0.3));\n",
              "      fill: #FFFFFF;\n",
              "    }\n",
              "  </style>\n",
              "\n",
              "    <script>\n",
              "      const buttonEl =\n",
              "        document.querySelector('#df-aeb14139-4687-4f04-a360-18f564d9c95b button.colab-df-convert');\n",
              "      buttonEl.style.display =\n",
              "        google.colab.kernel.accessAllowed ? 'block' : 'none';\n",
              "\n",
              "      async function convertToInteractive(key) {\n",
              "        const element = document.querySelector('#df-aeb14139-4687-4f04-a360-18f564d9c95b');\n",
              "        const dataTable =\n",
              "          await google.colab.kernel.invokeFunction('convertToInteractive',\n",
              "                                                    [key], {});\n",
              "        if (!dataTable) return;\n",
              "\n",
              "        const docLinkHtml = 'Like what you see? Visit the ' +\n",
              "          '<a target=\"_blank\" href=https://colab.research.google.com/notebooks/data_table.ipynb>data table notebook</a>'\n",
              "          + ' to learn more about interactive tables.';\n",
              "        element.innerHTML = '';\n",
              "        dataTable['output_type'] = 'display_data';\n",
              "        await google.colab.output.renderOutput(dataTable, element);\n",
              "        const docLink = document.createElement('div');\n",
              "        docLink.innerHTML = docLinkHtml;\n",
              "        element.appendChild(docLink);\n",
              "      }\n",
              "    </script>\n",
              "  </div>\n",
              "\n",
              "    </div>\n",
              "  </div>\n"
            ]
          },
          "metadata": {},
          "execution_count": 100
        }
      ]
    },
    {
      "cell_type": "code",
      "source": [
        "count_estud_sexo.plot(kind='bar',stacked=True) # kind=[area,barh,box,density,hist,kde,line,pie,\n",
        "plt.title('Proporção de Estudantes por Sexo')\n",
        "plt.xlabel('Sexo')\n",
        "plt.ylabel('Contagem')\n",
        "plt.show()"
      ],
      "metadata": {
        "colab": {
          "base_uri": "https://localhost:8080/",
          "height": 528
        },
        "id": "9IwlWVFmTAOu",
        "outputId": "2708c5b6-1e46-4e65-9436-87b6b8f4113d"
      },
      "execution_count": 105,
      "outputs": [
        {
          "output_type": "display_data",
          "data": {
            "text/plain": [
              "<Figure size 640x480 with 1 Axes>"
            ],
            "image/png": "[encoded data removed]"
          },
          "metadata": {}
        }
      ]
    },
    {
      "cell_type": "markdown",
      "source": [
        "## Estudante por curso"
      ],
      "metadata": {
        "id": "vTVxb_RdUXwb"
      }
    },
    {
      "cell_type": "code",
      "source": [
        "conta_estud_curso=data.groupby(['Variavel','Nome do Curso '])['Nome do Curso '].size()\n",
        "conta_estud_curso"
      ],
      "metadata": {
        "colab": {
          "base_uri": "https://localhost:8080/",
          "height": 0
        },
        "id": "6xbElYKZTRh5",
        "outputId": "50cb77e0-19fd-434d-e207-4feb0e6a27cf"
      },
      "execution_count": 114,
      "outputs": [
        {
          "output_type": "execute_result",
          "data": {
            "text/plain": [
              "Variavel   Nome do Curso                            \n",
              "Matricula  Administração Local e Autárquica               1\n",
              "           Administração Pública                        842\n",
              "           Administração Pública e Gestão de Cidades     28\n",
              "           Administração de Empresas                    758\n",
              "           Administração e Gestão                       984\n",
              "                                                       ... \n",
              "           Teatro                                        79\n",
              "           Teologia                                      61\n",
              "           Turismo e Gestão Hoteleira                   147\n",
              "           Turismo, Gestão Hoteleira e Animação         235\n",
              "           Zootecnia                                    163\n",
              "Name: Nome do Curso , Length: 254, dtype: int64"
            ]
          },
          "metadata": {},
          "execution_count": 114
        }
      ]
    },
    {
      "cell_type": "markdown",
      "source": [
        "## Número Estudantes Matriculados pela 1ª vez"
      ],
      "metadata": {
        "id": "fiAt-1y2WTAn"
      }
    },
    {
      "cell_type": "code",
      "source": [
        "data['Situação Académica'].value_counts()['Novo Ingresso']"
      ],
      "metadata": {
        "colab": {
          "base_uri": "https://localhost:8080/",
          "height": 0
        },
        "id": "ODQdhW05ZRk0",
        "outputId": "bf5a4d15-b5d3-4cb1-cc68-116120a2b57d"
      },
      "execution_count": 137,
      "outputs": [
        {
          "output_type": "execute_result",
          "data": {
            "text/plain": [
              "92218"
            ]
          },
          "metadata": {},
          "execution_count": 137
        }
      ]
    },
    {
      "cell_type": "code",
      "source": [
        "situa=data['Situação Académica'].value_counts()\n",
        "situa"
      ],
      "metadata": {
        "colab": {
          "base_uri": "https://localhost:8080/",
          "height": 0
        },
        "id": "vs45k13eWaE6",
        "outputId": "e6edd71a-078f-49ae-c650-fbd416e09bef"
      },
      "execution_count": 133,
      "outputs": [
        {
          "output_type": "execute_result",
          "data": {
            "text/plain": [
              "Continuante           146922\n",
              "Novo Ingresso          92218\n",
              "Repetente              42513\n",
              "Preparação de Tese     25403\n",
              "Baixa Académica           10\n",
              "Incorporado                9\n",
              "Prescrito                  8\n",
              "Name: Situação Académica, dtype: int64"
            ]
          },
          "metadata": {},
          "execution_count": 133
        }
      ]
    },
    {
      "cell_type": "code",
      "source": [
        "situa.plot(kind='bar',stacked=True) # kind=[area,barh,box,density,hist,kde,line,pie,\n",
        "plt.title('Proporção de Estudantes por Periodo')\n",
        "plt.xlabel('Periodo')\n",
        "plt.ylabel('Contagem')\n",
        "plt.show()"
      ],
      "metadata": {
        "colab": {
          "base_uri": "https://localhost:8080/",
          "height": 593
        },
        "id": "G7V0-ThIYmQU",
        "outputId": "50b48b91-d9d7-4659-9493-7abb0443d38a"
      },
      "execution_count": 134,
      "outputs": [
        {
          "output_type": "display_data",
          "data": {
            "text/plain": [
              "<Figure size 640x480 with 1 Axes>"
            ],
            "image/png": "[encoded data removed]"
          },
          "metadata": {}
        }
      ]
    },
    {
      "cell_type": "markdown",
      "source": [
        "## Número de Estudantes Matriculados"
      ],
      "metadata": {
        "id": "CLImp6lbZVx0"
      }
    },
    {
      "cell_type": "code",
      "source": [
        "data['Variavel'].value_counts()"
      ],
      "metadata": {
        "colab": {
          "base_uri": "https://localhost:8080/",
          "height": 0
        },
        "id": "-V3WsFGHW-ku",
        "outputId": "45b051ad-4470-41cc-d522-77e55fefaa8e"
      },
      "execution_count": 138,
      "outputs": [
        {
          "output_type": "execute_result",
          "data": {
            "text/plain": [
              "Matricula    307083\n",
              "Name: Variavel, dtype: int64"
            ]
          },
          "metadata": {},
          "execution_count": 138
        }
      ]
    },
    {
      "cell_type": "markdown",
      "source": [
        "## Índice de paridade dos Estudantes Matriculados"
      ],
      "metadata": {
        "id": "o-xS17jDZqUG"
      }
    },
    {
      "cell_type": "code",
      "source": [
        "Masc=data['Sexo'].value_counts()['Masculino']\n",
        "print(Masc)\n",
        "Fem=data['Sexo'].value_counts()['Feminino']\n",
        "print(Fem)"
      ],
      "metadata": {
        "colab": {
          "base_uri": "https://localhost:8080/",
          "height": 0
        },
        "id": "YOr11jtSaq8B",
        "outputId": "45f07b68-646a-4a23-db4f-ab6ae11ac621"
      },
      "execution_count": 142,
      "outputs": [
        {
          "output_type": "stream",
          "name": "stdout",
          "text": [
            "166625\n",
            "140458\n"
          ]
        }
      ]
    },
    {
      "cell_type": "code",
      "source": [
        "# Calcula o índice de paridade\n",
        "ipm = (Fem * 100)/(Fem+Masc)\n",
        "\n",
        "# Cria um gráfico de pizza\n",
        "plt.figure(figsize=(5, 5))\n",
        "plt.pie([ipm, 100 - ipm], labels=['Feminino', 'Masculino'], autopct='%1.1f%%')\n",
        "plt.title('Índice de Paridade de Gênero')\n",
        "plt.show()"
      ],
      "metadata": {
        "colab": {
          "base_uri": "https://localhost:8080/",
          "height": 444
        },
        "id": "axW4hscIZm6E",
        "outputId": "7a26103b-98e9-4400-c0ce-4915e2b6c75e"
      },
      "execution_count": 151,
      "outputs": [
        {
          "output_type": "display_data",
          "data": {
            "text/plain": [
              "<Figure size 500x500 with 1 Axes>"
            ],
            "image/png": "[encoded data removed]"
          },
          "metadata": {}
        }
      ]
    }
  ],
  "metadata": {
    "colab": {
      "provenance": [],
      "include_colab_link": true
    },
    "kernelspec": {
      "display_name": "Python 3",
      "language": "python",
      "name": "python3"
    },
    "language_info": {
      "codemirror_mode": {
        "name": "ipython",
        "version": 3
      },
      "file_extension": ".py",
      "mimetype": "text/x-python",
      "name": "python",
      "nbconvert_exporter": "python",
      "pygments_lexer": "ipython3",
      "version": "3.11.2"
    }
  },
  "nbformat": 4,
  "nbformat_minor": 0
}